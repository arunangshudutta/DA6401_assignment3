{
  "nbformat": 4,
  "nbformat_minor": 0,
  "metadata": {
    "colab": {
      "provenance": [],
      "authorship_tag": "ABX9TyPI5SBi1goTogf6xDBuWG0u",
      "include_colab_link": true
    },
    "kernelspec": {
      "name": "python3",
      "display_name": "Python 3"
    },
    "language_info": {
      "name": "python"
    }
  },
  "cells": [
    {
      "cell_type": "markdown",
      "metadata": {
        "id": "view-in-github",
        "colab_type": "text"
      },
      "source": [
        "<a href=\"https://colab.research.google.com/github/arunangshudutta/DA6401_assignment3/blob/main/Ques_2.ipynb\" target=\"_parent\"><img src=\"https://colab.research.google.com/assets/colab-badge.svg\" alt=\"Open In Colab\"/></a>"
      ]
    },
    {
      "cell_type": "code",
      "execution_count": 1,
      "metadata": {
        "colab": {
          "base_uri": "https://localhost:8080/"
        },
        "id": "TahlHqCfHX4n",
        "outputId": "34e16aae-270e-4412-8cc7-abb533943f6e"
      },
      "outputs": [
        {
          "output_type": "stream",
          "name": "stdout",
          "text": [
            "Mounted at /content/drive\n"
          ]
        }
      ],
      "source": [
        "from google.colab import drive\n",
        "drive.mount('/content/drive')"
      ]
    },
    {
      "cell_type": "code",
      "source": [
        "!ls /content/drive/MyDrive/Colab\\ Notebooks/DA6401/assignment\\ 3/dakshina_dataset_v1.0/hi/lexicons"
      ],
      "metadata": {
        "colab": {
          "base_uri": "https://localhost:8080/"
        },
        "id": "ebdc7oTQJdcX",
        "outputId": "520dd369-a7aa-402b-c11b-a4575074bd5e"
      },
      "execution_count": 5,
      "outputs": [
        {
          "output_type": "stream",
          "name": "stdout",
          "text": [
            "hi.translit.sampled.dev.tsv   hi.translit.sampled.train.tsv\n",
            "hi.translit.sampled.test.tsv\n"
          ]
        }
      ]
    },
    {
      "cell_type": "code",
      "source": [
        "import shutil\n",
        "\n",
        "# Source folder in Google Drive\n",
        "src_folder = '/content/drive/MyDrive/Colab Notebooks/DA6401/assignment 3/dakshina_dataset_v1.0/hi/lexicons'\n",
        "\n",
        "# Destination in Colab's local storage\n",
        "dst_folder = '/content/hindi_data'\n",
        "\n",
        "# Copy the entire folder\n",
        "shutil.copytree(src_folder, dst_folder)"
      ],
      "metadata": {
        "colab": {
          "base_uri": "https://localhost:8080/",
          "height": 35
        },
        "id": "jzFpY3UWHcDF",
        "outputId": "ecb5639c-2865-4617-caa9-5fc45e348ba5"
      },
      "execution_count": 7,
      "outputs": [
        {
          "output_type": "execute_result",
          "data": {
            "text/plain": [
              "'/content/hindi_data'"
            ],
            "application/vnd.google.colaboratory.intrinsic+json": {
              "type": "string"
            }
          },
          "metadata": {},
          "execution_count": 7
        }
      ]
    },
    {
      "cell_type": "code",
      "source": [
        "import pandas as pd\n",
        "\n",
        "# Load the data\n",
        "df = pd.read_csv(\"hindi_data/hi.translit.sampled.train.tsv\", sep=\"\\t\", header=None, names=[\"target\", \"input\", \"num\"])\n",
        "\n",
        "# Drop rows with NaNs (if any)\n",
        "df = df.dropna()\n",
        "\n",
        "# Limit for quick testing (optional)\n",
        "# df = df.sample(500)\n",
        "\n",
        "print(df)"
      ],
      "metadata": {
        "colab": {
          "base_uri": "https://localhost:8080/"
        },
        "id": "mO9yeWCOK2YZ",
        "outputId": "8d828980-0e47-4a0b-a1d9-f31e7fb20909"
      },
      "execution_count": 32,
      "outputs": [
        {
          "output_type": "stream",
          "name": "stdout",
          "text": [
            "          target       input  num\n",
            "0             अं          an    3\n",
            "1        अंकगणित    ankganit    3\n",
            "2           अंकल       uncle    4\n",
            "3          अंकुर       ankur    4\n",
            "4         अंकुरण     ankuran    3\n",
            "...          ...         ...  ...\n",
            "44199  ह्वेनसांग  hiuentsang    1\n",
            "44200  ह्वेनसांग  hsuantsang    1\n",
            "44201  ह्वेनसांग    hyensang    1\n",
            "44202  ह्वेनसांग    xuanzang    1\n",
            "44203          ॐ          om    3\n",
            "\n",
            "[44202 rows x 3 columns]\n"
          ]
        }
      ]
    },
    {
      "cell_type": "code",
      "source": [
        "from collections import Counter\n",
        "\n",
        "# Special tokens\n",
        "PAD_token = \"<pad>\"\n",
        "SOS_token = \"<sos>\"  # start of sequence\n",
        "EOS_token = \"<eos>\"  # end of sequence\n",
        "\n",
        "def build_vocab(sequences):\n",
        "    vocab = set(char for seq in sequences for char in seq)\n",
        "    vocab = [PAD_token, SOS_token, EOS_token] + sorted(vocab)\n",
        "    char2idx = {c: i for i, c in enumerate(vocab)}\n",
        "    idx2char = {i: c for c, i in char2idx.items()}\n",
        "    return char2idx, idx2char\n",
        "\n",
        "input_char2idx, input_idx2char = build_vocab(df[\"input\"])\n",
        "target_char2idx, target_idx2char = build_vocab(df[\"target\"])\n",
        "\n",
        "print(f\"Input vocab size: {len(input_char2idx)}\")\n",
        "print(f\"Target vocab size: {len(target_char2idx)}\")"
      ],
      "metadata": {
        "colab": {
          "base_uri": "https://localhost:8080/"
        },
        "id": "ySEk2t_xN3MF",
        "outputId": "764de768-5a0a-4be5-d340-20971ab5eb5b"
      },
      "execution_count": 33,
      "outputs": [
        {
          "output_type": "stream",
          "name": "stdout",
          "text": [
            "Input vocab size: 29\n",
            "Target vocab size: 66\n"
          ]
        }
      ]
    },
    {
      "cell_type": "code",
      "source": [
        "input_idx2char"
      ],
      "metadata": {
        "colab": {
          "base_uri": "https://localhost:8080/"
        },
        "id": "BiCL_XzhWbsU",
        "outputId": "7dfd1099-6f2e-4e96-fcf1-d096a15c5361"
      },
      "execution_count": 34,
      "outputs": [
        {
          "output_type": "execute_result",
          "data": {
            "text/plain": [
              "{0: '<pad>',\n",
              " 1: '<sos>',\n",
              " 2: '<eos>',\n",
              " 3: 'a',\n",
              " 4: 'b',\n",
              " 5: 'c',\n",
              " 6: 'd',\n",
              " 7: 'e',\n",
              " 8: 'f',\n",
              " 9: 'g',\n",
              " 10: 'h',\n",
              " 11: 'i',\n",
              " 12: 'j',\n",
              " 13: 'k',\n",
              " 14: 'l',\n",
              " 15: 'm',\n",
              " 16: 'n',\n",
              " 17: 'o',\n",
              " 18: 'p',\n",
              " 19: 'q',\n",
              " 20: 'r',\n",
              " 21: 's',\n",
              " 22: 't',\n",
              " 23: 'u',\n",
              " 24: 'v',\n",
              " 25: 'w',\n",
              " 26: 'x',\n",
              " 27: 'y',\n",
              " 28: 'z'}"
            ]
          },
          "metadata": {},
          "execution_count": 34
        }
      ]
    },
    {
      "cell_type": "code",
      "source": [],
      "metadata": {
        "id": "1MHqdSQPWkxo"
      },
      "execution_count": null,
      "outputs": []
    }
  ]
}