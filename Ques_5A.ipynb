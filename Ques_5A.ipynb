{
  "nbformat": 4,
  "nbformat_minor": 0,
  "metadata": {
    "colab": {
      "provenance": [],
      "gpuType": "T4",
      "include_colab_link": true
    },
    "kernelspec": {
      "name": "python3",
      "display_name": "Python 3"
    },
    "language_info": {
      "name": "python"
    },
    "accelerator": "GPU"
  },
  "cells": [
    {
      "cell_type": "markdown",
      "metadata": {
        "id": "view-in-github",
        "colab_type": "text"
      },
      "source": [
        "<a href=\"https://colab.research.google.com/github/arunangshudutta/DA6401_assignment3/blob/main/Ques_5A.ipynb\" target=\"_parent\"><img src=\"https://colab.research.google.com/assets/colab-badge.svg\" alt=\"Open In Colab\"/></a>"
      ]
    },
    {
      "cell_type": "code",
      "source": [
        "import torch.optim as optim\n",
        "from tqdm import tqdm\n",
        "\n",
        "import shutil\n",
        "import pandas as pd\n",
        "\n",
        "from collections import Counter\n",
        "\n",
        "import torch\n",
        "from torch.nn.utils.rnn import pad_sequence\n",
        "from torch.utils.data import DataLoader, Dataset\n",
        "\n",
        "import torch\n",
        "import torch.nn as nn"
      ],
      "metadata": {
        "id": "LGEg1oWl3Pxo"
      },
      "execution_count": null,
      "outputs": []
    },
    {
      "cell_type": "code",
      "source": [
        "from google.colab import drive\n",
        "drive.mount('/content/drive')"
      ],
      "metadata": {
        "colab": {
          "base_uri": "https://localhost:8080/"
        },
        "id": "urLrGy_ZMb6R",
        "outputId": "cfffaeaf-0014-4337-d5d2-9a3befccebbe"
      },
      "execution_count": null,
      "outputs": [
        {
          "output_type": "stream",
          "name": "stdout",
          "text": [
            "Mounted at /content/drive\n"
          ]
        }
      ]
    },
    {
      "cell_type": "code",
      "execution_count": null,
      "metadata": {
        "colab": {
          "base_uri": "https://localhost:8080/",
          "height": 36
        },
        "id": "SmkkbMVm191b",
        "outputId": "0ebfa5a4-3773-47e3-f4b1-f572f8d4196d"
      },
      "outputs": [
        {
          "output_type": "execute_result",
          "data": {
            "text/plain": [
              "'/content/hindi_data'"
            ],
            "application/vnd.google.colaboratory.intrinsic+json": {
              "type": "string"
            }
          },
          "metadata": {},
          "execution_count": 3
        }
      ],
      "source": [
        "\n",
        "\n",
        "# Source folder in Google Drive\n",
        "src_folder = '/content/drive/MyDrive/Colab Notebooks/DA6401/assignment 3/dakshina_dataset_v1.0/dakshina_dataset_v1.0/hi/lexicons'\n",
        "\n",
        "# Destination in Colab's local storage\n",
        "dst_folder = '/content/hindi_data'\n",
        "\n",
        "# Copy the entire folder\n",
        "shutil.copytree(src_folder, dst_folder)"
      ]
    },
    {
      "cell_type": "code",
      "source": [
        "# Load the data\n",
        "df_train = pd.read_csv(\"hindi_data/hi.translit.sampled.train.tsv\", sep=\"\\t\", header=None, names=[\"target\", \"input\", \"num\"])\n",
        "# Drop rows with NaNs (if any)\n",
        "df_train = df_train.dropna()\n",
        "\n",
        "df_val = pd.read_csv(\"hindi_data/hi.translit.sampled.dev.tsv\", sep=\"\\t\", header=None, names=[\"target\", \"input\", \"num\"])\n",
        "df_val = df_val.dropna()\n",
        "\n",
        "df_test = pd.read_csv(\"hindi_data/hi.translit.sampled.test.tsv\", sep=\"\\t\", header=None, names=[\"target\", \"input\", \"num\"])\n",
        "df_test = df_val.dropna()"
      ],
      "metadata": {
        "id": "i8BXgyw92-XF"
      },
      "execution_count": null,
      "outputs": []
    },
    {
      "cell_type": "code",
      "source": [
        "# Special tokens\n",
        "PAD_token = \"<pad>\"\n",
        "SOS_token = \"<sos>\"  # start of sequence\n",
        "EOS_token = \"<eos>\"  # end of sequence\n",
        "\n",
        "def build_vocab(sequences):\n",
        "    vocab = set(char for seq in sequences for char in seq)\n",
        "    vocab = [PAD_token, SOS_token, EOS_token] + sorted(vocab)\n",
        "    char2idx = {c: i for i, c in enumerate(vocab)}\n",
        "    idx2char = {i: c for c, i in char2idx.items()}\n",
        "    return char2idx, idx2char\n",
        "\n",
        "input_char2idx, input_idx2char = build_vocab(df_train[\"input\"])\n",
        "target_char2idx, target_idx2char = build_vocab(df_train[\"target\"])\n",
        "\n",
        "print(f\"Input vocab size: {len(input_char2idx)}\")\n",
        "print(f\"Target vocab size: {len(target_char2idx)}\")"
      ],
      "metadata": {
        "colab": {
          "base_uri": "https://localhost:8080/"
        },
        "id": "YOXT3XKy3T8Q",
        "outputId": "0f35c3cc-4657-44fe-f9b0-e1502b2997dc"
      },
      "execution_count": null,
      "outputs": [
        {
          "output_type": "stream",
          "name": "stdout",
          "text": [
            "Input vocab size: 29\n",
            "Target vocab size: 66\n"
          ]
        }
      ]
    },
    {
      "cell_type": "code",
      "source": [
        "def encode_sequence(seq, char2idx, add_sos_eos=True):\n",
        "    tokens = [char2idx[c] for c in seq]\n",
        "    if add_sos_eos:\n",
        "        tokens = [char2idx[SOS_token]] + tokens + [char2idx[EOS_token]]\n",
        "    return tokens\n",
        "\n",
        "input_sequences = [encode_sequence(seq, input_char2idx) for seq in df_train[\"input\"]]\n",
        "target_sequences = [encode_sequence(seq, target_char2idx) for seq in df_train[\"target\"]]\n",
        "\n",
        "input_val = [encode_sequence(seq, input_char2idx) for seq in df_val[\"input\"]]\n",
        "target_val = [encode_sequence(seq, target_char2idx) for seq in df_val[\"target\"]]\n",
        "\n",
        "\n",
        "input_test = [encode_sequence(seq, input_char2idx) for seq in df_test[\"input\"]]\n",
        "target_test = [encode_sequence(seq, target_char2idx) for seq in df_test[\"target\"]]"
      ],
      "metadata": {
        "id": "hwD2Ev8s3Wv2"
      },
      "execution_count": null,
      "outputs": []
    },
    {
      "cell_type": "code",
      "source": [
        "class TransliterationDataset(Dataset):\n",
        "    def __init__(self, inputs, targets):\n",
        "        self.inputs = inputs\n",
        "        self.targets = targets\n",
        "\n",
        "    def __len__(self):\n",
        "        return len(self.inputs)\n",
        "\n",
        "    def __getitem__(self, idx):\n",
        "        return torch.tensor(self.inputs[idx]), torch.tensor(self.targets[idx])\n",
        "\n",
        "def collate_fn(batch):\n",
        "    inputs, targets = zip(*batch)\n",
        "    inputs_padded = pad_sequence(inputs, batch_first=True, padding_value=input_char2idx[PAD_token])\n",
        "    targets_padded = pad_sequence(targets, batch_first=True, padding_value=target_char2idx[PAD_token])\n",
        "    return inputs_padded, targets_padded\n",
        "\n",
        "train_dataset = TransliterationDataset(input_sequences, target_sequences)\n",
        "train_dataloader = DataLoader(train_dataset, batch_size=128, shuffle=True, collate_fn=collate_fn)\n",
        "\n",
        "val_dataset = TransliterationDataset(input_val, target_val)\n",
        "val_dataloader = DataLoader(val_dataset, batch_size=128, shuffle=True, collate_fn=collate_fn)\n",
        "\n",
        "test_dataset = TransliterationDataset(input_test, target_test)\n",
        "test_dataloader = DataLoader(test_dataset, batch_size=128, shuffle=False, collate_fn=collate_fn)"
      ],
      "metadata": {
        "id": "jxJr1yfZ3aOm"
      },
      "execution_count": null,
      "outputs": []
    },
    {
      "cell_type": "code",
      "source": [
        "import torch\n",
        "import torch.nn as nn\n",
        "import torch.optim as optim\n",
        "from torch.utils.data import Dataset, DataLoader\n",
        "import random\n",
        "import numpy as np"
      ],
      "metadata": {
        "id": "rLl4S_w721Sc"
      },
      "execution_count": null,
      "outputs": []
    },
    {
      "cell_type": "code",
      "source": [
        "class Encoder(nn.Module):\n",
        "    def __init__(self, input_dim, emb_dim, enc_hidden_dim, cell_type='gru', dropout =0.1):\n",
        "        super().__init__()\n",
        "        self.embedding = nn.Embedding(input_dim, emb_dim)\n",
        "        rnn_cls = {'rnn': nn.RNN, 'gru': nn.GRU, 'lstm': nn.LSTM}[cell_type]\n",
        "        self.rnn = rnn_cls(emb_dim, enc_hidden_dim, batch_first=True)\n",
        "        self.dropout = nn.Dropout(dropout)\n",
        "\n",
        "    def forward(self, src):\n",
        "        embedded = self.embedding(src)\n",
        "        embedded = self.dropout(embedded)\n",
        "        outputs, hidden = self.rnn(embedded)\n",
        "        return outputs, hidden\n",
        "\n",
        "class BahdanauAttention(nn.Module):\n",
        "    def __init__(self, enc_hidden_dim, dec_hidden_dim):\n",
        "        super().__init__()\n",
        "        self.attn = nn.Linear(enc_hidden_dim + dec_hidden_dim, dec_hidden_dim)\n",
        "        self.v = nn.Linear(dec_hidden_dim, 1, bias=False)\n",
        "\n",
        "    def forward(self, hidden, encoder_outputs):\n",
        "        hidden = hidden[-1]\n",
        "        hidden = hidden.unsqueeze(1)\n",
        "        hidden = hidden.repeat(1, encoder_outputs.size(1), 1)\n",
        "        energy = torch.tanh(self.attn(torch.cat((hidden, encoder_outputs), dim=2)))\n",
        "        attention = self.v(energy).squeeze(2)\n",
        "        return torch.softmax(attention, dim=1)\n",
        "\n",
        "class DecoderWithAttention(nn.Module):\n",
        "    def __init__(self, output_dim, emb_dim, enc_hidden_dim, dec_hidden_dim, attention, cell_type='gru', dropout=0.1):\n",
        "        super().__init__()\n",
        "        self.output_dim = output_dim\n",
        "        self.embedding = nn.Embedding(output_dim, emb_dim)\n",
        "        self.dropout = nn.Dropout(dropout)\n",
        "        self.attention = attention\n",
        "        rnn_cls = {'rnn': nn.RNN, 'gru': nn.GRU, 'lstm': nn.LSTM}[cell_type]\n",
        "        self.rnn = rnn_cls(enc_hidden_dim + emb_dim, dec_hidden_dim, batch_first=True)\n",
        "        self.fc_out = nn.Linear(enc_hidden_dim + dec_hidden_dim + emb_dim, output_dim)\n",
        "\n",
        "    def forward(self, input, hidden, encoder_outputs):\n",
        "        input = input.unsqueeze(1)\n",
        "        embedded = self.embedding(input)\n",
        "        embedded = self.dropout(embedded)\n",
        "        attn_weights = self.attention(hidden if not isinstance(hidden, tuple) else hidden[0], encoder_outputs)\n",
        "        context = torch.bmm(attn_weights.unsqueeze(1), encoder_outputs)\n",
        "        rnn_input = torch.cat((embedded, context), dim=2)\n",
        "        output, hidden = self.rnn(rnn_input, hidden)\n",
        "        pred = self.fc_out(torch.cat((output.squeeze(1), context.squeeze(1), embedded.squeeze(1)), dim=1))\n",
        "        return pred, hidden, attn_weights\n"
      ],
      "metadata": {
        "id": "tJnXagjg3ojL"
      },
      "execution_count": null,
      "outputs": []
    },
    {
      "cell_type": "code",
      "source": [
        "def train(model, dataloader, encoder, decoder, enc_optimizer, dec_optimizer, criterion, device, tgt_pad_idx):\n",
        "    encoder.train()\n",
        "    decoder.train()\n",
        "    epoch_loss = 0\n",
        "\n",
        "    for src, tgt in tqdm(dataloader):\n",
        "        src, tgt = src.to(device), tgt.to(device)\n",
        "        enc_optimizer.zero_grad()\n",
        "        dec_optimizer.zero_grad()\n",
        "\n",
        "        encoder_outputs, hidden = encoder(src)\n",
        "        input = tgt[:, 0]\n",
        "        loss = 0\n",
        "\n",
        "        for t in range(1, tgt.size(1)):\n",
        "            output, hidden, _ = decoder(input, hidden, encoder_outputs)\n",
        "            loss += criterion(output, tgt[:, t])\n",
        "            input = tgt[:, t]  # Teacher forcing\n",
        "\n",
        "        loss.backward()\n",
        "        enc_optimizer.step()\n",
        "        dec_optimizer.step()\n",
        "        epoch_loss += loss.item() / (tgt.size(1) - 1)\n",
        "\n",
        "    return epoch_loss / len(dataloader)\n"
      ],
      "metadata": {
        "id": "DsEsj_mx3t4l"
      },
      "execution_count": null,
      "outputs": []
    },
    {
      "cell_type": "code",
      "source": [
        "def evaluate(model, dataloader, encoder, decoder, tgt_idx2char, tgt_char2idx, device, max_len=30):\n",
        "    encoder.eval()\n",
        "    decoder.eval()\n",
        "\n",
        "    all_predictions = []\n",
        "    all_targets = []\n",
        "    total_chars = 0\n",
        "    correct_chars = 0\n",
        "\n",
        "    with torch.no_grad():\n",
        "        for src, tgt in dataloader:\n",
        "            src, tgt = src.to(device), tgt.to(device)\n",
        "            batch_size = src.size(0)\n",
        "            encoder_outputs, hidden = encoder(src)\n",
        "\n",
        "            input = torch.tensor([tgt_char2idx['<sos>']] * batch_size).to(device)\n",
        "            outputs = []\n",
        "\n",
        "\n",
        "            for _ in range(max_len):\n",
        "                output, hidden, _ = decoder(input, hidden, encoder_outputs)\n",
        "                top1 = output.argmax(1)\n",
        "                outputs.append(top1.unsqueeze(1))\n",
        "                input = top1\n",
        "\n",
        "            outputs = torch.cat(outputs, dim=1)\n",
        "\n",
        "            # Convert predictions and targets to strings for comparison\n",
        "            for pred_seq, tgt_seq in zip(outputs, tgt[:, 1:]):  # Skip <sos> in tgt\n",
        "                pred_str = []\n",
        "                tgt_str = []\n",
        "                for p, t in zip(pred_seq, tgt_seq):\n",
        "                    p_ch = tgt_idx2char.get(p.item(), '')\n",
        "                    t_ch = tgt_idx2char.get(t.item(), '')\n",
        "                    if t_ch == '<eos>':\n",
        "                        break\n",
        "                    pred_str.append(p_ch)\n",
        "                    tgt_str.append(t_ch)\n",
        "\n",
        "                all_predictions.append(\"\".join(pred_str))\n",
        "                all_targets.append(\"\".join(tgt_str))\n",
        "\n",
        "                # Accuracy count\n",
        "                match_len = min(len(pred_str), len(tgt_str))\n",
        "                for i in range(match_len):\n",
        "                    if pred_str[i] == tgt_str[i]:\n",
        "                        correct_chars += 1\n",
        "                total_chars += len(tgt_str)\n",
        "\n",
        "    accuracy = correct_chars / total_chars if total_chars > 0 else 0.0\n",
        "    return accuracy, all_predictions, all_targets\n"
      ],
      "metadata": {
        "id": "Qniiuqy85_sl"
      },
      "execution_count": null,
      "outputs": []
    },
    {
      "cell_type": "code",
      "source": [
        "device = torch.device('cuda' if torch.cuda.is_available() else 'cpu')"
      ],
      "metadata": {
        "id": "gcSUtrb3T5sG"
      },
      "execution_count": null,
      "outputs": []
    },
    {
      "cell_type": "code",
      "source": [
        "INPUT_DIM = len(input_char2idx)\n",
        "OUTPUT_DIM = len(target_char2idx)\n",
        "EMB_DIM = 128\n",
        "HID_DIM = 256\n",
        "\n",
        "encoder = Encoder(INPUT_DIM, EMB_DIM, HID_DIM).to(device)\n",
        "attention = BahdanauAttention(HID_DIM, HID_DIM).to(device)\n",
        "decoder = DecoderWithAttention(OUTPUT_DIM, EMB_DIM, HID_DIM, HID_DIM, attention).to(device)\n",
        "\n",
        "enc_optimizer = optim.Adam(encoder.parameters(), lr=0.0001)\n",
        "dec_optimizer = optim.Adam(decoder.parameters(), lr=0.0001)\n",
        "criterion = nn.CrossEntropyLoss(ignore_index=target_char2idx['<pad>'])\n",
        "\n",
        "for epoch in range(15):\n",
        "    loss = train(None, train_dataloader, encoder, decoder, enc_optimizer, dec_optimizer, criterion, device, target_char2idx['<pad>'])\n",
        "    accuracy, _ , _ = evaluate(None, val_dataloader, encoder, decoder, target_idx2char, target_char2idx, device, max_len=30)\n",
        "\n",
        "    val_accuracy = accuracy*100\n",
        "\n",
        "    print(f\"Epoch {epoch+1} | Train Loss: {loss:.4f} | val_accuracy: {accuracy:.2f}%\")\n"
      ],
      "metadata": {
        "colab": {
          "base_uri": "https://localhost:8080/"
        },
        "id": "l19Tn9IN5Ovo",
        "outputId": "3b05b50b-4ac4-402a-90e4-aaf10afe5e46"
      },
      "execution_count": null,
      "outputs": [
        {
          "output_type": "stream",
          "name": "stderr",
          "text": [
            "100%|██████████| 346/346 [00:13<00:00, 26.30it/s]\n"
          ]
        },
        {
          "output_type": "stream",
          "name": "stdout",
          "text": [
            "Epoch 1 | Train Loss: 2.6025 | Val Acc: 10.02%\n"
          ]
        },
        {
          "output_type": "stream",
          "name": "stderr",
          "text": [
            "100%|██████████| 346/346 [00:13<00:00, 26.38it/s]\n"
          ]
        },
        {
          "output_type": "stream",
          "name": "stdout",
          "text": [
            "Epoch 2 | Train Loss: 1.9396 | Val Acc: 16.91%\n"
          ]
        },
        {
          "output_type": "stream",
          "name": "stderr",
          "text": [
            "100%|██████████| 346/346 [00:13<00:00, 26.42it/s]\n"
          ]
        },
        {
          "output_type": "stream",
          "name": "stdout",
          "text": [
            "Epoch 3 | Train Loss: 1.5196 | Val Acc: 25.99%\n"
          ]
        },
        {
          "output_type": "stream",
          "name": "stderr",
          "text": [
            "100%|██████████| 346/346 [00:13<00:00, 26.13it/s]\n"
          ]
        },
        {
          "output_type": "stream",
          "name": "stdout",
          "text": [
            "Epoch 4 | Train Loss: 1.1441 | Val Acc: 39.23%\n"
          ]
        },
        {
          "output_type": "stream",
          "name": "stderr",
          "text": [
            "100%|██████████| 346/346 [00:13<00:00, 26.13it/s]\n"
          ]
        },
        {
          "output_type": "stream",
          "name": "stdout",
          "text": [
            "Epoch 5 | Train Loss: 0.8456 | Val Acc: 49.50%\n"
          ]
        },
        {
          "output_type": "stream",
          "name": "stderr",
          "text": [
            "100%|██████████| 346/346 [00:14<00:00, 24.59it/s]\n"
          ]
        },
        {
          "output_type": "stream",
          "name": "stdout",
          "text": [
            "Epoch 6 | Train Loss: 0.6951 | Val Acc: 54.35%\n"
          ]
        },
        {
          "output_type": "stream",
          "name": "stderr",
          "text": [
            "100%|██████████| 346/346 [00:13<00:00, 25.71it/s]\n"
          ]
        },
        {
          "output_type": "stream",
          "name": "stdout",
          "text": [
            "Epoch 7 | Train Loss: 0.5942 | Val Acc: 55.21%\n"
          ]
        },
        {
          "output_type": "stream",
          "name": "stderr",
          "text": [
            "100%|██████████| 346/346 [00:13<00:00, 26.33it/s]\n"
          ]
        },
        {
          "output_type": "stream",
          "name": "stdout",
          "text": [
            "Epoch 8 | Train Loss: 0.5423 | Val Acc: 57.38%\n"
          ]
        },
        {
          "output_type": "stream",
          "name": "stderr",
          "text": [
            "100%|██████████| 346/346 [00:13<00:00, 25.18it/s]\n"
          ]
        },
        {
          "output_type": "stream",
          "name": "stdout",
          "text": [
            "Epoch 9 | Train Loss: 0.4969 | Val Acc: 59.28%\n"
          ]
        },
        {
          "output_type": "stream",
          "name": "stderr",
          "text": [
            "100%|██████████| 346/346 [00:13<00:00, 26.50it/s]\n"
          ]
        },
        {
          "output_type": "stream",
          "name": "stdout",
          "text": [
            "Epoch 10 | Train Loss: 0.4584 | Val Acc: 60.93%\n"
          ]
        },
        {
          "output_type": "stream",
          "name": "stderr",
          "text": [
            "100%|██████████| 346/346 [00:13<00:00, 26.15it/s]\n"
          ]
        },
        {
          "output_type": "stream",
          "name": "stdout",
          "text": [
            "Epoch 11 | Train Loss: 0.4302 | Val Acc: 61.60%\n"
          ]
        },
        {
          "output_type": "stream",
          "name": "stderr",
          "text": [
            "100%|██████████| 346/346 [00:13<00:00, 25.86it/s]\n"
          ]
        },
        {
          "output_type": "stream",
          "name": "stdout",
          "text": [
            "Epoch 12 | Train Loss: 0.4077 | Val Acc: 62.57%\n"
          ]
        },
        {
          "output_type": "stream",
          "name": "stderr",
          "text": [
            "100%|██████████| 346/346 [00:14<00:00, 24.61it/s]\n"
          ]
        },
        {
          "output_type": "stream",
          "name": "stdout",
          "text": [
            "Epoch 13 | Train Loss: 0.3850 | Val Acc: 63.01%\n"
          ]
        },
        {
          "output_type": "stream",
          "name": "stderr",
          "text": [
            "100%|██████████| 346/346 [00:14<00:00, 24.42it/s]\n"
          ]
        },
        {
          "output_type": "stream",
          "name": "stdout",
          "text": [
            "Epoch 14 | Train Loss: 0.3712 | Val Acc: 63.82%\n"
          ]
        },
        {
          "output_type": "stream",
          "name": "stderr",
          "text": [
            "100%|██████████| 346/346 [00:13<00:00, 25.12it/s]\n"
          ]
        },
        {
          "output_type": "stream",
          "name": "stdout",
          "text": [
            "Epoch 15 | Train Loss: 0.3560 | Val Acc: 64.47%\n"
          ]
        }
      ]
    },
    {
      "cell_type": "code",
      "source": [
        "import wandb\n",
        "\n",
        "sweep_config = {\n",
        "    'method': 'bayes',\n",
        "    'metric': {\n",
        "      'name': 'val_accuracy',\n",
        "      'goal': 'maximize'\n",
        "    },\n",
        "    'parameters': {\n",
        "        'embedding_size': {\n",
        "            'values': [64, 128]\n",
        "        },\n",
        "        'hidden_layer_size': {\n",
        "            'values': [256, 512]\n",
        "        },\n",
        "        'cell_type': {\n",
        "            'values': ['lstm', 'gru']\n",
        "        },\n",
        "        'dropout': {\n",
        "            'values': [0.2, 0.3]\n",
        "        },\n",
        "         'learning_rate': {\n",
        "            'values': [0.001, 0.0001]\n",
        "        },\n",
        "    }\n",
        "}\n",
        "wandb.login(key=\"b81ae278300a216ce5380e07b52d628e2dd6eb69\")\n",
        "sweep_id = wandb.sweep(sweep = sweep_config, entity=\"arunangshudutta218-iitm\", project = 'dl_assgn_3_q_5a')"
      ],
      "metadata": {
        "colab": {
          "base_uri": "https://localhost:8080/"
        },
        "id": "7BhmOJWJMhAQ",
        "outputId": "34baabb0-572f-4f5d-eaf2-9e7aa2a82918"
      },
      "execution_count": null,
      "outputs": [
        {
          "output_type": "stream",
          "name": "stderr",
          "text": [
            "\u001b[34m\u001b[1mwandb\u001b[0m: \u001b[33mWARNING\u001b[0m If you're specifying your api key in code, ensure this code is not shared publicly.\n",
            "\u001b[34m\u001b[1mwandb\u001b[0m: \u001b[33mWARNING\u001b[0m Consider setting the WANDB_API_KEY environment variable, or running `wandb login` from the command line.\n",
            "\u001b[34m\u001b[1mwandb\u001b[0m: Appending key for api.wandb.ai to your netrc file: /root/.netrc\n"
          ]
        },
        {
          "output_type": "stream",
          "name": "stdout",
          "text": [
            "Create sweep with ID: fwc4vyn0\n",
            "Sweep URL: https://wandb.ai/arunangshudutta218-iitm/dl_assgn_3_q_5a/sweeps/fwc4vyn0\n"
          ]
        }
      ]
    },
    {
      "cell_type": "code",
      "source": [
        "def main():\n",
        "  with wandb.init() as run:\n",
        "\n",
        "    em_sz = wandb.config.embedding_size\n",
        "    hid_sz = wandb.config.hidden_layer_size\n",
        "    cty = wandb.config.cell_type\n",
        "    dr = wandb.config.dropout\n",
        "    lr = wandb.config.learning_rate\n",
        "\n",
        "\n",
        "\n",
        "    wandb.run.name = \"cty_{}_hsz_{}_emsz_{}_dr_{}_lr_{}\".format(cty, hid_sz, em_sz, dr, lr)\n",
        "\n",
        "\n",
        "\n",
        "    INPUT_DIM = len(input_char2idx)\n",
        "    OUTPUT_DIM = len(target_char2idx)\n",
        "    EMB_DIM = em_sz\n",
        "    HID_DIM = hid_sz\n",
        "\n",
        "    encoder = Encoder(INPUT_DIM, EMB_DIM, HID_DIM, cell_type=cty, dropout=dr).to(device)\n",
        "    attention = BahdanauAttention(HID_DIM, HID_DIM).to(device)\n",
        "    decoder = DecoderWithAttention(OUTPUT_DIM, EMB_DIM, HID_DIM, HID_DIM, attention, cell_type=cty, dropout=dr).to(device)\n",
        "\n",
        "    enc_optimizer = optim.Adam(encoder.parameters(), lr=lr)\n",
        "    dec_optimizer = optim.Adam(decoder.parameters(), lr=lr)\n",
        "    criterion = nn.CrossEntropyLoss(ignore_index=target_char2idx['<pad>'])\n",
        "\n",
        "    for epoch in range(15):\n",
        "        loss = train(None, train_dataloader, encoder, decoder, enc_optimizer, dec_optimizer, criterion, device, target_char2idx['<pad>'])\n",
        "        accuracy, _ , _ = evaluate(None, val_dataloader, encoder, decoder, target_idx2char, target_char2idx, device, max_len=30)\n",
        "\n",
        "        val_accuracy = accuracy*100\n",
        "\n",
        "        print(f\"Epoch {epoch+1} | Train Loss: {loss:.4f} | val_accuracy: {val_accuracy:.2f}%\")\n",
        "\n",
        "        wandb.log({'tr_loss' : loss, 'val_accuracy' : val_accuracy})\n",
        "\n",
        "wandb.agent(sweep_id, function = main, count = 30)\n",
        "wandb.finish()"
      ],
      "metadata": {
        "colab": {
          "base_uri": "https://localhost:8080/",
          "height": 1000
        },
        "id": "gxyHgzNlTfQJ",
        "outputId": "54e5f730-c1ea-4b89-8c41-894b52eca620"
      },
      "execution_count": null,
      "outputs": [
        {
          "metadata": {
            "tags": null
          },
          "name": "stderr",
          "output_type": "stream",
          "text": [
            "\u001b[34m\u001b[1mwandb\u001b[0m: Agent Starting Run: a0k1s7vw with config:\n",
            "\u001b[34m\u001b[1mwandb\u001b[0m: \tcell_type: gru\n",
            "\u001b[34m\u001b[1mwandb\u001b[0m: \tdropout: 0.2\n",
            "\u001b[34m\u001b[1mwandb\u001b[0m: \tembedding_size: 64\n",
            "\u001b[34m\u001b[1mwandb\u001b[0m: \thidden_layer_size: 256\n",
            "\u001b[34m\u001b[1mwandb\u001b[0m: \tlearning_rate: 0.001\n"
          ]
        },
        {
          "data": {
            "text/html": [
              "Tracking run with wandb version 0.19.11"
            ],
            "text/plain": [
              "<IPython.core.display.HTML object>"
            ]
          },
          "metadata": {},
          "output_type": "display_data"
        },
        {
          "data": {
            "text/html": [
              "Run data is saved locally in <code>/content/wandb/run-20250519_205718-a0k1s7vw</code>"
            ],
            "text/plain": [
              "<IPython.core.display.HTML object>"
            ]
          },
          "metadata": {},
          "output_type": "display_data"
        },
        {
          "data": {
            "text/html": [
              "Syncing run <strong><a href='https://wandb.ai/arunangshudutta218-iitm/dl_assgn_3_q_5a/runs/a0k1s7vw' target=\"_blank\">ruby-sweep-1</a></strong> to <a href='https://wandb.ai/arunangshudutta218-iitm/dl_assgn_3_q_5a' target=\"_blank\">Weights & Biases</a> (<a href='https://wandb.me/developer-guide' target=\"_blank\">docs</a>)<br>Sweep page: <a href='https://wandb.ai/arunangshudutta218-iitm/dl_assgn_3_q_5a/sweeps/fwc4vyn0' target=\"_blank\">https://wandb.ai/arunangshudutta218-iitm/dl_assgn_3_q_5a/sweeps/fwc4vyn0</a>"
            ],
            "text/plain": [
              "<IPython.core.display.HTML object>"
            ]
          },
          "metadata": {},
          "output_type": "display_data"
        },
        {
          "data": {
            "text/html": [
              " View project at <a href='https://wandb.ai/arunangshudutta218-iitm/dl_assgn_3_q_5a' target=\"_blank\">https://wandb.ai/arunangshudutta218-iitm/dl_assgn_3_q_5a</a>"
            ],
            "text/plain": [
              "<IPython.core.display.HTML object>"
            ]
          },
          "metadata": {},
          "output_type": "display_data"
        },
        {
          "data": {
            "text/html": [
              " View sweep at <a href='https://wandb.ai/arunangshudutta218-iitm/dl_assgn_3_q_5a/sweeps/fwc4vyn0' target=\"_blank\">https://wandb.ai/arunangshudutta218-iitm/dl_assgn_3_q_5a/sweeps/fwc4vyn0</a>"
            ],
            "text/plain": [
              "<IPython.core.display.HTML object>"
            ]
          },
          "metadata": {},
          "output_type": "display_data"
        },
        {
          "data": {
            "text/html": [
              " View run at <a href='https://wandb.ai/arunangshudutta218-iitm/dl_assgn_3_q_5a/runs/a0k1s7vw' target=\"_blank\">https://wandb.ai/arunangshudutta218-iitm/dl_assgn_3_q_5a/runs/a0k1s7vw</a>"
            ],
            "text/plain": [
              "<IPython.core.display.HTML object>"
            ]
          },
          "metadata": {},
          "output_type": "display_data"
        },
        {
          "metadata": {
            "tags": null
          },
          "name": "stderr",
          "output_type": "stream",
          "text": [
            "100%|██████████| 346/346 [00:14<00:00, 23.81it/s]\n"
          ]
        },
        {
          "metadata": {
            "tags": null
          },
          "name": "stdout",
          "output_type": "stream",
          "text": [
            "Epoch 1 | Train Loss: 1.5977 | val_accuracy: 50.40%\n"
          ]
        },
        {
          "metadata": {
            "tags": null
          },
          "name": "stderr",
          "output_type": "stream",
          "text": [
            "100%|██████████| 346/346 [00:14<00:00, 24.07it/s]\n"
          ]
        },
        {
          "metadata": {
            "tags": null
          },
          "name": "stdout",
          "output_type": "stream",
          "text": [
            "Epoch 2 | Train Loss: 0.6254 | val_accuracy: 61.58%\n"
          ]
        },
        {
          "metadata": {
            "tags": null
          },
          "name": "stderr",
          "output_type": "stream",
          "text": [
            "100%|██████████| 346/346 [00:14<00:00, 23.93it/s]\n"
          ]
        },
        {
          "metadata": {
            "tags": null
          },
          "name": "stdout",
          "output_type": "stream",
          "text": [
            "Epoch 3 | Train Loss: 0.4633 | val_accuracy: 62.89%\n"
          ]
        },
        {
          "metadata": {
            "tags": null
          },
          "name": "stderr",
          "output_type": "stream",
          "text": [
            "100%|██████████| 346/346 [00:14<00:00, 23.53it/s]\n"
          ]
        },
        {
          "metadata": {
            "tags": null
          },
          "name": "stdout",
          "output_type": "stream",
          "text": [
            "Epoch 4 | Train Loss: 0.3826 | val_accuracy: 65.40%\n"
          ]
        },
        {
          "metadata": {
            "tags": null
          },
          "name": "stderr",
          "output_type": "stream",
          "text": [
            "100%|██████████| 346/346 [00:14<00:00, 24.00it/s]\n"
          ]
        },
        {
          "metadata": {
            "tags": null
          },
          "name": "stdout",
          "output_type": "stream",
          "text": [
            "Epoch 5 | Train Loss: 0.3171 | val_accuracy: 66.55%\n"
          ]
        },
        {
          "metadata": {
            "tags": null
          },
          "name": "stderr",
          "output_type": "stream",
          "text": [
            "100%|██████████| 346/346 [00:14<00:00, 24.05it/s]\n"
          ]
        },
        {
          "metadata": {
            "tags": null
          },
          "name": "stdout",
          "output_type": "stream",
          "text": [
            "Epoch 6 | Train Loss: 0.2844 | val_accuracy: 67.66%\n"
          ]
        },
        {
          "metadata": {
            "tags": null
          },
          "name": "stderr",
          "output_type": "stream",
          "text": [
            "100%|██████████| 346/346 [00:14<00:00, 24.02it/s]\n"
          ]
        },
        {
          "metadata": {
            "tags": null
          },
          "name": "stdout",
          "output_type": "stream",
          "text": [
            "Epoch 7 | Train Loss: 0.2707 | val_accuracy: 63.91%\n"
          ]
        },
        {
          "metadata": {
            "tags": null
          },
          "name": "stderr",
          "output_type": "stream",
          "text": [
            "100%|██████████| 346/346 [00:14<00:00, 24.02it/s]\n"
          ]
        },
        {
          "metadata": {
            "tags": null
          },
          "name": "stdout",
          "output_type": "stream",
          "text": [
            "Epoch 8 | Train Loss: 0.2740 | val_accuracy: 69.17%\n"
          ]
        },
        {
          "metadata": {
            "tags": null
          },
          "name": "stderr",
          "output_type": "stream",
          "text": [
            "100%|██████████| 346/346 [00:14<00:00, 23.09it/s]\n"
          ]
        },
        {
          "metadata": {
            "tags": null
          },
          "name": "stdout",
          "output_type": "stream",
          "text": [
            "Epoch 9 | Train Loss: 0.2290 | val_accuracy: 69.41%\n"
          ]
        },
        {
          "metadata": {
            "tags": null
          },
          "name": "stderr",
          "output_type": "stream",
          "text": [
            "100%|██████████| 346/346 [00:15<00:00, 22.54it/s]\n"
          ]
        },
        {
          "metadata": {
            "tags": null
          },
          "name": "stdout",
          "output_type": "stream",
          "text": [
            "Epoch 10 | Train Loss: 0.2139 | val_accuracy: 70.44%\n"
          ]
        },
        {
          "metadata": {
            "tags": null
          },
          "name": "stderr",
          "output_type": "stream",
          "text": [
            "100%|██████████| 346/346 [00:14<00:00, 23.75it/s]\n"
          ]
        },
        {
          "metadata": {
            "tags": null
          },
          "name": "stdout",
          "output_type": "stream",
          "text": [
            "Epoch 11 | Train Loss: 0.2108 | val_accuracy: 70.58%\n"
          ]
        },
        {
          "metadata": {
            "tags": null
          },
          "name": "stderr",
          "output_type": "stream",
          "text": [
            "100%|██████████| 346/346 [00:14<00:00, 23.89it/s]\n"
          ]
        },
        {
          "metadata": {
            "tags": null
          },
          "name": "stdout",
          "output_type": "stream",
          "text": [
            "Epoch 12 | Train Loss: 0.1855 | val_accuracy: 70.76%\n"
          ]
        },
        {
          "metadata": {
            "tags": null
          },
          "name": "stderr",
          "output_type": "stream",
          "text": [
            "100%|██████████| 346/346 [00:14<00:00, 23.87it/s]\n"
          ]
        },
        {
          "metadata": {
            "tags": null
          },
          "name": "stdout",
          "output_type": "stream",
          "text": [
            "Epoch 13 | Train Loss: 0.1773 | val_accuracy: 70.16%\n"
          ]
        },
        {
          "metadata": {
            "tags": null
          },
          "name": "stderr",
          "output_type": "stream",
          "text": [
            "100%|██████████| 346/346 [00:14<00:00, 23.44it/s]\n"
          ]
        },
        {
          "metadata": {
            "tags": null
          },
          "name": "stdout",
          "output_type": "stream",
          "text": [
            "Epoch 14 | Train Loss: 0.1687 | val_accuracy: 70.73%\n"
          ]
        },
        {
          "metadata": {
            "tags": null
          },
          "name": "stderr",
          "output_type": "stream",
          "text": [
            "100%|██████████| 346/346 [00:14<00:00, 24.03it/s]\n"
          ]
        },
        {
          "metadata": {
            "tags": null
          },
          "name": "stdout",
          "output_type": "stream",
          "text": [
            "Epoch 15 | Train Loss: 0.1860 | val_accuracy: 68.90%\n"
          ]
        },
        {
          "data": {
            "text/html": [],
            "text/plain": [
              "<IPython.core.display.HTML object>"
            ]
          },
          "metadata": {},
          "output_type": "display_data"
        },
        {
          "data": {
            "text/html": [
              "<br>    <style><br>        .wandb-row {<br>            display: flex;<br>            flex-direction: row;<br>            flex-wrap: wrap;<br>            justify-content: flex-start;<br>            width: 100%;<br>        }<br>        .wandb-col {<br>            display: flex;<br>            flex-direction: column;<br>            flex-basis: 100%;<br>            flex: 1;<br>            padding: 10px;<br>        }<br>    </style><br><div class=\"wandb-row\"><div class=\"wandb-col\"><h3>Run history:</h3><br/><table class=\"wandb\"><tr><td>tr_loss</td><td>█▃▂▂▂▂▁▂▁▁▁▁▁▁▁</td></tr><tr><td>val_accuracy</td><td>▁▅▅▆▇▇▆▇██████▇</td></tr></table><br/></div><div class=\"wandb-col\"><h3>Run summary:</h3><br/><table class=\"wandb\"><tr><td>tr_loss</td><td>0.18598</td></tr><tr><td>val_accuracy</td><td>68.90361</td></tr></table><br/></div></div>"
            ],
            "text/plain": [
              "<IPython.core.display.HTML object>"
            ]
          },
          "metadata": {},
          "output_type": "display_data"
        },
        {
          "data": {
            "text/html": [
              " View run <strong style=\"color:#cdcd00\">cty_gru_hsz_256_emsz_64_dr_0.2_lr_0.001</strong> at: <a href='https://wandb.ai/arunangshudutta218-iitm/dl_assgn_3_q_5a/runs/a0k1s7vw' target=\"_blank\">https://wandb.ai/arunangshudutta218-iitm/dl_assgn_3_q_5a/runs/a0k1s7vw</a><br> View project at: <a href='https://wandb.ai/arunangshudutta218-iitm/dl_assgn_3_q_5a' target=\"_blank\">https://wandb.ai/arunangshudutta218-iitm/dl_assgn_3_q_5a</a><br>Synced 5 W&B file(s), 0 media file(s), 0 artifact file(s) and 0 other file(s)"
            ],
            "text/plain": [
              "<IPython.core.display.HTML object>"
            ]
          },
          "metadata": {},
          "output_type": "display_data"
        },
        {
          "data": {
            "text/html": [
              "Find logs at: <code>./wandb/run-20250519_205718-a0k1s7vw/logs</code>"
            ],
            "text/plain": [
              "<IPython.core.display.HTML object>"
            ]
          },
          "metadata": {},
          "output_type": "display_data"
        },
        {
          "metadata": {
            "tags": null
          },
          "name": "stderr",
          "output_type": "stream",
          "text": [
            "\u001b[34m\u001b[1mwandb\u001b[0m: Agent Starting Run: 9rrlmdnu with config:\n",
            "\u001b[34m\u001b[1mwandb\u001b[0m: \tcell_type: lstm\n",
            "\u001b[34m\u001b[1mwandb\u001b[0m: \tdropout: 0.3\n",
            "\u001b[34m\u001b[1mwandb\u001b[0m: \tembedding_size: 64\n",
            "\u001b[34m\u001b[1mwandb\u001b[0m: \thidden_layer_size: 512\n",
            "\u001b[34m\u001b[1mwandb\u001b[0m: \tlearning_rate: 0.0001\n"
          ]
        },
        {
          "data": {
            "text/html": [
              "Tracking run with wandb version 0.19.11"
            ],
            "text/plain": [
              "<IPython.core.display.HTML object>"
            ]
          },
          "metadata": {},
          "output_type": "display_data"
        },
        {
          "data": {
            "text/html": [
              "Run data is saved locally in <code>/content/wandb/run-20250519_210129-9rrlmdnu</code>"
            ],
            "text/plain": [
              "<IPython.core.display.HTML object>"
            ]
          },
          "metadata": {},
          "output_type": "display_data"
        },
        {
          "data": {
            "text/html": [
              "Syncing run <strong><a href='https://wandb.ai/arunangshudutta218-iitm/dl_assgn_3_q_5a/runs/9rrlmdnu' target=\"_blank\">snowy-sweep-2</a></strong> to <a href='https://wandb.ai/arunangshudutta218-iitm/dl_assgn_3_q_5a' target=\"_blank\">Weights & Biases</a> (<a href='https://wandb.me/developer-guide' target=\"_blank\">docs</a>)<br>Sweep page: <a href='https://wandb.ai/arunangshudutta218-iitm/dl_assgn_3_q_5a/sweeps/fwc4vyn0' target=\"_blank\">https://wandb.ai/arunangshudutta218-iitm/dl_assgn_3_q_5a/sweeps/fwc4vyn0</a>"
            ],
            "text/plain": [
              "<IPython.core.display.HTML object>"
            ]
          },
          "metadata": {},
          "output_type": "display_data"
        },
        {
          "data": {
            "text/html": [
              " View project at <a href='https://wandb.ai/arunangshudutta218-iitm/dl_assgn_3_q_5a' target=\"_blank\">https://wandb.ai/arunangshudutta218-iitm/dl_assgn_3_q_5a</a>"
            ],
            "text/plain": [
              "<IPython.core.display.HTML object>"
            ]
          },
          "metadata": {},
          "output_type": "display_data"
        },
        {
          "data": {
            "text/html": [
              " View sweep at <a href='https://wandb.ai/arunangshudutta218-iitm/dl_assgn_3_q_5a/sweeps/fwc4vyn0' target=\"_blank\">https://wandb.ai/arunangshudutta218-iitm/dl_assgn_3_q_5a/sweeps/fwc4vyn0</a>"
            ],
            "text/plain": [
              "<IPython.core.display.HTML object>"
            ]
          },
          "metadata": {},
          "output_type": "display_data"
        },
        {
          "data": {
            "text/html": [
              " View run at <a href='https://wandb.ai/arunangshudutta218-iitm/dl_assgn_3_q_5a/runs/9rrlmdnu' target=\"_blank\">https://wandb.ai/arunangshudutta218-iitm/dl_assgn_3_q_5a/runs/9rrlmdnu</a>"
            ],
            "text/plain": [
              "<IPython.core.display.HTML object>"
            ]
          },
          "metadata": {},
          "output_type": "display_data"
        },
        {
          "metadata": {
            "tags": null
          },
          "name": "stderr",
          "output_type": "stream",
          "text": [
            "100%|██████████| 346/346 [00:19<00:00, 18.06it/s]\n"
          ]
        },
        {
          "metadata": {
            "tags": null
          },
          "name": "stdout",
          "output_type": "stream",
          "text": [
            "Epoch 1 | Train Loss: 2.6752 | val_accuracy: 8.91%\n"
          ]
        },
        {
          "metadata": {
            "tags": null
          },
          "name": "stderr",
          "output_type": "stream",
          "text": [
            "100%|██████████| 346/346 [00:18<00:00, 18.58it/s]\n"
          ]
        },
        {
          "metadata": {
            "tags": null
          },
          "name": "stdout",
          "output_type": "stream",
          "text": [
            "Epoch 2 | Train Loss: 2.0889 | val_accuracy: 16.11%\n"
          ]
        },
        {
          "metadata": {
            "tags": null
          },
          "name": "stderr",
          "output_type": "stream",
          "text": [
            "100%|██████████| 346/346 [00:19<00:00, 17.89it/s]\n"
          ]
        },
        {
          "metadata": {
            "tags": null
          },
          "name": "stdout",
          "output_type": "stream",
          "text": [
            "Epoch 3 | Train Loss: 1.7556 | val_accuracy: 18.63%\n"
          ]
        },
        {
          "metadata": {
            "tags": null
          },
          "name": "stderr",
          "output_type": "stream",
          "text": [
            "100%|██████████| 346/346 [00:18<00:00, 18.40it/s]\n"
          ]
        },
        {
          "metadata": {
            "tags": null
          },
          "name": "stdout",
          "output_type": "stream",
          "text": [
            "Epoch 4 | Train Loss: 1.5188 | val_accuracy: 23.10%\n"
          ]
        },
        {
          "metadata": {
            "tags": null
          },
          "name": "stderr",
          "output_type": "stream",
          "text": [
            "100%|██████████| 346/346 [00:19<00:00, 17.97it/s]\n"
          ]
        },
        {
          "metadata": {
            "tags": null
          },
          "name": "stdout",
          "output_type": "stream",
          "text": [
            "Epoch 5 | Train Loss: 1.3244 | val_accuracy: 31.29%\n"
          ]
        },
        {
          "metadata": {
            "tags": null
          },
          "name": "stderr",
          "output_type": "stream",
          "text": [
            "100%|██████████| 346/346 [00:19<00:00, 18.18it/s]\n"
          ]
        },
        {
          "metadata": {
            "tags": null
          },
          "name": "stdout",
          "output_type": "stream",
          "text": [
            "Epoch 6 | Train Loss: 1.1267 | val_accuracy: 39.98%\n"
          ]
        },
        {
          "metadata": {
            "tags": null
          },
          "name": "stderr",
          "output_type": "stream",
          "text": [
            "100%|██████████| 346/346 [00:19<00:00, 18.01it/s]\n"
          ]
        },
        {
          "metadata": {
            "tags": null
          },
          "name": "stdout",
          "output_type": "stream",
          "text": [
            "Epoch 7 | Train Loss: 0.9631 | val_accuracy: 47.33%\n"
          ]
        },
        {
          "metadata": {
            "tags": null
          },
          "name": "stderr",
          "output_type": "stream",
          "text": [
            "100%|██████████| 346/346 [00:19<00:00, 18.06it/s]\n"
          ]
        },
        {
          "metadata": {
            "tags": null
          },
          "name": "stdout",
          "output_type": "stream",
          "text": [
            "Epoch 8 | Train Loss: 0.8355 | val_accuracy: 51.40%\n"
          ]
        },
        {
          "metadata": {
            "tags": null
          },
          "name": "stderr",
          "output_type": "stream",
          "text": [
            "100%|██████████| 346/346 [00:20<00:00, 16.73it/s]\n"
          ]
        },
        {
          "metadata": {
            "tags": null
          },
          "name": "stdout",
          "output_type": "stream",
          "text": [
            "Epoch 9 | Train Loss: 0.7462 | val_accuracy: 55.35%\n"
          ]
        },
        {
          "metadata": {
            "tags": null
          },
          "name": "stderr",
          "output_type": "stream",
          "text": [
            "100%|██████████| 346/346 [00:19<00:00, 17.94it/s]\n"
          ]
        },
        {
          "metadata": {
            "tags": null
          },
          "name": "stdout",
          "output_type": "stream",
          "text": [
            "Epoch 10 | Train Loss: 0.6886 | val_accuracy: 56.40%\n"
          ]
        },
        {
          "metadata": {
            "tags": null
          },
          "name": "stderr",
          "output_type": "stream",
          "text": [
            "100%|██████████| 346/346 [00:19<00:00, 18.14it/s]\n"
          ]
        },
        {
          "metadata": {
            "tags": null
          },
          "name": "stdout",
          "output_type": "stream",
          "text": [
            "Epoch 11 | Train Loss: 0.6198 | val_accuracy: 58.27%\n"
          ]
        },
        {
          "metadata": {
            "tags": null
          },
          "name": "stderr",
          "output_type": "stream",
          "text": [
            "100%|██████████| 346/346 [00:19<00:00, 17.81it/s]\n"
          ]
        },
        {
          "metadata": {
            "tags": null
          },
          "name": "stdout",
          "output_type": "stream",
          "text": [
            "Epoch 12 | Train Loss: 0.5764 | val_accuracy: 60.19%\n"
          ]
        },
        {
          "metadata": {
            "tags": null
          },
          "name": "stderr",
          "output_type": "stream",
          "text": [
            "100%|██████████| 346/346 [00:19<00:00, 18.10it/s]\n"
          ]
        },
        {
          "metadata": {
            "tags": null
          },
          "name": "stdout",
          "output_type": "stream",
          "text": [
            "Epoch 13 | Train Loss: 0.5443 | val_accuracy: 61.90%\n"
          ]
        },
        {
          "metadata": {
            "tags": null
          },
          "name": "stderr",
          "output_type": "stream",
          "text": [
            "100%|██████████| 346/346 [00:19<00:00, 17.54it/s]\n"
          ]
        },
        {
          "metadata": {
            "tags": null
          },
          "name": "stdout",
          "output_type": "stream",
          "text": [
            "Epoch 14 | Train Loss: 0.5144 | val_accuracy: 62.19%\n"
          ]
        },
        {
          "metadata": {
            "tags": null
          },
          "name": "stderr",
          "output_type": "stream",
          "text": [
            "100%|██████████| 346/346 [00:19<00:00, 18.04it/s]\n"
          ]
        },
        {
          "metadata": {
            "tags": null
          },
          "name": "stdout",
          "output_type": "stream",
          "text": [
            "Epoch 15 | Train Loss: 0.4724 | val_accuracy: 63.65%\n"
          ]
        },
        {
          "data": {
            "text/html": [],
            "text/plain": [
              "<IPython.core.display.HTML object>"
            ]
          },
          "metadata": {},
          "output_type": "display_data"
        },
        {
          "data": {
            "text/html": [
              "<br>    <style><br>        .wandb-row {<br>            display: flex;<br>            flex-direction: row;<br>            flex-wrap: wrap;<br>            justify-content: flex-start;<br>            width: 100%;<br>        }<br>        .wandb-col {<br>            display: flex;<br>            flex-direction: column;<br>            flex-basis: 100%;<br>            flex: 1;<br>            padding: 10px;<br>        }<br>    </style><br><div class=\"wandb-row\"><div class=\"wandb-col\"><h3>Run history:</h3><br/><table class=\"wandb\"><tr><td>tr_loss</td><td>█▆▅▄▄▃▃▂▂▂▁▁▁▁▁</td></tr><tr><td>val_accuracy</td><td>▁▂▂▃▄▅▆▆▇▇▇████</td></tr></table><br/></div><div class=\"wandb-col\"><h3>Run summary:</h3><br/><table class=\"wandb\"><tr><td>tr_loss</td><td>0.47235</td></tr><tr><td>val_accuracy</td><td>63.65282</td></tr></table><br/></div></div>"
            ],
            "text/plain": [
              "<IPython.core.display.HTML object>"
            ]
          },
          "metadata": {},
          "output_type": "display_data"
        },
        {
          "data": {
            "text/html": [
              " View run <strong style=\"color:#cdcd00\">cty_lstm_hsz_512_emsz_64_dr_0.3_lr_0.0001</strong> at: <a href='https://wandb.ai/arunangshudutta218-iitm/dl_assgn_3_q_5a/runs/9rrlmdnu' target=\"_blank\">https://wandb.ai/arunangshudutta218-iitm/dl_assgn_3_q_5a/runs/9rrlmdnu</a><br> View project at: <a href='https://wandb.ai/arunangshudutta218-iitm/dl_assgn_3_q_5a' target=\"_blank\">https://wandb.ai/arunangshudutta218-iitm/dl_assgn_3_q_5a</a><br>Synced 5 W&B file(s), 0 media file(s), 0 artifact file(s) and 0 other file(s)"
            ],
            "text/plain": [
              "<IPython.core.display.HTML object>"
            ]
          },
          "metadata": {},
          "output_type": "display_data"
        },
        {
          "data": {
            "text/html": [
              "Find logs at: <code>./wandb/run-20250519_210129-9rrlmdnu/logs</code>"
            ],
            "text/plain": [
              "<IPython.core.display.HTML object>"
            ]
          },
          "metadata": {},
          "output_type": "display_data"
        },
        {
          "metadata": {
            "tags": null
          },
          "name": "stderr",
          "output_type": "stream",
          "text": [
            "\u001b[34m\u001b[1mwandb\u001b[0m: Agent Starting Run: ofbrwgg5 with config:\n",
            "\u001b[34m\u001b[1mwandb\u001b[0m: \tcell_type: gru\n",
            "\u001b[34m\u001b[1mwandb\u001b[0m: \tdropout: 0.3\n",
            "\u001b[34m\u001b[1mwandb\u001b[0m: \tembedding_size: 128\n",
            "\u001b[34m\u001b[1mwandb\u001b[0m: \thidden_layer_size: 512\n",
            "\u001b[34m\u001b[1mwandb\u001b[0m: \tlearning_rate: 0.0001\n"
          ]
        },
        {
          "data": {
            "text/html": [
              "Tracking run with wandb version 0.19.11"
            ],
            "text/plain": [
              "<IPython.core.display.HTML object>"
            ]
          },
          "metadata": {},
          "output_type": "display_data"
        },
        {
          "data": {
            "text/html": [
              "Run data is saved locally in <code>/content/wandb/run-20250519_210654-ofbrwgg5</code>"
            ],
            "text/plain": [
              "<IPython.core.display.HTML object>"
            ]
          },
          "metadata": {},
          "output_type": "display_data"
        },
        {
          "data": {
            "text/html": [
              "Syncing run <strong><a href='https://wandb.ai/arunangshudutta218-iitm/dl_assgn_3_q_5a/runs/ofbrwgg5' target=\"_blank\">vague-sweep-3</a></strong> to <a href='https://wandb.ai/arunangshudutta218-iitm/dl_assgn_3_q_5a' target=\"_blank\">Weights & Biases</a> (<a href='https://wandb.me/developer-guide' target=\"_blank\">docs</a>)<br>Sweep page: <a href='https://wandb.ai/arunangshudutta218-iitm/dl_assgn_3_q_5a/sweeps/fwc4vyn0' target=\"_blank\">https://wandb.ai/arunangshudutta218-iitm/dl_assgn_3_q_5a/sweeps/fwc4vyn0</a>"
            ],
            "text/plain": [
              "<IPython.core.display.HTML object>"
            ]
          },
          "metadata": {},
          "output_type": "display_data"
        },
        {
          "data": {
            "text/html": [
              " View project at <a href='https://wandb.ai/arunangshudutta218-iitm/dl_assgn_3_q_5a' target=\"_blank\">https://wandb.ai/arunangshudutta218-iitm/dl_assgn_3_q_5a</a>"
            ],
            "text/plain": [
              "<IPython.core.display.HTML object>"
            ]
          },
          "metadata": {},
          "output_type": "display_data"
        },
        {
          "data": {
            "text/html": [
              " View sweep at <a href='https://wandb.ai/arunangshudutta218-iitm/dl_assgn_3_q_5a/sweeps/fwc4vyn0' target=\"_blank\">https://wandb.ai/arunangshudutta218-iitm/dl_assgn_3_q_5a/sweeps/fwc4vyn0</a>"
            ],
            "text/plain": [
              "<IPython.core.display.HTML object>"
            ]
          },
          "metadata": {},
          "output_type": "display_data"
        },
        {
          "data": {
            "text/html": [
              " View run at <a href='https://wandb.ai/arunangshudutta218-iitm/dl_assgn_3_q_5a/runs/ofbrwgg5' target=\"_blank\">https://wandb.ai/arunangshudutta218-iitm/dl_assgn_3_q_5a/runs/ofbrwgg5</a>"
            ],
            "text/plain": [
              "<IPython.core.display.HTML object>"
            ]
          },
          "metadata": {},
          "output_type": "display_data"
        },
        {
          "metadata": {
            "tags": null
          },
          "name": "stderr",
          "output_type": "stream",
          "text": [
            "100%|██████████| 346/346 [00:18<00:00, 18.88it/s]\n"
          ]
        },
        {
          "metadata": {
            "tags": null
          },
          "name": "stdout",
          "output_type": "stream",
          "text": [
            "Epoch 1 | Train Loss: 2.4427 | val_accuracy: 14.05%\n"
          ]
        },
        {
          "metadata": {
            "tags": null
          },
          "name": "stderr",
          "output_type": "stream",
          "text": [
            "100%|██████████| 346/346 [00:18<00:00, 18.45it/s]\n"
          ]
        },
        {
          "metadata": {
            "tags": null
          },
          "name": "stdout",
          "output_type": "stream",
          "text": [
            "Epoch 2 | Train Loss: 1.6624 | val_accuracy: 25.92%\n"
          ]
        },
        {
          "metadata": {
            "tags": null
          },
          "name": "stderr",
          "output_type": "stream",
          "text": [
            "100%|██████████| 346/346 [00:18<00:00, 19.06it/s]\n"
          ]
        },
        {
          "metadata": {
            "tags": null
          },
          "name": "stdout",
          "output_type": "stream",
          "text": [
            "Epoch 3 | Train Loss: 1.1601 | val_accuracy: 46.41%\n"
          ]
        },
        {
          "metadata": {
            "tags": null
          },
          "name": "stderr",
          "output_type": "stream",
          "text": [
            "100%|██████████| 346/346 [00:18<00:00, 18.48it/s]\n"
          ]
        },
        {
          "metadata": {
            "tags": null
          },
          "name": "stdout",
          "output_type": "stream",
          "text": [
            "Epoch 4 | Train Loss: 0.8289 | val_accuracy: 54.23%\n"
          ]
        },
        {
          "metadata": {
            "tags": null
          },
          "name": "stderr",
          "output_type": "stream",
          "text": [
            "100%|██████████| 346/346 [00:18<00:00, 19.06it/s]\n"
          ]
        },
        {
          "metadata": {
            "tags": null
          },
          "name": "stdout",
          "output_type": "stream",
          "text": [
            "Epoch 5 | Train Loss: 0.6760 | val_accuracy: 57.79%\n"
          ]
        },
        {
          "metadata": {
            "tags": null
          },
          "name": "stderr",
          "output_type": "stream",
          "text": [
            "100%|██████████| 346/346 [00:18<00:00, 18.54it/s]\n"
          ]
        },
        {
          "metadata": {
            "tags": null
          },
          "name": "stdout",
          "output_type": "stream",
          "text": [
            "Epoch 6 | Train Loss: 0.5805 | val_accuracy: 59.42%\n"
          ]
        },
        {
          "metadata": {
            "tags": null
          },
          "name": "stderr",
          "output_type": "stream",
          "text": [
            "100%|██████████| 346/346 [00:18<00:00, 18.32it/s]\n"
          ]
        },
        {
          "metadata": {
            "tags": null
          },
          "name": "stdout",
          "output_type": "stream",
          "text": [
            "Epoch 7 | Train Loss: 0.5183 | val_accuracy: 60.29%\n"
          ]
        },
        {
          "metadata": {
            "tags": null
          },
          "name": "stderr",
          "output_type": "stream",
          "text": [
            "100%|██████████| 346/346 [00:18<00:00, 18.69it/s]\n"
          ]
        },
        {
          "metadata": {
            "tags": null
          },
          "name": "stdout",
          "output_type": "stream",
          "text": [
            "Epoch 8 | Train Loss: 0.4853 | val_accuracy: 61.31%\n"
          ]
        },
        {
          "metadata": {
            "tags": null
          },
          "name": "stderr",
          "output_type": "stream",
          "text": [
            "100%|██████████| 346/346 [00:18<00:00, 18.92it/s]\n"
          ]
        },
        {
          "metadata": {
            "tags": null
          },
          "name": "stdout",
          "output_type": "stream",
          "text": [
            "Epoch 9 | Train Loss: 0.4427 | val_accuracy: 62.59%\n"
          ]
        },
        {
          "metadata": {
            "tags": null
          },
          "name": "stderr",
          "output_type": "stream",
          "text": [
            "100%|██████████| 346/346 [00:18<00:00, 18.62it/s]\n"
          ]
        },
        {
          "metadata": {
            "tags": null
          },
          "name": "stdout",
          "output_type": "stream",
          "text": [
            "Epoch 10 | Train Loss: 0.4118 | val_accuracy: 63.62%\n"
          ]
        },
        {
          "metadata": {
            "tags": null
          },
          "name": "stderr",
          "output_type": "stream",
          "text": [
            "100%|██████████| 346/346 [00:18<00:00, 18.99it/s]\n"
          ]
        },
        {
          "metadata": {
            "tags": null
          },
          "name": "stdout",
          "output_type": "stream",
          "text": [
            "Epoch 11 | Train Loss: 0.4035 | val_accuracy: 64.09%\n"
          ]
        },
        {
          "metadata": {
            "tags": null
          },
          "name": "stderr",
          "output_type": "stream",
          "text": [
            "100%|██████████| 346/346 [00:18<00:00, 18.79it/s]\n"
          ]
        },
        {
          "metadata": {
            "tags": null
          },
          "name": "stdout",
          "output_type": "stream",
          "text": [
            "Epoch 12 | Train Loss: 0.3664 | val_accuracy: 64.40%\n"
          ]
        },
        {
          "metadata": {
            "tags": null
          },
          "name": "stderr",
          "output_type": "stream",
          "text": [
            "100%|██████████| 346/346 [00:18<00:00, 18.98it/s]\n"
          ]
        },
        {
          "metadata": {
            "tags": null
          },
          "name": "stdout",
          "output_type": "stream",
          "text": [
            "Epoch 13 | Train Loss: 0.3483 | val_accuracy: 66.32%\n"
          ]
        },
        {
          "metadata": {
            "tags": null
          },
          "name": "stderr",
          "output_type": "stream",
          "text": [
            "100%|██████████| 346/346 [00:18<00:00, 18.79it/s]\n"
          ]
        },
        {
          "metadata": {
            "tags": null
          },
          "name": "stdout",
          "output_type": "stream",
          "text": [
            "Epoch 14 | Train Loss: 0.3380 | val_accuracy: 66.43%\n"
          ]
        },
        {
          "metadata": {
            "tags": null
          },
          "name": "stderr",
          "output_type": "stream",
          "text": [
            "100%|██████████| 346/346 [00:18<00:00, 18.86it/s]\n"
          ]
        },
        {
          "metadata": {
            "tags": null
          },
          "name": "stdout",
          "output_type": "stream",
          "text": [
            "Epoch 15 | Train Loss: 0.3211 | val_accuracy: 66.70%\n"
          ]
        },
        {
          "data": {
            "text/html": [],
            "text/plain": [
              "<IPython.core.display.HTML object>"
            ]
          },
          "metadata": {},
          "output_type": "display_data"
        },
        {
          "data": {
            "text/html": [
              "<br>    <style><br>        .wandb-row {<br>            display: flex;<br>            flex-direction: row;<br>            flex-wrap: wrap;<br>            justify-content: flex-start;<br>            width: 100%;<br>        }<br>        .wandb-col {<br>            display: flex;<br>            flex-direction: column;<br>            flex-basis: 100%;<br>            flex: 1;<br>            padding: 10px;<br>        }<br>    </style><br><div class=\"wandb-row\"><div class=\"wandb-col\"><h3>Run history:</h3><br/><table class=\"wandb\"><tr><td>tr_loss</td><td>█▅▄▃▂▂▂▂▁▁▁▁▁▁▁</td></tr><tr><td>val_accuracy</td><td>▁▃▅▆▇▇▇▇▇██████</td></tr></table><br/></div><div class=\"wandb-col\"><h3>Run summary:</h3><br/><table class=\"wandb\"><tr><td>tr_loss</td><td>0.32114</td></tr><tr><td>val_accuracy</td><td>66.6962</td></tr></table><br/></div></div>"
            ],
            "text/plain": [
              "<IPython.core.display.HTML object>"
            ]
          },
          "metadata": {},
          "output_type": "display_data"
        },
        {
          "data": {
            "text/html": [
              " View run <strong style=\"color:#cdcd00\">cty_gru_hsz_512_emsz_128_dr_0.3_lr_0.0001</strong> at: <a href='https://wandb.ai/arunangshudutta218-iitm/dl_assgn_3_q_5a/runs/ofbrwgg5' target=\"_blank\">https://wandb.ai/arunangshudutta218-iitm/dl_assgn_3_q_5a/runs/ofbrwgg5</a><br> View project at: <a href='https://wandb.ai/arunangshudutta218-iitm/dl_assgn_3_q_5a' target=\"_blank\">https://wandb.ai/arunangshudutta218-iitm/dl_assgn_3_q_5a</a><br>Synced 5 W&B file(s), 0 media file(s), 0 artifact file(s) and 0 other file(s)"
            ],
            "text/plain": [
              "<IPython.core.display.HTML object>"
            ]
          },
          "metadata": {},
          "output_type": "display_data"
        },
        {
          "data": {
            "text/html": [
              "Find logs at: <code>./wandb/run-20250519_210654-ofbrwgg5/logs</code>"
            ],
            "text/plain": [
              "<IPython.core.display.HTML object>"
            ]
          },
          "metadata": {},
          "output_type": "display_data"
        },
        {
          "metadata": {
            "tags": null
          },
          "name": "stderr",
          "output_type": "stream",
          "text": [
            "\u001b[34m\u001b[1mwandb\u001b[0m: Agent Starting Run: ybl5j9sm with config:\n",
            "\u001b[34m\u001b[1mwandb\u001b[0m: \tcell_type: lstm\n",
            "\u001b[34m\u001b[1mwandb\u001b[0m: \tdropout: 0.2\n",
            "\u001b[34m\u001b[1mwandb\u001b[0m: \tembedding_size: 64\n",
            "\u001b[34m\u001b[1mwandb\u001b[0m: \thidden_layer_size: 256\n",
            "\u001b[34m\u001b[1mwandb\u001b[0m: \tlearning_rate: 0.001\n"
          ]
        },
        {
          "data": {
            "text/html": [
              "Tracking run with wandb version 0.19.11"
            ],
            "text/plain": [
              "<IPython.core.display.HTML object>"
            ]
          },
          "metadata": {},
          "output_type": "display_data"
        },
        {
          "data": {
            "text/html": [
              "Run data is saved locally in <code>/content/wandb/run-20250519_211208-ybl5j9sm</code>"
            ],
            "text/plain": [
              "<IPython.core.display.HTML object>"
            ]
          },
          "metadata": {},
          "output_type": "display_data"
        },
        {
          "data": {
            "text/html": [
              "Syncing run <strong><a href='https://wandb.ai/arunangshudutta218-iitm/dl_assgn_3_q_5a/runs/ybl5j9sm' target=\"_blank\">denim-sweep-4</a></strong> to <a href='https://wandb.ai/arunangshudutta218-iitm/dl_assgn_3_q_5a' target=\"_blank\">Weights & Biases</a> (<a href='https://wandb.me/developer-guide' target=\"_blank\">docs</a>)<br>Sweep page: <a href='https://wandb.ai/arunangshudutta218-iitm/dl_assgn_3_q_5a/sweeps/fwc4vyn0' target=\"_blank\">https://wandb.ai/arunangshudutta218-iitm/dl_assgn_3_q_5a/sweeps/fwc4vyn0</a>"
            ],
            "text/plain": [
              "<IPython.core.display.HTML object>"
            ]
          },
          "metadata": {},
          "output_type": "display_data"
        },
        {
          "data": {
            "text/html": [
              " View project at <a href='https://wandb.ai/arunangshudutta218-iitm/dl_assgn_3_q_5a' target=\"_blank\">https://wandb.ai/arunangshudutta218-iitm/dl_assgn_3_q_5a</a>"
            ],
            "text/plain": [
              "<IPython.core.display.HTML object>"
            ]
          },
          "metadata": {},
          "output_type": "display_data"
        },
        {
          "data": {
            "text/html": [
              " View sweep at <a href='https://wandb.ai/arunangshudutta218-iitm/dl_assgn_3_q_5a/sweeps/fwc4vyn0' target=\"_blank\">https://wandb.ai/arunangshudutta218-iitm/dl_assgn_3_q_5a/sweeps/fwc4vyn0</a>"
            ],
            "text/plain": [
              "<IPython.core.display.HTML object>"
            ]
          },
          "metadata": {},
          "output_type": "display_data"
        },
        {
          "data": {
            "text/html": [
              " View run at <a href='https://wandb.ai/arunangshudutta218-iitm/dl_assgn_3_q_5a/runs/ybl5j9sm' target=\"_blank\">https://wandb.ai/arunangshudutta218-iitm/dl_assgn_3_q_5a/runs/ybl5j9sm</a>"
            ],
            "text/plain": [
              "<IPython.core.display.HTML object>"
            ]
          },
          "metadata": {},
          "output_type": "display_data"
        },
        {
          "metadata": {
            "tags": null
          },
          "name": "stderr",
          "output_type": "stream",
          "text": [
            "100%|██████████| 346/346 [00:15<00:00, 22.51it/s]\n"
          ]
        },
        {
          "metadata": {
            "tags": null
          },
          "name": "stdout",
          "output_type": "stream",
          "text": [
            "Epoch 1 | Train Loss: 1.8270 | val_accuracy: 45.33%\n"
          ]
        },
        {
          "metadata": {
            "tags": null
          },
          "name": "stderr",
          "output_type": "stream",
          "text": [
            "100%|██████████| 346/346 [00:15<00:00, 22.85it/s]\n"
          ]
        },
        {
          "metadata": {
            "tags": null
          },
          "name": "stdout",
          "output_type": "stream",
          "text": [
            "Epoch 2 | Train Loss: 0.7420 | val_accuracy: 59.26%\n"
          ]
        },
        {
          "metadata": {
            "tags": null
          },
          "name": "stderr",
          "output_type": "stream",
          "text": [
            "100%|██████████| 346/346 [00:15<00:00, 22.37it/s]\n"
          ]
        },
        {
          "metadata": {
            "tags": null
          },
          "name": "stdout",
          "output_type": "stream",
          "text": [
            "Epoch 3 | Train Loss: 0.4951 | val_accuracy: 63.09%\n"
          ]
        },
        {
          "metadata": {
            "tags": null
          },
          "name": "stderr",
          "output_type": "stream",
          "text": [
            "100%|██████████| 346/346 [00:15<00:00, 22.47it/s]\n"
          ]
        },
        {
          "metadata": {
            "tags": null
          },
          "name": "stdout",
          "output_type": "stream",
          "text": [
            "Epoch 4 | Train Loss: 0.4080 | val_accuracy: 64.71%\n"
          ]
        },
        {
          "metadata": {
            "tags": null
          },
          "name": "stderr",
          "output_type": "stream",
          "text": [
            "100%|██████████| 346/346 [00:15<00:00, 22.50it/s]\n"
          ]
        },
        {
          "metadata": {
            "tags": null
          },
          "name": "stdout",
          "output_type": "stream",
          "text": [
            "Epoch 5 | Train Loss: 0.3822 | val_accuracy: 65.56%\n"
          ]
        },
        {
          "metadata": {
            "tags": null
          },
          "name": "stderr",
          "output_type": "stream",
          "text": [
            "100%|██████████| 346/346 [00:15<00:00, 22.35it/s]\n"
          ]
        },
        {
          "metadata": {
            "tags": null
          },
          "name": "stdout",
          "output_type": "stream",
          "text": [
            "Epoch 6 | Train Loss: 0.3198 | val_accuracy: 66.88%\n"
          ]
        },
        {
          "metadata": {
            "tags": null
          },
          "name": "stderr",
          "output_type": "stream",
          "text": [
            "100%|██████████| 346/346 [00:15<00:00, 22.05it/s]\n"
          ]
        },
        {
          "metadata": {
            "tags": null
          },
          "name": "stdout",
          "output_type": "stream",
          "text": [
            "Epoch 7 | Train Loss: 0.2868 | val_accuracy: 66.76%\n"
          ]
        },
        {
          "metadata": {
            "tags": null
          },
          "name": "stderr",
          "output_type": "stream",
          "text": [
            "100%|██████████| 346/346 [00:15<00:00, 23.04it/s]\n"
          ]
        },
        {
          "metadata": {
            "tags": null
          },
          "name": "stdout",
          "output_type": "stream",
          "text": [
            "Epoch 8 | Train Loss: 0.2767 | val_accuracy: 69.22%\n"
          ]
        },
        {
          "metadata": {
            "tags": null
          },
          "name": "stderr",
          "output_type": "stream",
          "text": [
            "100%|██████████| 346/346 [00:15<00:00, 22.64it/s]\n"
          ]
        },
        {
          "metadata": {
            "tags": null
          },
          "name": "stdout",
          "output_type": "stream",
          "text": [
            "Epoch 9 | Train Loss: 0.2548 | val_accuracy: 69.49%\n"
          ]
        },
        {
          "metadata": {
            "tags": null
          },
          "name": "stderr",
          "output_type": "stream",
          "text": [
            "100%|██████████| 346/346 [00:15<00:00, 22.66it/s]\n"
          ]
        },
        {
          "metadata": {
            "tags": null
          },
          "name": "stdout",
          "output_type": "stream",
          "text": [
            "Epoch 10 | Train Loss: 0.2424 | val_accuracy: 70.08%\n"
          ]
        },
        {
          "metadata": {
            "tags": null
          },
          "name": "stderr",
          "output_type": "stream",
          "text": [
            "100%|██████████| 346/346 [00:15<00:00, 22.04it/s]\n"
          ]
        },
        {
          "metadata": {
            "tags": null
          },
          "name": "stdout",
          "output_type": "stream",
          "text": [
            "Epoch 11 | Train Loss: 0.2169 | val_accuracy: 70.30%\n"
          ]
        },
        {
          "metadata": {
            "tags": null
          },
          "name": "stderr",
          "output_type": "stream",
          "text": [
            "100%|██████████| 346/346 [00:15<00:00, 22.81it/s]\n"
          ]
        },
        {
          "metadata": {
            "tags": null
          },
          "name": "stdout",
          "output_type": "stream",
          "text": [
            "Epoch 12 | Train Loss: 0.2067 | val_accuracy: 71.13%\n"
          ]
        },
        {
          "metadata": {
            "tags": null
          },
          "name": "stderr",
          "output_type": "stream",
          "text": [
            "100%|██████████| 346/346 [00:15<00:00, 22.96it/s]\n"
          ]
        },
        {
          "metadata": {
            "tags": null
          },
          "name": "stdout",
          "output_type": "stream",
          "text": [
            "Epoch 13 | Train Loss: 0.1865 | val_accuracy: 71.15%\n"
          ]
        },
        {
          "metadata": {
            "tags": null
          },
          "name": "stderr",
          "output_type": "stream",
          "text": [
            "100%|██████████| 346/346 [00:15<00:00, 22.89it/s]\n"
          ]
        },
        {
          "metadata": {
            "tags": null
          },
          "name": "stdout",
          "output_type": "stream",
          "text": [
            "Epoch 14 | Train Loss: 0.1820 | val_accuracy: 71.84%\n"
          ]
        },
        {
          "metadata": {
            "tags": null
          },
          "name": "stderr",
          "output_type": "stream",
          "text": [
            "100%|██████████| 346/346 [00:15<00:00, 22.41it/s]\n"
          ]
        },
        {
          "metadata": {
            "tags": null
          },
          "name": "stdout",
          "output_type": "stream",
          "text": [
            "Epoch 15 | Train Loss: 0.1743 | val_accuracy: 71.87%\n"
          ]
        },
        {
          "data": {
            "text/html": [],
            "text/plain": [
              "<IPython.core.display.HTML object>"
            ]
          },
          "metadata": {},
          "output_type": "display_data"
        },
        {
          "data": {
            "text/html": [
              "<br>    <style><br>        .wandb-row {<br>            display: flex;<br>            flex-direction: row;<br>            flex-wrap: wrap;<br>            justify-content: flex-start;<br>            width: 100%;<br>        }<br>        .wandb-col {<br>            display: flex;<br>            flex-direction: column;<br>            flex-basis: 100%;<br>            flex: 1;<br>            padding: 10px;<br>        }<br>    </style><br><div class=\"wandb-row\"><div class=\"wandb-col\"><h3>Run history:</h3><br/><table class=\"wandb\"><tr><td>tr_loss</td><td>█▃▂▂▂▂▁▁▁▁▁▁▁▁▁</td></tr><tr><td>val_accuracy</td><td>▁▅▆▆▆▇▇▇▇██████</td></tr></table><br/></div><div class=\"wandb-col\"><h3>Run summary:</h3><br/><table class=\"wandb\"><tr><td>tr_loss</td><td>0.17428</td></tr><tr><td>val_accuracy</td><td>71.86994</td></tr></table><br/></div></div>"
            ],
            "text/plain": [
              "<IPython.core.display.HTML object>"
            ]
          },
          "metadata": {},
          "output_type": "display_data"
        },
        {
          "data": {
            "text/html": [
              " View run <strong style=\"color:#cdcd00\">cty_lstm_hsz_256_emsz_64_dr_0.2_lr_0.001</strong> at: <a href='https://wandb.ai/arunangshudutta218-iitm/dl_assgn_3_q_5a/runs/ybl5j9sm' target=\"_blank\">https://wandb.ai/arunangshudutta218-iitm/dl_assgn_3_q_5a/runs/ybl5j9sm</a><br> View project at: <a href='https://wandb.ai/arunangshudutta218-iitm/dl_assgn_3_q_5a' target=\"_blank\">https://wandb.ai/arunangshudutta218-iitm/dl_assgn_3_q_5a</a><br>Synced 5 W&B file(s), 0 media file(s), 0 artifact file(s) and 0 other file(s)"
            ],
            "text/plain": [
              "<IPython.core.display.HTML object>"
            ]
          },
          "metadata": {},
          "output_type": "display_data"
        },
        {
          "data": {
            "text/html": [
              "Find logs at: <code>./wandb/run-20250519_211208-ybl5j9sm/logs</code>"
            ],
            "text/plain": [
              "<IPython.core.display.HTML object>"
            ]
          },
          "metadata": {},
          "output_type": "display_data"
        },
        {
          "metadata": {
            "tags": null
          },
          "name": "stderr",
          "output_type": "stream",
          "text": [
            "\u001b[34m\u001b[1mwandb\u001b[0m: Sweep Agent: Waiting for job.\n",
            "\u001b[34m\u001b[1mwandb\u001b[0m: Job received.\n",
            "\u001b[34m\u001b[1mwandb\u001b[0m: Agent Starting Run: 3w9pbotr with config:\n",
            "\u001b[34m\u001b[1mwandb\u001b[0m: \tcell_type: lstm\n",
            "\u001b[34m\u001b[1mwandb\u001b[0m: \tdropout: 0.2\n",
            "\u001b[34m\u001b[1mwandb\u001b[0m: \tembedding_size: 128\n",
            "\u001b[34m\u001b[1mwandb\u001b[0m: \thidden_layer_size: 256\n",
            "\u001b[34m\u001b[1mwandb\u001b[0m: \tlearning_rate: 0.001\n"
          ]
        },
        {
          "data": {
            "text/html": [
              "Tracking run with wandb version 0.19.11"
            ],
            "text/plain": [
              "<IPython.core.display.HTML object>"
            ]
          },
          "metadata": {},
          "output_type": "display_data"
        },
        {
          "data": {
            "text/html": [
              "Run data is saved locally in <code>/content/wandb/run-20250519_211640-3w9pbotr</code>"
            ],
            "text/plain": [
              "<IPython.core.display.HTML object>"
            ]
          },
          "metadata": {},
          "output_type": "display_data"
        },
        {
          "data": {
            "text/html": [
              "Syncing run <strong><a href='https://wandb.ai/arunangshudutta218-iitm/dl_assgn_3_q_5a/runs/3w9pbotr' target=\"_blank\">fluent-sweep-5</a></strong> to <a href='https://wandb.ai/arunangshudutta218-iitm/dl_assgn_3_q_5a' target=\"_blank\">Weights & Biases</a> (<a href='https://wandb.me/developer-guide' target=\"_blank\">docs</a>)<br>Sweep page: <a href='https://wandb.ai/arunangshudutta218-iitm/dl_assgn_3_q_5a/sweeps/fwc4vyn0' target=\"_blank\">https://wandb.ai/arunangshudutta218-iitm/dl_assgn_3_q_5a/sweeps/fwc4vyn0</a>"
            ],
            "text/plain": [
              "<IPython.core.display.HTML object>"
            ]
          },
          "metadata": {},
          "output_type": "display_data"
        },
        {
          "data": {
            "text/html": [
              " View project at <a href='https://wandb.ai/arunangshudutta218-iitm/dl_assgn_3_q_5a' target=\"_blank\">https://wandb.ai/arunangshudutta218-iitm/dl_assgn_3_q_5a</a>"
            ],
            "text/plain": [
              "<IPython.core.display.HTML object>"
            ]
          },
          "metadata": {},
          "output_type": "display_data"
        },
        {
          "data": {
            "text/html": [
              " View sweep at <a href='https://wandb.ai/arunangshudutta218-iitm/dl_assgn_3_q_5a/sweeps/fwc4vyn0' target=\"_blank\">https://wandb.ai/arunangshudutta218-iitm/dl_assgn_3_q_5a/sweeps/fwc4vyn0</a>"
            ],
            "text/plain": [
              "<IPython.core.display.HTML object>"
            ]
          },
          "metadata": {},
          "output_type": "display_data"
        },
        {
          "data": {
            "text/html": [
              " View run at <a href='https://wandb.ai/arunangshudutta218-iitm/dl_assgn_3_q_5a/runs/3w9pbotr' target=\"_blank\">https://wandb.ai/arunangshudutta218-iitm/dl_assgn_3_q_5a/runs/3w9pbotr</a>"
            ],
            "text/plain": [
              "<IPython.core.display.HTML object>"
            ]
          },
          "metadata": {},
          "output_type": "display_data"
        },
        {
          "metadata": {
            "tags": null
          },
          "name": "stderr",
          "output_type": "stream",
          "text": [
            "100%|██████████| 346/346 [00:15<00:00, 22.48it/s]\n"
          ]
        },
        {
          "metadata": {
            "tags": null
          },
          "name": "stdout",
          "output_type": "stream",
          "text": [
            "Epoch 1 | Train Loss: 1.6298 | val_accuracy: 51.19%\n"
          ]
        },
        {
          "metadata": {
            "tags": null
          },
          "name": "stderr",
          "output_type": "stream",
          "text": [
            "100%|██████████| 346/346 [00:15<00:00, 22.61it/s]\n"
          ]
        },
        {
          "metadata": {
            "tags": null
          },
          "name": "stdout",
          "output_type": "stream",
          "text": [
            "Epoch 2 | Train Loss: 0.5987 | val_accuracy: 61.17%\n"
          ]
        },
        {
          "metadata": {
            "tags": null
          },
          "name": "stderr",
          "output_type": "stream",
          "text": [
            "100%|██████████| 346/346 [00:15<00:00, 22.41it/s]\n"
          ]
        },
        {
          "metadata": {
            "tags": null
          },
          "name": "stdout",
          "output_type": "stream",
          "text": [
            "Epoch 3 | Train Loss: 0.4281 | val_accuracy: 64.29%\n"
          ]
        },
        {
          "metadata": {
            "tags": null
          },
          "name": "stderr",
          "output_type": "stream",
          "text": [
            "100%|██████████| 346/346 [00:15<00:00, 22.06it/s]\n"
          ]
        },
        {
          "metadata": {
            "tags": null
          },
          "name": "stdout",
          "output_type": "stream",
          "text": [
            "Epoch 4 | Train Loss: 0.3523 | val_accuracy: 66.00%\n"
          ]
        },
        {
          "metadata": {
            "tags": null
          },
          "name": "stderr",
          "output_type": "stream",
          "text": [
            "100%|██████████| 346/346 [00:17<00:00, 20.15it/s]\n"
          ]
        },
        {
          "metadata": {
            "tags": null
          },
          "name": "stdout",
          "output_type": "stream",
          "text": [
            "Epoch 5 | Train Loss: 0.3095 | val_accuracy: 67.19%\n"
          ]
        },
        {
          "metadata": {
            "tags": null
          },
          "name": "stderr",
          "output_type": "stream",
          "text": [
            "100%|██████████| 346/346 [00:15<00:00, 22.75it/s]\n"
          ]
        },
        {
          "metadata": {
            "tags": null
          },
          "name": "stdout",
          "output_type": "stream",
          "text": [
            "Epoch 6 | Train Loss: 0.2815 | val_accuracy: 68.18%\n"
          ]
        },
        {
          "metadata": {
            "tags": null
          },
          "name": "stderr",
          "output_type": "stream",
          "text": [
            "100%|██████████| 346/346 [00:15<00:00, 23.01it/s]\n"
          ]
        },
        {
          "metadata": {
            "tags": null
          },
          "name": "stdout",
          "output_type": "stream",
          "text": [
            "Epoch 7 | Train Loss: 0.2424 | val_accuracy: 68.50%\n"
          ]
        },
        {
          "metadata": {
            "tags": null
          },
          "name": "stderr",
          "output_type": "stream",
          "text": [
            "100%|██████████| 346/346 [00:15<00:00, 21.99it/s]\n"
          ]
        },
        {
          "metadata": {
            "tags": null
          },
          "name": "stdout",
          "output_type": "stream",
          "text": [
            "Epoch 8 | Train Loss: 0.2268 | val_accuracy: 69.20%\n"
          ]
        },
        {
          "metadata": {
            "tags": null
          },
          "name": "stderr",
          "output_type": "stream",
          "text": [
            "100%|██████████| 346/346 [00:15<00:00, 22.75it/s]\n"
          ]
        },
        {
          "metadata": {
            "tags": null
          },
          "name": "stdout",
          "output_type": "stream",
          "text": [
            "Epoch 9 | Train Loss: 0.2050 | val_accuracy: 70.17%\n"
          ]
        },
        {
          "metadata": {
            "tags": null
          },
          "name": "stderr",
          "output_type": "stream",
          "text": [
            "100%|██████████| 346/346 [00:15<00:00, 22.81it/s]\n"
          ]
        },
        {
          "metadata": {
            "tags": null
          },
          "name": "stdout",
          "output_type": "stream",
          "text": [
            "Epoch 10 | Train Loss: 0.1899 | val_accuracy: 70.16%\n"
          ]
        },
        {
          "metadata": {
            "tags": null
          },
          "name": "stderr",
          "output_type": "stream",
          "text": [
            "100%|██████████| 346/346 [00:15<00:00, 22.73it/s]\n"
          ]
        },
        {
          "metadata": {
            "tags": null
          },
          "name": "stdout",
          "output_type": "stream",
          "text": [
            "Epoch 11 | Train Loss: 0.1767 | val_accuracy: 71.10%\n"
          ]
        },
        {
          "metadata": {
            "tags": null
          },
          "name": "stderr",
          "output_type": "stream",
          "text": [
            "100%|██████████| 346/346 [00:15<00:00, 21.72it/s]\n"
          ]
        },
        {
          "metadata": {
            "tags": null
          },
          "name": "stdout",
          "output_type": "stream",
          "text": [
            "Epoch 12 | Train Loss: 0.1619 | val_accuracy: 71.54%\n"
          ]
        },
        {
          "metadata": {
            "tags": null
          },
          "name": "stderr",
          "output_type": "stream",
          "text": [
            "100%|██████████| 346/346 [00:15<00:00, 22.44it/s]\n"
          ]
        },
        {
          "metadata": {
            "tags": null
          },
          "name": "stdout",
          "output_type": "stream",
          "text": [
            "Epoch 13 | Train Loss: 0.1669 | val_accuracy: 71.28%\n"
          ]
        },
        {
          "output_type": "stream",
          "name": "stderr",
          "text": [
            "100%|██████████| 346/346 [00:15<00:00, 22.78it/s]\n"
          ]
        },
        {
          "output_type": "stream",
          "name": "stdout",
          "text": [
            "Epoch 14 | Train Loss: 0.1877 | val_accuracy: 71.10%\n"
          ]
        },
        {
          "output_type": "stream",
          "name": "stderr",
          "text": [
            "100%|██████████| 346/346 [00:15<00:00, 22.87it/s]\n"
          ]
        },
        {
          "output_type": "stream",
          "name": "stdout",
          "text": [
            "Epoch 15 | Train Loss: 0.1743 | val_accuracy: 70.81%\n"
          ]
        },
        {
          "output_type": "display_data",
          "data": {
            "text/plain": [
              "<IPython.core.display.HTML object>"
            ],
            "text/html": []
          },
          "metadata": {}
        },
        {
          "output_type": "display_data",
          "data": {
            "text/plain": [
              "<IPython.core.display.HTML object>"
            ],
            "text/html": [
              "<br>    <style><br>        .wandb-row {<br>            display: flex;<br>            flex-direction: row;<br>            flex-wrap: wrap;<br>            justify-content: flex-start;<br>            width: 100%;<br>        }<br>        .wandb-col {<br>            display: flex;<br>            flex-direction: column;<br>            flex-basis: 100%;<br>            flex: 1;<br>            padding: 10px;<br>        }<br>    </style><br><div class=\"wandb-row\"><div class=\"wandb-col\"><h3>Run history:</h3><br/><table class=\"wandb\"><tr><td>tr_loss</td><td>█▃▂▂▂▂▁▁▁▁▁▁▁▁▁</td></tr><tr><td>val_accuracy</td><td>▁▄▆▆▇▇▇▇███████</td></tr></table><br/></div><div class=\"wandb-col\"><h3>Run summary:</h3><br/><table class=\"wandb\"><tr><td>tr_loss</td><td>0.17429</td></tr><tr><td>val_accuracy</td><td>70.81439</td></tr></table><br/></div></div>"
            ]
          },
          "metadata": {}
        },
        {
          "output_type": "display_data",
          "data": {
            "text/plain": [
              "<IPython.core.display.HTML object>"
            ],
            "text/html": [
              " View run <strong style=\"color:#cdcd00\">cty_lstm_hsz_256_emsz_128_dr_0.2_lr_0.001</strong> at: <a href='https://wandb.ai/arunangshudutta218-iitm/dl_assgn_3_q_5a/runs/3w9pbotr' target=\"_blank\">https://wandb.ai/arunangshudutta218-iitm/dl_assgn_3_q_5a/runs/3w9pbotr</a><br> View project at: <a href='https://wandb.ai/arunangshudutta218-iitm/dl_assgn_3_q_5a' target=\"_blank\">https://wandb.ai/arunangshudutta218-iitm/dl_assgn_3_q_5a</a><br>Synced 5 W&B file(s), 0 media file(s), 0 artifact file(s) and 0 other file(s)"
            ]
          },
          "metadata": {}
        },
        {
          "output_type": "display_data",
          "data": {
            "text/plain": [
              "<IPython.core.display.HTML object>"
            ],
            "text/html": [
              "Find logs at: <code>./wandb/run-20250519_211640-3w9pbotr/logs</code>"
            ]
          },
          "metadata": {}
        },
        {
          "output_type": "stream",
          "name": "stderr",
          "text": [
            "\u001b[34m\u001b[1mwandb\u001b[0m: Agent Starting Run: ew5ps6g1 with config:\n",
            "\u001b[34m\u001b[1mwandb\u001b[0m: \tcell_type: lstm\n",
            "\u001b[34m\u001b[1mwandb\u001b[0m: \tdropout: 0.2\n",
            "\u001b[34m\u001b[1mwandb\u001b[0m: \tembedding_size: 128\n",
            "\u001b[34m\u001b[1mwandb\u001b[0m: \thidden_layer_size: 256\n",
            "\u001b[34m\u001b[1mwandb\u001b[0m: \tlearning_rate: 0.001\n"
          ]
        },
        {
          "output_type": "display_data",
          "data": {
            "text/plain": [
              "<IPython.core.display.HTML object>"
            ],
            "text/html": [
              "Tracking run with wandb version 0.19.11"
            ]
          },
          "metadata": {}
        },
        {
          "output_type": "display_data",
          "data": {
            "text/plain": [
              "<IPython.core.display.HTML object>"
            ],
            "text/html": [
              "Run data is saved locally in <code>/content/wandb/run-20250519_212113-ew5ps6g1</code>"
            ]
          },
          "metadata": {}
        },
        {
          "output_type": "display_data",
          "data": {
            "text/plain": [
              "<IPython.core.display.HTML object>"
            ],
            "text/html": [
              "Syncing run <strong><a href='https://wandb.ai/arunangshudutta218-iitm/dl_assgn_3_q_5a/runs/ew5ps6g1' target=\"_blank\">iconic-sweep-6</a></strong> to <a href='https://wandb.ai/arunangshudutta218-iitm/dl_assgn_3_q_5a' target=\"_blank\">Weights & Biases</a> (<a href='https://wandb.me/developer-guide' target=\"_blank\">docs</a>)<br>Sweep page: <a href='https://wandb.ai/arunangshudutta218-iitm/dl_assgn_3_q_5a/sweeps/fwc4vyn0' target=\"_blank\">https://wandb.ai/arunangshudutta218-iitm/dl_assgn_3_q_5a/sweeps/fwc4vyn0</a>"
            ]
          },
          "metadata": {}
        },
        {
          "output_type": "display_data",
          "data": {
            "text/plain": [
              "<IPython.core.display.HTML object>"
            ],
            "text/html": [
              " View project at <a href='https://wandb.ai/arunangshudutta218-iitm/dl_assgn_3_q_5a' target=\"_blank\">https://wandb.ai/arunangshudutta218-iitm/dl_assgn_3_q_5a</a>"
            ]
          },
          "metadata": {}
        },
        {
          "output_type": "display_data",
          "data": {
            "text/plain": [
              "<IPython.core.display.HTML object>"
            ],
            "text/html": [
              " View sweep at <a href='https://wandb.ai/arunangshudutta218-iitm/dl_assgn_3_q_5a/sweeps/fwc4vyn0' target=\"_blank\">https://wandb.ai/arunangshudutta218-iitm/dl_assgn_3_q_5a/sweeps/fwc4vyn0</a>"
            ]
          },
          "metadata": {}
        },
        {
          "output_type": "display_data",
          "data": {
            "text/plain": [
              "<IPython.core.display.HTML object>"
            ],
            "text/html": [
              " View run at <a href='https://wandb.ai/arunangshudutta218-iitm/dl_assgn_3_q_5a/runs/ew5ps6g1' target=\"_blank\">https://wandb.ai/arunangshudutta218-iitm/dl_assgn_3_q_5a/runs/ew5ps6g1</a>"
            ]
          },
          "metadata": {}
        },
        {
          "output_type": "stream",
          "name": "stderr",
          "text": [
            "100%|██████████| 346/346 [00:15<00:00, 22.72it/s]\n"
          ]
        },
        {
          "output_type": "stream",
          "name": "stdout",
          "text": [
            "Epoch 1 | Train Loss: 1.6474 | val_accuracy: 50.17%\n"
          ]
        },
        {
          "output_type": "stream",
          "name": "stderr",
          "text": [
            "100%|██████████| 346/346 [00:15<00:00, 22.63it/s]\n"
          ]
        },
        {
          "output_type": "stream",
          "name": "stdout",
          "text": [
            "Epoch 2 | Train Loss: 0.6032 | val_accuracy: 62.03%\n"
          ]
        },
        {
          "output_type": "stream",
          "name": "stderr",
          "text": [
            "100%|██████████| 346/346 [00:15<00:00, 22.04it/s]\n"
          ]
        },
        {
          "output_type": "stream",
          "name": "stdout",
          "text": [
            "Epoch 3 | Train Loss: 0.4353 | val_accuracy: 64.90%\n"
          ]
        },
        {
          "output_type": "stream",
          "name": "stderr",
          "text": [
            "100%|██████████| 346/346 [00:15<00:00, 21.88it/s]\n"
          ]
        },
        {
          "output_type": "stream",
          "name": "stdout",
          "text": [
            "Epoch 4 | Train Loss: 0.3383 | val_accuracy: 66.24%\n"
          ]
        },
        {
          "output_type": "stream",
          "name": "stderr",
          "text": [
            "100%|██████████| 346/346 [00:15<00:00, 21.99it/s]\n"
          ]
        },
        {
          "output_type": "stream",
          "name": "stdout",
          "text": [
            "Epoch 5 | Train Loss: 0.2956 | val_accuracy: 67.65%\n"
          ]
        },
        {
          "output_type": "stream",
          "name": "stderr",
          "text": [
            "100%|██████████| 346/346 [00:16<00:00, 21.48it/s]\n"
          ]
        },
        {
          "output_type": "stream",
          "name": "stdout",
          "text": [
            "Epoch 6 | Train Loss: 0.2680 | val_accuracy: 68.28%\n"
          ]
        },
        {
          "output_type": "stream",
          "name": "stderr",
          "text": [
            "100%|██████████| 346/346 [00:15<00:00, 22.68it/s]\n"
          ]
        },
        {
          "output_type": "stream",
          "name": "stdout",
          "text": [
            "Epoch 7 | Train Loss: 0.2382 | val_accuracy: 69.35%\n"
          ]
        },
        {
          "output_type": "stream",
          "name": "stderr",
          "text": [
            "100%|██████████| 346/346 [00:15<00:00, 22.83it/s]\n"
          ]
        },
        {
          "output_type": "stream",
          "name": "stdout",
          "text": [
            "Epoch 8 | Train Loss: 0.2167 | val_accuracy: 70.96%\n"
          ]
        },
        {
          "output_type": "stream",
          "name": "stderr",
          "text": [
            "100%|██████████| 346/346 [00:15<00:00, 22.46it/s]\n"
          ]
        },
        {
          "output_type": "stream",
          "name": "stdout",
          "text": [
            "Epoch 9 | Train Loss: 0.2013 | val_accuracy: 70.54%\n"
          ]
        },
        {
          "output_type": "stream",
          "name": "stderr",
          "text": [
            "100%|██████████| 346/346 [00:15<00:00, 22.41it/s]\n"
          ]
        },
        {
          "output_type": "stream",
          "name": "stdout",
          "text": [
            "Epoch 10 | Train Loss: 0.1988 | val_accuracy: 71.22%\n"
          ]
        },
        {
          "output_type": "stream",
          "name": "stderr",
          "text": [
            "100%|██████████| 346/346 [00:15<00:00, 22.61it/s]\n"
          ]
        },
        {
          "output_type": "stream",
          "name": "stdout",
          "text": [
            "Epoch 11 | Train Loss: 0.1776 | val_accuracy: 71.24%\n"
          ]
        },
        {
          "output_type": "stream",
          "name": "stderr",
          "text": [
            "100%|██████████| 346/346 [00:15<00:00, 22.64it/s]\n"
          ]
        },
        {
          "output_type": "stream",
          "name": "stdout",
          "text": [
            "Epoch 12 | Train Loss: 0.1768 | val_accuracy: 70.93%\n"
          ]
        },
        {
          "output_type": "stream",
          "name": "stderr",
          "text": [
            "100%|██████████| 346/346 [00:15<00:00, 21.78it/s]\n"
          ]
        },
        {
          "output_type": "stream",
          "name": "stdout",
          "text": [
            "Epoch 13 | Train Loss: 0.1574 | val_accuracy: 71.68%\n"
          ]
        },
        {
          "output_type": "stream",
          "name": "stderr",
          "text": [
            "100%|██████████| 346/346 [00:15<00:00, 22.67it/s]\n"
          ]
        },
        {
          "output_type": "stream",
          "name": "stdout",
          "text": [
            "Epoch 14 | Train Loss: 0.1725 | val_accuracy: 71.18%\n"
          ]
        },
        {
          "output_type": "stream",
          "name": "stderr",
          "text": [
            "100%|██████████| 346/346 [00:15<00:00, 22.45it/s]\n"
          ]
        },
        {
          "output_type": "stream",
          "name": "stdout",
          "text": [
            "Epoch 15 | Train Loss: 0.1586 | val_accuracy: 70.77%\n"
          ]
        },
        {
          "output_type": "display_data",
          "data": {
            "text/plain": [
              "<IPython.core.display.HTML object>"
            ],
            "text/html": []
          },
          "metadata": {}
        },
        {
          "output_type": "display_data",
          "data": {
            "text/plain": [
              "<IPython.core.display.HTML object>"
            ],
            "text/html": [
              "<br>    <style><br>        .wandb-row {<br>            display: flex;<br>            flex-direction: row;<br>            flex-wrap: wrap;<br>            justify-content: flex-start;<br>            width: 100%;<br>        }<br>        .wandb-col {<br>            display: flex;<br>            flex-direction: column;<br>            flex-basis: 100%;<br>            flex: 1;<br>            padding: 10px;<br>        }<br>    </style><br><div class=\"wandb-row\"><div class=\"wandb-col\"><h3>Run history:</h3><br/><table class=\"wandb\"><tr><td>tr_loss</td><td>█▃▂▂▂▂▁▁▁▁▁▁▁▁▁</td></tr><tr><td>val_accuracy</td><td>▁▅▆▆▇▇▇████████</td></tr></table><br/></div><div class=\"wandb-col\"><h3>Run summary:</h3><br/><table class=\"wandb\"><tr><td>tr_loss</td><td>0.15863</td></tr><tr><td>val_accuracy</td><td>70.76816</td></tr></table><br/></div></div>"
            ]
          },
          "metadata": {}
        },
        {
          "output_type": "display_data",
          "data": {
            "text/plain": [
              "<IPython.core.display.HTML object>"
            ],
            "text/html": [
              " View run <strong style=\"color:#cdcd00\">cty_lstm_hsz_256_emsz_128_dr_0.2_lr_0.001</strong> at: <a href='https://wandb.ai/arunangshudutta218-iitm/dl_assgn_3_q_5a/runs/ew5ps6g1' target=\"_blank\">https://wandb.ai/arunangshudutta218-iitm/dl_assgn_3_q_5a/runs/ew5ps6g1</a><br> View project at: <a href='https://wandb.ai/arunangshudutta218-iitm/dl_assgn_3_q_5a' target=\"_blank\">https://wandb.ai/arunangshudutta218-iitm/dl_assgn_3_q_5a</a><br>Synced 5 W&B file(s), 0 media file(s), 0 artifact file(s) and 0 other file(s)"
            ]
          },
          "metadata": {}
        },
        {
          "output_type": "display_data",
          "data": {
            "text/plain": [
              "<IPython.core.display.HTML object>"
            ],
            "text/html": [
              "Find logs at: <code>./wandb/run-20250519_212113-ew5ps6g1/logs</code>"
            ]
          },
          "metadata": {}
        },
        {
          "output_type": "stream",
          "name": "stderr",
          "text": [
            "\u001b[34m\u001b[1mwandb\u001b[0m: Agent Starting Run: ivjdry4l with config:\n",
            "\u001b[34m\u001b[1mwandb\u001b[0m: \tcell_type: lstm\n",
            "\u001b[34m\u001b[1mwandb\u001b[0m: \tdropout: 0.2\n",
            "\u001b[34m\u001b[1mwandb\u001b[0m: \tembedding_size: 64\n",
            "\u001b[34m\u001b[1mwandb\u001b[0m: \thidden_layer_size: 256\n",
            "\u001b[34m\u001b[1mwandb\u001b[0m: \tlearning_rate: 0.001\n"
          ]
        },
        {
          "output_type": "display_data",
          "data": {
            "text/plain": [
              "<IPython.core.display.HTML object>"
            ],
            "text/html": [
              "Tracking run with wandb version 0.19.11"
            ]
          },
          "metadata": {}
        },
        {
          "output_type": "display_data",
          "data": {
            "text/plain": [
              "<IPython.core.display.HTML object>"
            ],
            "text/html": [
              "Run data is saved locally in <code>/content/wandb/run-20250519_212550-ivjdry4l</code>"
            ]
          },
          "metadata": {}
        },
        {
          "output_type": "display_data",
          "data": {
            "text/plain": [
              "<IPython.core.display.HTML object>"
            ],
            "text/html": [
              "Syncing run <strong><a href='https://wandb.ai/arunangshudutta218-iitm/dl_assgn_3_q_5a/runs/ivjdry4l' target=\"_blank\">atomic-sweep-7</a></strong> to <a href='https://wandb.ai/arunangshudutta218-iitm/dl_assgn_3_q_5a' target=\"_blank\">Weights & Biases</a> (<a href='https://wandb.me/developer-guide' target=\"_blank\">docs</a>)<br>Sweep page: <a href='https://wandb.ai/arunangshudutta218-iitm/dl_assgn_3_q_5a/sweeps/fwc4vyn0' target=\"_blank\">https://wandb.ai/arunangshudutta218-iitm/dl_assgn_3_q_5a/sweeps/fwc4vyn0</a>"
            ]
          },
          "metadata": {}
        },
        {
          "output_type": "display_data",
          "data": {
            "text/plain": [
              "<IPython.core.display.HTML object>"
            ],
            "text/html": [
              " View project at <a href='https://wandb.ai/arunangshudutta218-iitm/dl_assgn_3_q_5a' target=\"_blank\">https://wandb.ai/arunangshudutta218-iitm/dl_assgn_3_q_5a</a>"
            ]
          },
          "metadata": {}
        },
        {
          "output_type": "display_data",
          "data": {
            "text/plain": [
              "<IPython.core.display.HTML object>"
            ],
            "text/html": [
              " View sweep at <a href='https://wandb.ai/arunangshudutta218-iitm/dl_assgn_3_q_5a/sweeps/fwc4vyn0' target=\"_blank\">https://wandb.ai/arunangshudutta218-iitm/dl_assgn_3_q_5a/sweeps/fwc4vyn0</a>"
            ]
          },
          "metadata": {}
        },
        {
          "output_type": "display_data",
          "data": {
            "text/plain": [
              "<IPython.core.display.HTML object>"
            ],
            "text/html": [
              " View run at <a href='https://wandb.ai/arunangshudutta218-iitm/dl_assgn_3_q_5a/runs/ivjdry4l' target=\"_blank\">https://wandb.ai/arunangshudutta218-iitm/dl_assgn_3_q_5a/runs/ivjdry4l</a>"
            ]
          },
          "metadata": {}
        },
        {
          "output_type": "stream",
          "name": "stderr",
          "text": [
            "100%|██████████| 346/346 [00:15<00:00, 23.00it/s]\n"
          ]
        },
        {
          "output_type": "stream",
          "name": "stdout",
          "text": [
            "Epoch 1 | Train Loss: 1.8961 | val_accuracy: 34.34%\n"
          ]
        },
        {
          "output_type": "stream",
          "name": "stderr",
          "text": [
            "100%|██████████| 346/346 [00:15<00:00, 22.87it/s]\n"
          ]
        },
        {
          "output_type": "stream",
          "name": "stdout",
          "text": [
            "Epoch 2 | Train Loss: 0.7866 | val_accuracy: 57.60%\n"
          ]
        },
        {
          "output_type": "stream",
          "name": "stderr",
          "text": [
            "100%|██████████| 346/346 [00:15<00:00, 22.74it/s]\n"
          ]
        },
        {
          "output_type": "stream",
          "name": "stdout",
          "text": [
            "Epoch 3 | Train Loss: 0.5401 | val_accuracy: 62.59%\n"
          ]
        },
        {
          "output_type": "stream",
          "name": "stderr",
          "text": [
            "100%|██████████| 346/346 [00:17<00:00, 19.77it/s]\n"
          ]
        },
        {
          "output_type": "stream",
          "name": "stdout",
          "text": [
            "Epoch 4 | Train Loss: 0.4149 | val_accuracy: 65.32%\n"
          ]
        },
        {
          "output_type": "stream",
          "name": "stderr",
          "text": [
            "100%|██████████| 346/346 [00:15<00:00, 22.87it/s]\n"
          ]
        },
        {
          "output_type": "stream",
          "name": "stdout",
          "text": [
            "Epoch 5 | Train Loss: 0.3392 | val_accuracy: 65.18%\n"
          ]
        },
        {
          "output_type": "stream",
          "name": "stderr",
          "text": [
            "100%|██████████| 346/346 [00:15<00:00, 23.01it/s]\n"
          ]
        },
        {
          "output_type": "stream",
          "name": "stdout",
          "text": [
            "Epoch 6 | Train Loss: 0.2998 | val_accuracy: 67.88%\n"
          ]
        },
        {
          "output_type": "stream",
          "name": "stderr",
          "text": [
            "100%|██████████| 346/346 [00:15<00:00, 22.95it/s]\n"
          ]
        },
        {
          "output_type": "stream",
          "name": "stdout",
          "text": [
            "Epoch 7 | Train Loss: 0.2847 | val_accuracy: 67.58%\n"
          ]
        },
        {
          "output_type": "stream",
          "name": "stderr",
          "text": [
            "100%|██████████| 346/346 [00:15<00:00, 22.23it/s]\n"
          ]
        },
        {
          "output_type": "stream",
          "name": "stdout",
          "text": [
            "Epoch 8 | Train Loss: 0.2637 | val_accuracy: 68.90%\n"
          ]
        },
        {
          "output_type": "stream",
          "name": "stderr",
          "text": [
            "100%|██████████| 346/346 [00:15<00:00, 23.00it/s]\n"
          ]
        },
        {
          "output_type": "stream",
          "name": "stdout",
          "text": [
            "Epoch 9 | Train Loss: 0.2553 | val_accuracy: 69.20%\n"
          ]
        },
        {
          "output_type": "stream",
          "name": "stderr",
          "text": [
            "100%|██████████| 346/346 [00:15<00:00, 23.01it/s]\n"
          ]
        },
        {
          "output_type": "stream",
          "name": "stdout",
          "text": [
            "Epoch 10 | Train Loss: 0.2249 | val_accuracy: 69.49%\n"
          ]
        },
        {
          "output_type": "stream",
          "name": "stderr",
          "text": [
            "100%|██████████| 346/346 [00:15<00:00, 23.06it/s]\n"
          ]
        },
        {
          "output_type": "stream",
          "name": "stdout",
          "text": [
            "Epoch 11 | Train Loss: 0.2043 | val_accuracy: 70.16%\n"
          ]
        },
        {
          "output_type": "stream",
          "name": "stderr",
          "text": [
            "100%|██████████| 346/346 [00:15<00:00, 22.26it/s]\n"
          ]
        },
        {
          "output_type": "stream",
          "name": "stdout",
          "text": [
            "Epoch 12 | Train Loss: 0.1925 | val_accuracy: 70.45%\n"
          ]
        },
        {
          "output_type": "stream",
          "name": "stderr",
          "text": [
            "100%|██████████| 346/346 [00:15<00:00, 22.91it/s]\n"
          ]
        },
        {
          "output_type": "stream",
          "name": "stdout",
          "text": [
            "Epoch 13 | Train Loss: 0.1836 | val_accuracy: 70.26%\n"
          ]
        },
        {
          "output_type": "stream",
          "name": "stderr",
          "text": [
            "100%|██████████| 346/346 [00:14<00:00, 23.07it/s]\n"
          ]
        },
        {
          "output_type": "stream",
          "name": "stdout",
          "text": [
            "Epoch 14 | Train Loss: 0.1860 | val_accuracy: 69.91%\n"
          ]
        },
        {
          "output_type": "stream",
          "name": "stderr",
          "text": [
            "100%|██████████| 346/346 [00:15<00:00, 22.78it/s]\n"
          ]
        },
        {
          "output_type": "stream",
          "name": "stdout",
          "text": [
            "Epoch 15 | Train Loss: 0.1811 | val_accuracy: 70.88%\n"
          ]
        },
        {
          "output_type": "display_data",
          "data": {
            "text/plain": [
              "<IPython.core.display.HTML object>"
            ],
            "text/html": []
          },
          "metadata": {}
        },
        {
          "output_type": "display_data",
          "data": {
            "text/plain": [
              "<IPython.core.display.HTML object>"
            ],
            "text/html": [
              "<br>    <style><br>        .wandb-row {<br>            display: flex;<br>            flex-direction: row;<br>            flex-wrap: wrap;<br>            justify-content: flex-start;<br>            width: 100%;<br>        }<br>        .wandb-col {<br>            display: flex;<br>            flex-direction: column;<br>            flex-basis: 100%;<br>            flex: 1;<br>            padding: 10px;<br>        }<br>    </style><br><div class=\"wandb-row\"><div class=\"wandb-col\"><h3>Run history:</h3><br/><table class=\"wandb\"><tr><td>tr_loss</td><td>█▃▂▂▂▁▁▁▁▁▁▁▁▁▁</td></tr><tr><td>val_accuracy</td><td>▁▅▆▇▇▇▇████████</td></tr></table><br/></div><div class=\"wandb-col\"><h3>Run summary:</h3><br/><table class=\"wandb\"><tr><td>tr_loss</td><td>0.18112</td></tr><tr><td>val_accuracy</td><td>70.87603</td></tr></table><br/></div></div>"
            ]
          },
          "metadata": {}
        },
        {
          "output_type": "display_data",
          "data": {
            "text/plain": [
              "<IPython.core.display.HTML object>"
            ],
            "text/html": [
              " View run <strong style=\"color:#cdcd00\">cty_lstm_hsz_256_emsz_64_dr_0.2_lr_0.001</strong> at: <a href='https://wandb.ai/arunangshudutta218-iitm/dl_assgn_3_q_5a/runs/ivjdry4l' target=\"_blank\">https://wandb.ai/arunangshudutta218-iitm/dl_assgn_3_q_5a/runs/ivjdry4l</a><br> View project at: <a href='https://wandb.ai/arunangshudutta218-iitm/dl_assgn_3_q_5a' target=\"_blank\">https://wandb.ai/arunangshudutta218-iitm/dl_assgn_3_q_5a</a><br>Synced 5 W&B file(s), 0 media file(s), 0 artifact file(s) and 0 other file(s)"
            ]
          },
          "metadata": {}
        },
        {
          "output_type": "display_data",
          "data": {
            "text/plain": [
              "<IPython.core.display.HTML object>"
            ],
            "text/html": [
              "Find logs at: <code>./wandb/run-20250519_212550-ivjdry4l/logs</code>"
            ]
          },
          "metadata": {}
        },
        {
          "output_type": "stream",
          "name": "stderr",
          "text": [
            "\u001b[34m\u001b[1mwandb\u001b[0m: Agent Starting Run: bgukd9sj with config:\n",
            "\u001b[34m\u001b[1mwandb\u001b[0m: \tcell_type: lstm\n",
            "\u001b[34m\u001b[1mwandb\u001b[0m: \tdropout: 0.2\n",
            "\u001b[34m\u001b[1mwandb\u001b[0m: \tembedding_size: 128\n",
            "\u001b[34m\u001b[1mwandb\u001b[0m: \thidden_layer_size: 256\n",
            "\u001b[34m\u001b[1mwandb\u001b[0m: \tlearning_rate: 0.001\n"
          ]
        },
        {
          "output_type": "display_data",
          "data": {
            "text/plain": [
              "<IPython.core.display.HTML object>"
            ],
            "text/html": [
              "Tracking run with wandb version 0.19.11"
            ]
          },
          "metadata": {}
        },
        {
          "output_type": "display_data",
          "data": {
            "text/plain": [
              "<IPython.core.display.HTML object>"
            ],
            "text/html": [
              "Run data is saved locally in <code>/content/wandb/run-20250519_213022-bgukd9sj</code>"
            ]
          },
          "metadata": {}
        },
        {
          "output_type": "display_data",
          "data": {
            "text/plain": [
              "<IPython.core.display.HTML object>"
            ],
            "text/html": [
              "Syncing run <strong><a href='https://wandb.ai/arunangshudutta218-iitm/dl_assgn_3_q_5a/runs/bgukd9sj' target=\"_blank\">royal-sweep-8</a></strong> to <a href='https://wandb.ai/arunangshudutta218-iitm/dl_assgn_3_q_5a' target=\"_blank\">Weights & Biases</a> (<a href='https://wandb.me/developer-guide' target=\"_blank\">docs</a>)<br>Sweep page: <a href='https://wandb.ai/arunangshudutta218-iitm/dl_assgn_3_q_5a/sweeps/fwc4vyn0' target=\"_blank\">https://wandb.ai/arunangshudutta218-iitm/dl_assgn_3_q_5a/sweeps/fwc4vyn0</a>"
            ]
          },
          "metadata": {}
        },
        {
          "output_type": "display_data",
          "data": {
            "text/plain": [
              "<IPython.core.display.HTML object>"
            ],
            "text/html": [
              " View project at <a href='https://wandb.ai/arunangshudutta218-iitm/dl_assgn_3_q_5a' target=\"_blank\">https://wandb.ai/arunangshudutta218-iitm/dl_assgn_3_q_5a</a>"
            ]
          },
          "metadata": {}
        },
        {
          "output_type": "display_data",
          "data": {
            "text/plain": [
              "<IPython.core.display.HTML object>"
            ],
            "text/html": [
              " View sweep at <a href='https://wandb.ai/arunangshudutta218-iitm/dl_assgn_3_q_5a/sweeps/fwc4vyn0' target=\"_blank\">https://wandb.ai/arunangshudutta218-iitm/dl_assgn_3_q_5a/sweeps/fwc4vyn0</a>"
            ]
          },
          "metadata": {}
        },
        {
          "output_type": "display_data",
          "data": {
            "text/plain": [
              "<IPython.core.display.HTML object>"
            ],
            "text/html": [
              " View run at <a href='https://wandb.ai/arunangshudutta218-iitm/dl_assgn_3_q_5a/runs/bgukd9sj' target=\"_blank\">https://wandb.ai/arunangshudutta218-iitm/dl_assgn_3_q_5a/runs/bgukd9sj</a>"
            ]
          },
          "metadata": {}
        },
        {
          "output_type": "stream",
          "name": "stderr",
          "text": [
            "100%|██████████| 346/346 [00:15<00:00, 22.84it/s]\n"
          ]
        },
        {
          "output_type": "stream",
          "name": "stdout",
          "text": [
            "Epoch 1 | Train Loss: 1.5263 | val_accuracy: 55.47%\n"
          ]
        },
        {
          "output_type": "stream",
          "name": "stderr",
          "text": [
            "100%|██████████| 346/346 [00:15<00:00, 22.68it/s]\n"
          ]
        },
        {
          "output_type": "stream",
          "name": "stdout",
          "text": [
            "Epoch 2 | Train Loss: 0.5922 | val_accuracy: 60.01%\n"
          ]
        },
        {
          "output_type": "stream",
          "name": "stderr",
          "text": [
            "100%|██████████| 346/346 [00:17<00:00, 19.97it/s]\n"
          ]
        },
        {
          "output_type": "stream",
          "name": "stdout",
          "text": [
            "Epoch 3 | Train Loss: 0.4376 | val_accuracy: 63.86%\n"
          ]
        },
        {
          "output_type": "stream",
          "name": "stderr",
          "text": [
            "100%|██████████| 346/346 [00:15<00:00, 22.97it/s]\n"
          ]
        },
        {
          "output_type": "stream",
          "name": "stdout",
          "text": [
            "Epoch 4 | Train Loss: 0.3625 | val_accuracy: 65.32%\n"
          ]
        },
        {
          "output_type": "stream",
          "name": "stderr",
          "text": [
            "100%|██████████| 346/346 [00:15<00:00, 23.02it/s]\n"
          ]
        },
        {
          "output_type": "stream",
          "name": "stdout",
          "text": [
            "Epoch 5 | Train Loss: 0.3057 | val_accuracy: 67.61%\n"
          ]
        },
        {
          "output_type": "stream",
          "name": "stderr",
          "text": [
            "100%|██████████| 346/346 [00:15<00:00, 22.91it/s]\n"
          ]
        },
        {
          "output_type": "stream",
          "name": "stdout",
          "text": [
            "Epoch 6 | Train Loss: 0.2722 | val_accuracy: 67.74%\n"
          ]
        },
        {
          "output_type": "stream",
          "name": "stderr",
          "text": [
            "100%|██████████| 346/346 [00:15<00:00, 21.91it/s]\n"
          ]
        },
        {
          "output_type": "stream",
          "name": "stdout",
          "text": [
            "Epoch 7 | Train Loss: 0.2453 | val_accuracy: 68.41%\n"
          ]
        },
        {
          "output_type": "stream",
          "name": "stderr",
          "text": [
            "100%|██████████| 346/346 [00:15<00:00, 22.83it/s]\n"
          ]
        },
        {
          "output_type": "stream",
          "name": "stdout",
          "text": [
            "Epoch 8 | Train Loss: 0.2335 | val_accuracy: 69.50%\n"
          ]
        },
        {
          "output_type": "stream",
          "name": "stderr",
          "text": [
            "100%|██████████| 346/346 [00:15<00:00, 22.91it/s]\n"
          ]
        },
        {
          "output_type": "stream",
          "name": "stdout",
          "text": [
            "Epoch 9 | Train Loss: 0.2089 | val_accuracy: 68.29%\n"
          ]
        },
        {
          "output_type": "stream",
          "name": "stderr",
          "text": [
            "100%|██████████| 346/346 [00:15<00:00, 22.89it/s]\n"
          ]
        },
        {
          "output_type": "stream",
          "name": "stdout",
          "text": [
            "Epoch 10 | Train Loss: 0.2333 | val_accuracy: 70.05%\n"
          ]
        },
        {
          "output_type": "stream",
          "name": "stderr",
          "text": [
            "100%|██████████| 346/346 [00:15<00:00, 21.94it/s]\n"
          ]
        },
        {
          "output_type": "stream",
          "name": "stdout",
          "text": [
            "Epoch 11 | Train Loss: 0.1869 | val_accuracy: 69.93%\n"
          ]
        },
        {
          "output_type": "stream",
          "name": "stderr",
          "text": [
            "100%|██████████| 346/346 [00:15<00:00, 22.89it/s]\n"
          ]
        },
        {
          "output_type": "stream",
          "name": "stdout",
          "text": [
            "Epoch 12 | Train Loss: 0.1742 | val_accuracy: 71.06%\n"
          ]
        },
        {
          "output_type": "stream",
          "name": "stderr",
          "text": [
            "100%|██████████| 346/346 [00:15<00:00, 22.14it/s]\n"
          ]
        },
        {
          "output_type": "stream",
          "name": "stdout",
          "text": [
            "Epoch 13 | Train Loss: 0.1620 | val_accuracy: 71.18%\n"
          ]
        },
        {
          "output_type": "stream",
          "name": "stderr",
          "text": [
            "100%|██████████| 346/346 [00:15<00:00, 22.11it/s]\n"
          ]
        },
        {
          "output_type": "stream",
          "name": "stdout",
          "text": [
            "Epoch 14 | Train Loss: 0.1583 | val_accuracy: 71.60%\n"
          ]
        },
        {
          "output_type": "stream",
          "name": "stderr",
          "text": [
            "100%|██████████| 346/346 [00:15<00:00, 22.32it/s]\n"
          ]
        },
        {
          "output_type": "stream",
          "name": "stdout",
          "text": [
            "Epoch 15 | Train Loss: 0.1516 | val_accuracy: 71.61%\n"
          ]
        },
        {
          "output_type": "display_data",
          "data": {
            "text/plain": [
              "<IPython.core.display.HTML object>"
            ],
            "text/html": []
          },
          "metadata": {}
        },
        {
          "output_type": "display_data",
          "data": {
            "text/plain": [
              "<IPython.core.display.HTML object>"
            ],
            "text/html": [
              "<br>    <style><br>        .wandb-row {<br>            display: flex;<br>            flex-direction: row;<br>            flex-wrap: wrap;<br>            justify-content: flex-start;<br>            width: 100%;<br>        }<br>        .wandb-col {<br>            display: flex;<br>            flex-direction: column;<br>            flex-basis: 100%;<br>            flex: 1;<br>            padding: 10px;<br>        }<br>    </style><br><div class=\"wandb-row\"><div class=\"wandb-col\"><h3>Run history:</h3><br/><table class=\"wandb\"><tr><td>tr_loss</td><td>█▃▂▂▂▂▁▁▁▁▁▁▁▁▁</td></tr><tr><td>val_accuracy</td><td>▁▃▅▅▆▆▇▇▇▇▇████</td></tr></table><br/></div><div class=\"wandb-col\"><h3>Run summary:</h3><br/><table class=\"wandb\"><tr><td>tr_loss</td><td>0.15164</td></tr><tr><td>val_accuracy</td><td>71.60798</td></tr></table><br/></div></div>"
            ]
          },
          "metadata": {}
        },
        {
          "output_type": "display_data",
          "data": {
            "text/plain": [
              "<IPython.core.display.HTML object>"
            ],
            "text/html": [
              " View run <strong style=\"color:#cdcd00\">cty_lstm_hsz_256_emsz_128_dr_0.2_lr_0.001</strong> at: <a href='https://wandb.ai/arunangshudutta218-iitm/dl_assgn_3_q_5a/runs/bgukd9sj' target=\"_blank\">https://wandb.ai/arunangshudutta218-iitm/dl_assgn_3_q_5a/runs/bgukd9sj</a><br> View project at: <a href='https://wandb.ai/arunangshudutta218-iitm/dl_assgn_3_q_5a' target=\"_blank\">https://wandb.ai/arunangshudutta218-iitm/dl_assgn_3_q_5a</a><br>Synced 5 W&B file(s), 0 media file(s), 0 artifact file(s) and 0 other file(s)"
            ]
          },
          "metadata": {}
        },
        {
          "output_type": "display_data",
          "data": {
            "text/plain": [
              "<IPython.core.display.HTML object>"
            ],
            "text/html": [
              "Find logs at: <code>./wandb/run-20250519_213022-bgukd9sj/logs</code>"
            ]
          },
          "metadata": {}
        },
        {
          "output_type": "stream",
          "name": "stderr",
          "text": [
            "\u001b[34m\u001b[1mwandb\u001b[0m: Sweep Agent: Waiting for job.\n",
            "\u001b[34m\u001b[1mwandb\u001b[0m: Job received.\n",
            "\u001b[34m\u001b[1mwandb\u001b[0m: Agent Starting Run: d95phlm9 with config:\n",
            "\u001b[34m\u001b[1mwandb\u001b[0m: \tcell_type: lstm\n",
            "\u001b[34m\u001b[1mwandb\u001b[0m: \tdropout: 0.2\n",
            "\u001b[34m\u001b[1mwandb\u001b[0m: \tembedding_size: 128\n",
            "\u001b[34m\u001b[1mwandb\u001b[0m: \thidden_layer_size: 256\n",
            "\u001b[34m\u001b[1mwandb\u001b[0m: \tlearning_rate: 0.001\n"
          ]
        },
        {
          "output_type": "display_data",
          "data": {
            "text/plain": [
              "<IPython.core.display.HTML object>"
            ],
            "text/html": [
              "Tracking run with wandb version 0.19.11"
            ]
          },
          "metadata": {}
        },
        {
          "output_type": "display_data",
          "data": {
            "text/plain": [
              "<IPython.core.display.HTML object>"
            ],
            "text/html": [
              "Run data is saved locally in <code>/content/wandb/run-20250519_213503-d95phlm9</code>"
            ]
          },
          "metadata": {}
        },
        {
          "output_type": "display_data",
          "data": {
            "text/plain": [
              "<IPython.core.display.HTML object>"
            ],
            "text/html": [
              "Syncing run <strong><a href='https://wandb.ai/arunangshudutta218-iitm/dl_assgn_3_q_5a/runs/d95phlm9' target=\"_blank\">worldly-sweep-9</a></strong> to <a href='https://wandb.ai/arunangshudutta218-iitm/dl_assgn_3_q_5a' target=\"_blank\">Weights & Biases</a> (<a href='https://wandb.me/developer-guide' target=\"_blank\">docs</a>)<br>Sweep page: <a href='https://wandb.ai/arunangshudutta218-iitm/dl_assgn_3_q_5a/sweeps/fwc4vyn0' target=\"_blank\">https://wandb.ai/arunangshudutta218-iitm/dl_assgn_3_q_5a/sweeps/fwc4vyn0</a>"
            ]
          },
          "metadata": {}
        },
        {
          "output_type": "display_data",
          "data": {
            "text/plain": [
              "<IPython.core.display.HTML object>"
            ],
            "text/html": [
              " View project at <a href='https://wandb.ai/arunangshudutta218-iitm/dl_assgn_3_q_5a' target=\"_blank\">https://wandb.ai/arunangshudutta218-iitm/dl_assgn_3_q_5a</a>"
            ]
          },
          "metadata": {}
        },
        {
          "output_type": "display_data",
          "data": {
            "text/plain": [
              "<IPython.core.display.HTML object>"
            ],
            "text/html": [
              " View sweep at <a href='https://wandb.ai/arunangshudutta218-iitm/dl_assgn_3_q_5a/sweeps/fwc4vyn0' target=\"_blank\">https://wandb.ai/arunangshudutta218-iitm/dl_assgn_3_q_5a/sweeps/fwc4vyn0</a>"
            ]
          },
          "metadata": {}
        },
        {
          "output_type": "display_data",
          "data": {
            "text/plain": [
              "<IPython.core.display.HTML object>"
            ],
            "text/html": [
              " View run at <a href='https://wandb.ai/arunangshudutta218-iitm/dl_assgn_3_q_5a/runs/d95phlm9' target=\"_blank\">https://wandb.ai/arunangshudutta218-iitm/dl_assgn_3_q_5a/runs/d95phlm9</a>"
            ]
          },
          "metadata": {}
        },
        {
          "output_type": "stream",
          "name": "stderr",
          "text": [
            "100%|██████████| 346/346 [00:15<00:00, 22.93it/s]\n"
          ]
        },
        {
          "output_type": "stream",
          "name": "stdout",
          "text": [
            "Epoch 1 | Train Loss: 1.5833 | val_accuracy: 52.11%\n"
          ]
        },
        {
          "output_type": "stream",
          "name": "stderr",
          "text": [
            "100%|██████████| 346/346 [00:16<00:00, 20.58it/s]\n"
          ]
        },
        {
          "output_type": "stream",
          "name": "stdout",
          "text": [
            "Epoch 2 | Train Loss: 0.6038 | val_accuracy: 61.18%\n"
          ]
        },
        {
          "output_type": "stream",
          "name": "stderr",
          "text": [
            "100%|██████████| 346/346 [00:15<00:00, 22.56it/s]\n"
          ]
        },
        {
          "output_type": "stream",
          "name": "stdout",
          "text": [
            "Epoch 3 | Train Loss: 0.4427 | val_accuracy: 63.00%\n"
          ]
        },
        {
          "output_type": "stream",
          "name": "stderr",
          "text": [
            "100%|██████████| 346/346 [00:15<00:00, 22.16it/s]\n"
          ]
        },
        {
          "output_type": "stream",
          "name": "stdout",
          "text": [
            "Epoch 4 | Train Loss: 0.3498 | val_accuracy: 66.20%\n"
          ]
        },
        {
          "output_type": "stream",
          "name": "stderr",
          "text": [
            "100%|██████████| 346/346 [00:15<00:00, 22.54it/s]\n"
          ]
        },
        {
          "output_type": "stream",
          "name": "stdout",
          "text": [
            "Epoch 5 | Train Loss: 0.2989 | val_accuracy: 67.34%\n"
          ]
        },
        {
          "output_type": "stream",
          "name": "stderr",
          "text": [
            "100%|██████████| 346/346 [00:15<00:00, 22.74it/s]\n"
          ]
        },
        {
          "output_type": "stream",
          "name": "stdout",
          "text": [
            "Epoch 6 | Train Loss: 0.2730 | val_accuracy: 67.03%\n"
          ]
        },
        {
          "output_type": "stream",
          "name": "stderr",
          "text": [
            "100%|██████████| 346/346 [00:15<00:00, 22.17it/s]\n"
          ]
        },
        {
          "output_type": "stream",
          "name": "stdout",
          "text": [
            "Epoch 7 | Train Loss: 0.2501 | val_accuracy: 69.29%\n"
          ]
        },
        {
          "output_type": "stream",
          "name": "stderr",
          "text": [
            "100%|██████████| 346/346 [00:15<00:00, 22.64it/s]\n"
          ]
        },
        {
          "output_type": "stream",
          "name": "stdout",
          "text": [
            "Epoch 8 | Train Loss: 0.2220 | val_accuracy: 69.56%\n"
          ]
        },
        {
          "output_type": "stream",
          "name": "stderr",
          "text": [
            "100%|██████████| 346/346 [00:15<00:00, 22.82it/s]\n"
          ]
        },
        {
          "output_type": "stream",
          "name": "stdout",
          "text": [
            "Epoch 9 | Train Loss: 0.2043 | val_accuracy: 70.43%\n"
          ]
        },
        {
          "output_type": "stream",
          "name": "stderr",
          "text": [
            "100%|██████████| 346/346 [00:15<00:00, 23.00it/s]\n"
          ]
        },
        {
          "output_type": "stream",
          "name": "stdout",
          "text": [
            "Epoch 10 | Train Loss: 0.1899 | val_accuracy: 70.76%\n"
          ]
        },
        {
          "output_type": "stream",
          "name": "stderr",
          "text": [
            "100%|██████████| 346/346 [00:15<00:00, 22.23it/s]\n"
          ]
        },
        {
          "output_type": "stream",
          "name": "stdout",
          "text": [
            "Epoch 11 | Train Loss: 0.1903 | val_accuracy: 70.93%\n"
          ]
        },
        {
          "output_type": "stream",
          "name": "stderr",
          "text": [
            "100%|██████████| 346/346 [00:15<00:00, 22.81it/s]\n"
          ]
        },
        {
          "output_type": "stream",
          "name": "stdout",
          "text": [
            "Epoch 12 | Train Loss: 0.1961 | val_accuracy: 69.62%\n"
          ]
        },
        {
          "output_type": "stream",
          "name": "stderr",
          "text": [
            "100%|██████████| 346/346 [00:15<00:00, 22.82it/s]\n"
          ]
        },
        {
          "output_type": "stream",
          "name": "stdout",
          "text": [
            "Epoch 13 | Train Loss: 0.2118 | val_accuracy: 70.23%\n"
          ]
        },
        {
          "output_type": "stream",
          "name": "stderr",
          "text": [
            "100%|██████████| 346/346 [00:15<00:00, 22.74it/s]\n"
          ]
        },
        {
          "output_type": "stream",
          "name": "stdout",
          "text": [
            "Epoch 14 | Train Loss: 0.1861 | val_accuracy: 70.81%\n"
          ]
        },
        {
          "output_type": "stream",
          "name": "stderr",
          "text": [
            "100%|██████████| 346/346 [00:15<00:00, 22.08it/s]\n"
          ]
        },
        {
          "output_type": "stream",
          "name": "stdout",
          "text": [
            "Epoch 15 | Train Loss: 0.1600 | val_accuracy: 71.87%\n"
          ]
        },
        {
          "output_type": "display_data",
          "data": {
            "text/plain": [
              "<IPython.core.display.HTML object>"
            ],
            "text/html": []
          },
          "metadata": {}
        },
        {
          "output_type": "display_data",
          "data": {
            "text/plain": [
              "<IPython.core.display.HTML object>"
            ],
            "text/html": [
              "<br>    <style><br>        .wandb-row {<br>            display: flex;<br>            flex-direction: row;<br>            flex-wrap: wrap;<br>            justify-content: flex-start;<br>            width: 100%;<br>        }<br>        .wandb-col {<br>            display: flex;<br>            flex-direction: column;<br>            flex-basis: 100%;<br>            flex: 1;<br>            padding: 10px;<br>        }<br>    </style><br><div class=\"wandb-row\"><div class=\"wandb-col\"><h3>Run history:</h3><br/><table class=\"wandb\"><tr><td>tr_loss</td><td>█▃▂▂▂▂▁▁▁▁▁▁▁▁▁</td></tr><tr><td>val_accuracy</td><td>▁▄▅▆▆▆▇▇▇██▇▇██</td></tr></table><br/></div><div class=\"wandb-col\"><h3>Run summary:</h3><br/><table class=\"wandb\"><tr><td>tr_loss</td><td>0.15998</td></tr><tr><td>val_accuracy</td><td>71.86994</td></tr></table><br/></div></div>"
            ]
          },
          "metadata": {}
        },
        {
          "output_type": "display_data",
          "data": {
            "text/plain": [
              "<IPython.core.display.HTML object>"
            ],
            "text/html": [
              " View run <strong style=\"color:#cdcd00\">cty_lstm_hsz_256_emsz_128_dr_0.2_lr_0.001</strong> at: <a href='https://wandb.ai/arunangshudutta218-iitm/dl_assgn_3_q_5a/runs/d95phlm9' target=\"_blank\">https://wandb.ai/arunangshudutta218-iitm/dl_assgn_3_q_5a/runs/d95phlm9</a><br> View project at: <a href='https://wandb.ai/arunangshudutta218-iitm/dl_assgn_3_q_5a' target=\"_blank\">https://wandb.ai/arunangshudutta218-iitm/dl_assgn_3_q_5a</a><br>Synced 5 W&B file(s), 0 media file(s), 0 artifact file(s) and 0 other file(s)"
            ]
          },
          "metadata": {}
        },
        {
          "output_type": "display_data",
          "data": {
            "text/plain": [
              "<IPython.core.display.HTML object>"
            ],
            "text/html": [
              "Find logs at: <code>./wandb/run-20250519_213503-d95phlm9/logs</code>"
            ]
          },
          "metadata": {}
        },
        {
          "output_type": "stream",
          "name": "stderr",
          "text": [
            "\u001b[34m\u001b[1mwandb\u001b[0m: Agent Starting Run: 39bhtq43 with config:\n",
            "\u001b[34m\u001b[1mwandb\u001b[0m: \tcell_type: lstm\n",
            "\u001b[34m\u001b[1mwandb\u001b[0m: \tdropout: 0.2\n",
            "\u001b[34m\u001b[1mwandb\u001b[0m: \tembedding_size: 128\n",
            "\u001b[34m\u001b[1mwandb\u001b[0m: \thidden_layer_size: 256\n",
            "\u001b[34m\u001b[1mwandb\u001b[0m: \tlearning_rate: 0.001\n"
          ]
        },
        {
          "output_type": "display_data",
          "data": {
            "text/plain": [
              "<IPython.core.display.HTML object>"
            ],
            "text/html": [
              "Tracking run with wandb version 0.19.11"
            ]
          },
          "metadata": {}
        },
        {
          "output_type": "display_data",
          "data": {
            "text/plain": [
              "<IPython.core.display.HTML object>"
            ],
            "text/html": [
              "Run data is saved locally in <code>/content/wandb/run-20250519_213937-39bhtq43</code>"
            ]
          },
          "metadata": {}
        },
        {
          "output_type": "display_data",
          "data": {
            "text/plain": [
              "<IPython.core.display.HTML object>"
            ],
            "text/html": [
              "Syncing run <strong><a href='https://wandb.ai/arunangshudutta218-iitm/dl_assgn_3_q_5a/runs/39bhtq43' target=\"_blank\">radiant-sweep-10</a></strong> to <a href='https://wandb.ai/arunangshudutta218-iitm/dl_assgn_3_q_5a' target=\"_blank\">Weights & Biases</a> (<a href='https://wandb.me/developer-guide' target=\"_blank\">docs</a>)<br>Sweep page: <a href='https://wandb.ai/arunangshudutta218-iitm/dl_assgn_3_q_5a/sweeps/fwc4vyn0' target=\"_blank\">https://wandb.ai/arunangshudutta218-iitm/dl_assgn_3_q_5a/sweeps/fwc4vyn0</a>"
            ]
          },
          "metadata": {}
        },
        {
          "output_type": "display_data",
          "data": {
            "text/plain": [
              "<IPython.core.display.HTML object>"
            ],
            "text/html": [
              " View project at <a href='https://wandb.ai/arunangshudutta218-iitm/dl_assgn_3_q_5a' target=\"_blank\">https://wandb.ai/arunangshudutta218-iitm/dl_assgn_3_q_5a</a>"
            ]
          },
          "metadata": {}
        },
        {
          "output_type": "display_data",
          "data": {
            "text/plain": [
              "<IPython.core.display.HTML object>"
            ],
            "text/html": [
              " View sweep at <a href='https://wandb.ai/arunangshudutta218-iitm/dl_assgn_3_q_5a/sweeps/fwc4vyn0' target=\"_blank\">https://wandb.ai/arunangshudutta218-iitm/dl_assgn_3_q_5a/sweeps/fwc4vyn0</a>"
            ]
          },
          "metadata": {}
        },
        {
          "output_type": "display_data",
          "data": {
            "text/plain": [
              "<IPython.core.display.HTML object>"
            ],
            "text/html": [
              " View run at <a href='https://wandb.ai/arunangshudutta218-iitm/dl_assgn_3_q_5a/runs/39bhtq43' target=\"_blank\">https://wandb.ai/arunangshudutta218-iitm/dl_assgn_3_q_5a/runs/39bhtq43</a>"
            ]
          },
          "metadata": {}
        },
        {
          "output_type": "stream",
          "name": "stderr",
          "text": [
            "100%|██████████| 346/346 [00:16<00:00, 20.97it/s]\n"
          ]
        },
        {
          "output_type": "stream",
          "name": "stdout",
          "text": [
            "Epoch 1 | Train Loss: 1.5985 | val_accuracy: 53.58%\n"
          ]
        },
        {
          "output_type": "stream",
          "name": "stderr",
          "text": [
            "100%|██████████| 346/346 [00:15<00:00, 22.84it/s]\n"
          ]
        },
        {
          "output_type": "stream",
          "name": "stdout",
          "text": [
            "Epoch 2 | Train Loss: 0.5998 | val_accuracy: 57.47%\n"
          ]
        },
        {
          "output_type": "stream",
          "name": "stderr",
          "text": [
            "100%|██████████| 346/346 [00:15<00:00, 21.81it/s]\n"
          ]
        },
        {
          "output_type": "stream",
          "name": "stdout",
          "text": [
            "Epoch 3 | Train Loss: 0.4245 | val_accuracy: 64.69%\n"
          ]
        },
        {
          "output_type": "stream",
          "name": "stderr",
          "text": [
            "100%|██████████| 346/346 [00:15<00:00, 22.59it/s]\n"
          ]
        },
        {
          "output_type": "stream",
          "name": "stdout",
          "text": [
            "Epoch 4 | Train Loss: 0.3525 | val_accuracy: 65.45%\n"
          ]
        },
        {
          "output_type": "stream",
          "name": "stderr",
          "text": [
            "100%|██████████| 346/346 [00:15<00:00, 22.19it/s]\n"
          ]
        },
        {
          "output_type": "stream",
          "name": "stdout",
          "text": [
            "Epoch 5 | Train Loss: 0.3080 | val_accuracy: 66.32%\n"
          ]
        },
        {
          "output_type": "stream",
          "name": "stderr",
          "text": [
            "100%|██████████| 346/346 [00:15<00:00, 22.37it/s]\n"
          ]
        },
        {
          "output_type": "stream",
          "name": "stdout",
          "text": [
            "Epoch 6 | Train Loss: 0.2752 | val_accuracy: 67.41%\n"
          ]
        },
        {
          "output_type": "stream",
          "name": "stderr",
          "text": [
            "100%|██████████| 346/346 [00:16<00:00, 21.50it/s]\n"
          ]
        },
        {
          "output_type": "stream",
          "name": "stdout",
          "text": [
            "Epoch 7 | Train Loss: 0.2434 | val_accuracy: 68.82%\n"
          ]
        },
        {
          "output_type": "stream",
          "name": "stderr",
          "text": [
            "100%|██████████| 346/346 [00:15<00:00, 22.38it/s]\n"
          ]
        },
        {
          "output_type": "stream",
          "name": "stdout",
          "text": [
            "Epoch 8 | Train Loss: 0.2201 | val_accuracy: 69.73%\n"
          ]
        },
        {
          "output_type": "stream",
          "name": "stderr",
          "text": [
            "100%|██████████| 346/346 [00:15<00:00, 22.53it/s]\n"
          ]
        },
        {
          "output_type": "stream",
          "name": "stdout",
          "text": [
            "Epoch 9 | Train Loss: 0.2049 | val_accuracy: 70.52%\n"
          ]
        },
        {
          "output_type": "stream",
          "name": "stderr",
          "text": [
            "100%|██████████| 346/346 [00:15<00:00, 22.38it/s]\n"
          ]
        },
        {
          "output_type": "stream",
          "name": "stdout",
          "text": [
            "Epoch 10 | Train Loss: 0.1946 | val_accuracy: 70.84%\n"
          ]
        },
        {
          "output_type": "stream",
          "name": "stderr",
          "text": [
            "100%|██████████| 346/346 [00:15<00:00, 21.96it/s]\n"
          ]
        },
        {
          "output_type": "stream",
          "name": "stdout",
          "text": [
            "Epoch 11 | Train Loss: 0.1844 | val_accuracy: 71.15%\n"
          ]
        },
        {
          "output_type": "stream",
          "name": "stderr",
          "text": [
            "100%|██████████| 346/346 [00:15<00:00, 22.27it/s]\n"
          ]
        },
        {
          "output_type": "stream",
          "name": "stdout",
          "text": [
            "Epoch 12 | Train Loss: 0.1678 | val_accuracy: 71.52%\n"
          ]
        },
        {
          "output_type": "stream",
          "name": "stderr",
          "text": [
            "100%|██████████| 346/346 [00:15<00:00, 22.74it/s]\n"
          ]
        },
        {
          "output_type": "stream",
          "name": "stdout",
          "text": [
            "Epoch 13 | Train Loss: 0.1560 | val_accuracy: 71.57%\n"
          ]
        },
        {
          "output_type": "stream",
          "name": "stderr",
          "text": [
            "100%|██████████| 346/346 [00:15<00:00, 21.70it/s]\n"
          ]
        },
        {
          "output_type": "stream",
          "name": "stdout",
          "text": [
            "Epoch 14 | Train Loss: 0.1555 | val_accuracy: 69.33%\n"
          ]
        },
        {
          "output_type": "stream",
          "name": "stderr",
          "text": [
            "100%|██████████| 346/346 [00:15<00:00, 22.73it/s]\n"
          ]
        },
        {
          "output_type": "stream",
          "name": "stdout",
          "text": [
            "Epoch 15 | Train Loss: 0.1518 | val_accuracy: 72.10%\n"
          ]
        },
        {
          "output_type": "display_data",
          "data": {
            "text/plain": [
              "<IPython.core.display.HTML object>"
            ],
            "text/html": []
          },
          "metadata": {}
        },
        {
          "output_type": "display_data",
          "data": {
            "text/plain": [
              "<IPython.core.display.HTML object>"
            ],
            "text/html": [
              "<br>    <style><br>        .wandb-row {<br>            display: flex;<br>            flex-direction: row;<br>            flex-wrap: wrap;<br>            justify-content: flex-start;<br>            width: 100%;<br>        }<br>        .wandb-col {<br>            display: flex;<br>            flex-direction: column;<br>            flex-basis: 100%;<br>            flex: 1;<br>            padding: 10px;<br>        }<br>    </style><br><div class=\"wandb-row\"><div class=\"wandb-col\"><h3>Run history:</h3><br/><table class=\"wandb\"><tr><td>tr_loss</td><td>█▃▂▂▂▂▁▁▁▁▁▁▁▁▁</td></tr><tr><td>val_accuracy</td><td>▁▂▅▅▆▆▇▇▇████▇█</td></tr></table><br/></div><div class=\"wandb-col\"><h3>Run summary:</h3><br/><table class=\"wandb\"><tr><td>tr_loss</td><td>0.15184</td></tr><tr><td>val_accuracy</td><td>72.09723</td></tr></table><br/></div></div>"
            ]
          },
          "metadata": {}
        },
        {
          "output_type": "display_data",
          "data": {
            "text/plain": [
              "<IPython.core.display.HTML object>"
            ],
            "text/html": [
              " View run <strong style=\"color:#cdcd00\">cty_lstm_hsz_256_emsz_128_dr_0.2_lr_0.001</strong> at: <a href='https://wandb.ai/arunangshudutta218-iitm/dl_assgn_3_q_5a/runs/39bhtq43' target=\"_blank\">https://wandb.ai/arunangshudutta218-iitm/dl_assgn_3_q_5a/runs/39bhtq43</a><br> View project at: <a href='https://wandb.ai/arunangshudutta218-iitm/dl_assgn_3_q_5a' target=\"_blank\">https://wandb.ai/arunangshudutta218-iitm/dl_assgn_3_q_5a</a><br>Synced 5 W&B file(s), 0 media file(s), 0 artifact file(s) and 0 other file(s)"
            ]
          },
          "metadata": {}
        },
        {
          "output_type": "display_data",
          "data": {
            "text/plain": [
              "<IPython.core.display.HTML object>"
            ],
            "text/html": [
              "Find logs at: <code>./wandb/run-20250519_213937-39bhtq43/logs</code>"
            ]
          },
          "metadata": {}
        },
        {
          "output_type": "stream",
          "name": "stderr",
          "text": [
            "\u001b[34m\u001b[1mwandb\u001b[0m: Agent Starting Run: 1qzkbd1a with config:\n",
            "\u001b[34m\u001b[1mwandb\u001b[0m: \tcell_type: lstm\n",
            "\u001b[34m\u001b[1mwandb\u001b[0m: \tdropout: 0.2\n",
            "\u001b[34m\u001b[1mwandb\u001b[0m: \tembedding_size: 128\n",
            "\u001b[34m\u001b[1mwandb\u001b[0m: \thidden_layer_size: 256\n",
            "\u001b[34m\u001b[1mwandb\u001b[0m: \tlearning_rate: 0.001\n"
          ]
        },
        {
          "output_type": "display_data",
          "data": {
            "text/plain": [
              "<IPython.core.display.HTML object>"
            ],
            "text/html": [
              "Tracking run with wandb version 0.19.11"
            ]
          },
          "metadata": {}
        },
        {
          "output_type": "display_data",
          "data": {
            "text/plain": [
              "<IPython.core.display.HTML object>"
            ],
            "text/html": [
              "Run data is saved locally in <code>/content/wandb/run-20250519_214415-1qzkbd1a</code>"
            ]
          },
          "metadata": {}
        },
        {
          "output_type": "display_data",
          "data": {
            "text/plain": [
              "<IPython.core.display.HTML object>"
            ],
            "text/html": [
              "Syncing run <strong><a href='https://wandb.ai/arunangshudutta218-iitm/dl_assgn_3_q_5a/runs/1qzkbd1a' target=\"_blank\">woven-sweep-11</a></strong> to <a href='https://wandb.ai/arunangshudutta218-iitm/dl_assgn_3_q_5a' target=\"_blank\">Weights & Biases</a> (<a href='https://wandb.me/developer-guide' target=\"_blank\">docs</a>)<br>Sweep page: <a href='https://wandb.ai/arunangshudutta218-iitm/dl_assgn_3_q_5a/sweeps/fwc4vyn0' target=\"_blank\">https://wandb.ai/arunangshudutta218-iitm/dl_assgn_3_q_5a/sweeps/fwc4vyn0</a>"
            ]
          },
          "metadata": {}
        },
        {
          "output_type": "display_data",
          "data": {
            "text/plain": [
              "<IPython.core.display.HTML object>"
            ],
            "text/html": [
              " View project at <a href='https://wandb.ai/arunangshudutta218-iitm/dl_assgn_3_q_5a' target=\"_blank\">https://wandb.ai/arunangshudutta218-iitm/dl_assgn_3_q_5a</a>"
            ]
          },
          "metadata": {}
        },
        {
          "output_type": "display_data",
          "data": {
            "text/plain": [
              "<IPython.core.display.HTML object>"
            ],
            "text/html": [
              " View sweep at <a href='https://wandb.ai/arunangshudutta218-iitm/dl_assgn_3_q_5a/sweeps/fwc4vyn0' target=\"_blank\">https://wandb.ai/arunangshudutta218-iitm/dl_assgn_3_q_5a/sweeps/fwc4vyn0</a>"
            ]
          },
          "metadata": {}
        },
        {
          "output_type": "display_data",
          "data": {
            "text/plain": [
              "<IPython.core.display.HTML object>"
            ],
            "text/html": [
              " View run at <a href='https://wandb.ai/arunangshudutta218-iitm/dl_assgn_3_q_5a/runs/1qzkbd1a' target=\"_blank\">https://wandb.ai/arunangshudutta218-iitm/dl_assgn_3_q_5a/runs/1qzkbd1a</a>"
            ]
          },
          "metadata": {}
        },
        {
          "output_type": "stream",
          "name": "stderr",
          "text": [
            "100%|██████████| 346/346 [00:16<00:00, 21.46it/s]\n"
          ]
        },
        {
          "output_type": "stream",
          "name": "stdout",
          "text": [
            "Epoch 1 | Train Loss: 1.7069 | val_accuracy: 45.52%\n"
          ]
        },
        {
          "output_type": "stream",
          "name": "stderr",
          "text": [
            "100%|██████████| 346/346 [00:15<00:00, 22.26it/s]\n"
          ]
        },
        {
          "output_type": "stream",
          "name": "stdout",
          "text": [
            "Epoch 2 | Train Loss: 0.6471 | val_accuracy: 61.10%\n"
          ]
        },
        {
          "output_type": "stream",
          "name": "stderr",
          "text": [
            "100%|██████████| 346/346 [00:15<00:00, 22.33it/s]\n"
          ]
        },
        {
          "output_type": "stream",
          "name": "stdout",
          "text": [
            "Epoch 3 | Train Loss: 0.4384 | val_accuracy: 62.93%\n"
          ]
        },
        {
          "output_type": "stream",
          "name": "stderr",
          "text": [
            "100%|██████████| 346/346 [00:15<00:00, 22.89it/s]\n"
          ]
        },
        {
          "output_type": "stream",
          "name": "stdout",
          "text": [
            "Epoch 4 | Train Loss: 0.3574 | val_accuracy: 65.70%\n"
          ]
        },
        {
          "output_type": "stream",
          "name": "stderr",
          "text": [
            "100%|██████████| 346/346 [00:16<00:00, 21.37it/s]\n"
          ]
        },
        {
          "output_type": "stream",
          "name": "stdout",
          "text": [
            "Epoch 5 | Train Loss: 0.2951 | val_accuracy: 67.43%\n"
          ]
        },
        {
          "output_type": "stream",
          "name": "stderr",
          "text": [
            "100%|██████████| 346/346 [00:15<00:00, 22.67it/s]\n"
          ]
        },
        {
          "output_type": "stream",
          "name": "stdout",
          "text": [
            "Epoch 6 | Train Loss: 0.2660 | val_accuracy: 67.41%\n"
          ]
        },
        {
          "output_type": "stream",
          "name": "stderr",
          "text": [
            "100%|██████████| 346/346 [00:15<00:00, 22.47it/s]\n"
          ]
        },
        {
          "output_type": "stream",
          "name": "stdout",
          "text": [
            "Epoch 7 | Train Loss: 0.2503 | val_accuracy: 69.09%\n"
          ]
        },
        {
          "output_type": "stream",
          "name": "stderr",
          "text": [
            "100%|██████████| 346/346 [00:15<00:00, 22.28it/s]\n"
          ]
        },
        {
          "output_type": "stream",
          "name": "stdout",
          "text": [
            "Epoch 8 | Train Loss: 0.2263 | val_accuracy: 69.37%\n"
          ]
        },
        {
          "output_type": "stream",
          "name": "stderr",
          "text": [
            "100%|██████████| 346/346 [00:15<00:00, 22.54it/s]\n"
          ]
        },
        {
          "output_type": "stream",
          "name": "stdout",
          "text": [
            "Epoch 9 | Train Loss: 0.2048 | val_accuracy: 70.49%\n"
          ]
        },
        {
          "output_type": "stream",
          "name": "stderr",
          "text": [
            "100%|██████████| 346/346 [00:15<00:00, 22.83it/s]\n"
          ]
        },
        {
          "output_type": "stream",
          "name": "stdout",
          "text": [
            "Epoch 10 | Train Loss: 0.1921 | val_accuracy: 68.50%\n"
          ]
        },
        {
          "output_type": "stream",
          "name": "stderr",
          "text": [
            "100%|██████████| 346/346 [00:15<00:00, 22.74it/s]\n"
          ]
        },
        {
          "output_type": "stream",
          "name": "stdout",
          "text": [
            "Epoch 11 | Train Loss: 0.1893 | val_accuracy: 71.40%\n"
          ]
        },
        {
          "output_type": "stream",
          "name": "stderr",
          "text": [
            "100%|██████████| 346/346 [00:15<00:00, 21.98it/s]\n"
          ]
        },
        {
          "output_type": "stream",
          "name": "stdout",
          "text": [
            "Epoch 12 | Train Loss: 0.1661 | val_accuracy: 70.86%\n"
          ]
        },
        {
          "output_type": "stream",
          "name": "stderr",
          "text": [
            "100%|██████████| 346/346 [00:15<00:00, 22.61it/s]\n"
          ]
        },
        {
          "output_type": "stream",
          "name": "stdout",
          "text": [
            "Epoch 13 | Train Loss: 0.1532 | val_accuracy: 71.67%\n"
          ]
        },
        {
          "output_type": "stream",
          "name": "stderr",
          "text": [
            "100%|██████████| 346/346 [00:15<00:00, 22.17it/s]\n"
          ]
        },
        {
          "output_type": "stream",
          "name": "stdout",
          "text": [
            "Epoch 14 | Train Loss: 0.1454 | val_accuracy: 71.65%\n"
          ]
        },
        {
          "output_type": "stream",
          "name": "stderr",
          "text": [
            "100%|██████████| 346/346 [00:15<00:00, 22.52it/s]\n"
          ]
        },
        {
          "output_type": "stream",
          "name": "stdout",
          "text": [
            "Epoch 15 | Train Loss: 0.1826 | val_accuracy: 70.68%\n"
          ]
        },
        {
          "output_type": "display_data",
          "data": {
            "text/plain": [
              "<IPython.core.display.HTML object>"
            ],
            "text/html": []
          },
          "metadata": {}
        },
        {
          "output_type": "display_data",
          "data": {
            "text/plain": [
              "<IPython.core.display.HTML object>"
            ],
            "text/html": [
              "<br>    <style><br>        .wandb-row {<br>            display: flex;<br>            flex-direction: row;<br>            flex-wrap: wrap;<br>            justify-content: flex-start;<br>            width: 100%;<br>        }<br>        .wandb-col {<br>            display: flex;<br>            flex-direction: column;<br>            flex-basis: 100%;<br>            flex: 1;<br>            padding: 10px;<br>        }<br>    </style><br><div class=\"wandb-row\"><div class=\"wandb-col\"><h3>Run history:</h3><br/><table class=\"wandb\"><tr><td>tr_loss</td><td>█▃▂▂▂▂▁▁▁▁▁▁▁▁▁</td></tr><tr><td>val_accuracy</td><td>▁▅▆▆▇▇▇▇█▇█████</td></tr></table><br/></div><div class=\"wandb-col\"><h3>Run summary:</h3><br/><table class=\"wandb\"><tr><td>tr_loss</td><td>0.1826</td></tr><tr><td>val_accuracy</td><td>70.67956</td></tr></table><br/></div></div>"
            ]
          },
          "metadata": {}
        },
        {
          "output_type": "display_data",
          "data": {
            "text/plain": [
              "<IPython.core.display.HTML object>"
            ],
            "text/html": [
              " View run <strong style=\"color:#cdcd00\">cty_lstm_hsz_256_emsz_128_dr_0.2_lr_0.001</strong> at: <a href='https://wandb.ai/arunangshudutta218-iitm/dl_assgn_3_q_5a/runs/1qzkbd1a' target=\"_blank\">https://wandb.ai/arunangshudutta218-iitm/dl_assgn_3_q_5a/runs/1qzkbd1a</a><br> View project at: <a href='https://wandb.ai/arunangshudutta218-iitm/dl_assgn_3_q_5a' target=\"_blank\">https://wandb.ai/arunangshudutta218-iitm/dl_assgn_3_q_5a</a><br>Synced 5 W&B file(s), 0 media file(s), 0 artifact file(s) and 0 other file(s)"
            ]
          },
          "metadata": {}
        },
        {
          "output_type": "display_data",
          "data": {
            "text/plain": [
              "<IPython.core.display.HTML object>"
            ],
            "text/html": [
              "Find logs at: <code>./wandb/run-20250519_214415-1qzkbd1a/logs</code>"
            ]
          },
          "metadata": {}
        },
        {
          "output_type": "stream",
          "name": "stderr",
          "text": [
            "\u001b[34m\u001b[1mwandb\u001b[0m: Agent Starting Run: d1n6sjae with config:\n",
            "\u001b[34m\u001b[1mwandb\u001b[0m: \tcell_type: lstm\n",
            "\u001b[34m\u001b[1mwandb\u001b[0m: \tdropout: 0.2\n",
            "\u001b[34m\u001b[1mwandb\u001b[0m: \tembedding_size: 128\n",
            "\u001b[34m\u001b[1mwandb\u001b[0m: \thidden_layer_size: 256\n",
            "\u001b[34m\u001b[1mwandb\u001b[0m: \tlearning_rate: 0.001\n"
          ]
        },
        {
          "output_type": "display_data",
          "data": {
            "text/plain": [
              "<IPython.core.display.HTML object>"
            ],
            "text/html": [
              "Tracking run with wandb version 0.19.11"
            ]
          },
          "metadata": {}
        },
        {
          "output_type": "display_data",
          "data": {
            "text/plain": [
              "<IPython.core.display.HTML object>"
            ],
            "text/html": [
              "Run data is saved locally in <code>/content/wandb/run-20250519_214852-d1n6sjae</code>"
            ]
          },
          "metadata": {}
        },
        {
          "output_type": "display_data",
          "data": {
            "text/plain": [
              "<IPython.core.display.HTML object>"
            ],
            "text/html": [
              "Syncing run <strong><a href='https://wandb.ai/arunangshudutta218-iitm/dl_assgn_3_q_5a/runs/d1n6sjae' target=\"_blank\">rural-sweep-12</a></strong> to <a href='https://wandb.ai/arunangshudutta218-iitm/dl_assgn_3_q_5a' target=\"_blank\">Weights & Biases</a> (<a href='https://wandb.me/developer-guide' target=\"_blank\">docs</a>)<br>Sweep page: <a href='https://wandb.ai/arunangshudutta218-iitm/dl_assgn_3_q_5a/sweeps/fwc4vyn0' target=\"_blank\">https://wandb.ai/arunangshudutta218-iitm/dl_assgn_3_q_5a/sweeps/fwc4vyn0</a>"
            ]
          },
          "metadata": {}
        },
        {
          "output_type": "display_data",
          "data": {
            "text/plain": [
              "<IPython.core.display.HTML object>"
            ],
            "text/html": [
              " View project at <a href='https://wandb.ai/arunangshudutta218-iitm/dl_assgn_3_q_5a' target=\"_blank\">https://wandb.ai/arunangshudutta218-iitm/dl_assgn_3_q_5a</a>"
            ]
          },
          "metadata": {}
        },
        {
          "output_type": "display_data",
          "data": {
            "text/plain": [
              "<IPython.core.display.HTML object>"
            ],
            "text/html": [
              " View sweep at <a href='https://wandb.ai/arunangshudutta218-iitm/dl_assgn_3_q_5a/sweeps/fwc4vyn0' target=\"_blank\">https://wandb.ai/arunangshudutta218-iitm/dl_assgn_3_q_5a/sweeps/fwc4vyn0</a>"
            ]
          },
          "metadata": {}
        },
        {
          "output_type": "display_data",
          "data": {
            "text/plain": [
              "<IPython.core.display.HTML object>"
            ],
            "text/html": [
              " View run at <a href='https://wandb.ai/arunangshudutta218-iitm/dl_assgn_3_q_5a/runs/d1n6sjae' target=\"_blank\">https://wandb.ai/arunangshudutta218-iitm/dl_assgn_3_q_5a/runs/d1n6sjae</a>"
            ]
          },
          "metadata": {}
        },
        {
          "output_type": "stream",
          "name": "stderr",
          "text": [
            "100%|██████████| 346/346 [00:15<00:00, 22.40it/s]\n"
          ]
        },
        {
          "output_type": "stream",
          "name": "stdout",
          "text": [
            "Epoch 1 | Train Loss: 1.6320 | val_accuracy: 50.83%\n"
          ]
        },
        {
          "output_type": "stream",
          "name": "stderr",
          "text": [
            "100%|██████████| 346/346 [00:15<00:00, 22.47it/s]\n"
          ]
        },
        {
          "output_type": "stream",
          "name": "stdout",
          "text": [
            "Epoch 2 | Train Loss: 0.6140 | val_accuracy: 60.57%\n"
          ]
        },
        {
          "output_type": "stream",
          "name": "stderr",
          "text": [
            "100%|██████████| 346/346 [00:16<00:00, 21.48it/s]\n"
          ]
        },
        {
          "output_type": "stream",
          "name": "stdout",
          "text": [
            "Epoch 3 | Train Loss: 0.4302 | val_accuracy: 64.30%\n"
          ]
        },
        {
          "output_type": "stream",
          "name": "stderr",
          "text": [
            "100%|██████████| 346/346 [00:15<00:00, 22.65it/s]\n"
          ]
        },
        {
          "output_type": "stream",
          "name": "stdout",
          "text": [
            "Epoch 4 | Train Loss: 0.3506 | val_accuracy: 66.25%\n"
          ]
        },
        {
          "output_type": "stream",
          "name": "stderr",
          "text": [
            "100%|██████████| 346/346 [00:15<00:00, 22.42it/s]\n"
          ]
        },
        {
          "output_type": "stream",
          "name": "stdout",
          "text": [
            "Epoch 5 | Train Loss: 0.3016 | val_accuracy: 67.71%\n"
          ]
        },
        {
          "output_type": "stream",
          "name": "stderr",
          "text": [
            "100%|██████████| 346/346 [00:15<00:00, 22.44it/s]\n"
          ]
        },
        {
          "output_type": "stream",
          "name": "stdout",
          "text": [
            "Epoch 6 | Train Loss: 0.2679 | val_accuracy: 68.39%\n"
          ]
        },
        {
          "output_type": "stream",
          "name": "stderr",
          "text": [
            "100%|██████████| 346/346 [00:15<00:00, 21.68it/s]\n"
          ]
        },
        {
          "output_type": "stream",
          "name": "stdout",
          "text": [
            "Epoch 7 | Train Loss: 0.2479 | val_accuracy: 68.92%\n"
          ]
        },
        {
          "output_type": "stream",
          "name": "stderr",
          "text": [
            "100%|██████████| 346/346 [00:15<00:00, 22.38it/s]\n"
          ]
        },
        {
          "output_type": "stream",
          "name": "stdout",
          "text": [
            "Epoch 8 | Train Loss: 0.2231 | val_accuracy: 68.86%\n"
          ]
        },
        {
          "output_type": "stream",
          "name": "stderr",
          "text": [
            "100%|██████████| 346/346 [00:15<00:00, 22.32it/s]\n"
          ]
        },
        {
          "output_type": "stream",
          "name": "stdout",
          "text": [
            "Epoch 9 | Train Loss: 0.2195 | val_accuracy: 70.36%\n"
          ]
        },
        {
          "output_type": "stream",
          "name": "stderr",
          "text": [
            "100%|██████████| 346/346 [00:15<00:00, 21.72it/s]\n"
          ]
        },
        {
          "output_type": "stream",
          "name": "stdout",
          "text": [
            "Epoch 10 | Train Loss: 0.1914 | val_accuracy: 70.40%\n"
          ]
        },
        {
          "output_type": "stream",
          "name": "stderr",
          "text": [
            "100%|██████████| 346/346 [00:15<00:00, 22.26it/s]\n"
          ]
        },
        {
          "output_type": "stream",
          "name": "stdout",
          "text": [
            "Epoch 11 | Train Loss: 0.1772 | val_accuracy: 70.83%\n"
          ]
        },
        {
          "output_type": "stream",
          "name": "stderr",
          "text": [
            "100%|██████████| 346/346 [00:15<00:00, 22.24it/s]\n"
          ]
        },
        {
          "output_type": "stream",
          "name": "stdout",
          "text": [
            "Epoch 12 | Train Loss: 0.1659 | val_accuracy: 71.60%\n"
          ]
        },
        {
          "output_type": "stream",
          "name": "stderr",
          "text": [
            "100%|██████████| 346/346 [00:16<00:00, 20.64it/s]\n"
          ]
        },
        {
          "output_type": "stream",
          "name": "stdout",
          "text": [
            "Epoch 13 | Train Loss: 0.1700 | val_accuracy: 71.13%\n"
          ]
        },
        {
          "output_type": "stream",
          "name": "stderr",
          "text": [
            "100%|██████████| 346/346 [00:16<00:00, 21.28it/s]\n"
          ]
        },
        {
          "output_type": "stream",
          "name": "stdout",
          "text": [
            "Epoch 14 | Train Loss: 0.1705 | val_accuracy: 71.18%\n"
          ]
        },
        {
          "output_type": "stream",
          "name": "stderr",
          "text": [
            "100%|██████████| 346/346 [00:15<00:00, 22.18it/s]\n"
          ]
        },
        {
          "output_type": "stream",
          "name": "stdout",
          "text": [
            "Epoch 15 | Train Loss: 0.1704 | val_accuracy: 71.29%\n"
          ]
        },
        {
          "output_type": "display_data",
          "data": {
            "text/plain": [
              "<IPython.core.display.HTML object>"
            ],
            "text/html": []
          },
          "metadata": {}
        },
        {
          "output_type": "display_data",
          "data": {
            "text/plain": [
              "<IPython.core.display.HTML object>"
            ],
            "text/html": [
              "<br>    <style><br>        .wandb-row {<br>            display: flex;<br>            flex-direction: row;<br>            flex-wrap: wrap;<br>            justify-content: flex-start;<br>            width: 100%;<br>        }<br>        .wandb-col {<br>            display: flex;<br>            flex-direction: column;<br>            flex-basis: 100%;<br>            flex: 1;<br>            padding: 10px;<br>        }<br>    </style><br><div class=\"wandb-row\"><div class=\"wandb-col\"><h3>Run history:</h3><br/><table class=\"wandb\"><tr><td>tr_loss</td><td>█▃▂▂▂▁▁▁▁▁▁▁▁▁▁</td></tr><tr><td>val_accuracy</td><td>▁▄▆▆▇▇▇▇███████</td></tr></table><br/></div><div class=\"wandb-col\"><h3>Run summary:</h3><br/><table class=\"wandb\"><tr><td>tr_loss</td><td>0.17039</td></tr><tr><td>val_accuracy</td><td>71.29209</td></tr></table><br/></div></div>"
            ]
          },
          "metadata": {}
        },
        {
          "output_type": "display_data",
          "data": {
            "text/plain": [
              "<IPython.core.display.HTML object>"
            ],
            "text/html": [
              " View run <strong style=\"color:#cdcd00\">cty_lstm_hsz_256_emsz_128_dr_0.2_lr_0.001</strong> at: <a href='https://wandb.ai/arunangshudutta218-iitm/dl_assgn_3_q_5a/runs/d1n6sjae' target=\"_blank\">https://wandb.ai/arunangshudutta218-iitm/dl_assgn_3_q_5a/runs/d1n6sjae</a><br> View project at: <a href='https://wandb.ai/arunangshudutta218-iitm/dl_assgn_3_q_5a' target=\"_blank\">https://wandb.ai/arunangshudutta218-iitm/dl_assgn_3_q_5a</a><br>Synced 5 W&B file(s), 0 media file(s), 0 artifact file(s) and 0 other file(s)"
            ]
          },
          "metadata": {}
        },
        {
          "output_type": "display_data",
          "data": {
            "text/plain": [
              "<IPython.core.display.HTML object>"
            ],
            "text/html": [
              "Find logs at: <code>./wandb/run-20250519_214852-d1n6sjae/logs</code>"
            ]
          },
          "metadata": {}
        },
        {
          "output_type": "stream",
          "name": "stderr",
          "text": [
            "\u001b[34m\u001b[1mwandb\u001b[0m: Agent Starting Run: 7mtjcd9y with config:\n",
            "\u001b[34m\u001b[1mwandb\u001b[0m: \tcell_type: lstm\n",
            "\u001b[34m\u001b[1mwandb\u001b[0m: \tdropout: 0.2\n",
            "\u001b[34m\u001b[1mwandb\u001b[0m: \tembedding_size: 128\n",
            "\u001b[34m\u001b[1mwandb\u001b[0m: \thidden_layer_size: 256\n",
            "\u001b[34m\u001b[1mwandb\u001b[0m: \tlearning_rate: 0.001\n"
          ]
        },
        {
          "output_type": "display_data",
          "data": {
            "text/plain": [
              "<IPython.core.display.HTML object>"
            ],
            "text/html": [
              "Tracking run with wandb version 0.19.11"
            ]
          },
          "metadata": {}
        },
        {
          "output_type": "display_data",
          "data": {
            "text/plain": [
              "<IPython.core.display.HTML object>"
            ],
            "text/html": [
              "Run data is saved locally in <code>/content/wandb/run-20250519_215329-7mtjcd9y</code>"
            ]
          },
          "metadata": {}
        },
        {
          "output_type": "display_data",
          "data": {
            "text/plain": [
              "<IPython.core.display.HTML object>"
            ],
            "text/html": [
              "Syncing run <strong><a href='https://wandb.ai/arunangshudutta218-iitm/dl_assgn_3_q_5a/runs/7mtjcd9y' target=\"_blank\">ethereal-sweep-13</a></strong> to <a href='https://wandb.ai/arunangshudutta218-iitm/dl_assgn_3_q_5a' target=\"_blank\">Weights & Biases</a> (<a href='https://wandb.me/developer-guide' target=\"_blank\">docs</a>)<br>Sweep page: <a href='https://wandb.ai/arunangshudutta218-iitm/dl_assgn_3_q_5a/sweeps/fwc4vyn0' target=\"_blank\">https://wandb.ai/arunangshudutta218-iitm/dl_assgn_3_q_5a/sweeps/fwc4vyn0</a>"
            ]
          },
          "metadata": {}
        },
        {
          "output_type": "display_data",
          "data": {
            "text/plain": [
              "<IPython.core.display.HTML object>"
            ],
            "text/html": [
              " View project at <a href='https://wandb.ai/arunangshudutta218-iitm/dl_assgn_3_q_5a' target=\"_blank\">https://wandb.ai/arunangshudutta218-iitm/dl_assgn_3_q_5a</a>"
            ]
          },
          "metadata": {}
        },
        {
          "output_type": "display_data",
          "data": {
            "text/plain": [
              "<IPython.core.display.HTML object>"
            ],
            "text/html": [
              " View sweep at <a href='https://wandb.ai/arunangshudutta218-iitm/dl_assgn_3_q_5a/sweeps/fwc4vyn0' target=\"_blank\">https://wandb.ai/arunangshudutta218-iitm/dl_assgn_3_q_5a/sweeps/fwc4vyn0</a>"
            ]
          },
          "metadata": {}
        },
        {
          "output_type": "display_data",
          "data": {
            "text/plain": [
              "<IPython.core.display.HTML object>"
            ],
            "text/html": [
              " View run at <a href='https://wandb.ai/arunangshudutta218-iitm/dl_assgn_3_q_5a/runs/7mtjcd9y' target=\"_blank\">https://wandb.ai/arunangshudutta218-iitm/dl_assgn_3_q_5a/runs/7mtjcd9y</a>"
            ]
          },
          "metadata": {}
        },
        {
          "output_type": "stream",
          "name": "stderr",
          "text": [
            "100%|██████████| 346/346 [00:15<00:00, 21.93it/s]\n"
          ]
        },
        {
          "output_type": "stream",
          "name": "stdout",
          "text": [
            "Epoch 1 | Train Loss: 1.6356 | val_accuracy: 49.77%\n"
          ]
        },
        {
          "output_type": "stream",
          "name": "stderr",
          "text": [
            "100%|██████████| 346/346 [00:15<00:00, 22.05it/s]\n"
          ]
        },
        {
          "output_type": "stream",
          "name": "stdout",
          "text": [
            "Epoch 2 | Train Loss: 0.6232 | val_accuracy: 61.41%\n"
          ]
        },
        {
          "output_type": "stream",
          "name": "stderr",
          "text": [
            "100%|██████████| 346/346 [00:15<00:00, 22.54it/s]\n"
          ]
        },
        {
          "output_type": "stream",
          "name": "stdout",
          "text": [
            "Epoch 3 | Train Loss: 0.4197 | val_accuracy: 62.66%\n"
          ]
        },
        {
          "output_type": "stream",
          "name": "stderr",
          "text": [
            "100%|██████████| 346/346 [00:15<00:00, 22.44it/s]\n"
          ]
        },
        {
          "output_type": "stream",
          "name": "stdout",
          "text": [
            "Epoch 4 | Train Loss: 0.3503 | val_accuracy: 66.75%\n"
          ]
        },
        {
          "output_type": "stream",
          "name": "stderr",
          "text": [
            "100%|██████████| 346/346 [00:15<00:00, 21.96it/s]\n"
          ]
        },
        {
          "output_type": "stream",
          "name": "stdout",
          "text": [
            "Epoch 5 | Train Loss: 0.3021 | val_accuracy: 66.47%\n"
          ]
        },
        {
          "output_type": "stream",
          "name": "stderr",
          "text": [
            "100%|██████████| 346/346 [00:15<00:00, 22.41it/s]\n"
          ]
        },
        {
          "output_type": "stream",
          "name": "stdout",
          "text": [
            "Epoch 6 | Train Loss: 0.2598 | val_accuracy: 68.88%\n"
          ]
        },
        {
          "output_type": "stream",
          "name": "stderr",
          "text": [
            "100%|██████████| 346/346 [00:15<00:00, 22.46it/s]\n"
          ]
        },
        {
          "output_type": "stream",
          "name": "stdout",
          "text": [
            "Epoch 7 | Train Loss: 0.2382 | val_accuracy: 69.19%\n"
          ]
        },
        {
          "output_type": "stream",
          "name": "stderr",
          "text": [
            "100%|██████████| 346/346 [00:15<00:00, 22.40it/s]\n"
          ]
        },
        {
          "output_type": "stream",
          "name": "stdout",
          "text": [
            "Epoch 8 | Train Loss: 0.2140 | val_accuracy: 69.99%\n"
          ]
        },
        {
          "output_type": "stream",
          "name": "stderr",
          "text": [
            "100%|██████████| 346/346 [00:16<00:00, 21.32it/s]\n"
          ]
        },
        {
          "output_type": "stream",
          "name": "stdout",
          "text": [
            "Epoch 9 | Train Loss: 0.1994 | val_accuracy: 70.12%\n"
          ]
        },
        {
          "output_type": "stream",
          "name": "stderr",
          "text": [
            "100%|██████████| 346/346 [00:15<00:00, 22.43it/s]\n"
          ]
        },
        {
          "output_type": "stream",
          "name": "stdout",
          "text": [
            "Epoch 10 | Train Loss: 0.1869 | val_accuracy: 69.96%\n"
          ]
        },
        {
          "output_type": "stream",
          "name": "stderr",
          "text": [
            "100%|██████████| 346/346 [00:15<00:00, 21.94it/s]\n"
          ]
        },
        {
          "output_type": "stream",
          "name": "stdout",
          "text": [
            "Epoch 11 | Train Loss: 0.2096 | val_accuracy: 70.94%\n"
          ]
        },
        {
          "output_type": "stream",
          "name": "stderr",
          "text": [
            "100%|██████████| 346/346 [00:16<00:00, 21.47it/s]\n"
          ]
        },
        {
          "output_type": "stream",
          "name": "stdout",
          "text": [
            "Epoch 12 | Train Loss: 0.1942 | val_accuracy: 70.02%\n"
          ]
        },
        {
          "output_type": "stream",
          "name": "stderr",
          "text": [
            "100%|██████████| 346/346 [00:15<00:00, 22.40it/s]\n"
          ]
        },
        {
          "output_type": "stream",
          "name": "stdout",
          "text": [
            "Epoch 13 | Train Loss: 0.1977 | val_accuracy: 68.78%\n"
          ]
        },
        {
          "output_type": "stream",
          "name": "stderr",
          "text": [
            "100%|██████████| 346/346 [00:15<00:00, 22.34it/s]\n"
          ]
        },
        {
          "output_type": "stream",
          "name": "stdout",
          "text": [
            "Epoch 14 | Train Loss: 0.1692 | val_accuracy: 71.18%\n"
          ]
        },
        {
          "output_type": "stream",
          "name": "stderr",
          "text": [
            "100%|██████████| 346/346 [00:15<00:00, 22.71it/s]\n"
          ]
        },
        {
          "output_type": "stream",
          "name": "stdout",
          "text": [
            "Epoch 15 | Train Loss: 0.1464 | val_accuracy: 70.93%\n"
          ]
        },
        {
          "output_type": "display_data",
          "data": {
            "text/plain": [
              "<IPython.core.display.HTML object>"
            ],
            "text/html": []
          },
          "metadata": {}
        },
        {
          "output_type": "display_data",
          "data": {
            "text/plain": [
              "<IPython.core.display.HTML object>"
            ],
            "text/html": [
              "<br>    <style><br>        .wandb-row {<br>            display: flex;<br>            flex-direction: row;<br>            flex-wrap: wrap;<br>            justify-content: flex-start;<br>            width: 100%;<br>        }<br>        .wandb-col {<br>            display: flex;<br>            flex-direction: column;<br>            flex-basis: 100%;<br>            flex: 1;<br>            padding: 10px;<br>        }<br>    </style><br><div class=\"wandb-row\"><div class=\"wandb-col\"><h3>Run history:</h3><br/><table class=\"wandb\"><tr><td>tr_loss</td><td>█▃▂▂▂▂▁▁▁▁▁▁▁▁▁</td></tr><tr><td>val_accuracy</td><td>▁▅▅▇▆▇▇█████▇██</td></tr></table><br/></div><div class=\"wandb-col\"><h3>Run summary:</h3><br/><table class=\"wandb\"><tr><td>tr_loss</td><td>0.14644</td></tr><tr><td>val_accuracy</td><td>70.92996</td></tr></table><br/></div></div>"
            ]
          },
          "metadata": {}
        },
        {
          "output_type": "display_data",
          "data": {
            "text/plain": [
              "<IPython.core.display.HTML object>"
            ],
            "text/html": [
              " View run <strong style=\"color:#cdcd00\">cty_lstm_hsz_256_emsz_128_dr_0.2_lr_0.001</strong> at: <a href='https://wandb.ai/arunangshudutta218-iitm/dl_assgn_3_q_5a/runs/7mtjcd9y' target=\"_blank\">https://wandb.ai/arunangshudutta218-iitm/dl_assgn_3_q_5a/runs/7mtjcd9y</a><br> View project at: <a href='https://wandb.ai/arunangshudutta218-iitm/dl_assgn_3_q_5a' target=\"_blank\">https://wandb.ai/arunangshudutta218-iitm/dl_assgn_3_q_5a</a><br>Synced 5 W&B file(s), 0 media file(s), 0 artifact file(s) and 0 other file(s)"
            ]
          },
          "metadata": {}
        },
        {
          "output_type": "display_data",
          "data": {
            "text/plain": [
              "<IPython.core.display.HTML object>"
            ],
            "text/html": [
              "Find logs at: <code>./wandb/run-20250519_215329-7mtjcd9y/logs</code>"
            ]
          },
          "metadata": {}
        },
        {
          "output_type": "stream",
          "name": "stderr",
          "text": [
            "\u001b[34m\u001b[1mwandb\u001b[0m: Agent Starting Run: roukmgrs with config:\n",
            "\u001b[34m\u001b[1mwandb\u001b[0m: \tcell_type: lstm\n",
            "\u001b[34m\u001b[1mwandb\u001b[0m: \tdropout: 0.2\n",
            "\u001b[34m\u001b[1mwandb\u001b[0m: \tembedding_size: 128\n",
            "\u001b[34m\u001b[1mwandb\u001b[0m: \thidden_layer_size: 256\n",
            "\u001b[34m\u001b[1mwandb\u001b[0m: \tlearning_rate: 0.001\n"
          ]
        },
        {
          "output_type": "display_data",
          "data": {
            "text/plain": [
              "<IPython.core.display.HTML object>"
            ],
            "text/html": [
              "Tracking run with wandb version 0.19.11"
            ]
          },
          "metadata": {}
        },
        {
          "output_type": "display_data",
          "data": {
            "text/plain": [
              "<IPython.core.display.HTML object>"
            ],
            "text/html": [
              "Run data is saved locally in <code>/content/wandb/run-20250519_215808-roukmgrs</code>"
            ]
          },
          "metadata": {}
        },
        {
          "output_type": "display_data",
          "data": {
            "text/plain": [
              "<IPython.core.display.HTML object>"
            ],
            "text/html": [
              "Syncing run <strong><a href='https://wandb.ai/arunangshudutta218-iitm/dl_assgn_3_q_5a/runs/roukmgrs' target=\"_blank\">graceful-sweep-14</a></strong> to <a href='https://wandb.ai/arunangshudutta218-iitm/dl_assgn_3_q_5a' target=\"_blank\">Weights & Biases</a> (<a href='https://wandb.me/developer-guide' target=\"_blank\">docs</a>)<br>Sweep page: <a href='https://wandb.ai/arunangshudutta218-iitm/dl_assgn_3_q_5a/sweeps/fwc4vyn0' target=\"_blank\">https://wandb.ai/arunangshudutta218-iitm/dl_assgn_3_q_5a/sweeps/fwc4vyn0</a>"
            ]
          },
          "metadata": {}
        },
        {
          "output_type": "display_data",
          "data": {
            "text/plain": [
              "<IPython.core.display.HTML object>"
            ],
            "text/html": [
              " View project at <a href='https://wandb.ai/arunangshudutta218-iitm/dl_assgn_3_q_5a' target=\"_blank\">https://wandb.ai/arunangshudutta218-iitm/dl_assgn_3_q_5a</a>"
            ]
          },
          "metadata": {}
        },
        {
          "output_type": "display_data",
          "data": {
            "text/plain": [
              "<IPython.core.display.HTML object>"
            ],
            "text/html": [
              " View sweep at <a href='https://wandb.ai/arunangshudutta218-iitm/dl_assgn_3_q_5a/sweeps/fwc4vyn0' target=\"_blank\">https://wandb.ai/arunangshudutta218-iitm/dl_assgn_3_q_5a/sweeps/fwc4vyn0</a>"
            ]
          },
          "metadata": {}
        },
        {
          "output_type": "display_data",
          "data": {
            "text/plain": [
              "<IPython.core.display.HTML object>"
            ],
            "text/html": [
              " View run at <a href='https://wandb.ai/arunangshudutta218-iitm/dl_assgn_3_q_5a/runs/roukmgrs' target=\"_blank\">https://wandb.ai/arunangshudutta218-iitm/dl_assgn_3_q_5a/runs/roukmgrs</a>"
            ]
          },
          "metadata": {}
        },
        {
          "output_type": "stream",
          "name": "stderr",
          "text": [
            "100%|██████████| 346/346 [00:15<00:00, 22.73it/s]\n"
          ]
        },
        {
          "output_type": "stream",
          "name": "stdout",
          "text": [
            "Epoch 1 | Train Loss: 1.6026 | val_accuracy: 53.33%\n"
          ]
        },
        {
          "output_type": "stream",
          "name": "stderr",
          "text": [
            "100%|██████████| 346/346 [00:15<00:00, 22.56it/s]\n"
          ]
        },
        {
          "output_type": "stream",
          "name": "stdout",
          "text": [
            "Epoch 2 | Train Loss: 0.5949 | val_accuracy: 61.83%\n"
          ]
        },
        {
          "output_type": "stream",
          "name": "stderr",
          "text": [
            "100%|██████████| 346/346 [00:15<00:00, 22.07it/s]\n"
          ]
        },
        {
          "output_type": "stream",
          "name": "stdout",
          "text": [
            "Epoch 3 | Train Loss: 0.4149 | val_accuracy: 64.35%\n"
          ]
        },
        {
          "output_type": "stream",
          "name": "stderr",
          "text": [
            "100%|██████████| 346/346 [00:15<00:00, 22.71it/s]\n"
          ]
        },
        {
          "output_type": "stream",
          "name": "stdout",
          "text": [
            "Epoch 4 | Train Loss: 0.3494 | val_accuracy: 66.57%\n"
          ]
        },
        {
          "output_type": "stream",
          "name": "stderr",
          "text": [
            "100%|██████████| 346/346 [00:15<00:00, 22.62it/s]\n"
          ]
        },
        {
          "output_type": "stream",
          "name": "stdout",
          "text": [
            "Epoch 5 | Train Loss: 0.3074 | val_accuracy: 65.43%\n"
          ]
        },
        {
          "output_type": "stream",
          "name": "stderr",
          "text": [
            "100%|██████████| 346/346 [00:15<00:00, 22.69it/s]\n"
          ]
        },
        {
          "output_type": "stream",
          "name": "stdout",
          "text": [
            "Epoch 6 | Train Loss: 0.2655 | val_accuracy: 67.58%\n"
          ]
        },
        {
          "output_type": "stream",
          "name": "stderr",
          "text": [
            "100%|██████████| 346/346 [00:15<00:00, 22.16it/s]\n"
          ]
        },
        {
          "output_type": "stream",
          "name": "stdout",
          "text": [
            "Epoch 7 | Train Loss: 0.2364 | val_accuracy: 69.07%\n"
          ]
        },
        {
          "output_type": "stream",
          "name": "stderr",
          "text": [
            "100%|██████████| 346/346 [00:15<00:00, 22.73it/s]\n"
          ]
        },
        {
          "output_type": "stream",
          "name": "stdout",
          "text": [
            "Epoch 8 | Train Loss: 0.2115 | val_accuracy: 70.07%\n"
          ]
        },
        {
          "output_type": "stream",
          "name": "stderr",
          "text": [
            "100%|██████████| 346/346 [00:15<00:00, 22.62it/s]\n"
          ]
        },
        {
          "output_type": "stream",
          "name": "stdout",
          "text": [
            "Epoch 9 | Train Loss: 0.1932 | val_accuracy: 70.19%\n"
          ]
        },
        {
          "output_type": "stream",
          "name": "stderr",
          "text": [
            "100%|██████████| 346/346 [00:16<00:00, 20.52it/s]\n"
          ]
        },
        {
          "output_type": "stream",
          "name": "stdout",
          "text": [
            "Epoch 10 | Train Loss: 0.1994 | val_accuracy: 69.84%\n"
          ]
        },
        {
          "output_type": "stream",
          "name": "stderr",
          "text": [
            "100%|██████████| 346/346 [00:15<00:00, 22.17it/s]\n"
          ]
        },
        {
          "output_type": "stream",
          "name": "stdout",
          "text": [
            "Epoch 11 | Train Loss: 0.1795 | val_accuracy: 71.49%\n"
          ]
        },
        {
          "output_type": "stream",
          "name": "stderr",
          "text": [
            "100%|██████████| 346/346 [00:15<00:00, 22.46it/s]\n"
          ]
        },
        {
          "output_type": "stream",
          "name": "stdout",
          "text": [
            "Epoch 12 | Train Loss: 0.1703 | val_accuracy: 71.13%\n"
          ]
        },
        {
          "output_type": "stream",
          "name": "stderr",
          "text": [
            "100%|██████████| 346/346 [00:15<00:00, 22.32it/s]\n"
          ]
        },
        {
          "output_type": "stream",
          "name": "stdout",
          "text": [
            "Epoch 13 | Train Loss: 0.1619 | val_accuracy: 72.16%\n"
          ]
        },
        {
          "output_type": "stream",
          "name": "stderr",
          "text": [
            "100%|██████████| 346/346 [00:15<00:00, 22.50it/s]\n"
          ]
        },
        {
          "output_type": "stream",
          "name": "stdout",
          "text": [
            "Epoch 14 | Train Loss: 0.1477 | val_accuracy: 72.04%\n"
          ]
        },
        {
          "output_type": "stream",
          "name": "stderr",
          "text": [
            "100%|██████████| 346/346 [00:17<00:00, 20.16it/s]\n"
          ]
        },
        {
          "output_type": "stream",
          "name": "stdout",
          "text": [
            "Epoch 15 | Train Loss: 0.1379 | val_accuracy: 72.54%\n"
          ]
        },
        {
          "output_type": "display_data",
          "data": {
            "text/plain": [
              "<IPython.core.display.HTML object>"
            ],
            "text/html": []
          },
          "metadata": {}
        },
        {
          "output_type": "display_data",
          "data": {
            "text/plain": [
              "<IPython.core.display.HTML object>"
            ],
            "text/html": [
              "<br>    <style><br>        .wandb-row {<br>            display: flex;<br>            flex-direction: row;<br>            flex-wrap: wrap;<br>            justify-content: flex-start;<br>            width: 100%;<br>        }<br>        .wandb-col {<br>            display: flex;<br>            flex-direction: column;<br>            flex-basis: 100%;<br>            flex: 1;<br>            padding: 10px;<br>        }<br>    </style><br><div class=\"wandb-row\"><div class=\"wandb-col\"><h3>Run history:</h3><br/><table class=\"wandb\"><tr><td>tr_loss</td><td>█▃▂▂▂▂▁▁▁▁▁▁▁▁▁</td></tr><tr><td>val_accuracy</td><td>▁▄▅▆▅▆▇▇▇▇█▇███</td></tr></table><br/></div><div class=\"wandb-col\"><h3>Run summary:</h3><br/><table class=\"wandb\"><tr><td>tr_loss</td><td>0.1379</td></tr><tr><td>val_accuracy</td><td>72.54026</td></tr></table><br/></div></div>"
            ]
          },
          "metadata": {}
        },
        {
          "output_type": "display_data",
          "data": {
            "text/plain": [
              "<IPython.core.display.HTML object>"
            ],
            "text/html": [
              " View run <strong style=\"color:#cdcd00\">cty_lstm_hsz_256_emsz_128_dr_0.2_lr_0.001</strong> at: <a href='https://wandb.ai/arunangshudutta218-iitm/dl_assgn_3_q_5a/runs/roukmgrs' target=\"_blank\">https://wandb.ai/arunangshudutta218-iitm/dl_assgn_3_q_5a/runs/roukmgrs</a><br> View project at: <a href='https://wandb.ai/arunangshudutta218-iitm/dl_assgn_3_q_5a' target=\"_blank\">https://wandb.ai/arunangshudutta218-iitm/dl_assgn_3_q_5a</a><br>Synced 5 W&B file(s), 0 media file(s), 0 artifact file(s) and 0 other file(s)"
            ]
          },
          "metadata": {}
        },
        {
          "output_type": "display_data",
          "data": {
            "text/plain": [
              "<IPython.core.display.HTML object>"
            ],
            "text/html": [
              "Find logs at: <code>./wandb/run-20250519_215808-roukmgrs/logs</code>"
            ]
          },
          "metadata": {}
        },
        {
          "output_type": "stream",
          "name": "stderr",
          "text": [
            "\u001b[34m\u001b[1mwandb\u001b[0m: Agent Starting Run: icar313f with config:\n",
            "\u001b[34m\u001b[1mwandb\u001b[0m: \tcell_type: lstm\n",
            "\u001b[34m\u001b[1mwandb\u001b[0m: \tdropout: 0.2\n",
            "\u001b[34m\u001b[1mwandb\u001b[0m: \tembedding_size: 128\n",
            "\u001b[34m\u001b[1mwandb\u001b[0m: \thidden_layer_size: 256\n",
            "\u001b[34m\u001b[1mwandb\u001b[0m: \tlearning_rate: 0.001\n"
          ]
        },
        {
          "output_type": "display_data",
          "data": {
            "text/plain": [
              "<IPython.core.display.HTML object>"
            ],
            "text/html": [
              "Tracking run with wandb version 0.19.11"
            ]
          },
          "metadata": {}
        },
        {
          "output_type": "display_data",
          "data": {
            "text/plain": [
              "<IPython.core.display.HTML object>"
            ],
            "text/html": [
              "Run data is saved locally in <code>/content/wandb/run-20250519_220245-icar313f</code>"
            ]
          },
          "metadata": {}
        },
        {
          "output_type": "display_data",
          "data": {
            "text/plain": [
              "<IPython.core.display.HTML object>"
            ],
            "text/html": [
              "Syncing run <strong><a href='https://wandb.ai/arunangshudutta218-iitm/dl_assgn_3_q_5a/runs/icar313f' target=\"_blank\">wise-sweep-15</a></strong> to <a href='https://wandb.ai/arunangshudutta218-iitm/dl_assgn_3_q_5a' target=\"_blank\">Weights & Biases</a> (<a href='https://wandb.me/developer-guide' target=\"_blank\">docs</a>)<br>Sweep page: <a href='https://wandb.ai/arunangshudutta218-iitm/dl_assgn_3_q_5a/sweeps/fwc4vyn0' target=\"_blank\">https://wandb.ai/arunangshudutta218-iitm/dl_assgn_3_q_5a/sweeps/fwc4vyn0</a>"
            ]
          },
          "metadata": {}
        },
        {
          "output_type": "display_data",
          "data": {
            "text/plain": [
              "<IPython.core.display.HTML object>"
            ],
            "text/html": [
              " View project at <a href='https://wandb.ai/arunangshudutta218-iitm/dl_assgn_3_q_5a' target=\"_blank\">https://wandb.ai/arunangshudutta218-iitm/dl_assgn_3_q_5a</a>"
            ]
          },
          "metadata": {}
        },
        {
          "output_type": "display_data",
          "data": {
            "text/plain": [
              "<IPython.core.display.HTML object>"
            ],
            "text/html": [
              " View sweep at <a href='https://wandb.ai/arunangshudutta218-iitm/dl_assgn_3_q_5a/sweeps/fwc4vyn0' target=\"_blank\">https://wandb.ai/arunangshudutta218-iitm/dl_assgn_3_q_5a/sweeps/fwc4vyn0</a>"
            ]
          },
          "metadata": {}
        },
        {
          "output_type": "display_data",
          "data": {
            "text/plain": [
              "<IPython.core.display.HTML object>"
            ],
            "text/html": [
              " View run at <a href='https://wandb.ai/arunangshudutta218-iitm/dl_assgn_3_q_5a/runs/icar313f' target=\"_blank\">https://wandb.ai/arunangshudutta218-iitm/dl_assgn_3_q_5a/runs/icar313f</a>"
            ]
          },
          "metadata": {}
        },
        {
          "output_type": "stream",
          "name": "stderr",
          "text": [
            "100%|██████████| 346/346 [00:15<00:00, 21.68it/s]\n"
          ]
        },
        {
          "output_type": "stream",
          "name": "stdout",
          "text": [
            "Epoch 1 | Train Loss: 1.5920 | val_accuracy: 52.22%\n"
          ]
        },
        {
          "output_type": "stream",
          "name": "stderr",
          "text": [
            "100%|██████████| 346/346 [00:16<00:00, 20.77it/s]\n"
          ]
        },
        {
          "output_type": "stream",
          "name": "stdout",
          "text": [
            "Epoch 2 | Train Loss: 0.6035 | val_accuracy: 61.87%\n"
          ]
        },
        {
          "output_type": "stream",
          "name": "stderr",
          "text": [
            "100%|██████████| 346/346 [00:15<00:00, 22.30it/s]\n"
          ]
        },
        {
          "output_type": "stream",
          "name": "stdout",
          "text": [
            "Epoch 3 | Train Loss: 0.4423 | val_accuracy: 64.41%\n"
          ]
        },
        {
          "output_type": "stream",
          "name": "stderr",
          "text": [
            "100%|██████████| 346/346 [00:15<00:00, 22.50it/s]\n"
          ]
        },
        {
          "output_type": "stream",
          "name": "stdout",
          "text": [
            "Epoch 4 | Train Loss: 0.3715 | val_accuracy: 64.37%\n"
          ]
        },
        {
          "output_type": "stream",
          "name": "stderr",
          "text": [
            "100%|██████████| 346/346 [00:15<00:00, 22.11it/s]\n"
          ]
        },
        {
          "output_type": "stream",
          "name": "stdout",
          "text": [
            "Epoch 5 | Train Loss: 0.3195 | val_accuracy: 67.97%\n"
          ]
        },
        {
          "output_type": "stream",
          "name": "stderr",
          "text": [
            "100%|██████████| 346/346 [00:16<00:00, 21.42it/s]\n"
          ]
        },
        {
          "output_type": "stream",
          "name": "stdout",
          "text": [
            "Epoch 6 | Train Loss: 0.2698 | val_accuracy: 68.61%\n"
          ]
        },
        {
          "output_type": "stream",
          "name": "stderr",
          "text": [
            "100%|██████████| 346/346 [00:15<00:00, 21.79it/s]\n"
          ]
        },
        {
          "output_type": "stream",
          "name": "stdout",
          "text": [
            "Epoch 7 | Train Loss: 0.2449 | val_accuracy: 69.47%\n"
          ]
        },
        {
          "output_type": "stream",
          "name": "stderr",
          "text": [
            "100%|██████████| 346/346 [00:16<00:00, 21.49it/s]\n"
          ]
        },
        {
          "output_type": "stream",
          "name": "stdout",
          "text": [
            "Epoch 8 | Train Loss: 0.2259 | val_accuracy: 70.19%\n"
          ]
        },
        {
          "output_type": "stream",
          "name": "stderr",
          "text": [
            "100%|██████████| 346/346 [00:16<00:00, 21.03it/s]\n"
          ]
        },
        {
          "output_type": "stream",
          "name": "stdout",
          "text": [
            "Epoch 9 | Train Loss: 0.2150 | val_accuracy: 69.77%\n"
          ]
        },
        {
          "output_type": "stream",
          "name": "stderr",
          "text": [
            "100%|██████████| 346/346 [00:15<00:00, 22.26it/s]\n"
          ]
        },
        {
          "output_type": "stream",
          "name": "stdout",
          "text": [
            "Epoch 10 | Train Loss: 0.2170 | val_accuracy: 67.46%\n"
          ]
        },
        {
          "output_type": "stream",
          "name": "stderr",
          "text": [
            "100%|██████████| 346/346 [00:15<00:00, 22.40it/s]\n"
          ]
        },
        {
          "output_type": "stream",
          "name": "stdout",
          "text": [
            "Epoch 11 | Train Loss: 0.2068 | val_accuracy: 70.40%\n"
          ]
        },
        {
          "output_type": "stream",
          "name": "stderr",
          "text": [
            "100%|██████████| 346/346 [00:16<00:00, 21.60it/s]\n"
          ]
        },
        {
          "output_type": "stream",
          "name": "stdout",
          "text": [
            "Epoch 12 | Train Loss: 0.1813 | val_accuracy: 70.50%\n"
          ]
        },
        {
          "output_type": "stream",
          "name": "stderr",
          "text": [
            "100%|██████████| 346/346 [00:15<00:00, 22.38it/s]\n"
          ]
        },
        {
          "output_type": "stream",
          "name": "stdout",
          "text": [
            "Epoch 13 | Train Loss: 0.1657 | val_accuracy: 71.77%\n"
          ]
        },
        {
          "output_type": "stream",
          "name": "stderr",
          "text": [
            "100%|██████████| 346/346 [00:15<00:00, 22.33it/s]\n"
          ]
        },
        {
          "output_type": "stream",
          "name": "stdout",
          "text": [
            "Epoch 14 | Train Loss: 0.1652 | val_accuracy: 72.23%\n"
          ]
        },
        {
          "output_type": "stream",
          "name": "stderr",
          "text": [
            "100%|██████████| 346/346 [00:15<00:00, 22.17it/s]\n"
          ]
        },
        {
          "output_type": "stream",
          "name": "stdout",
          "text": [
            "Epoch 15 | Train Loss: 0.1899 | val_accuracy: 71.35%\n"
          ]
        },
        {
          "output_type": "display_data",
          "data": {
            "text/plain": [
              "<IPython.core.display.HTML object>"
            ],
            "text/html": []
          },
          "metadata": {}
        },
        {
          "output_type": "display_data",
          "data": {
            "text/plain": [
              "<IPython.core.display.HTML object>"
            ],
            "text/html": [
              "<br>    <style><br>        .wandb-row {<br>            display: flex;<br>            flex-direction: row;<br>            flex-wrap: wrap;<br>            justify-content: flex-start;<br>            width: 100%;<br>        }<br>        .wandb-col {<br>            display: flex;<br>            flex-direction: column;<br>            flex-basis: 100%;<br>            flex: 1;<br>            padding: 10px;<br>        }<br>    </style><br><div class=\"wandb-row\"><div class=\"wandb-col\"><h3>Run history:</h3><br/><table class=\"wandb\"><tr><td>tr_loss</td><td>█▃▂▂▂▂▁▁▁▁▁▁▁▁▁</td></tr><tr><td>val_accuracy</td><td>▁▄▅▅▇▇▇▇▇▆▇▇███</td></tr></table><br/></div><div class=\"wandb-col\"><h3>Run summary:</h3><br/><table class=\"wandb\"><tr><td>tr_loss</td><td>0.18993</td></tr><tr><td>val_accuracy</td><td>71.35373</td></tr></table><br/></div></div>"
            ]
          },
          "metadata": {}
        },
        {
          "output_type": "display_data",
          "data": {
            "text/plain": [
              "<IPython.core.display.HTML object>"
            ],
            "text/html": [
              " View run <strong style=\"color:#cdcd00\">cty_lstm_hsz_256_emsz_128_dr_0.2_lr_0.001</strong> at: <a href='https://wandb.ai/arunangshudutta218-iitm/dl_assgn_3_q_5a/runs/icar313f' target=\"_blank\">https://wandb.ai/arunangshudutta218-iitm/dl_assgn_3_q_5a/runs/icar313f</a><br> View project at: <a href='https://wandb.ai/arunangshudutta218-iitm/dl_assgn_3_q_5a' target=\"_blank\">https://wandb.ai/arunangshudutta218-iitm/dl_assgn_3_q_5a</a><br>Synced 5 W&B file(s), 0 media file(s), 0 artifact file(s) and 0 other file(s)"
            ]
          },
          "metadata": {}
        },
        {
          "output_type": "display_data",
          "data": {
            "text/plain": [
              "<IPython.core.display.HTML object>"
            ],
            "text/html": [
              "Find logs at: <code>./wandb/run-20250519_220245-icar313f/logs</code>"
            ]
          },
          "metadata": {}
        },
        {
          "output_type": "stream",
          "name": "stderr",
          "text": [
            "\u001b[34m\u001b[1mwandb\u001b[0m: Agent Starting Run: uhccl3xk with config:\n",
            "\u001b[34m\u001b[1mwandb\u001b[0m: \tcell_type: lstm\n",
            "\u001b[34m\u001b[1mwandb\u001b[0m: \tdropout: 0.2\n",
            "\u001b[34m\u001b[1mwandb\u001b[0m: \tembedding_size: 128\n",
            "\u001b[34m\u001b[1mwandb\u001b[0m: \thidden_layer_size: 256\n",
            "\u001b[34m\u001b[1mwandb\u001b[0m: \tlearning_rate: 0.001\n"
          ]
        },
        {
          "output_type": "display_data",
          "data": {
            "text/plain": [
              "<IPython.core.display.HTML object>"
            ],
            "text/html": [
              "Tracking run with wandb version 0.19.11"
            ]
          },
          "metadata": {}
        },
        {
          "output_type": "display_data",
          "data": {
            "text/plain": [
              "<IPython.core.display.HTML object>"
            ],
            "text/html": [
              "Run data is saved locally in <code>/content/wandb/run-20250519_220727-uhccl3xk</code>"
            ]
          },
          "metadata": {}
        },
        {
          "output_type": "display_data",
          "data": {
            "text/plain": [
              "<IPython.core.display.HTML object>"
            ],
            "text/html": [
              "Syncing run <strong><a href='https://wandb.ai/arunangshudutta218-iitm/dl_assgn_3_q_5a/runs/uhccl3xk' target=\"_blank\">pious-sweep-16</a></strong> to <a href='https://wandb.ai/arunangshudutta218-iitm/dl_assgn_3_q_5a' target=\"_blank\">Weights & Biases</a> (<a href='https://wandb.me/developer-guide' target=\"_blank\">docs</a>)<br>Sweep page: <a href='https://wandb.ai/arunangshudutta218-iitm/dl_assgn_3_q_5a/sweeps/fwc4vyn0' target=\"_blank\">https://wandb.ai/arunangshudutta218-iitm/dl_assgn_3_q_5a/sweeps/fwc4vyn0</a>"
            ]
          },
          "metadata": {}
        },
        {
          "output_type": "display_data",
          "data": {
            "text/plain": [
              "<IPython.core.display.HTML object>"
            ],
            "text/html": [
              " View project at <a href='https://wandb.ai/arunangshudutta218-iitm/dl_assgn_3_q_5a' target=\"_blank\">https://wandb.ai/arunangshudutta218-iitm/dl_assgn_3_q_5a</a>"
            ]
          },
          "metadata": {}
        },
        {
          "output_type": "display_data",
          "data": {
            "text/plain": [
              "<IPython.core.display.HTML object>"
            ],
            "text/html": [
              " View sweep at <a href='https://wandb.ai/arunangshudutta218-iitm/dl_assgn_3_q_5a/sweeps/fwc4vyn0' target=\"_blank\">https://wandb.ai/arunangshudutta218-iitm/dl_assgn_3_q_5a/sweeps/fwc4vyn0</a>"
            ]
          },
          "metadata": {}
        },
        {
          "output_type": "display_data",
          "data": {
            "text/plain": [
              "<IPython.core.display.HTML object>"
            ],
            "text/html": [
              " View run at <a href='https://wandb.ai/arunangshudutta218-iitm/dl_assgn_3_q_5a/runs/uhccl3xk' target=\"_blank\">https://wandb.ai/arunangshudutta218-iitm/dl_assgn_3_q_5a/runs/uhccl3xk</a>"
            ]
          },
          "metadata": {}
        },
        {
          "output_type": "stream",
          "name": "stderr",
          "text": [
            "100%|██████████| 346/346 [00:15<00:00, 22.04it/s]\n"
          ]
        },
        {
          "output_type": "stream",
          "name": "stdout",
          "text": [
            "Epoch 1 | Train Loss: 1.6041 | val_accuracy: 47.55%\n"
          ]
        },
        {
          "output_type": "stream",
          "name": "stderr",
          "text": [
            "100%|██████████| 346/346 [00:15<00:00, 22.63it/s]\n"
          ]
        },
        {
          "output_type": "stream",
          "name": "stdout",
          "text": [
            "Epoch 2 | Train Loss: 0.5993 | val_accuracy: 61.86%\n"
          ]
        },
        {
          "output_type": "stream",
          "name": "stderr",
          "text": [
            "100%|██████████| 346/346 [00:16<00:00, 21.47it/s]\n"
          ]
        },
        {
          "output_type": "stream",
          "name": "stdout",
          "text": [
            "Epoch 3 | Train Loss: 0.4246 | val_accuracy: 62.51%\n"
          ]
        },
        {
          "output_type": "stream",
          "name": "stderr",
          "text": [
            "100%|██████████| 346/346 [00:15<00:00, 22.69it/s]\n"
          ]
        },
        {
          "output_type": "stream",
          "name": "stdout",
          "text": [
            "Epoch 4 | Train Loss: 0.3503 | val_accuracy: 64.95%\n"
          ]
        },
        {
          "output_type": "stream",
          "name": "stderr",
          "text": [
            "100%|██████████| 346/346 [00:16<00:00, 20.92it/s]\n"
          ]
        },
        {
          "output_type": "stream",
          "name": "stdout",
          "text": [
            "Epoch 5 | Train Loss: 0.3126 | val_accuracy: 66.05%\n"
          ]
        },
        {
          "output_type": "stream",
          "name": "stderr",
          "text": [
            "100%|██████████| 346/346 [00:15<00:00, 22.15it/s]\n"
          ]
        },
        {
          "output_type": "stream",
          "name": "stdout",
          "text": [
            "Epoch 6 | Train Loss: 0.2920 | val_accuracy: 67.74%\n"
          ]
        },
        {
          "output_type": "stream",
          "name": "stderr",
          "text": [
            "100%|██████████| 346/346 [00:15<00:00, 22.35it/s]\n"
          ]
        },
        {
          "output_type": "stream",
          "name": "stdout",
          "text": [
            "Epoch 7 | Train Loss: 0.2656 | val_accuracy: 68.26%\n"
          ]
        },
        {
          "output_type": "stream",
          "name": "stderr",
          "text": [
            "100%|██████████| 346/346 [00:15<00:00, 22.53it/s]\n"
          ]
        },
        {
          "output_type": "stream",
          "name": "stdout",
          "text": [
            "Epoch 8 | Train Loss: 0.2249 | val_accuracy: 69.38%\n"
          ]
        },
        {
          "output_type": "stream",
          "name": "stderr",
          "text": [
            "100%|██████████| 346/346 [00:15<00:00, 22.70it/s]\n"
          ]
        },
        {
          "output_type": "stream",
          "name": "stdout",
          "text": [
            "Epoch 9 | Train Loss: 0.2091 | val_accuracy: 70.67%\n"
          ]
        },
        {
          "output_type": "stream",
          "name": "stderr",
          "text": [
            "100%|██████████| 346/346 [00:16<00:00, 21.30it/s]\n"
          ]
        },
        {
          "output_type": "stream",
          "name": "stdout",
          "text": [
            "Epoch 10 | Train Loss: 0.1933 | val_accuracy: 70.45%\n"
          ]
        },
        {
          "output_type": "stream",
          "name": "stderr",
          "text": [
            "100%|██████████| 346/346 [00:15<00:00, 22.43it/s]\n"
          ]
        },
        {
          "output_type": "stream",
          "name": "stdout",
          "text": [
            "Epoch 11 | Train Loss: 0.1761 | val_accuracy: 70.93%\n"
          ]
        },
        {
          "output_type": "stream",
          "name": "stderr",
          "text": [
            "100%|██████████| 346/346 [00:15<00:00, 22.54it/s]\n"
          ]
        },
        {
          "output_type": "stream",
          "name": "stdout",
          "text": [
            "Epoch 12 | Train Loss: 0.1719 | val_accuracy: 71.26%\n"
          ]
        },
        {
          "output_type": "stream",
          "name": "stderr",
          "text": [
            "100%|██████████| 346/346 [00:15<00:00, 22.72it/s]\n"
          ]
        },
        {
          "output_type": "stream",
          "name": "stdout",
          "text": [
            "Epoch 13 | Train Loss: 0.1676 | val_accuracy: 70.85%\n"
          ]
        },
        {
          "output_type": "stream",
          "name": "stderr",
          "text": [
            "100%|██████████| 346/346 [00:16<00:00, 21.50it/s]\n"
          ]
        },
        {
          "output_type": "stream",
          "name": "stdout",
          "text": [
            "Epoch 14 | Train Loss: 0.1612 | val_accuracy: 70.80%\n"
          ]
        },
        {
          "output_type": "stream",
          "name": "stderr",
          "text": [
            "100%|██████████| 346/346 [00:15<00:00, 22.49it/s]\n"
          ]
        },
        {
          "output_type": "stream",
          "name": "stdout",
          "text": [
            "Epoch 15 | Train Loss: 0.1440 | val_accuracy: 71.55%\n"
          ]
        },
        {
          "output_type": "display_data",
          "data": {
            "text/plain": [
              "<IPython.core.display.HTML object>"
            ],
            "text/html": []
          },
          "metadata": {}
        },
        {
          "output_type": "display_data",
          "data": {
            "text/plain": [
              "<IPython.core.display.HTML object>"
            ],
            "text/html": [
              "<br>    <style><br>        .wandb-row {<br>            display: flex;<br>            flex-direction: row;<br>            flex-wrap: wrap;<br>            justify-content: flex-start;<br>            width: 100%;<br>        }<br>        .wandb-col {<br>            display: flex;<br>            flex-direction: column;<br>            flex-basis: 100%;<br>            flex: 1;<br>            padding: 10px;<br>        }<br>    </style><br><div class=\"wandb-row\"><div class=\"wandb-col\"><h3>Run history:</h3><br/><table class=\"wandb\"><tr><td>tr_loss</td><td>█▃▂▂▂▂▂▁▁▁▁▁▁▁▁</td></tr><tr><td>val_accuracy</td><td>▁▅▅▆▆▇▇▇███████</td></tr></table><br/></div><div class=\"wandb-col\"><h3>Run summary:</h3><br/><table class=\"wandb\"><tr><td>tr_loss</td><td>0.14397</td></tr><tr><td>val_accuracy</td><td>71.5502</td></tr></table><br/></div></div>"
            ]
          },
          "metadata": {}
        },
        {
          "output_type": "display_data",
          "data": {
            "text/plain": [
              "<IPython.core.display.HTML object>"
            ],
            "text/html": [
              " View run <strong style=\"color:#cdcd00\">cty_lstm_hsz_256_emsz_128_dr_0.2_lr_0.001</strong> at: <a href='https://wandb.ai/arunangshudutta218-iitm/dl_assgn_3_q_5a/runs/uhccl3xk' target=\"_blank\">https://wandb.ai/arunangshudutta218-iitm/dl_assgn_3_q_5a/runs/uhccl3xk</a><br> View project at: <a href='https://wandb.ai/arunangshudutta218-iitm/dl_assgn_3_q_5a' target=\"_blank\">https://wandb.ai/arunangshudutta218-iitm/dl_assgn_3_q_5a</a><br>Synced 5 W&B file(s), 0 media file(s), 0 artifact file(s) and 0 other file(s)"
            ]
          },
          "metadata": {}
        },
        {
          "output_type": "display_data",
          "data": {
            "text/plain": [
              "<IPython.core.display.HTML object>"
            ],
            "text/html": [
              "Find logs at: <code>./wandb/run-20250519_220727-uhccl3xk/logs</code>"
            ]
          },
          "metadata": {}
        },
        {
          "output_type": "stream",
          "name": "stderr",
          "text": [
            "\u001b[34m\u001b[1mwandb\u001b[0m: Agent Starting Run: jgxs89tx with config:\n",
            "\u001b[34m\u001b[1mwandb\u001b[0m: \tcell_type: lstm\n",
            "\u001b[34m\u001b[1mwandb\u001b[0m: \tdropout: 0.2\n",
            "\u001b[34m\u001b[1mwandb\u001b[0m: \tembedding_size: 128\n",
            "\u001b[34m\u001b[1mwandb\u001b[0m: \thidden_layer_size: 256\n",
            "\u001b[34m\u001b[1mwandb\u001b[0m: \tlearning_rate: 0.001\n"
          ]
        },
        {
          "output_type": "display_data",
          "data": {
            "text/plain": [
              "<IPython.core.display.HTML object>"
            ],
            "text/html": [
              "Tracking run with wandb version 0.19.11"
            ]
          },
          "metadata": {}
        },
        {
          "output_type": "display_data",
          "data": {
            "text/plain": [
              "<IPython.core.display.HTML object>"
            ],
            "text/html": [
              "Run data is saved locally in <code>/content/wandb/run-20250519_221205-jgxs89tx</code>"
            ]
          },
          "metadata": {}
        },
        {
          "output_type": "display_data",
          "data": {
            "text/plain": [
              "<IPython.core.display.HTML object>"
            ],
            "text/html": [
              "Syncing run <strong><a href='https://wandb.ai/arunangshudutta218-iitm/dl_assgn_3_q_5a/runs/jgxs89tx' target=\"_blank\">rich-sweep-17</a></strong> to <a href='https://wandb.ai/arunangshudutta218-iitm/dl_assgn_3_q_5a' target=\"_blank\">Weights & Biases</a> (<a href='https://wandb.me/developer-guide' target=\"_blank\">docs</a>)<br>Sweep page: <a href='https://wandb.ai/arunangshudutta218-iitm/dl_assgn_3_q_5a/sweeps/fwc4vyn0' target=\"_blank\">https://wandb.ai/arunangshudutta218-iitm/dl_assgn_3_q_5a/sweeps/fwc4vyn0</a>"
            ]
          },
          "metadata": {}
        },
        {
          "output_type": "display_data",
          "data": {
            "text/plain": [
              "<IPython.core.display.HTML object>"
            ],
            "text/html": [
              " View project at <a href='https://wandb.ai/arunangshudutta218-iitm/dl_assgn_3_q_5a' target=\"_blank\">https://wandb.ai/arunangshudutta218-iitm/dl_assgn_3_q_5a</a>"
            ]
          },
          "metadata": {}
        },
        {
          "output_type": "display_data",
          "data": {
            "text/plain": [
              "<IPython.core.display.HTML object>"
            ],
            "text/html": [
              " View sweep at <a href='https://wandb.ai/arunangshudutta218-iitm/dl_assgn_3_q_5a/sweeps/fwc4vyn0' target=\"_blank\">https://wandb.ai/arunangshudutta218-iitm/dl_assgn_3_q_5a/sweeps/fwc4vyn0</a>"
            ]
          },
          "metadata": {}
        },
        {
          "output_type": "display_data",
          "data": {
            "text/plain": [
              "<IPython.core.display.HTML object>"
            ],
            "text/html": [
              " View run at <a href='https://wandb.ai/arunangshudutta218-iitm/dl_assgn_3_q_5a/runs/jgxs89tx' target=\"_blank\">https://wandb.ai/arunangshudutta218-iitm/dl_assgn_3_q_5a/runs/jgxs89tx</a>"
            ]
          },
          "metadata": {}
        },
        {
          "output_type": "stream",
          "name": "stderr",
          "text": [
            "100%|██████████| 346/346 [00:16<00:00, 21.10it/s]\n"
          ]
        },
        {
          "output_type": "stream",
          "name": "stdout",
          "text": [
            "Epoch 1 | Train Loss: 1.6203 | val_accuracy: 44.82%\n"
          ]
        },
        {
          "output_type": "stream",
          "name": "stderr",
          "text": [
            "100%|██████████| 346/346 [00:15<00:00, 22.64it/s]\n"
          ]
        },
        {
          "output_type": "stream",
          "name": "stdout",
          "text": [
            "Epoch 2 | Train Loss: 0.5996 | val_accuracy: 61.85%\n"
          ]
        },
        {
          "output_type": "stream",
          "name": "stderr",
          "text": [
            "100%|██████████| 346/346 [00:16<00:00, 21.03it/s]\n"
          ]
        },
        {
          "output_type": "stream",
          "name": "stdout",
          "text": [
            "Epoch 3 | Train Loss: 0.4145 | val_accuracy: 63.48%\n"
          ]
        },
        {
          "output_type": "stream",
          "name": "stderr",
          "text": [
            "100%|██████████| 346/346 [00:15<00:00, 21.91it/s]\n"
          ]
        },
        {
          "output_type": "stream",
          "name": "stdout",
          "text": [
            "Epoch 4 | Train Loss: 0.3443 | val_accuracy: 66.22%\n"
          ]
        },
        {
          "output_type": "stream",
          "name": "stderr",
          "text": [
            "100%|██████████| 346/346 [00:15<00:00, 22.56it/s]\n"
          ]
        },
        {
          "output_type": "stream",
          "name": "stdout",
          "text": [
            "Epoch 5 | Train Loss: 0.3062 | val_accuracy: 67.00%\n"
          ]
        },
        {
          "output_type": "stream",
          "name": "stderr",
          "text": [
            "100%|██████████| 346/346 [00:15<00:00, 22.42it/s]\n"
          ]
        },
        {
          "output_type": "stream",
          "name": "stdout",
          "text": [
            "Epoch 6 | Train Loss: 0.2649 | val_accuracy: 67.62%\n"
          ]
        },
        {
          "output_type": "stream",
          "name": "stderr",
          "text": [
            "100%|██████████| 346/346 [00:15<00:00, 22.67it/s]\n"
          ]
        },
        {
          "output_type": "stream",
          "name": "stdout",
          "text": [
            "Epoch 7 | Train Loss: 0.2489 | val_accuracy: 68.63%\n"
          ]
        },
        {
          "output_type": "stream",
          "name": "stderr",
          "text": [
            "100%|██████████| 346/346 [00:16<00:00, 21.42it/s]\n"
          ]
        },
        {
          "output_type": "stream",
          "name": "stdout",
          "text": [
            "Epoch 8 | Train Loss: 0.2181 | val_accuracy: 69.62%\n"
          ]
        },
        {
          "output_type": "stream",
          "name": "stderr",
          "text": [
            "100%|██████████| 346/346 [00:15<00:00, 22.69it/s]\n"
          ]
        },
        {
          "output_type": "stream",
          "name": "stdout",
          "text": [
            "Epoch 9 | Train Loss: 0.2074 | val_accuracy: 70.00%\n"
          ]
        },
        {
          "output_type": "stream",
          "name": "stderr",
          "text": [
            "100%|██████████| 346/346 [00:15<00:00, 22.54it/s]\n"
          ]
        },
        {
          "output_type": "stream",
          "name": "stdout",
          "text": [
            "Epoch 10 | Train Loss: 0.1996 | val_accuracy: 70.84%\n"
          ]
        },
        {
          "output_type": "stream",
          "name": "stderr",
          "text": [
            "100%|██████████| 346/346 [00:15<00:00, 22.60it/s]\n"
          ]
        },
        {
          "output_type": "stream",
          "name": "stdout",
          "text": [
            "Epoch 11 | Train Loss: 0.1869 | val_accuracy: 70.58%\n"
          ]
        },
        {
          "output_type": "stream",
          "name": "stderr",
          "text": [
            "100%|██████████| 346/346 [00:16<00:00, 21.37it/s]\n"
          ]
        },
        {
          "output_type": "stream",
          "name": "stdout",
          "text": [
            "Epoch 12 | Train Loss: 0.1749 | val_accuracy: 71.69%\n"
          ]
        },
        {
          "output_type": "stream",
          "name": "stderr",
          "text": [
            "100%|██████████| 346/346 [00:15<00:00, 22.62it/s]\n"
          ]
        },
        {
          "output_type": "stream",
          "name": "stdout",
          "text": [
            "Epoch 13 | Train Loss: 0.1571 | val_accuracy: 70.94%\n"
          ]
        },
        {
          "output_type": "stream",
          "name": "stderr",
          "text": [
            "100%|██████████| 346/346 [00:15<00:00, 22.71it/s]\n"
          ]
        },
        {
          "output_type": "stream",
          "name": "stdout",
          "text": [
            "Epoch 14 | Train Loss: 0.1482 | val_accuracy: 71.38%\n"
          ]
        },
        {
          "output_type": "stream",
          "name": "stderr",
          "text": [
            "100%|██████████| 346/346 [00:15<00:00, 22.37it/s]\n"
          ]
        },
        {
          "output_type": "stream",
          "name": "stdout",
          "text": [
            "Epoch 15 | Train Loss: 0.1398 | val_accuracy: 71.14%\n"
          ]
        },
        {
          "output_type": "display_data",
          "data": {
            "text/plain": [
              "<IPython.core.display.HTML object>"
            ],
            "text/html": []
          },
          "metadata": {}
        },
        {
          "output_type": "display_data",
          "data": {
            "text/plain": [
              "<IPython.core.display.HTML object>"
            ],
            "text/html": [
              "<br>    <style><br>        .wandb-row {<br>            display: flex;<br>            flex-direction: row;<br>            flex-wrap: wrap;<br>            justify-content: flex-start;<br>            width: 100%;<br>        }<br>        .wandb-col {<br>            display: flex;<br>            flex-direction: column;<br>            flex-basis: 100%;<br>            flex: 1;<br>            padding: 10px;<br>        }<br>    </style><br><div class=\"wandb-row\"><div class=\"wandb-col\"><h3>Run history:</h3><br/><table class=\"wandb\"><tr><td>tr_loss</td><td>█▃▂▂▂▂▂▁▁▁▁▁▁▁▁</td></tr><tr><td>val_accuracy</td><td>▁▅▆▇▇▇▇▇███████</td></tr></table><br/></div><div class=\"wandb-col\"><h3>Run summary:</h3><br/><table class=\"wandb\"><tr><td>tr_loss</td><td>0.13979</td></tr><tr><td>val_accuracy</td><td>71.14184</td></tr></table><br/></div></div>"
            ]
          },
          "metadata": {}
        },
        {
          "output_type": "display_data",
          "data": {
            "text/plain": [
              "<IPython.core.display.HTML object>"
            ],
            "text/html": [
              " View run <strong style=\"color:#cdcd00\">cty_lstm_hsz_256_emsz_128_dr_0.2_lr_0.001</strong> at: <a href='https://wandb.ai/arunangshudutta218-iitm/dl_assgn_3_q_5a/runs/jgxs89tx' target=\"_blank\">https://wandb.ai/arunangshudutta218-iitm/dl_assgn_3_q_5a/runs/jgxs89tx</a><br> View project at: <a href='https://wandb.ai/arunangshudutta218-iitm/dl_assgn_3_q_5a' target=\"_blank\">https://wandb.ai/arunangshudutta218-iitm/dl_assgn_3_q_5a</a><br>Synced 5 W&B file(s), 0 media file(s), 0 artifact file(s) and 0 other file(s)"
            ]
          },
          "metadata": {}
        },
        {
          "output_type": "display_data",
          "data": {
            "text/plain": [
              "<IPython.core.display.HTML object>"
            ],
            "text/html": [
              "Find logs at: <code>./wandb/run-20250519_221205-jgxs89tx/logs</code>"
            ]
          },
          "metadata": {}
        },
        {
          "output_type": "stream",
          "name": "stderr",
          "text": [
            "\u001b[34m\u001b[1mwandb\u001b[0m: Agent Starting Run: 35c5yspe with config:\n",
            "\u001b[34m\u001b[1mwandb\u001b[0m: \tcell_type: lstm\n",
            "\u001b[34m\u001b[1mwandb\u001b[0m: \tdropout: 0.2\n",
            "\u001b[34m\u001b[1mwandb\u001b[0m: \tembedding_size: 128\n",
            "\u001b[34m\u001b[1mwandb\u001b[0m: \thidden_layer_size: 256\n",
            "\u001b[34m\u001b[1mwandb\u001b[0m: \tlearning_rate: 0.001\n"
          ]
        },
        {
          "output_type": "display_data",
          "data": {
            "text/plain": [
              "<IPython.core.display.HTML object>"
            ],
            "text/html": [
              "Tracking run with wandb version 0.19.11"
            ]
          },
          "metadata": {}
        },
        {
          "output_type": "display_data",
          "data": {
            "text/plain": [
              "<IPython.core.display.HTML object>"
            ],
            "text/html": [
              "Run data is saved locally in <code>/content/wandb/run-20250519_221643-35c5yspe</code>"
            ]
          },
          "metadata": {}
        },
        {
          "output_type": "display_data",
          "data": {
            "text/plain": [
              "<IPython.core.display.HTML object>"
            ],
            "text/html": [
              "Syncing run <strong><a href='https://wandb.ai/arunangshudutta218-iitm/dl_assgn_3_q_5a/runs/35c5yspe' target=\"_blank\">fanciful-sweep-18</a></strong> to <a href='https://wandb.ai/arunangshudutta218-iitm/dl_assgn_3_q_5a' target=\"_blank\">Weights & Biases</a> (<a href='https://wandb.me/developer-guide' target=\"_blank\">docs</a>)<br>Sweep page: <a href='https://wandb.ai/arunangshudutta218-iitm/dl_assgn_3_q_5a/sweeps/fwc4vyn0' target=\"_blank\">https://wandb.ai/arunangshudutta218-iitm/dl_assgn_3_q_5a/sweeps/fwc4vyn0</a>"
            ]
          },
          "metadata": {}
        },
        {
          "output_type": "display_data",
          "data": {
            "text/plain": [
              "<IPython.core.display.HTML object>"
            ],
            "text/html": [
              " View project at <a href='https://wandb.ai/arunangshudutta218-iitm/dl_assgn_3_q_5a' target=\"_blank\">https://wandb.ai/arunangshudutta218-iitm/dl_assgn_3_q_5a</a>"
            ]
          },
          "metadata": {}
        },
        {
          "output_type": "display_data",
          "data": {
            "text/plain": [
              "<IPython.core.display.HTML object>"
            ],
            "text/html": [
              " View sweep at <a href='https://wandb.ai/arunangshudutta218-iitm/dl_assgn_3_q_5a/sweeps/fwc4vyn0' target=\"_blank\">https://wandb.ai/arunangshudutta218-iitm/dl_assgn_3_q_5a/sweeps/fwc4vyn0</a>"
            ]
          },
          "metadata": {}
        },
        {
          "output_type": "display_data",
          "data": {
            "text/plain": [
              "<IPython.core.display.HTML object>"
            ],
            "text/html": [
              " View run at <a href='https://wandb.ai/arunangshudutta218-iitm/dl_assgn_3_q_5a/runs/35c5yspe' target=\"_blank\">https://wandb.ai/arunangshudutta218-iitm/dl_assgn_3_q_5a/runs/35c5yspe</a>"
            ]
          },
          "metadata": {}
        },
        {
          "output_type": "stream",
          "name": "stderr",
          "text": [
            "100%|██████████| 346/346 [00:17<00:00, 20.30it/s]\n"
          ]
        },
        {
          "output_type": "stream",
          "name": "stdout",
          "text": [
            "Epoch 1 | Train Loss: 1.6229 | val_accuracy: 50.95%\n"
          ]
        },
        {
          "output_type": "stream",
          "name": "stderr",
          "text": [
            "100%|██████████| 346/346 [00:15<00:00, 22.64it/s]\n"
          ]
        },
        {
          "output_type": "stream",
          "name": "stdout",
          "text": [
            "Epoch 2 | Train Loss: 0.6049 | val_accuracy: 61.21%\n"
          ]
        },
        {
          "output_type": "stream",
          "name": "stderr",
          "text": [
            "100%|██████████| 346/346 [00:16<00:00, 21.25it/s]\n"
          ]
        },
        {
          "output_type": "stream",
          "name": "stdout",
          "text": [
            "Epoch 3 | Train Loss: 0.4476 | val_accuracy: 64.10%\n"
          ]
        },
        {
          "output_type": "stream",
          "name": "stderr",
          "text": [
            "100%|██████████| 346/346 [00:15<00:00, 22.52it/s]\n"
          ]
        },
        {
          "output_type": "stream",
          "name": "stdout",
          "text": [
            "Epoch 4 | Train Loss: 0.3571 | val_accuracy: 66.35%\n"
          ]
        },
        {
          "output_type": "stream",
          "name": "stderr",
          "text": [
            "100%|██████████| 346/346 [00:15<00:00, 22.53it/s]\n"
          ]
        },
        {
          "output_type": "stream",
          "name": "stdout",
          "text": [
            "Epoch 5 | Train Loss: 0.2949 | val_accuracy: 67.85%\n"
          ]
        },
        {
          "output_type": "stream",
          "name": "stderr",
          "text": [
            "100%|██████████| 346/346 [00:15<00:00, 22.57it/s]\n"
          ]
        },
        {
          "output_type": "stream",
          "name": "stdout",
          "text": [
            "Epoch 6 | Train Loss: 0.2721 | val_accuracy: 67.20%\n"
          ]
        },
        {
          "output_type": "stream",
          "name": "stderr",
          "text": [
            "100%|██████████| 346/346 [00:16<00:00, 21.48it/s]\n"
          ]
        },
        {
          "output_type": "stream",
          "name": "stdout",
          "text": [
            "Epoch 7 | Train Loss: 0.2495 | val_accuracy: 69.52%\n"
          ]
        },
        {
          "output_type": "stream",
          "name": "stderr",
          "text": [
            "100%|██████████| 346/346 [00:15<00:00, 22.59it/s]\n"
          ]
        },
        {
          "output_type": "stream",
          "name": "stdout",
          "text": [
            "Epoch 8 | Train Loss: 0.2231 | val_accuracy: 70.16%\n"
          ]
        },
        {
          "output_type": "stream",
          "name": "stderr",
          "text": [
            "100%|██████████| 346/346 [00:15<00:00, 22.59it/s]\n"
          ]
        },
        {
          "output_type": "stream",
          "name": "stdout",
          "text": [
            "Epoch 9 | Train Loss: 0.2687 | val_accuracy: 69.27%\n"
          ]
        },
        {
          "output_type": "stream",
          "name": "stderr",
          "text": [
            "100%|██████████| 346/346 [00:15<00:00, 22.39it/s]\n"
          ]
        },
        {
          "output_type": "stream",
          "name": "stdout",
          "text": [
            "Epoch 10 | Train Loss: 0.2193 | val_accuracy: 70.83%\n"
          ]
        },
        {
          "output_type": "stream",
          "name": "stderr",
          "text": [
            "100%|██████████| 346/346 [00:16<00:00, 21.57it/s]\n"
          ]
        },
        {
          "output_type": "stream",
          "name": "stdout",
          "text": [
            "Epoch 11 | Train Loss: 0.1884 | val_accuracy: 71.22%\n"
          ]
        },
        {
          "output_type": "stream",
          "name": "stderr",
          "text": [
            "100%|██████████| 346/346 [00:15<00:00, 22.66it/s]\n"
          ]
        },
        {
          "output_type": "stream",
          "name": "stdout",
          "text": [
            "Epoch 12 | Train Loss: 0.1787 | val_accuracy: 71.58%\n"
          ]
        },
        {
          "output_type": "stream",
          "name": "stderr",
          "text": [
            "100%|██████████| 346/346 [00:15<00:00, 22.30it/s]\n"
          ]
        },
        {
          "output_type": "stream",
          "name": "stdout",
          "text": [
            "Epoch 13 | Train Loss: 0.1625 | val_accuracy: 72.38%\n"
          ]
        },
        {
          "output_type": "stream",
          "name": "stderr",
          "text": [
            "100%|██████████| 346/346 [00:15<00:00, 22.17it/s]\n"
          ]
        },
        {
          "output_type": "stream",
          "name": "stdout",
          "text": [
            "Epoch 14 | Train Loss: 0.1544 | val_accuracy: 72.64%\n"
          ]
        },
        {
          "output_type": "stream",
          "name": "stderr",
          "text": [
            "100%|██████████| 346/346 [00:16<00:00, 20.80it/s]\n"
          ]
        },
        {
          "output_type": "stream",
          "name": "stdout",
          "text": [
            "Epoch 15 | Train Loss: 0.1509 | val_accuracy: 69.42%\n"
          ]
        },
        {
          "output_type": "display_data",
          "data": {
            "text/plain": [
              "<IPython.core.display.HTML object>"
            ],
            "text/html": []
          },
          "metadata": {}
        },
        {
          "output_type": "display_data",
          "data": {
            "text/plain": [
              "<IPython.core.display.HTML object>"
            ],
            "text/html": [
              "<br>    <style><br>        .wandb-row {<br>            display: flex;<br>            flex-direction: row;<br>            flex-wrap: wrap;<br>            justify-content: flex-start;<br>            width: 100%;<br>        }<br>        .wandb-col {<br>            display: flex;<br>            flex-direction: column;<br>            flex-basis: 100%;<br>            flex: 1;<br>            padding: 10px;<br>        }<br>    </style><br><div class=\"wandb-row\"><div class=\"wandb-col\"><h3>Run history:</h3><br/><table class=\"wandb\"><tr><td>tr_loss</td><td>█▃▂▂▂▂▁▁▂▁▁▁▁▁▁</td></tr><tr><td>val_accuracy</td><td>▁▄▅▆▆▆▇▇▇▇████▇</td></tr></table><br/></div><div class=\"wandb-col\"><h3>Run summary:</h3><br/><table class=\"wandb\"><tr><td>tr_loss</td><td>0.15088</td></tr><tr><td>val_accuracy</td><td>69.41598</td></tr></table><br/></div></div>"
            ]
          },
          "metadata": {}
        },
        {
          "output_type": "display_data",
          "data": {
            "text/plain": [
              "<IPython.core.display.HTML object>"
            ],
            "text/html": [
              " View run <strong style=\"color:#cdcd00\">cty_lstm_hsz_256_emsz_128_dr_0.2_lr_0.001</strong> at: <a href='https://wandb.ai/arunangshudutta218-iitm/dl_assgn_3_q_5a/runs/35c5yspe' target=\"_blank\">https://wandb.ai/arunangshudutta218-iitm/dl_assgn_3_q_5a/runs/35c5yspe</a><br> View project at: <a href='https://wandb.ai/arunangshudutta218-iitm/dl_assgn_3_q_5a' target=\"_blank\">https://wandb.ai/arunangshudutta218-iitm/dl_assgn_3_q_5a</a><br>Synced 5 W&B file(s), 0 media file(s), 0 artifact file(s) and 0 other file(s)"
            ]
          },
          "metadata": {}
        },
        {
          "output_type": "display_data",
          "data": {
            "text/plain": [
              "<IPython.core.display.HTML object>"
            ],
            "text/html": [
              "Find logs at: <code>./wandb/run-20250519_221643-35c5yspe/logs</code>"
            ]
          },
          "metadata": {}
        },
        {
          "output_type": "stream",
          "name": "stderr",
          "text": [
            "\u001b[34m\u001b[1mwandb\u001b[0m: Agent Starting Run: vvsug88y with config:\n",
            "\u001b[34m\u001b[1mwandb\u001b[0m: \tcell_type: lstm\n",
            "\u001b[34m\u001b[1mwandb\u001b[0m: \tdropout: 0.2\n",
            "\u001b[34m\u001b[1mwandb\u001b[0m: \tembedding_size: 128\n",
            "\u001b[34m\u001b[1mwandb\u001b[0m: \thidden_layer_size: 256\n",
            "\u001b[34m\u001b[1mwandb\u001b[0m: \tlearning_rate: 0.001\n"
          ]
        },
        {
          "output_type": "display_data",
          "data": {
            "text/plain": [
              "<IPython.core.display.HTML object>"
            ],
            "text/html": [
              "Tracking run with wandb version 0.19.11"
            ]
          },
          "metadata": {}
        },
        {
          "output_type": "display_data",
          "data": {
            "text/plain": [
              "<IPython.core.display.HTML object>"
            ],
            "text/html": [
              "Run data is saved locally in <code>/content/wandb/run-20250519_222121-vvsug88y</code>"
            ]
          },
          "metadata": {}
        },
        {
          "output_type": "display_data",
          "data": {
            "text/plain": [
              "<IPython.core.display.HTML object>"
            ],
            "text/html": [
              "Syncing run <strong><a href='https://wandb.ai/arunangshudutta218-iitm/dl_assgn_3_q_5a/runs/vvsug88y' target=\"_blank\">upbeat-sweep-19</a></strong> to <a href='https://wandb.ai/arunangshudutta218-iitm/dl_assgn_3_q_5a' target=\"_blank\">Weights & Biases</a> (<a href='https://wandb.me/developer-guide' target=\"_blank\">docs</a>)<br>Sweep page: <a href='https://wandb.ai/arunangshudutta218-iitm/dl_assgn_3_q_5a/sweeps/fwc4vyn0' target=\"_blank\">https://wandb.ai/arunangshudutta218-iitm/dl_assgn_3_q_5a/sweeps/fwc4vyn0</a>"
            ]
          },
          "metadata": {}
        },
        {
          "output_type": "display_data",
          "data": {
            "text/plain": [
              "<IPython.core.display.HTML object>"
            ],
            "text/html": [
              " View project at <a href='https://wandb.ai/arunangshudutta218-iitm/dl_assgn_3_q_5a' target=\"_blank\">https://wandb.ai/arunangshudutta218-iitm/dl_assgn_3_q_5a</a>"
            ]
          },
          "metadata": {}
        },
        {
          "output_type": "display_data",
          "data": {
            "text/plain": [
              "<IPython.core.display.HTML object>"
            ],
            "text/html": [
              " View sweep at <a href='https://wandb.ai/arunangshudutta218-iitm/dl_assgn_3_q_5a/sweeps/fwc4vyn0' target=\"_blank\">https://wandb.ai/arunangshudutta218-iitm/dl_assgn_3_q_5a/sweeps/fwc4vyn0</a>"
            ]
          },
          "metadata": {}
        },
        {
          "output_type": "display_data",
          "data": {
            "text/plain": [
              "<IPython.core.display.HTML object>"
            ],
            "text/html": [
              " View run at <a href='https://wandb.ai/arunangshudutta218-iitm/dl_assgn_3_q_5a/runs/vvsug88y' target=\"_blank\">https://wandb.ai/arunangshudutta218-iitm/dl_assgn_3_q_5a/runs/vvsug88y</a>"
            ]
          },
          "metadata": {}
        },
        {
          "output_type": "stream",
          "name": "stderr",
          "text": [
            "100%|██████████| 346/346 [00:15<00:00, 22.17it/s]\n"
          ]
        },
        {
          "output_type": "stream",
          "name": "stdout",
          "text": [
            "Epoch 1 | Train Loss: 1.6602 | val_accuracy: 51.72%\n"
          ]
        },
        {
          "output_type": "stream",
          "name": "stderr",
          "text": [
            "100%|██████████| 346/346 [00:16<00:00, 21.54it/s]\n"
          ]
        },
        {
          "output_type": "stream",
          "name": "stdout",
          "text": [
            "Epoch 2 | Train Loss: 0.6229 | val_accuracy: 60.93%\n"
          ]
        },
        {
          "output_type": "stream",
          "name": "stderr",
          "text": [
            "100%|██████████| 346/346 [00:15<00:00, 22.48it/s]\n"
          ]
        },
        {
          "output_type": "stream",
          "name": "stdout",
          "text": [
            "Epoch 3 | Train Loss: 0.4611 | val_accuracy: 62.67%\n"
          ]
        },
        {
          "output_type": "stream",
          "name": "stderr",
          "text": [
            "100%|██████████| 346/346 [00:15<00:00, 22.43it/s]\n"
          ]
        },
        {
          "output_type": "stream",
          "name": "stdout",
          "text": [
            "Epoch 4 | Train Loss: 0.3714 | val_accuracy: 65.68%\n"
          ]
        },
        {
          "output_type": "stream",
          "name": "stderr",
          "text": [
            "100%|██████████| 346/346 [00:15<00:00, 22.56it/s]\n"
          ]
        },
        {
          "output_type": "stream",
          "name": "stdout",
          "text": [
            "Epoch 5 | Train Loss: 0.3118 | val_accuracy: 66.68%\n"
          ]
        },
        {
          "output_type": "stream",
          "name": "stderr",
          "text": [
            "100%|██████████| 346/346 [00:16<00:00, 21.18it/s]\n"
          ]
        },
        {
          "output_type": "stream",
          "name": "stdout",
          "text": [
            "Epoch 6 | Train Loss: 0.2798 | val_accuracy: 67.76%\n"
          ]
        },
        {
          "output_type": "stream",
          "name": "stderr",
          "text": [
            "100%|██████████| 346/346 [00:15<00:00, 22.48it/s]\n"
          ]
        },
        {
          "output_type": "stream",
          "name": "stdout",
          "text": [
            "Epoch 7 | Train Loss: 0.2537 | val_accuracy: 69.01%\n"
          ]
        },
        {
          "output_type": "stream",
          "name": "stderr",
          "text": [
            "100%|██████████| 346/346 [00:15<00:00, 22.50it/s]\n"
          ]
        },
        {
          "output_type": "stream",
          "name": "stdout",
          "text": [
            "Epoch 8 | Train Loss: 0.2440 | val_accuracy: 68.97%\n"
          ]
        },
        {
          "output_type": "stream",
          "name": "stderr",
          "text": [
            "100%|██████████| 346/346 [00:15<00:00, 22.57it/s]\n"
          ]
        },
        {
          "output_type": "stream",
          "name": "stdout",
          "text": [
            "Epoch 9 | Train Loss: 0.2213 | val_accuracy: 69.62%\n"
          ]
        },
        {
          "output_type": "stream",
          "name": "stderr",
          "text": [
            "100%|██████████| 346/346 [00:15<00:00, 22.01it/s]\n"
          ]
        },
        {
          "output_type": "stream",
          "name": "stdout",
          "text": [
            "Epoch 10 | Train Loss: 0.2142 | val_accuracy: 69.69%\n"
          ]
        },
        {
          "output_type": "stream",
          "name": "stderr",
          "text": [
            "100%|██████████| 346/346 [00:15<00:00, 22.35it/s]\n"
          ]
        },
        {
          "output_type": "stream",
          "name": "stdout",
          "text": [
            "Epoch 11 | Train Loss: 0.2111 | val_accuracy: 67.27%\n"
          ]
        },
        {
          "output_type": "stream",
          "name": "stderr",
          "text": [
            "100%|██████████| 346/346 [00:16<00:00, 20.72it/s]\n"
          ]
        },
        {
          "output_type": "stream",
          "name": "stdout",
          "text": [
            "Epoch 12 | Train Loss: 0.2133 | val_accuracy: 70.24%\n"
          ]
        },
        {
          "output_type": "stream",
          "name": "stderr",
          "text": [
            "100%|██████████| 346/346 [00:16<00:00, 21.58it/s]\n"
          ]
        },
        {
          "output_type": "stream",
          "name": "stdout",
          "text": [
            "Epoch 13 | Train Loss: 0.1837 | val_accuracy: 70.39%\n"
          ]
        },
        {
          "output_type": "stream",
          "name": "stderr",
          "text": [
            "100%|██████████| 346/346 [00:15<00:00, 22.46it/s]\n"
          ]
        },
        {
          "output_type": "stream",
          "name": "stdout",
          "text": [
            "Epoch 14 | Train Loss: 0.1660 | val_accuracy: 71.33%\n"
          ]
        },
        {
          "output_type": "stream",
          "name": "stderr",
          "text": [
            "100%|██████████| 346/346 [00:15<00:00, 22.53it/s]\n"
          ]
        },
        {
          "output_type": "stream",
          "name": "stdout",
          "text": [
            "Epoch 15 | Train Loss: 0.1710 | val_accuracy: 71.65%\n"
          ]
        },
        {
          "output_type": "display_data",
          "data": {
            "text/plain": [
              "<IPython.core.display.HTML object>"
            ],
            "text/html": []
          },
          "metadata": {}
        },
        {
          "output_type": "display_data",
          "data": {
            "text/plain": [
              "<IPython.core.display.HTML object>"
            ],
            "text/html": [
              "<br>    <style><br>        .wandb-row {<br>            display: flex;<br>            flex-direction: row;<br>            flex-wrap: wrap;<br>            justify-content: flex-start;<br>            width: 100%;<br>        }<br>        .wandb-col {<br>            display: flex;<br>            flex-direction: column;<br>            flex-basis: 100%;<br>            flex: 1;<br>            padding: 10px;<br>        }<br>    </style><br><div class=\"wandb-row\"><div class=\"wandb-col\"><h3>Run history:</h3><br/><table class=\"wandb\"><tr><td>tr_loss</td><td>█▃▂▂▂▂▁▁▁▁▁▁▁▁▁</td></tr><tr><td>val_accuracy</td><td>▁▄▅▆▆▇▇▇▇▇▆████</td></tr></table><br/></div><div class=\"wandb-col\"><h3>Run summary:</h3><br/><table class=\"wandb\"><tr><td>tr_loss</td><td>0.17101</td></tr><tr><td>val_accuracy</td><td>71.64651</td></tr></table><br/></div></div>"
            ]
          },
          "metadata": {}
        },
        {
          "output_type": "display_data",
          "data": {
            "text/plain": [
              "<IPython.core.display.HTML object>"
            ],
            "text/html": [
              " View run <strong style=\"color:#cdcd00\">cty_lstm_hsz_256_emsz_128_dr_0.2_lr_0.001</strong> at: <a href='https://wandb.ai/arunangshudutta218-iitm/dl_assgn_3_q_5a/runs/vvsug88y' target=\"_blank\">https://wandb.ai/arunangshudutta218-iitm/dl_assgn_3_q_5a/runs/vvsug88y</a><br> View project at: <a href='https://wandb.ai/arunangshudutta218-iitm/dl_assgn_3_q_5a' target=\"_blank\">https://wandb.ai/arunangshudutta218-iitm/dl_assgn_3_q_5a</a><br>Synced 5 W&B file(s), 0 media file(s), 0 artifact file(s) and 0 other file(s)"
            ]
          },
          "metadata": {}
        },
        {
          "output_type": "display_data",
          "data": {
            "text/plain": [
              "<IPython.core.display.HTML object>"
            ],
            "text/html": [
              "Find logs at: <code>./wandb/run-20250519_222121-vvsug88y/logs</code>"
            ]
          },
          "metadata": {}
        },
        {
          "output_type": "stream",
          "name": "stderr",
          "text": [
            "\u001b[34m\u001b[1mwandb\u001b[0m: Agent Starting Run: z1hpznl5 with config:\n",
            "\u001b[34m\u001b[1mwandb\u001b[0m: \tcell_type: lstm\n",
            "\u001b[34m\u001b[1mwandb\u001b[0m: \tdropout: 0.2\n",
            "\u001b[34m\u001b[1mwandb\u001b[0m: \tembedding_size: 128\n",
            "\u001b[34m\u001b[1mwandb\u001b[0m: \thidden_layer_size: 256\n",
            "\u001b[34m\u001b[1mwandb\u001b[0m: \tlearning_rate: 0.001\n"
          ]
        },
        {
          "output_type": "display_data",
          "data": {
            "text/plain": [
              "<IPython.core.display.HTML object>"
            ],
            "text/html": [
              "Tracking run with wandb version 0.19.11"
            ]
          },
          "metadata": {}
        },
        {
          "output_type": "display_data",
          "data": {
            "text/plain": [
              "<IPython.core.display.HTML object>"
            ],
            "text/html": [
              "Run data is saved locally in <code>/content/wandb/run-20250519_222557-z1hpznl5</code>"
            ]
          },
          "metadata": {}
        },
        {
          "output_type": "display_data",
          "data": {
            "text/plain": [
              "<IPython.core.display.HTML object>"
            ],
            "text/html": [
              "Syncing run <strong><a href='https://wandb.ai/arunangshudutta218-iitm/dl_assgn_3_q_5a/runs/z1hpznl5' target=\"_blank\">grateful-sweep-20</a></strong> to <a href='https://wandb.ai/arunangshudutta218-iitm/dl_assgn_3_q_5a' target=\"_blank\">Weights & Biases</a> (<a href='https://wandb.me/developer-guide' target=\"_blank\">docs</a>)<br>Sweep page: <a href='https://wandb.ai/arunangshudutta218-iitm/dl_assgn_3_q_5a/sweeps/fwc4vyn0' target=\"_blank\">https://wandb.ai/arunangshudutta218-iitm/dl_assgn_3_q_5a/sweeps/fwc4vyn0</a>"
            ]
          },
          "metadata": {}
        },
        {
          "output_type": "display_data",
          "data": {
            "text/plain": [
              "<IPython.core.display.HTML object>"
            ],
            "text/html": [
              " View project at <a href='https://wandb.ai/arunangshudutta218-iitm/dl_assgn_3_q_5a' target=\"_blank\">https://wandb.ai/arunangshudutta218-iitm/dl_assgn_3_q_5a</a>"
            ]
          },
          "metadata": {}
        },
        {
          "output_type": "display_data",
          "data": {
            "text/plain": [
              "<IPython.core.display.HTML object>"
            ],
            "text/html": [
              " View sweep at <a href='https://wandb.ai/arunangshudutta218-iitm/dl_assgn_3_q_5a/sweeps/fwc4vyn0' target=\"_blank\">https://wandb.ai/arunangshudutta218-iitm/dl_assgn_3_q_5a/sweeps/fwc4vyn0</a>"
            ]
          },
          "metadata": {}
        },
        {
          "output_type": "display_data",
          "data": {
            "text/plain": [
              "<IPython.core.display.HTML object>"
            ],
            "text/html": [
              " View run at <a href='https://wandb.ai/arunangshudutta218-iitm/dl_assgn_3_q_5a/runs/z1hpznl5' target=\"_blank\">https://wandb.ai/arunangshudutta218-iitm/dl_assgn_3_q_5a/runs/z1hpznl5</a>"
            ]
          },
          "metadata": {}
        },
        {
          "output_type": "stream",
          "name": "stderr",
          "text": [
            "100%|██████████| 346/346 [00:15<00:00, 21.70it/s]\n"
          ]
        },
        {
          "output_type": "stream",
          "name": "stdout",
          "text": [
            "Epoch 1 | Train Loss: 1.6316 | val_accuracy: 46.98%\n"
          ]
        },
        {
          "output_type": "stream",
          "name": "stderr",
          "text": [
            "100%|██████████| 346/346 [00:15<00:00, 22.44it/s]\n"
          ]
        },
        {
          "output_type": "stream",
          "name": "stdout",
          "text": [
            "Epoch 2 | Train Loss: 0.6078 | val_accuracy: 59.42%\n"
          ]
        },
        {
          "output_type": "stream",
          "name": "stderr",
          "text": [
            "100%|██████████| 346/346 [00:15<00:00, 22.49it/s]\n"
          ]
        },
        {
          "output_type": "stream",
          "name": "stdout",
          "text": [
            "Epoch 3 | Train Loss: 0.4330 | val_accuracy: 63.94%\n"
          ]
        },
        {
          "output_type": "stream",
          "name": "stderr",
          "text": [
            "100%|██████████| 346/346 [00:15<00:00, 21.95it/s]\n"
          ]
        },
        {
          "output_type": "stream",
          "name": "stdout",
          "text": [
            "Epoch 4 | Train Loss: 0.3404 | val_accuracy: 66.98%\n"
          ]
        },
        {
          "output_type": "stream",
          "name": "stderr",
          "text": [
            "100%|██████████| 346/346 [00:15<00:00, 22.29it/s]\n"
          ]
        },
        {
          "output_type": "stream",
          "name": "stdout",
          "text": [
            "Epoch 5 | Train Loss: 0.2997 | val_accuracy: 66.20%\n"
          ]
        },
        {
          "output_type": "stream",
          "name": "stderr",
          "text": [
            "100%|██████████| 346/346 [00:15<00:00, 22.37it/s]\n"
          ]
        },
        {
          "output_type": "stream",
          "name": "stdout",
          "text": [
            "Epoch 6 | Train Loss: 0.2675 | val_accuracy: 68.89%\n"
          ]
        },
        {
          "output_type": "stream",
          "name": "stderr",
          "text": [
            "100%|██████████| 346/346 [00:15<00:00, 22.41it/s]\n"
          ]
        },
        {
          "output_type": "stream",
          "name": "stdout",
          "text": [
            "Epoch 7 | Train Loss: 0.2382 | val_accuracy: 69.26%\n"
          ]
        },
        {
          "output_type": "stream",
          "name": "stderr",
          "text": [
            "100%|██████████| 346/346 [00:16<00:00, 21.31it/s]\n"
          ]
        },
        {
          "output_type": "stream",
          "name": "stdout",
          "text": [
            "Epoch 8 | Train Loss: 0.2169 | val_accuracy: 70.13%\n"
          ]
        },
        {
          "output_type": "stream",
          "name": "stderr",
          "text": [
            "100%|██████████| 346/346 [00:15<00:00, 22.30it/s]\n"
          ]
        },
        {
          "output_type": "stream",
          "name": "stdout",
          "text": [
            "Epoch 9 | Train Loss: 0.2090 | val_accuracy: 70.73%\n"
          ]
        },
        {
          "output_type": "stream",
          "name": "stderr",
          "text": [
            "100%|██████████| 346/346 [00:16<00:00, 20.80it/s]\n"
          ]
        },
        {
          "output_type": "stream",
          "name": "stdout",
          "text": [
            "Epoch 10 | Train Loss: 0.2435 | val_accuracy: 68.92%\n"
          ]
        },
        {
          "output_type": "stream",
          "name": "stderr",
          "text": [
            "100%|██████████| 346/346 [00:15<00:00, 21.95it/s]\n"
          ]
        },
        {
          "output_type": "stream",
          "name": "stdout",
          "text": [
            "Epoch 11 | Train Loss: 0.2207 | val_accuracy: 71.38%\n"
          ]
        },
        {
          "output_type": "stream",
          "name": "stderr",
          "text": [
            "100%|██████████| 346/346 [00:15<00:00, 22.46it/s]\n"
          ]
        },
        {
          "output_type": "stream",
          "name": "stdout",
          "text": [
            "Epoch 12 | Train Loss: 0.1761 | val_accuracy: 71.42%\n"
          ]
        },
        {
          "output_type": "stream",
          "name": "stderr",
          "text": [
            "100%|██████████| 346/346 [00:15<00:00, 22.25it/s]\n"
          ]
        },
        {
          "output_type": "stream",
          "name": "stdout",
          "text": [
            "Epoch 13 | Train Loss: 0.1627 | val_accuracy: 71.39%\n"
          ]
        },
        {
          "output_type": "stream",
          "name": "stderr",
          "text": [
            "100%|██████████| 346/346 [00:15<00:00, 21.94it/s]\n"
          ]
        },
        {
          "output_type": "stream",
          "name": "stdout",
          "text": [
            "Epoch 14 | Train Loss: 0.1603 | val_accuracy: 71.42%\n"
          ]
        },
        {
          "output_type": "stream",
          "name": "stderr",
          "text": [
            "100%|██████████| 346/346 [00:16<00:00, 21.01it/s]\n"
          ]
        },
        {
          "output_type": "stream",
          "name": "stdout",
          "text": [
            "Epoch 15 | Train Loss: 0.1652 | val_accuracy: 71.93%\n"
          ]
        },
        {
          "output_type": "display_data",
          "data": {
            "text/plain": [
              "<IPython.core.display.HTML object>"
            ],
            "text/html": []
          },
          "metadata": {}
        },
        {
          "output_type": "display_data",
          "data": {
            "text/plain": [
              "<IPython.core.display.HTML object>"
            ],
            "text/html": [
              "<br>    <style><br>        .wandb-row {<br>            display: flex;<br>            flex-direction: row;<br>            flex-wrap: wrap;<br>            justify-content: flex-start;<br>            width: 100%;<br>        }<br>        .wandb-col {<br>            display: flex;<br>            flex-direction: column;<br>            flex-basis: 100%;<br>            flex: 1;<br>            padding: 10px;<br>        }<br>    </style><br><div class=\"wandb-row\"><div class=\"wandb-col\"><h3>Run history:</h3><br/><table class=\"wandb\"><tr><td>tr_loss</td><td>█▃▂▂▂▂▁▁▁▁▁▁▁▁▁</td></tr><tr><td>val_accuracy</td><td>▁▄▆▇▆▇▇▇█▇█████</td></tr></table><br/></div><div class=\"wandb-col\"><h3>Run summary:</h3><br/><table class=\"wandb\"><tr><td>tr_loss</td><td>0.16517</td></tr><tr><td>val_accuracy</td><td>71.92773</td></tr></table><br/></div></div>"
            ]
          },
          "metadata": {}
        },
        {
          "output_type": "display_data",
          "data": {
            "text/plain": [
              "<IPython.core.display.HTML object>"
            ],
            "text/html": [
              " View run <strong style=\"color:#cdcd00\">cty_lstm_hsz_256_emsz_128_dr_0.2_lr_0.001</strong> at: <a href='https://wandb.ai/arunangshudutta218-iitm/dl_assgn_3_q_5a/runs/z1hpznl5' target=\"_blank\">https://wandb.ai/arunangshudutta218-iitm/dl_assgn_3_q_5a/runs/z1hpznl5</a><br> View project at: <a href='https://wandb.ai/arunangshudutta218-iitm/dl_assgn_3_q_5a' target=\"_blank\">https://wandb.ai/arunangshudutta218-iitm/dl_assgn_3_q_5a</a><br>Synced 5 W&B file(s), 0 media file(s), 0 artifact file(s) and 0 other file(s)"
            ]
          },
          "metadata": {}
        },
        {
          "output_type": "display_data",
          "data": {
            "text/plain": [
              "<IPython.core.display.HTML object>"
            ],
            "text/html": [
              "Find logs at: <code>./wandb/run-20250519_222557-z1hpznl5/logs</code>"
            ]
          },
          "metadata": {}
        },
        {
          "output_type": "stream",
          "name": "stderr",
          "text": [
            "\u001b[34m\u001b[1mwandb\u001b[0m: Agent Starting Run: j1cr30gi with config:\n",
            "\u001b[34m\u001b[1mwandb\u001b[0m: \tcell_type: lstm\n",
            "\u001b[34m\u001b[1mwandb\u001b[0m: \tdropout: 0.2\n",
            "\u001b[34m\u001b[1mwandb\u001b[0m: \tembedding_size: 128\n",
            "\u001b[34m\u001b[1mwandb\u001b[0m: \thidden_layer_size: 256\n",
            "\u001b[34m\u001b[1mwandb\u001b[0m: \tlearning_rate: 0.001\n"
          ]
        },
        {
          "output_type": "display_data",
          "data": {
            "text/plain": [
              "<IPython.core.display.HTML object>"
            ],
            "text/html": [
              "Tracking run with wandb version 0.19.11"
            ]
          },
          "metadata": {}
        },
        {
          "output_type": "display_data",
          "data": {
            "text/plain": [
              "<IPython.core.display.HTML object>"
            ],
            "text/html": [
              "Run data is saved locally in <code>/content/wandb/run-20250519_223036-j1cr30gi</code>"
            ]
          },
          "metadata": {}
        },
        {
          "output_type": "display_data",
          "data": {
            "text/plain": [
              "<IPython.core.display.HTML object>"
            ],
            "text/html": [
              "Syncing run <strong><a href='https://wandb.ai/arunangshudutta218-iitm/dl_assgn_3_q_5a/runs/j1cr30gi' target=\"_blank\">effortless-sweep-21</a></strong> to <a href='https://wandb.ai/arunangshudutta218-iitm/dl_assgn_3_q_5a' target=\"_blank\">Weights & Biases</a> (<a href='https://wandb.me/developer-guide' target=\"_blank\">docs</a>)<br>Sweep page: <a href='https://wandb.ai/arunangshudutta218-iitm/dl_assgn_3_q_5a/sweeps/fwc4vyn0' target=\"_blank\">https://wandb.ai/arunangshudutta218-iitm/dl_assgn_3_q_5a/sweeps/fwc4vyn0</a>"
            ]
          },
          "metadata": {}
        },
        {
          "output_type": "display_data",
          "data": {
            "text/plain": [
              "<IPython.core.display.HTML object>"
            ],
            "text/html": [
              " View project at <a href='https://wandb.ai/arunangshudutta218-iitm/dl_assgn_3_q_5a' target=\"_blank\">https://wandb.ai/arunangshudutta218-iitm/dl_assgn_3_q_5a</a>"
            ]
          },
          "metadata": {}
        },
        {
          "output_type": "display_data",
          "data": {
            "text/plain": [
              "<IPython.core.display.HTML object>"
            ],
            "text/html": [
              " View sweep at <a href='https://wandb.ai/arunangshudutta218-iitm/dl_assgn_3_q_5a/sweeps/fwc4vyn0' target=\"_blank\">https://wandb.ai/arunangshudutta218-iitm/dl_assgn_3_q_5a/sweeps/fwc4vyn0</a>"
            ]
          },
          "metadata": {}
        },
        {
          "output_type": "display_data",
          "data": {
            "text/plain": [
              "<IPython.core.display.HTML object>"
            ],
            "text/html": [
              " View run at <a href='https://wandb.ai/arunangshudutta218-iitm/dl_assgn_3_q_5a/runs/j1cr30gi' target=\"_blank\">https://wandb.ai/arunangshudutta218-iitm/dl_assgn_3_q_5a/runs/j1cr30gi</a>"
            ]
          },
          "metadata": {}
        },
        {
          "output_type": "stream",
          "name": "stderr",
          "text": [
            "100%|██████████| 346/346 [00:15<00:00, 22.52it/s]\n"
          ]
        },
        {
          "output_type": "stream",
          "name": "stdout",
          "text": [
            "Epoch 1 | Train Loss: 1.6605 | val_accuracy: 49.90%\n"
          ]
        },
        {
          "output_type": "stream",
          "name": "stderr",
          "text": [
            "100%|██████████| 346/346 [00:15<00:00, 22.24it/s]\n"
          ]
        },
        {
          "output_type": "stream",
          "name": "stdout",
          "text": [
            "Epoch 2 | Train Loss: 0.6210 | val_accuracy: 60.01%\n"
          ]
        },
        {
          "output_type": "stream",
          "name": "stderr",
          "text": [
            "100%|██████████| 346/346 [00:15<00:00, 21.78it/s]\n"
          ]
        },
        {
          "output_type": "stream",
          "name": "stdout",
          "text": [
            "Epoch 3 | Train Loss: 0.4459 | val_accuracy: 64.19%\n"
          ]
        },
        {
          "output_type": "stream",
          "name": "stderr",
          "text": [
            "100%|██████████| 346/346 [00:15<00:00, 22.42it/s]\n"
          ]
        },
        {
          "output_type": "stream",
          "name": "stdout",
          "text": [
            "Epoch 4 | Train Loss: 0.3581 | val_accuracy: 65.87%\n"
          ]
        },
        {
          "output_type": "stream",
          "name": "stderr",
          "text": [
            "100%|██████████| 346/346 [00:15<00:00, 22.47it/s]\n"
          ]
        },
        {
          "output_type": "stream",
          "name": "stdout",
          "text": [
            "Epoch 5 | Train Loss: 0.3119 | val_accuracy: 67.03%\n"
          ]
        },
        {
          "output_type": "stream",
          "name": "stderr",
          "text": [
            "100%|██████████| 346/346 [00:15<00:00, 22.12it/s]\n"
          ]
        },
        {
          "output_type": "stream",
          "name": "stdout",
          "text": [
            "Epoch 6 | Train Loss: 0.2714 | val_accuracy: 67.32%\n"
          ]
        },
        {
          "output_type": "stream",
          "name": "stderr",
          "text": [
            "100%|██████████| 346/346 [00:17<00:00, 20.16it/s]\n"
          ]
        },
        {
          "output_type": "stream",
          "name": "stdout",
          "text": [
            "Epoch 7 | Train Loss: 0.2729 | val_accuracy: 69.47%\n"
          ]
        },
        {
          "output_type": "stream",
          "name": "stderr",
          "text": [
            "100%|██████████| 346/346 [00:15<00:00, 22.45it/s]\n"
          ]
        },
        {
          "output_type": "stream",
          "name": "stdout",
          "text": [
            "Epoch 8 | Train Loss: 0.2240 | val_accuracy: 69.93%\n"
          ]
        },
        {
          "output_type": "stream",
          "name": "stderr",
          "text": [
            "100%|██████████| 346/346 [00:15<00:00, 22.50it/s]\n"
          ]
        },
        {
          "output_type": "stream",
          "name": "stdout",
          "text": [
            "Epoch 9 | Train Loss: 0.2085 | val_accuracy: 70.70%\n"
          ]
        },
        {
          "output_type": "stream",
          "name": "stderr",
          "text": [
            "100%|██████████| 346/346 [00:16<00:00, 21.61it/s]\n"
          ]
        },
        {
          "output_type": "stream",
          "name": "stdout",
          "text": [
            "Epoch 10 | Train Loss: 0.1898 | val_accuracy: 70.80%\n"
          ]
        },
        {
          "output_type": "stream",
          "name": "stderr",
          "text": [
            "100%|██████████| 346/346 [00:15<00:00, 22.47it/s]\n"
          ]
        },
        {
          "output_type": "stream",
          "name": "stdout",
          "text": [
            "Epoch 11 | Train Loss: 0.1759 | val_accuracy: 71.85%\n"
          ]
        },
        {
          "output_type": "stream",
          "name": "stderr",
          "text": [
            "100%|██████████| 346/346 [00:15<00:00, 22.57it/s]\n"
          ]
        },
        {
          "output_type": "stream",
          "name": "stdout",
          "text": [
            "Epoch 12 | Train Loss: 0.1684 | val_accuracy: 71.19%\n"
          ]
        },
        {
          "output_type": "stream",
          "name": "stderr",
          "text": [
            "100%|██████████| 346/346 [00:15<00:00, 22.52it/s]\n"
          ]
        },
        {
          "output_type": "stream",
          "name": "stdout",
          "text": [
            "Epoch 13 | Train Loss: 0.1643 | val_accuracy: 71.40%\n"
          ]
        },
        {
          "output_type": "stream",
          "name": "stderr",
          "text": [
            "100%|██████████| 346/346 [00:16<00:00, 21.16it/s]\n"
          ]
        },
        {
          "output_type": "stream",
          "name": "stdout",
          "text": [
            "Epoch 14 | Train Loss: 0.1724 | val_accuracy: 71.45%\n"
          ]
        },
        {
          "output_type": "stream",
          "name": "stderr",
          "text": [
            "100%|██████████| 346/346 [00:15<00:00, 22.65it/s]\n"
          ]
        },
        {
          "output_type": "stream",
          "name": "stdout",
          "text": [
            "Epoch 15 | Train Loss: 0.1625 | val_accuracy: 71.35%\n"
          ]
        },
        {
          "output_type": "display_data",
          "data": {
            "text/plain": [
              "<IPython.core.display.HTML object>"
            ],
            "text/html": []
          },
          "metadata": {}
        },
        {
          "output_type": "display_data",
          "data": {
            "text/plain": [
              "<IPython.core.display.HTML object>"
            ],
            "text/html": [
              "<br>    <style><br>        .wandb-row {<br>            display: flex;<br>            flex-direction: row;<br>            flex-wrap: wrap;<br>            justify-content: flex-start;<br>            width: 100%;<br>        }<br>        .wandb-col {<br>            display: flex;<br>            flex-direction: column;<br>            flex-basis: 100%;<br>            flex: 1;<br>            padding: 10px;<br>        }<br>    </style><br><div class=\"wandb-row\"><div class=\"wandb-col\"><h3>Run history:</h3><br/><table class=\"wandb\"><tr><td>tr_loss</td><td>█▃▂▂▂▂▂▁▁▁▁▁▁▁▁</td></tr><tr><td>val_accuracy</td><td>▁▄▆▆▆▇▇▇███████</td></tr></table><br/></div><div class=\"wandb-col\"><h3>Run summary:</h3><br/><table class=\"wandb\"><tr><td>tr_loss</td><td>0.16255</td></tr><tr><td>val_accuracy</td><td>71.34987</td></tr></table><br/></div></div>"
            ]
          },
          "metadata": {}
        },
        {
          "output_type": "display_data",
          "data": {
            "text/plain": [
              "<IPython.core.display.HTML object>"
            ],
            "text/html": [
              " View run <strong style=\"color:#cdcd00\">cty_lstm_hsz_256_emsz_128_dr_0.2_lr_0.001</strong> at: <a href='https://wandb.ai/arunangshudutta218-iitm/dl_assgn_3_q_5a/runs/j1cr30gi' target=\"_blank\">https://wandb.ai/arunangshudutta218-iitm/dl_assgn_3_q_5a/runs/j1cr30gi</a><br> View project at: <a href='https://wandb.ai/arunangshudutta218-iitm/dl_assgn_3_q_5a' target=\"_blank\">https://wandb.ai/arunangshudutta218-iitm/dl_assgn_3_q_5a</a><br>Synced 5 W&B file(s), 0 media file(s), 0 artifact file(s) and 0 other file(s)"
            ]
          },
          "metadata": {}
        },
        {
          "output_type": "display_data",
          "data": {
            "text/plain": [
              "<IPython.core.display.HTML object>"
            ],
            "text/html": [
              "Find logs at: <code>./wandb/run-20250519_223036-j1cr30gi/logs</code>"
            ]
          },
          "metadata": {}
        },
        {
          "output_type": "stream",
          "name": "stderr",
          "text": [
            "\u001b[34m\u001b[1mwandb\u001b[0m: Agent Starting Run: 33v7wfi9 with config:\n",
            "\u001b[34m\u001b[1mwandb\u001b[0m: \tcell_type: lstm\n",
            "\u001b[34m\u001b[1mwandb\u001b[0m: \tdropout: 0.2\n",
            "\u001b[34m\u001b[1mwandb\u001b[0m: \tembedding_size: 128\n",
            "\u001b[34m\u001b[1mwandb\u001b[0m: \thidden_layer_size: 256\n",
            "\u001b[34m\u001b[1mwandb\u001b[0m: \tlearning_rate: 0.001\n"
          ]
        },
        {
          "output_type": "display_data",
          "data": {
            "text/plain": [
              "<IPython.core.display.HTML object>"
            ],
            "text/html": [
              "Tracking run with wandb version 0.19.11"
            ]
          },
          "metadata": {}
        },
        {
          "output_type": "display_data",
          "data": {
            "text/plain": [
              "<IPython.core.display.HTML object>"
            ],
            "text/html": [
              "Run data is saved locally in <code>/content/wandb/run-20250519_223514-33v7wfi9</code>"
            ]
          },
          "metadata": {}
        },
        {
          "output_type": "display_data",
          "data": {
            "text/plain": [
              "<IPython.core.display.HTML object>"
            ],
            "text/html": [
              "Syncing run <strong><a href='https://wandb.ai/arunangshudutta218-iitm/dl_assgn_3_q_5a/runs/33v7wfi9' target=\"_blank\">stellar-sweep-22</a></strong> to <a href='https://wandb.ai/arunangshudutta218-iitm/dl_assgn_3_q_5a' target=\"_blank\">Weights & Biases</a> (<a href='https://wandb.me/developer-guide' target=\"_blank\">docs</a>)<br>Sweep page: <a href='https://wandb.ai/arunangshudutta218-iitm/dl_assgn_3_q_5a/sweeps/fwc4vyn0' target=\"_blank\">https://wandb.ai/arunangshudutta218-iitm/dl_assgn_3_q_5a/sweeps/fwc4vyn0</a>"
            ]
          },
          "metadata": {}
        },
        {
          "output_type": "display_data",
          "data": {
            "text/plain": [
              "<IPython.core.display.HTML object>"
            ],
            "text/html": [
              " View project at <a href='https://wandb.ai/arunangshudutta218-iitm/dl_assgn_3_q_5a' target=\"_blank\">https://wandb.ai/arunangshudutta218-iitm/dl_assgn_3_q_5a</a>"
            ]
          },
          "metadata": {}
        },
        {
          "output_type": "display_data",
          "data": {
            "text/plain": [
              "<IPython.core.display.HTML object>"
            ],
            "text/html": [
              " View sweep at <a href='https://wandb.ai/arunangshudutta218-iitm/dl_assgn_3_q_5a/sweeps/fwc4vyn0' target=\"_blank\">https://wandb.ai/arunangshudutta218-iitm/dl_assgn_3_q_5a/sweeps/fwc4vyn0</a>"
            ]
          },
          "metadata": {}
        },
        {
          "output_type": "display_data",
          "data": {
            "text/plain": [
              "<IPython.core.display.HTML object>"
            ],
            "text/html": [
              " View run at <a href='https://wandb.ai/arunangshudutta218-iitm/dl_assgn_3_q_5a/runs/33v7wfi9' target=\"_blank\">https://wandb.ai/arunangshudutta218-iitm/dl_assgn_3_q_5a/runs/33v7wfi9</a>"
            ]
          },
          "metadata": {}
        },
        {
          "output_type": "stream",
          "name": "stderr",
          "text": [
            "100%|██████████| 346/346 [00:16<00:00, 21.15it/s]\n"
          ]
        },
        {
          "output_type": "stream",
          "name": "stdout",
          "text": [
            "Epoch 1 | Train Loss: 1.6494 | val_accuracy: 51.97%\n"
          ]
        },
        {
          "output_type": "stream",
          "name": "stderr",
          "text": [
            "100%|██████████| 346/346 [00:15<00:00, 22.13it/s]\n"
          ]
        },
        {
          "output_type": "stream",
          "name": "stdout",
          "text": [
            "Epoch 2 | Train Loss: 0.6015 | val_accuracy: 61.48%\n"
          ]
        },
        {
          "output_type": "stream",
          "name": "stderr",
          "text": [
            "100%|██████████| 346/346 [00:15<00:00, 22.13it/s]\n"
          ]
        },
        {
          "output_type": "stream",
          "name": "stdout",
          "text": [
            "Epoch 3 | Train Loss: 0.4353 | val_accuracy: 64.10%\n"
          ]
        },
        {
          "output_type": "stream",
          "name": "stderr",
          "text": [
            "100%|██████████| 346/346 [00:16<00:00, 20.87it/s]\n"
          ]
        },
        {
          "output_type": "stream",
          "name": "stdout",
          "text": [
            "Epoch 4 | Train Loss: 0.3411 | val_accuracy: 66.53%\n"
          ]
        },
        {
          "output_type": "stream",
          "name": "stderr",
          "text": [
            "100%|██████████| 346/346 [00:16<00:00, 21.43it/s]\n"
          ]
        },
        {
          "output_type": "stream",
          "name": "stdout",
          "text": [
            "Epoch 5 | Train Loss: 0.2955 | val_accuracy: 66.72%\n"
          ]
        },
        {
          "output_type": "stream",
          "name": "stderr",
          "text": [
            "100%|██████████| 346/346 [00:15<00:00, 21.97it/s]\n"
          ]
        },
        {
          "output_type": "stream",
          "name": "stdout",
          "text": [
            "Epoch 6 | Train Loss: 0.2636 | val_accuracy: 68.69%\n"
          ]
        },
        {
          "output_type": "stream",
          "name": "stderr",
          "text": [
            "100%|██████████| 346/346 [00:15<00:00, 22.05it/s]\n"
          ]
        },
        {
          "output_type": "stream",
          "name": "stdout",
          "text": [
            "Epoch 7 | Train Loss: 0.2443 | val_accuracy: 69.36%\n"
          ]
        },
        {
          "output_type": "stream",
          "name": "stderr",
          "text": [
            "100%|██████████| 346/346 [00:16<00:00, 20.94it/s]\n"
          ]
        },
        {
          "output_type": "stream",
          "name": "stdout",
          "text": [
            "Epoch 8 | Train Loss: 0.2404 | val_accuracy: 69.99%\n"
          ]
        },
        {
          "output_type": "stream",
          "name": "stderr",
          "text": [
            "100%|██████████| 346/346 [00:15<00:00, 22.28it/s]\n"
          ]
        },
        {
          "output_type": "stream",
          "name": "stdout",
          "text": [
            "Epoch 9 | Train Loss: 0.2175 | val_accuracy: 70.21%\n"
          ]
        },
        {
          "output_type": "stream",
          "name": "stderr",
          "text": [
            "100%|██████████| 346/346 [00:15<00:00, 22.04it/s]\n"
          ]
        },
        {
          "output_type": "stream",
          "name": "stdout",
          "text": [
            "Epoch 10 | Train Loss: 0.1920 | val_accuracy: 70.75%\n"
          ]
        },
        {
          "output_type": "stream",
          "name": "stderr",
          "text": [
            "100%|██████████| 346/346 [00:15<00:00, 22.13it/s]\n"
          ]
        },
        {
          "output_type": "stream",
          "name": "stdout",
          "text": [
            "Epoch 11 | Train Loss: 0.1756 | val_accuracy: 70.48%\n"
          ]
        },
        {
          "output_type": "stream",
          "name": "stderr",
          "text": [
            "100%|██████████| 346/346 [00:15<00:00, 21.64it/s]\n"
          ]
        },
        {
          "output_type": "stream",
          "name": "stdout",
          "text": [
            "Epoch 12 | Train Loss: 0.1640 | val_accuracy: 71.27%\n"
          ]
        },
        {
          "output_type": "stream",
          "name": "stderr",
          "text": [
            "100%|██████████| 346/346 [00:15<00:00, 22.14it/s]\n"
          ]
        },
        {
          "output_type": "stream",
          "name": "stdout",
          "text": [
            "Epoch 13 | Train Loss: 0.1574 | val_accuracy: 71.62%\n"
          ]
        },
        {
          "output_type": "stream",
          "name": "stderr",
          "text": [
            "100%|██████████| 346/346 [00:15<00:00, 22.15it/s]\n"
          ]
        },
        {
          "output_type": "stream",
          "name": "stdout",
          "text": [
            "Epoch 14 | Train Loss: 0.1747 | val_accuracy: 71.31%\n"
          ]
        },
        {
          "output_type": "stream",
          "name": "stderr",
          "text": [
            "100%|██████████| 346/346 [00:16<00:00, 21.09it/s]\n"
          ]
        },
        {
          "output_type": "stream",
          "name": "stdout",
          "text": [
            "Epoch 15 | Train Loss: 0.1525 | val_accuracy: 71.58%\n"
          ]
        },
        {
          "output_type": "display_data",
          "data": {
            "text/plain": [
              "<IPython.core.display.HTML object>"
            ],
            "text/html": []
          },
          "metadata": {}
        },
        {
          "output_type": "display_data",
          "data": {
            "text/plain": [
              "<IPython.core.display.HTML object>"
            ],
            "text/html": [
              "<br>    <style><br>        .wandb-row {<br>            display: flex;<br>            flex-direction: row;<br>            flex-wrap: wrap;<br>            justify-content: flex-start;<br>            width: 100%;<br>        }<br>        .wandb-col {<br>            display: flex;<br>            flex-direction: column;<br>            flex-basis: 100%;<br>            flex: 1;<br>            padding: 10px;<br>        }<br>    </style><br><div class=\"wandb-row\"><div class=\"wandb-col\"><h3>Run history:</h3><br/><table class=\"wandb\"><tr><td>tr_loss</td><td>█▃▂▂▂▂▁▁▁▁▁▁▁▁▁</td></tr><tr><td>val_accuracy</td><td>▁▄▅▆▆▇▇▇▇██████</td></tr></table><br/></div><div class=\"wandb-col\"><h3>Run summary:</h3><br/><table class=\"wandb\"><tr><td>tr_loss</td><td>0.15245</td></tr><tr><td>val_accuracy</td><td>71.58102</td></tr></table><br/></div></div>"
            ]
          },
          "metadata": {}
        },
        {
          "output_type": "display_data",
          "data": {
            "text/plain": [
              "<IPython.core.display.HTML object>"
            ],
            "text/html": [
              " View run <strong style=\"color:#cdcd00\">cty_lstm_hsz_256_emsz_128_dr_0.2_lr_0.001</strong> at: <a href='https://wandb.ai/arunangshudutta218-iitm/dl_assgn_3_q_5a/runs/33v7wfi9' target=\"_blank\">https://wandb.ai/arunangshudutta218-iitm/dl_assgn_3_q_5a/runs/33v7wfi9</a><br> View project at: <a href='https://wandb.ai/arunangshudutta218-iitm/dl_assgn_3_q_5a' target=\"_blank\">https://wandb.ai/arunangshudutta218-iitm/dl_assgn_3_q_5a</a><br>Synced 5 W&B file(s), 0 media file(s), 0 artifact file(s) and 0 other file(s)"
            ]
          },
          "metadata": {}
        },
        {
          "output_type": "display_data",
          "data": {
            "text/plain": [
              "<IPython.core.display.HTML object>"
            ],
            "text/html": [
              "Find logs at: <code>./wandb/run-20250519_223514-33v7wfi9/logs</code>"
            ]
          },
          "metadata": {}
        },
        {
          "output_type": "stream",
          "name": "stderr",
          "text": [
            "\u001b[34m\u001b[1mwandb\u001b[0m: Agent Starting Run: yzrpch0i with config:\n",
            "\u001b[34m\u001b[1mwandb\u001b[0m: \tcell_type: lstm\n",
            "\u001b[34m\u001b[1mwandb\u001b[0m: \tdropout: 0.2\n",
            "\u001b[34m\u001b[1mwandb\u001b[0m: \tembedding_size: 128\n",
            "\u001b[34m\u001b[1mwandb\u001b[0m: \thidden_layer_size: 256\n",
            "\u001b[34m\u001b[1mwandb\u001b[0m: \tlearning_rate: 0.001\n"
          ]
        },
        {
          "output_type": "display_data",
          "data": {
            "text/plain": [
              "<IPython.core.display.HTML object>"
            ],
            "text/html": [
              "Tracking run with wandb version 0.19.11"
            ]
          },
          "metadata": {}
        },
        {
          "output_type": "display_data",
          "data": {
            "text/plain": [
              "<IPython.core.display.HTML object>"
            ],
            "text/html": [
              "Run data is saved locally in <code>/content/wandb/run-20250519_223956-yzrpch0i</code>"
            ]
          },
          "metadata": {}
        },
        {
          "output_type": "display_data",
          "data": {
            "text/plain": [
              "<IPython.core.display.HTML object>"
            ],
            "text/html": [
              "Syncing run <strong><a href='https://wandb.ai/arunangshudutta218-iitm/dl_assgn_3_q_5a/runs/yzrpch0i' target=\"_blank\">effortless-sweep-23</a></strong> to <a href='https://wandb.ai/arunangshudutta218-iitm/dl_assgn_3_q_5a' target=\"_blank\">Weights & Biases</a> (<a href='https://wandb.me/developer-guide' target=\"_blank\">docs</a>)<br>Sweep page: <a href='https://wandb.ai/arunangshudutta218-iitm/dl_assgn_3_q_5a/sweeps/fwc4vyn0' target=\"_blank\">https://wandb.ai/arunangshudutta218-iitm/dl_assgn_3_q_5a/sweeps/fwc4vyn0</a>"
            ]
          },
          "metadata": {}
        },
        {
          "output_type": "display_data",
          "data": {
            "text/plain": [
              "<IPython.core.display.HTML object>"
            ],
            "text/html": [
              " View project at <a href='https://wandb.ai/arunangshudutta218-iitm/dl_assgn_3_q_5a' target=\"_blank\">https://wandb.ai/arunangshudutta218-iitm/dl_assgn_3_q_5a</a>"
            ]
          },
          "metadata": {}
        },
        {
          "output_type": "display_data",
          "data": {
            "text/plain": [
              "<IPython.core.display.HTML object>"
            ],
            "text/html": [
              " View sweep at <a href='https://wandb.ai/arunangshudutta218-iitm/dl_assgn_3_q_5a/sweeps/fwc4vyn0' target=\"_blank\">https://wandb.ai/arunangshudutta218-iitm/dl_assgn_3_q_5a/sweeps/fwc4vyn0</a>"
            ]
          },
          "metadata": {}
        },
        {
          "output_type": "display_data",
          "data": {
            "text/plain": [
              "<IPython.core.display.HTML object>"
            ],
            "text/html": [
              " View run at <a href='https://wandb.ai/arunangshudutta218-iitm/dl_assgn_3_q_5a/runs/yzrpch0i' target=\"_blank\">https://wandb.ai/arunangshudutta218-iitm/dl_assgn_3_q_5a/runs/yzrpch0i</a>"
            ]
          },
          "metadata": {}
        },
        {
          "output_type": "stream",
          "name": "stderr",
          "text": [
            "100%|██████████| 346/346 [00:15<00:00, 22.04it/s]\n"
          ]
        },
        {
          "output_type": "stream",
          "name": "stdout",
          "text": [
            "Epoch 1 | Train Loss: 1.6060 | val_accuracy: 52.94%\n"
          ]
        },
        {
          "output_type": "stream",
          "name": "stderr",
          "text": [
            "100%|██████████| 346/346 [00:16<00:00, 20.89it/s]\n"
          ]
        },
        {
          "output_type": "stream",
          "name": "stdout",
          "text": [
            "Epoch 2 | Train Loss: 0.6225 | val_accuracy: 60.79%\n"
          ]
        },
        {
          "output_type": "stream",
          "name": "stderr",
          "text": [
            "100%|██████████| 346/346 [00:15<00:00, 22.49it/s]\n"
          ]
        },
        {
          "output_type": "stream",
          "name": "stdout",
          "text": [
            "Epoch 3 | Train Loss: 0.4412 | val_accuracy: 64.06%\n"
          ]
        },
        {
          "output_type": "stream",
          "name": "stderr",
          "text": [
            "100%|██████████| 346/346 [00:15<00:00, 22.38it/s]\n"
          ]
        },
        {
          "output_type": "stream",
          "name": "stdout",
          "text": [
            "Epoch 4 | Train Loss: 0.3638 | val_accuracy: 65.13%\n"
          ]
        },
        {
          "output_type": "stream",
          "name": "stderr",
          "text": [
            "100%|██████████| 346/346 [00:15<00:00, 22.54it/s]\n"
          ]
        },
        {
          "output_type": "stream",
          "name": "stdout",
          "text": [
            "Epoch 5 | Train Loss: 0.3079 | val_accuracy: 66.60%\n"
          ]
        },
        {
          "output_type": "stream",
          "name": "stderr",
          "text": [
            "100%|██████████| 346/346 [00:16<00:00, 21.20it/s]\n"
          ]
        },
        {
          "output_type": "stream",
          "name": "stdout",
          "text": [
            "Epoch 6 | Train Loss: 0.2741 | val_accuracy: 68.58%\n"
          ]
        },
        {
          "output_type": "stream",
          "name": "stderr",
          "text": [
            "100%|██████████| 346/346 [00:15<00:00, 22.37it/s]\n"
          ]
        },
        {
          "output_type": "stream",
          "name": "stdout",
          "text": [
            "Epoch 7 | Train Loss: 0.2438 | val_accuracy: 69.28%\n"
          ]
        },
        {
          "output_type": "stream",
          "name": "stderr",
          "text": [
            "100%|██████████| 346/346 [00:15<00:00, 22.31it/s]\n"
          ]
        },
        {
          "output_type": "stream",
          "name": "stdout",
          "text": [
            "Epoch 8 | Train Loss: 0.2194 | val_accuracy: 69.67%\n"
          ]
        },
        {
          "output_type": "stream",
          "name": "stderr",
          "text": [
            "100%|██████████| 346/346 [00:15<00:00, 22.26it/s]\n"
          ]
        },
        {
          "output_type": "stream",
          "name": "stdout",
          "text": [
            "Epoch 9 | Train Loss: 0.2094 | val_accuracy: 70.57%\n"
          ]
        },
        {
          "output_type": "stream",
          "name": "stderr",
          "text": [
            "100%|██████████| 346/346 [00:15<00:00, 21.84it/s]\n"
          ]
        },
        {
          "output_type": "stream",
          "name": "stdout",
          "text": [
            "Epoch 10 | Train Loss: 0.1978 | val_accuracy: 70.19%\n"
          ]
        },
        {
          "output_type": "stream",
          "name": "stderr",
          "text": [
            "100%|██████████| 346/346 [00:15<00:00, 22.63it/s]\n"
          ]
        },
        {
          "output_type": "stream",
          "name": "stdout",
          "text": [
            "Epoch 11 | Train Loss: 0.1805 | val_accuracy: 70.75%\n"
          ]
        },
        {
          "output_type": "stream",
          "name": "stderr",
          "text": [
            "100%|██████████| 346/346 [00:15<00:00, 22.22it/s]\n"
          ]
        },
        {
          "output_type": "stream",
          "name": "stdout",
          "text": [
            "Epoch 12 | Train Loss: 0.1738 | val_accuracy: 71.20%\n"
          ]
        },
        {
          "output_type": "stream",
          "name": "stderr",
          "text": [
            "100%|██████████| 346/346 [00:16<00:00, 21.55it/s]\n"
          ]
        },
        {
          "output_type": "stream",
          "name": "stdout",
          "text": [
            "Epoch 13 | Train Loss: 0.1626 | val_accuracy: 71.43%\n"
          ]
        },
        {
          "output_type": "stream",
          "name": "stderr",
          "text": [
            "100%|██████████| 346/346 [00:15<00:00, 22.10it/s]\n"
          ]
        },
        {
          "output_type": "stream",
          "name": "stdout",
          "text": [
            "Epoch 14 | Train Loss: 0.1504 | val_accuracy: 70.74%\n"
          ]
        },
        {
          "output_type": "stream",
          "name": "stderr",
          "text": [
            "100%|██████████| 346/346 [00:15<00:00, 21.97it/s]\n"
          ]
        },
        {
          "output_type": "stream",
          "name": "stdout",
          "text": [
            "Epoch 15 | Train Loss: 0.1430 | val_accuracy: 71.52%\n"
          ]
        },
        {
          "output_type": "display_data",
          "data": {
            "text/plain": [
              "<IPython.core.display.HTML object>"
            ],
            "text/html": []
          },
          "metadata": {}
        },
        {
          "output_type": "display_data",
          "data": {
            "text/plain": [
              "<IPython.core.display.HTML object>"
            ],
            "text/html": [
              "<br>    <style><br>        .wandb-row {<br>            display: flex;<br>            flex-direction: row;<br>            flex-wrap: wrap;<br>            justify-content: flex-start;<br>            width: 100%;<br>        }<br>        .wandb-col {<br>            display: flex;<br>            flex-direction: column;<br>            flex-basis: 100%;<br>            flex: 1;<br>            padding: 10px;<br>        }<br>    </style><br><div class=\"wandb-row\"><div class=\"wandb-col\"><h3>Run history:</h3><br/><table class=\"wandb\"><tr><td>tr_loss</td><td>█▃▂▂▂▂▁▁▁▁▁▁▁▁▁</td></tr><tr><td>val_accuracy</td><td>▁▄▅▆▆▇▇▇█▇█████</td></tr></table><br/></div><div class=\"wandb-col\"><h3>Run summary:</h3><br/><table class=\"wandb\"><tr><td>tr_loss</td><td>0.14301</td></tr><tr><td>val_accuracy</td><td>71.51553</td></tr></table><br/></div></div>"
            ]
          },
          "metadata": {}
        },
        {
          "output_type": "display_data",
          "data": {
            "text/plain": [
              "<IPython.core.display.HTML object>"
            ],
            "text/html": [
              " View run <strong style=\"color:#cdcd00\">cty_lstm_hsz_256_emsz_128_dr_0.2_lr_0.001</strong> at: <a href='https://wandb.ai/arunangshudutta218-iitm/dl_assgn_3_q_5a/runs/yzrpch0i' target=\"_blank\">https://wandb.ai/arunangshudutta218-iitm/dl_assgn_3_q_5a/runs/yzrpch0i</a><br> View project at: <a href='https://wandb.ai/arunangshudutta218-iitm/dl_assgn_3_q_5a' target=\"_blank\">https://wandb.ai/arunangshudutta218-iitm/dl_assgn_3_q_5a</a><br>Synced 5 W&B file(s), 0 media file(s), 0 artifact file(s) and 0 other file(s)"
            ]
          },
          "metadata": {}
        },
        {
          "output_type": "display_data",
          "data": {
            "text/plain": [
              "<IPython.core.display.HTML object>"
            ],
            "text/html": [
              "Find logs at: <code>./wandb/run-20250519_223956-yzrpch0i/logs</code>"
            ]
          },
          "metadata": {}
        },
        {
          "output_type": "stream",
          "name": "stderr",
          "text": [
            "\u001b[34m\u001b[1mwandb\u001b[0m: Sweep Agent: Waiting for job.\n",
            "\u001b[34m\u001b[1mwandb\u001b[0m: Job received.\n",
            "\u001b[34m\u001b[1mwandb\u001b[0m: Agent Starting Run: teb520g6 with config:\n",
            "\u001b[34m\u001b[1mwandb\u001b[0m: \tcell_type: lstm\n",
            "\u001b[34m\u001b[1mwandb\u001b[0m: \tdropout: 0.2\n",
            "\u001b[34m\u001b[1mwandb\u001b[0m: \tembedding_size: 128\n",
            "\u001b[34m\u001b[1mwandb\u001b[0m: \thidden_layer_size: 256\n",
            "\u001b[34m\u001b[1mwandb\u001b[0m: \tlearning_rate: 0.001\n"
          ]
        },
        {
          "output_type": "display_data",
          "data": {
            "text/plain": [
              "<IPython.core.display.HTML object>"
            ],
            "text/html": [
              "Tracking run with wandb version 0.19.11"
            ]
          },
          "metadata": {}
        },
        {
          "output_type": "display_data",
          "data": {
            "text/plain": [
              "<IPython.core.display.HTML object>"
            ],
            "text/html": [
              "Run data is saved locally in <code>/content/wandb/run-20250519_224444-teb520g6</code>"
            ]
          },
          "metadata": {}
        },
        {
          "output_type": "display_data",
          "data": {
            "text/plain": [
              "<IPython.core.display.HTML object>"
            ],
            "text/html": [
              "Syncing run <strong><a href='https://wandb.ai/arunangshudutta218-iitm/dl_assgn_3_q_5a/runs/teb520g6' target=\"_blank\">chocolate-sweep-24</a></strong> to <a href='https://wandb.ai/arunangshudutta218-iitm/dl_assgn_3_q_5a' target=\"_blank\">Weights & Biases</a> (<a href='https://wandb.me/developer-guide' target=\"_blank\">docs</a>)<br>Sweep page: <a href='https://wandb.ai/arunangshudutta218-iitm/dl_assgn_3_q_5a/sweeps/fwc4vyn0' target=\"_blank\">https://wandb.ai/arunangshudutta218-iitm/dl_assgn_3_q_5a/sweeps/fwc4vyn0</a>"
            ]
          },
          "metadata": {}
        },
        {
          "output_type": "display_data",
          "data": {
            "text/plain": [
              "<IPython.core.display.HTML object>"
            ],
            "text/html": [
              " View project at <a href='https://wandb.ai/arunangshudutta218-iitm/dl_assgn_3_q_5a' target=\"_blank\">https://wandb.ai/arunangshudutta218-iitm/dl_assgn_3_q_5a</a>"
            ]
          },
          "metadata": {}
        },
        {
          "output_type": "display_data",
          "data": {
            "text/plain": [
              "<IPython.core.display.HTML object>"
            ],
            "text/html": [
              " View sweep at <a href='https://wandb.ai/arunangshudutta218-iitm/dl_assgn_3_q_5a/sweeps/fwc4vyn0' target=\"_blank\">https://wandb.ai/arunangshudutta218-iitm/dl_assgn_3_q_5a/sweeps/fwc4vyn0</a>"
            ]
          },
          "metadata": {}
        },
        {
          "output_type": "display_data",
          "data": {
            "text/plain": [
              "<IPython.core.display.HTML object>"
            ],
            "text/html": [
              " View run at <a href='https://wandb.ai/arunangshudutta218-iitm/dl_assgn_3_q_5a/runs/teb520g6' target=\"_blank\">https://wandb.ai/arunangshudutta218-iitm/dl_assgn_3_q_5a/runs/teb520g6</a>"
            ]
          },
          "metadata": {}
        },
        {
          "output_type": "stream",
          "name": "stderr",
          "text": [
            "100%|██████████| 346/346 [00:15<00:00, 22.20it/s]\n"
          ]
        },
        {
          "output_type": "stream",
          "name": "stdout",
          "text": [
            "Epoch 1 | Train Loss: 1.6252 | val_accuracy: 51.63%\n"
          ]
        },
        {
          "output_type": "stream",
          "name": "stderr",
          "text": [
            "100%|██████████| 346/346 [00:15<00:00, 21.80it/s]\n"
          ]
        },
        {
          "output_type": "stream",
          "name": "stdout",
          "text": [
            "Epoch 2 | Train Loss: 0.6246 | val_accuracy: 60.15%\n"
          ]
        },
        {
          "output_type": "stream",
          "name": "stderr",
          "text": [
            "100%|██████████| 346/346 [00:15<00:00, 22.29it/s]\n"
          ]
        },
        {
          "output_type": "stream",
          "name": "stdout",
          "text": [
            "Epoch 3 | Train Loss: 0.4354 | val_accuracy: 63.61%\n"
          ]
        },
        {
          "output_type": "stream",
          "name": "stderr",
          "text": [
            "100%|██████████| 346/346 [00:15<00:00, 22.53it/s]\n"
          ]
        },
        {
          "output_type": "stream",
          "name": "stdout",
          "text": [
            "Epoch 4 | Train Loss: 0.3607 | val_accuracy: 66.44%\n"
          ]
        },
        {
          "output_type": "stream",
          "name": "stderr",
          "text": [
            "100%|██████████| 346/346 [00:16<00:00, 21.61it/s]\n"
          ]
        },
        {
          "output_type": "stream",
          "name": "stdout",
          "text": [
            "Epoch 5 | Train Loss: 0.3047 | val_accuracy: 66.35%\n"
          ]
        },
        {
          "output_type": "stream",
          "name": "stderr",
          "text": [
            "100%|██████████| 346/346 [00:15<00:00, 22.59it/s]\n"
          ]
        },
        {
          "output_type": "stream",
          "name": "stdout",
          "text": [
            "Epoch 6 | Train Loss: 0.2680 | val_accuracy: 67.91%\n"
          ]
        },
        {
          "output_type": "stream",
          "name": "stderr",
          "text": [
            "100%|██████████| 346/346 [00:15<00:00, 22.34it/s]\n"
          ]
        },
        {
          "output_type": "stream",
          "name": "stdout",
          "text": [
            "Epoch 7 | Train Loss: 0.2384 | val_accuracy: 68.62%\n"
          ]
        },
        {
          "output_type": "stream",
          "name": "stderr",
          "text": [
            "100%|██████████| 346/346 [00:15<00:00, 22.57it/s]\n"
          ]
        },
        {
          "output_type": "stream",
          "name": "stdout",
          "text": [
            "Epoch 8 | Train Loss: 0.2212 | val_accuracy: 69.19%\n"
          ]
        },
        {
          "output_type": "stream",
          "name": "stderr",
          "text": [
            "100%|██████████| 346/346 [00:16<00:00, 21.34it/s]\n"
          ]
        },
        {
          "output_type": "stream",
          "name": "stdout",
          "text": [
            "Epoch 9 | Train Loss: 0.2068 | val_accuracy: 70.48%\n"
          ]
        },
        {
          "output_type": "stream",
          "name": "stderr",
          "text": [
            "100%|██████████| 346/346 [00:15<00:00, 22.51it/s]\n"
          ]
        },
        {
          "output_type": "stream",
          "name": "stdout",
          "text": [
            "Epoch 10 | Train Loss: 0.1993 | val_accuracy: 70.86%\n"
          ]
        },
        {
          "output_type": "stream",
          "name": "stderr",
          "text": [
            "100%|██████████| 346/346 [00:16<00:00, 20.66it/s]\n"
          ]
        },
        {
          "output_type": "stream",
          "name": "stdout",
          "text": [
            "Epoch 11 | Train Loss: 0.2027 | val_accuracy: 70.23%\n"
          ]
        },
        {
          "output_type": "stream",
          "name": "stderr",
          "text": [
            "100%|██████████| 346/346 [00:15<00:00, 22.42it/s]\n"
          ]
        },
        {
          "output_type": "stream",
          "name": "stdout",
          "text": [
            "Epoch 12 | Train Loss: 0.1766 | val_accuracy: 71.06%\n"
          ]
        },
        {
          "output_type": "stream",
          "name": "stderr",
          "text": [
            "100%|██████████| 346/346 [00:15<00:00, 21.64it/s]\n"
          ]
        },
        {
          "output_type": "stream",
          "name": "stdout",
          "text": [
            "Epoch 13 | Train Loss: 0.1656 | val_accuracy: 70.72%\n"
          ]
        },
        {
          "output_type": "stream",
          "name": "stderr",
          "text": [
            "100%|██████████| 346/346 [00:15<00:00, 22.34it/s]\n"
          ]
        },
        {
          "output_type": "stream",
          "name": "stdout",
          "text": [
            "Epoch 14 | Train Loss: 0.1514 | val_accuracy: 72.16%\n"
          ]
        },
        {
          "output_type": "stream",
          "name": "stderr",
          "text": [
            "100%|██████████| 346/346 [00:15<00:00, 22.54it/s]\n"
          ]
        },
        {
          "output_type": "stream",
          "name": "stdout",
          "text": [
            "Epoch 15 | Train Loss: 0.1428 | val_accuracy: 72.07%\n"
          ]
        },
        {
          "output_type": "display_data",
          "data": {
            "text/plain": [
              "<IPython.core.display.HTML object>"
            ],
            "text/html": []
          },
          "metadata": {}
        },
        {
          "output_type": "display_data",
          "data": {
            "text/plain": [
              "<IPython.core.display.HTML object>"
            ],
            "text/html": [
              "<br>    <style><br>        .wandb-row {<br>            display: flex;<br>            flex-direction: row;<br>            flex-wrap: wrap;<br>            justify-content: flex-start;<br>            width: 100%;<br>        }<br>        .wandb-col {<br>            display: flex;<br>            flex-direction: column;<br>            flex-basis: 100%;<br>            flex: 1;<br>            padding: 10px;<br>        }<br>    </style><br><div class=\"wandb-row\"><div class=\"wandb-col\"><h3>Run history:</h3><br/><table class=\"wandb\"><tr><td>tr_loss</td><td>█▃▂▂▂▂▁▁▁▁▁▁▁▁▁</td></tr><tr><td>val_accuracy</td><td>▁▄▅▆▆▇▇▇▇█▇████</td></tr></table><br/></div><div class=\"wandb-col\"><h3>Run summary:</h3><br/><table class=\"wandb\"><tr><td>tr_loss</td><td>0.14277</td></tr><tr><td>val_accuracy</td><td>72.07412</td></tr></table><br/></div></div>"
            ]
          },
          "metadata": {}
        },
        {
          "output_type": "display_data",
          "data": {
            "text/plain": [
              "<IPython.core.display.HTML object>"
            ],
            "text/html": [
              " View run <strong style=\"color:#cdcd00\">cty_lstm_hsz_256_emsz_128_dr_0.2_lr_0.001</strong> at: <a href='https://wandb.ai/arunangshudutta218-iitm/dl_assgn_3_q_5a/runs/teb520g6' target=\"_blank\">https://wandb.ai/arunangshudutta218-iitm/dl_assgn_3_q_5a/runs/teb520g6</a><br> View project at: <a href='https://wandb.ai/arunangshudutta218-iitm/dl_assgn_3_q_5a' target=\"_blank\">https://wandb.ai/arunangshudutta218-iitm/dl_assgn_3_q_5a</a><br>Synced 5 W&B file(s), 0 media file(s), 0 artifact file(s) and 0 other file(s)"
            ]
          },
          "metadata": {}
        },
        {
          "output_type": "display_data",
          "data": {
            "text/plain": [
              "<IPython.core.display.HTML object>"
            ],
            "text/html": [
              "Find logs at: <code>./wandb/run-20250519_224444-teb520g6/logs</code>"
            ]
          },
          "metadata": {}
        },
        {
          "output_type": "stream",
          "name": "stderr",
          "text": [
            "\u001b[34m\u001b[1mwandb\u001b[0m: Agent Starting Run: isbpxri9 with config:\n",
            "\u001b[34m\u001b[1mwandb\u001b[0m: \tcell_type: lstm\n",
            "\u001b[34m\u001b[1mwandb\u001b[0m: \tdropout: 0.2\n",
            "\u001b[34m\u001b[1mwandb\u001b[0m: \tembedding_size: 128\n",
            "\u001b[34m\u001b[1mwandb\u001b[0m: \thidden_layer_size: 256\n",
            "\u001b[34m\u001b[1mwandb\u001b[0m: \tlearning_rate: 0.001\n"
          ]
        },
        {
          "output_type": "display_data",
          "data": {
            "text/plain": [
              "<IPython.core.display.HTML object>"
            ],
            "text/html": [
              "Tracking run with wandb version 0.19.11"
            ]
          },
          "metadata": {}
        },
        {
          "output_type": "display_data",
          "data": {
            "text/plain": [
              "<IPython.core.display.HTML object>"
            ],
            "text/html": [
              "Run data is saved locally in <code>/content/wandb/run-20250519_224922-isbpxri9</code>"
            ]
          },
          "metadata": {}
        },
        {
          "output_type": "display_data",
          "data": {
            "text/plain": [
              "<IPython.core.display.HTML object>"
            ],
            "text/html": [
              "Syncing run <strong><a href='https://wandb.ai/arunangshudutta218-iitm/dl_assgn_3_q_5a/runs/isbpxri9' target=\"_blank\">pretty-sweep-25</a></strong> to <a href='https://wandb.ai/arunangshudutta218-iitm/dl_assgn_3_q_5a' target=\"_blank\">Weights & Biases</a> (<a href='https://wandb.me/developer-guide' target=\"_blank\">docs</a>)<br>Sweep page: <a href='https://wandb.ai/arunangshudutta218-iitm/dl_assgn_3_q_5a/sweeps/fwc4vyn0' target=\"_blank\">https://wandb.ai/arunangshudutta218-iitm/dl_assgn_3_q_5a/sweeps/fwc4vyn0</a>"
            ]
          },
          "metadata": {}
        },
        {
          "output_type": "display_data",
          "data": {
            "text/plain": [
              "<IPython.core.display.HTML object>"
            ],
            "text/html": [
              " View project at <a href='https://wandb.ai/arunangshudutta218-iitm/dl_assgn_3_q_5a' target=\"_blank\">https://wandb.ai/arunangshudutta218-iitm/dl_assgn_3_q_5a</a>"
            ]
          },
          "metadata": {}
        },
        {
          "output_type": "display_data",
          "data": {
            "text/plain": [
              "<IPython.core.display.HTML object>"
            ],
            "text/html": [
              " View sweep at <a href='https://wandb.ai/arunangshudutta218-iitm/dl_assgn_3_q_5a/sweeps/fwc4vyn0' target=\"_blank\">https://wandb.ai/arunangshudutta218-iitm/dl_assgn_3_q_5a/sweeps/fwc4vyn0</a>"
            ]
          },
          "metadata": {}
        },
        {
          "output_type": "display_data",
          "data": {
            "text/plain": [
              "<IPython.core.display.HTML object>"
            ],
            "text/html": [
              " View run at <a href='https://wandb.ai/arunangshudutta218-iitm/dl_assgn_3_q_5a/runs/isbpxri9' target=\"_blank\">https://wandb.ai/arunangshudutta218-iitm/dl_assgn_3_q_5a/runs/isbpxri9</a>"
            ]
          },
          "metadata": {}
        },
        {
          "output_type": "stream",
          "name": "stderr",
          "text": [
            "100%|██████████| 346/346 [00:15<00:00, 22.39it/s]\n"
          ]
        },
        {
          "output_type": "stream",
          "name": "stdout",
          "text": [
            "Epoch 1 | Train Loss: 1.6687 | val_accuracy: 50.47%\n"
          ]
        },
        {
          "output_type": "stream",
          "name": "stderr",
          "text": [
            "100%|██████████| 346/346 [00:15<00:00, 22.23it/s]\n"
          ]
        },
        {
          "output_type": "stream",
          "name": "stdout",
          "text": [
            "Epoch 2 | Train Loss: 0.6158 | val_accuracy: 60.10%\n"
          ]
        },
        {
          "output_type": "stream",
          "name": "stderr",
          "text": [
            "100%|██████████| 346/346 [00:15<00:00, 22.55it/s]\n"
          ]
        },
        {
          "output_type": "stream",
          "name": "stdout",
          "text": [
            "Epoch 3 | Train Loss: 0.4323 | val_accuracy: 64.19%\n"
          ]
        },
        {
          "output_type": "stream",
          "name": "stderr",
          "text": [
            "100%|██████████| 346/346 [00:15<00:00, 21.67it/s]\n"
          ]
        },
        {
          "output_type": "stream",
          "name": "stdout",
          "text": [
            "Epoch 4 | Train Loss: 0.3626 | val_accuracy: 66.34%\n"
          ]
        },
        {
          "output_type": "stream",
          "name": "stderr",
          "text": [
            "100%|██████████| 346/346 [00:15<00:00, 22.25it/s]\n"
          ]
        },
        {
          "output_type": "stream",
          "name": "stdout",
          "text": [
            "Epoch 5 | Train Loss: 0.3053 | val_accuracy: 67.24%\n"
          ]
        },
        {
          "output_type": "stream",
          "name": "stderr",
          "text": [
            "100%|██████████| 346/346 [00:15<00:00, 22.08it/s]\n"
          ]
        },
        {
          "output_type": "stream",
          "name": "stdout",
          "text": [
            "Epoch 6 | Train Loss: 0.2951 | val_accuracy: 67.84%\n"
          ]
        },
        {
          "output_type": "stream",
          "name": "stderr",
          "text": [
            "100%|██████████| 346/346 [00:16<00:00, 21.47it/s]\n"
          ]
        },
        {
          "output_type": "stream",
          "name": "stdout",
          "text": [
            "Epoch 7 | Train Loss: 0.2481 | val_accuracy: 69.59%\n"
          ]
        },
        {
          "output_type": "stream",
          "name": "stderr",
          "text": [
            "100%|██████████| 346/346 [00:16<00:00, 20.49it/s]\n"
          ]
        },
        {
          "output_type": "stream",
          "name": "stdout",
          "text": [
            "Epoch 8 | Train Loss: 0.2216 | val_accuracy: 69.64%\n"
          ]
        },
        {
          "output_type": "stream",
          "name": "stderr",
          "text": [
            "100%|██████████| 346/346 [00:15<00:00, 22.40it/s]\n"
          ]
        },
        {
          "output_type": "stream",
          "name": "stdout",
          "text": [
            "Epoch 9 | Train Loss: 0.2042 | val_accuracy: 70.09%\n"
          ]
        },
        {
          "output_type": "stream",
          "name": "stderr",
          "text": [
            "100%|██████████| 346/346 [00:15<00:00, 22.18it/s]\n"
          ]
        },
        {
          "output_type": "stream",
          "name": "stdout",
          "text": [
            "Epoch 10 | Train Loss: 0.1899 | val_accuracy: 70.32%\n"
          ]
        },
        {
          "output_type": "stream",
          "name": "stderr",
          "text": [
            "100%|██████████| 346/346 [00:16<00:00, 21.26it/s]\n"
          ]
        },
        {
          "output_type": "stream",
          "name": "stdout",
          "text": [
            "Epoch 11 | Train Loss: 0.1774 | val_accuracy: 71.01%\n"
          ]
        },
        {
          "output_type": "stream",
          "name": "stderr",
          "text": [
            "100%|██████████| 346/346 [00:15<00:00, 21.81it/s]\n"
          ]
        },
        {
          "output_type": "stream",
          "name": "stdout",
          "text": [
            "Epoch 12 | Train Loss: 0.1680 | val_accuracy: 71.50%\n"
          ]
        },
        {
          "output_type": "stream",
          "name": "stderr",
          "text": [
            "100%|██████████| 346/346 [00:15<00:00, 22.26it/s]\n"
          ]
        },
        {
          "output_type": "stream",
          "name": "stdout",
          "text": [
            "Epoch 13 | Train Loss: 0.1643 | val_accuracy: 71.60%\n"
          ]
        },
        {
          "output_type": "stream",
          "name": "stderr",
          "text": [
            "100%|██████████| 346/346 [00:16<00:00, 21.46it/s]\n"
          ]
        },
        {
          "output_type": "stream",
          "name": "stdout",
          "text": [
            "Epoch 14 | Train Loss: 0.1720 | val_accuracy: 70.12%\n"
          ]
        },
        {
          "output_type": "stream",
          "name": "stderr",
          "text": [
            "100%|██████████| 346/346 [00:15<00:00, 21.84it/s]\n"
          ]
        },
        {
          "output_type": "stream",
          "name": "stdout",
          "text": [
            "Epoch 15 | Train Loss: 0.1826 | val_accuracy: 70.95%\n"
          ]
        },
        {
          "output_type": "display_data",
          "data": {
            "text/plain": [
              "<IPython.core.display.HTML object>"
            ],
            "text/html": []
          },
          "metadata": {}
        },
        {
          "output_type": "display_data",
          "data": {
            "text/plain": [
              "<IPython.core.display.HTML object>"
            ],
            "text/html": [
              "<br>    <style><br>        .wandb-row {<br>            display: flex;<br>            flex-direction: row;<br>            flex-wrap: wrap;<br>            justify-content: flex-start;<br>            width: 100%;<br>        }<br>        .wandb-col {<br>            display: flex;<br>            flex-direction: column;<br>            flex-basis: 100%;<br>            flex: 1;<br>            padding: 10px;<br>        }<br>    </style><br><div class=\"wandb-row\"><div class=\"wandb-col\"><h3>Run history:</h3><br/><table class=\"wandb\"><tr><td>tr_loss</td><td>█▃▂▂▂▂▁▁▁▁▁▁▁▁▁</td></tr><tr><td>val_accuracy</td><td>▁▄▆▆▇▇▇▇███████</td></tr></table><br/></div><div class=\"wandb-col\"><h3>Run summary:</h3><br/><table class=\"wandb\"><tr><td>tr_loss</td><td>0.18262</td></tr><tr><td>val_accuracy</td><td>70.94537</td></tr></table><br/></div></div>"
            ]
          },
          "metadata": {}
        },
        {
          "output_type": "display_data",
          "data": {
            "text/plain": [
              "<IPython.core.display.HTML object>"
            ],
            "text/html": [
              " View run <strong style=\"color:#cdcd00\">cty_lstm_hsz_256_emsz_128_dr_0.2_lr_0.001</strong> at: <a href='https://wandb.ai/arunangshudutta218-iitm/dl_assgn_3_q_5a/runs/isbpxri9' target=\"_blank\">https://wandb.ai/arunangshudutta218-iitm/dl_assgn_3_q_5a/runs/isbpxri9</a><br> View project at: <a href='https://wandb.ai/arunangshudutta218-iitm/dl_assgn_3_q_5a' target=\"_blank\">https://wandb.ai/arunangshudutta218-iitm/dl_assgn_3_q_5a</a><br>Synced 5 W&B file(s), 0 media file(s), 0 artifact file(s) and 0 other file(s)"
            ]
          },
          "metadata": {}
        },
        {
          "output_type": "display_data",
          "data": {
            "text/plain": [
              "<IPython.core.display.HTML object>"
            ],
            "text/html": [
              "Find logs at: <code>./wandb/run-20250519_224922-isbpxri9/logs</code>"
            ]
          },
          "metadata": {}
        },
        {
          "output_type": "stream",
          "name": "stderr",
          "text": [
            "\u001b[34m\u001b[1mwandb\u001b[0m: Agent Starting Run: ot2amwlv with config:\n",
            "\u001b[34m\u001b[1mwandb\u001b[0m: \tcell_type: lstm\n",
            "\u001b[34m\u001b[1mwandb\u001b[0m: \tdropout: 0.2\n",
            "\u001b[34m\u001b[1mwandb\u001b[0m: \tembedding_size: 128\n",
            "\u001b[34m\u001b[1mwandb\u001b[0m: \thidden_layer_size: 256\n",
            "\u001b[34m\u001b[1mwandb\u001b[0m: \tlearning_rate: 0.001\n"
          ]
        },
        {
          "output_type": "display_data",
          "data": {
            "text/plain": [
              "<IPython.core.display.HTML object>"
            ],
            "text/html": [
              "Tracking run with wandb version 0.19.11"
            ]
          },
          "metadata": {}
        },
        {
          "output_type": "display_data",
          "data": {
            "text/plain": [
              "<IPython.core.display.HTML object>"
            ],
            "text/html": [
              "Run data is saved locally in <code>/content/wandb/run-20250519_225405-ot2amwlv</code>"
            ]
          },
          "metadata": {}
        },
        {
          "output_type": "display_data",
          "data": {
            "text/plain": [
              "<IPython.core.display.HTML object>"
            ],
            "text/html": [
              "Syncing run <strong><a href='https://wandb.ai/arunangshudutta218-iitm/dl_assgn_3_q_5a/runs/ot2amwlv' target=\"_blank\">swift-sweep-26</a></strong> to <a href='https://wandb.ai/arunangshudutta218-iitm/dl_assgn_3_q_5a' target=\"_blank\">Weights & Biases</a> (<a href='https://wandb.me/developer-guide' target=\"_blank\">docs</a>)<br>Sweep page: <a href='https://wandb.ai/arunangshudutta218-iitm/dl_assgn_3_q_5a/sweeps/fwc4vyn0' target=\"_blank\">https://wandb.ai/arunangshudutta218-iitm/dl_assgn_3_q_5a/sweeps/fwc4vyn0</a>"
            ]
          },
          "metadata": {}
        },
        {
          "output_type": "display_data",
          "data": {
            "text/plain": [
              "<IPython.core.display.HTML object>"
            ],
            "text/html": [
              " View project at <a href='https://wandb.ai/arunangshudutta218-iitm/dl_assgn_3_q_5a' target=\"_blank\">https://wandb.ai/arunangshudutta218-iitm/dl_assgn_3_q_5a</a>"
            ]
          },
          "metadata": {}
        },
        {
          "output_type": "display_data",
          "data": {
            "text/plain": [
              "<IPython.core.display.HTML object>"
            ],
            "text/html": [
              " View sweep at <a href='https://wandb.ai/arunangshudutta218-iitm/dl_assgn_3_q_5a/sweeps/fwc4vyn0' target=\"_blank\">https://wandb.ai/arunangshudutta218-iitm/dl_assgn_3_q_5a/sweeps/fwc4vyn0</a>"
            ]
          },
          "metadata": {}
        },
        {
          "output_type": "display_data",
          "data": {
            "text/plain": [
              "<IPython.core.display.HTML object>"
            ],
            "text/html": [
              " View run at <a href='https://wandb.ai/arunangshudutta218-iitm/dl_assgn_3_q_5a/runs/ot2amwlv' target=\"_blank\">https://wandb.ai/arunangshudutta218-iitm/dl_assgn_3_q_5a/runs/ot2amwlv</a>"
            ]
          },
          "metadata": {}
        },
        {
          "output_type": "stream",
          "name": "stderr",
          "text": [
            "100%|██████████| 346/346 [00:16<00:00, 21.02it/s]\n"
          ]
        },
        {
          "output_type": "stream",
          "name": "stdout",
          "text": [
            "Epoch 1 | Train Loss: 1.5570 | val_accuracy: 54.40%\n"
          ]
        },
        {
          "output_type": "stream",
          "name": "stderr",
          "text": [
            "100%|██████████| 346/346 [00:15<00:00, 22.48it/s]\n"
          ]
        },
        {
          "output_type": "stream",
          "name": "stdout",
          "text": [
            "Epoch 2 | Train Loss: 0.5949 | val_accuracy: 62.13%\n"
          ]
        },
        {
          "output_type": "stream",
          "name": "stderr",
          "text": [
            "100%|██████████| 346/346 [00:15<00:00, 22.35it/s]\n"
          ]
        },
        {
          "output_type": "stream",
          "name": "stdout",
          "text": [
            "Epoch 3 | Train Loss: 0.4352 | val_accuracy: 64.36%\n"
          ]
        },
        {
          "output_type": "stream",
          "name": "stderr",
          "text": [
            "100%|██████████| 346/346 [00:15<00:00, 22.40it/s]\n"
          ]
        },
        {
          "output_type": "stream",
          "name": "stdout",
          "text": [
            "Epoch 4 | Train Loss: 0.3616 | val_accuracy: 65.17%\n"
          ]
        },
        {
          "output_type": "stream",
          "name": "stderr",
          "text": [
            "100%|██████████| 346/346 [00:17<00:00, 19.87it/s]\n"
          ]
        },
        {
          "output_type": "stream",
          "name": "stdout",
          "text": [
            "Epoch 5 | Train Loss: 0.3098 | val_accuracy: 67.79%\n"
          ]
        },
        {
          "output_type": "stream",
          "name": "stderr",
          "text": [
            "100%|██████████| 346/346 [00:15<00:00, 22.47it/s]\n"
          ]
        },
        {
          "output_type": "stream",
          "name": "stdout",
          "text": [
            "Epoch 6 | Train Loss: 0.2668 | val_accuracy: 68.54%\n"
          ]
        },
        {
          "output_type": "stream",
          "name": "stderr",
          "text": [
            "100%|██████████| 346/346 [00:15<00:00, 22.63it/s]\n"
          ]
        },
        {
          "output_type": "stream",
          "name": "stdout",
          "text": [
            "Epoch 7 | Train Loss: 0.2408 | val_accuracy: 68.88%\n"
          ]
        },
        {
          "output_type": "stream",
          "name": "stderr",
          "text": [
            "100%|██████████| 346/346 [00:16<00:00, 21.44it/s]\n"
          ]
        },
        {
          "output_type": "stream",
          "name": "stdout",
          "text": [
            "Epoch 8 | Train Loss: 0.2275 | val_accuracy: 68.88%\n"
          ]
        },
        {
          "output_type": "stream",
          "name": "stderr",
          "text": [
            "100%|██████████| 346/346 [00:15<00:00, 22.26it/s]\n"
          ]
        },
        {
          "output_type": "stream",
          "name": "stdout",
          "text": [
            "Epoch 9 | Train Loss: 0.2031 | val_accuracy: 69.79%\n"
          ]
        },
        {
          "output_type": "stream",
          "name": "stderr",
          "text": [
            "100%|██████████| 346/346 [00:15<00:00, 22.46it/s]\n"
          ]
        },
        {
          "output_type": "stream",
          "name": "stdout",
          "text": [
            "Epoch 10 | Train Loss: 0.1995 | val_accuracy: 69.80%\n"
          ]
        },
        {
          "output_type": "stream",
          "name": "stderr",
          "text": [
            "100%|██████████| 346/346 [00:15<00:00, 22.61it/s]\n"
          ]
        },
        {
          "output_type": "stream",
          "name": "stdout",
          "text": [
            "Epoch 11 | Train Loss: 0.1917 | val_accuracy: 70.78%\n"
          ]
        },
        {
          "output_type": "stream",
          "name": "stderr",
          "text": [
            "100%|██████████| 346/346 [00:16<00:00, 20.99it/s]\n"
          ]
        },
        {
          "output_type": "stream",
          "name": "stdout",
          "text": [
            "Epoch 12 | Train Loss: 0.1666 | val_accuracy: 70.66%\n"
          ]
        },
        {
          "output_type": "stream",
          "name": "stderr",
          "text": [
            "100%|██████████| 346/346 [00:15<00:00, 22.13it/s]\n"
          ]
        },
        {
          "output_type": "stream",
          "name": "stdout",
          "text": [
            "Epoch 13 | Train Loss: 0.1587 | val_accuracy: 70.79%\n"
          ]
        },
        {
          "output_type": "stream",
          "name": "stderr",
          "text": [
            "100%|██████████| 346/346 [00:15<00:00, 22.16it/s]\n"
          ]
        },
        {
          "output_type": "stream",
          "name": "stdout",
          "text": [
            "Epoch 14 | Train Loss: 0.1717 | val_accuracy: 71.01%\n"
          ]
        },
        {
          "output_type": "stream",
          "name": "stderr",
          "text": [
            "100%|██████████| 346/346 [00:15<00:00, 21.89it/s]\n"
          ]
        },
        {
          "output_type": "stream",
          "name": "stdout",
          "text": [
            "Epoch 15 | Train Loss: 0.1564 | val_accuracy: 70.82%\n"
          ]
        },
        {
          "output_type": "display_data",
          "data": {
            "text/plain": [
              "<IPython.core.display.HTML object>"
            ],
            "text/html": []
          },
          "metadata": {}
        },
        {
          "output_type": "display_data",
          "data": {
            "text/plain": [
              "<IPython.core.display.HTML object>"
            ],
            "text/html": [
              "<br>    <style><br>        .wandb-row {<br>            display: flex;<br>            flex-direction: row;<br>            flex-wrap: wrap;<br>            justify-content: flex-start;<br>            width: 100%;<br>        }<br>        .wandb-col {<br>            display: flex;<br>            flex-direction: column;<br>            flex-basis: 100%;<br>            flex: 1;<br>            padding: 10px;<br>        }<br>    </style><br><div class=\"wandb-row\"><div class=\"wandb-col\"><h3>Run history:</h3><br/><table class=\"wandb\"><tr><td>tr_loss</td><td>█▃▂▂▂▂▁▁▁▁▁▁▁▁▁</td></tr><tr><td>val_accuracy</td><td>▁▄▅▆▇▇▇▇▇▇█████</td></tr></table><br/></div><div class=\"wandb-col\"><h3>Run summary:</h3><br/><table class=\"wandb\"><tr><td>tr_loss</td><td>0.15639</td></tr><tr><td>val_accuracy</td><td>70.8221</td></tr></table><br/></div></div>"
            ]
          },
          "metadata": {}
        },
        {
          "output_type": "display_data",
          "data": {
            "text/plain": [
              "<IPython.core.display.HTML object>"
            ],
            "text/html": [
              " View run <strong style=\"color:#cdcd00\">cty_lstm_hsz_256_emsz_128_dr_0.2_lr_0.001</strong> at: <a href='https://wandb.ai/arunangshudutta218-iitm/dl_assgn_3_q_5a/runs/ot2amwlv' target=\"_blank\">https://wandb.ai/arunangshudutta218-iitm/dl_assgn_3_q_5a/runs/ot2amwlv</a><br> View project at: <a href='https://wandb.ai/arunangshudutta218-iitm/dl_assgn_3_q_5a' target=\"_blank\">https://wandb.ai/arunangshudutta218-iitm/dl_assgn_3_q_5a</a><br>Synced 5 W&B file(s), 0 media file(s), 0 artifact file(s) and 0 other file(s)"
            ]
          },
          "metadata": {}
        },
        {
          "output_type": "display_data",
          "data": {
            "text/plain": [
              "<IPython.core.display.HTML object>"
            ],
            "text/html": [
              "Find logs at: <code>./wandb/run-20250519_225405-ot2amwlv/logs</code>"
            ]
          },
          "metadata": {}
        },
        {
          "output_type": "stream",
          "name": "stderr",
          "text": [
            "\u001b[34m\u001b[1mwandb\u001b[0m: Sweep Agent: Waiting for job.\n",
            "\u001b[34m\u001b[1mwandb\u001b[0m: Job received.\n",
            "\u001b[34m\u001b[1mwandb\u001b[0m: Agent Starting Run: veqi1dat with config:\n",
            "\u001b[34m\u001b[1mwandb\u001b[0m: \tcell_type: lstm\n",
            "\u001b[34m\u001b[1mwandb\u001b[0m: \tdropout: 0.2\n",
            "\u001b[34m\u001b[1mwandb\u001b[0m: \tembedding_size: 128\n",
            "\u001b[34m\u001b[1mwandb\u001b[0m: \thidden_layer_size: 256\n",
            "\u001b[34m\u001b[1mwandb\u001b[0m: \tlearning_rate: 0.001\n"
          ]
        },
        {
          "output_type": "display_data",
          "data": {
            "text/plain": [
              "<IPython.core.display.HTML object>"
            ],
            "text/html": [
              "Tracking run with wandb version 0.19.11"
            ]
          },
          "metadata": {}
        },
        {
          "output_type": "display_data",
          "data": {
            "text/plain": [
              "<IPython.core.display.HTML object>"
            ],
            "text/html": [
              "Run data is saved locally in <code>/content/wandb/run-20250519_225853-veqi1dat</code>"
            ]
          },
          "metadata": {}
        },
        {
          "output_type": "display_data",
          "data": {
            "text/plain": [
              "<IPython.core.display.HTML object>"
            ],
            "text/html": [
              "Syncing run <strong><a href='https://wandb.ai/arunangshudutta218-iitm/dl_assgn_3_q_5a/runs/veqi1dat' target=\"_blank\">proud-sweep-27</a></strong> to <a href='https://wandb.ai/arunangshudutta218-iitm/dl_assgn_3_q_5a' target=\"_blank\">Weights & Biases</a> (<a href='https://wandb.me/developer-guide' target=\"_blank\">docs</a>)<br>Sweep page: <a href='https://wandb.ai/arunangshudutta218-iitm/dl_assgn_3_q_5a/sweeps/fwc4vyn0' target=\"_blank\">https://wandb.ai/arunangshudutta218-iitm/dl_assgn_3_q_5a/sweeps/fwc4vyn0</a>"
            ]
          },
          "metadata": {}
        },
        {
          "output_type": "display_data",
          "data": {
            "text/plain": [
              "<IPython.core.display.HTML object>"
            ],
            "text/html": [
              " View project at <a href='https://wandb.ai/arunangshudutta218-iitm/dl_assgn_3_q_5a' target=\"_blank\">https://wandb.ai/arunangshudutta218-iitm/dl_assgn_3_q_5a</a>"
            ]
          },
          "metadata": {}
        },
        {
          "output_type": "display_data",
          "data": {
            "text/plain": [
              "<IPython.core.display.HTML object>"
            ],
            "text/html": [
              " View sweep at <a href='https://wandb.ai/arunangshudutta218-iitm/dl_assgn_3_q_5a/sweeps/fwc4vyn0' target=\"_blank\">https://wandb.ai/arunangshudutta218-iitm/dl_assgn_3_q_5a/sweeps/fwc4vyn0</a>"
            ]
          },
          "metadata": {}
        },
        {
          "output_type": "display_data",
          "data": {
            "text/plain": [
              "<IPython.core.display.HTML object>"
            ],
            "text/html": [
              " View run at <a href='https://wandb.ai/arunangshudutta218-iitm/dl_assgn_3_q_5a/runs/veqi1dat' target=\"_blank\">https://wandb.ai/arunangshudutta218-iitm/dl_assgn_3_q_5a/runs/veqi1dat</a>"
            ]
          },
          "metadata": {}
        },
        {
          "output_type": "stream",
          "name": "stderr",
          "text": [
            "100%|██████████| 346/346 [00:17<00:00, 20.11it/s]\n"
          ]
        },
        {
          "output_type": "stream",
          "name": "stdout",
          "text": [
            "Epoch 1 | Train Loss: 1.5896 | val_accuracy: 51.78%\n"
          ]
        },
        {
          "output_type": "stream",
          "name": "stderr",
          "text": [
            "100%|██████████| 346/346 [00:15<00:00, 22.03it/s]\n"
          ]
        },
        {
          "output_type": "stream",
          "name": "stdout",
          "text": [
            "Epoch 2 | Train Loss: 0.6144 | val_accuracy: 61.09%\n"
          ]
        },
        {
          "output_type": "stream",
          "name": "stderr",
          "text": [
            "100%|██████████| 346/346 [00:15<00:00, 21.99it/s]\n"
          ]
        },
        {
          "output_type": "stream",
          "name": "stdout",
          "text": [
            "Epoch 3 | Train Loss: 0.4328 | val_accuracy: 63.41%\n"
          ]
        },
        {
          "output_type": "stream",
          "name": "stderr",
          "text": [
            "100%|██████████| 346/346 [00:16<00:00, 20.88it/s]\n"
          ]
        },
        {
          "output_type": "stream",
          "name": "stdout",
          "text": [
            "Epoch 4 | Train Loss: 0.3555 | val_accuracy: 66.67%\n"
          ]
        },
        {
          "output_type": "stream",
          "name": "stderr",
          "text": [
            "100%|██████████| 346/346 [00:15<00:00, 22.04it/s]\n"
          ]
        },
        {
          "output_type": "stream",
          "name": "stdout",
          "text": [
            "Epoch 5 | Train Loss: 0.3038 | val_accuracy: 67.29%\n"
          ]
        },
        {
          "output_type": "stream",
          "name": "stderr",
          "text": [
            "100%|██████████| 346/346 [00:15<00:00, 22.03it/s]\n"
          ]
        },
        {
          "output_type": "stream",
          "name": "stdout",
          "text": [
            "Epoch 6 | Train Loss: 0.2851 | val_accuracy: 68.85%\n"
          ]
        },
        {
          "output_type": "stream",
          "name": "stderr",
          "text": [
            "100%|██████████| 346/346 [00:15<00:00, 21.73it/s]\n"
          ]
        },
        {
          "output_type": "stream",
          "name": "stdout",
          "text": [
            "Epoch 7 | Train Loss: 0.2381 | val_accuracy: 69.34%\n"
          ]
        },
        {
          "output_type": "stream",
          "name": "stderr",
          "text": [
            "100%|██████████| 346/346 [00:15<00:00, 22.08it/s]\n"
          ]
        },
        {
          "output_type": "stream",
          "name": "stdout",
          "text": [
            "Epoch 8 | Train Loss: 0.2160 | val_accuracy: 69.95%\n"
          ]
        },
        {
          "output_type": "stream",
          "name": "stderr",
          "text": [
            "100%|██████████| 346/346 [00:15<00:00, 22.09it/s]\n"
          ]
        },
        {
          "output_type": "stream",
          "name": "stdout",
          "text": [
            "Epoch 9 | Train Loss: 0.2074 | val_accuracy: 70.08%\n"
          ]
        },
        {
          "output_type": "stream",
          "name": "stderr",
          "text": [
            "100%|██████████| 346/346 [00:15<00:00, 22.32it/s]\n"
          ]
        },
        {
          "output_type": "stream",
          "name": "stdout",
          "text": [
            "Epoch 10 | Train Loss: 0.1876 | val_accuracy: 70.60%\n"
          ]
        },
        {
          "output_type": "stream",
          "name": "stderr",
          "text": [
            "100%|██████████| 346/346 [00:17<00:00, 20.17it/s]\n"
          ]
        },
        {
          "output_type": "stream",
          "name": "stdout",
          "text": [
            "Epoch 11 | Train Loss: 0.1928 | val_accuracy: 70.61%\n"
          ]
        },
        {
          "output_type": "stream",
          "name": "stderr",
          "text": [
            "100%|██████████| 346/346 [00:15<00:00, 21.86it/s]\n"
          ]
        },
        {
          "output_type": "stream",
          "name": "stdout",
          "text": [
            "Epoch 12 | Train Loss: 0.1703 | val_accuracy: 71.68%\n"
          ]
        },
        {
          "output_type": "stream",
          "name": "stderr",
          "text": [
            "100%|██████████| 346/346 [00:15<00:00, 22.18it/s]\n"
          ]
        },
        {
          "output_type": "stream",
          "name": "stdout",
          "text": [
            "Epoch 13 | Train Loss: 0.1807 | val_accuracy: 70.51%\n"
          ]
        },
        {
          "output_type": "stream",
          "name": "stderr",
          "text": [
            "100%|██████████| 346/346 [00:17<00:00, 19.57it/s]\n"
          ]
        },
        {
          "output_type": "stream",
          "name": "stdout",
          "text": [
            "Epoch 14 | Train Loss: 0.1986 | val_accuracy: 70.47%\n"
          ]
        },
        {
          "output_type": "stream",
          "name": "stderr",
          "text": [
            "100%|██████████| 346/346 [00:15<00:00, 22.32it/s]\n"
          ]
        },
        {
          "output_type": "stream",
          "name": "stdout",
          "text": [
            "Epoch 15 | Train Loss: 0.1696 | val_accuracy: 71.35%\n"
          ]
        },
        {
          "output_type": "display_data",
          "data": {
            "text/plain": [
              "<IPython.core.display.HTML object>"
            ],
            "text/html": []
          },
          "metadata": {}
        },
        {
          "output_type": "display_data",
          "data": {
            "text/plain": [
              "<IPython.core.display.HTML object>"
            ],
            "text/html": [
              "<br>    <style><br>        .wandb-row {<br>            display: flex;<br>            flex-direction: row;<br>            flex-wrap: wrap;<br>            justify-content: flex-start;<br>            width: 100%;<br>        }<br>        .wandb-col {<br>            display: flex;<br>            flex-direction: column;<br>            flex-basis: 100%;<br>            flex: 1;<br>            padding: 10px;<br>        }<br>    </style><br><div class=\"wandb-row\"><div class=\"wandb-col\"><h3>Run history:</h3><br/><table class=\"wandb\"><tr><td>tr_loss</td><td>█▃▂▂▂▂▁▁▁▁▁▁▁▁▁</td></tr><tr><td>val_accuracy</td><td>▁▄▅▆▆▇▇▇▇██████</td></tr></table><br/></div><div class=\"wandb-col\"><h3>Run summary:</h3><br/><table class=\"wandb\"><tr><td>tr_loss</td><td>0.16965</td></tr><tr><td>val_accuracy</td><td>71.35373</td></tr></table><br/></div></div>"
            ]
          },
          "metadata": {}
        },
        {
          "output_type": "display_data",
          "data": {
            "text/plain": [
              "<IPython.core.display.HTML object>"
            ],
            "text/html": [
              " View run <strong style=\"color:#cdcd00\">cty_lstm_hsz_256_emsz_128_dr_0.2_lr_0.001</strong> at: <a href='https://wandb.ai/arunangshudutta218-iitm/dl_assgn_3_q_5a/runs/veqi1dat' target=\"_blank\">https://wandb.ai/arunangshudutta218-iitm/dl_assgn_3_q_5a/runs/veqi1dat</a><br> View project at: <a href='https://wandb.ai/arunangshudutta218-iitm/dl_assgn_3_q_5a' target=\"_blank\">https://wandb.ai/arunangshudutta218-iitm/dl_assgn_3_q_5a</a><br>Synced 5 W&B file(s), 0 media file(s), 0 artifact file(s) and 0 other file(s)"
            ]
          },
          "metadata": {}
        },
        {
          "output_type": "display_data",
          "data": {
            "text/plain": [
              "<IPython.core.display.HTML object>"
            ],
            "text/html": [
              "Find logs at: <code>./wandb/run-20250519_225853-veqi1dat/logs</code>"
            ]
          },
          "metadata": {}
        },
        {
          "output_type": "stream",
          "name": "stderr",
          "text": [
            "\u001b[34m\u001b[1mwandb\u001b[0m: Agent Starting Run: 6s9pio44 with config:\n",
            "\u001b[34m\u001b[1mwandb\u001b[0m: \tcell_type: lstm\n",
            "\u001b[34m\u001b[1mwandb\u001b[0m: \tdropout: 0.2\n",
            "\u001b[34m\u001b[1mwandb\u001b[0m: \tembedding_size: 128\n",
            "\u001b[34m\u001b[1mwandb\u001b[0m: \thidden_layer_size: 256\n",
            "\u001b[34m\u001b[1mwandb\u001b[0m: \tlearning_rate: 0.001\n"
          ]
        },
        {
          "output_type": "display_data",
          "data": {
            "text/plain": [
              "<IPython.core.display.HTML object>"
            ],
            "text/html": [
              "Tracking run with wandb version 0.19.11"
            ]
          },
          "metadata": {}
        },
        {
          "output_type": "display_data",
          "data": {
            "text/plain": [
              "<IPython.core.display.HTML object>"
            ],
            "text/html": [
              "Run data is saved locally in <code>/content/wandb/run-20250519_230336-6s9pio44</code>"
            ]
          },
          "metadata": {}
        },
        {
          "output_type": "display_data",
          "data": {
            "text/plain": [
              "<IPython.core.display.HTML object>"
            ],
            "text/html": [
              "Syncing run <strong><a href='https://wandb.ai/arunangshudutta218-iitm/dl_assgn_3_q_5a/runs/6s9pio44' target=\"_blank\">swept-sweep-28</a></strong> to <a href='https://wandb.ai/arunangshudutta218-iitm/dl_assgn_3_q_5a' target=\"_blank\">Weights & Biases</a> (<a href='https://wandb.me/developer-guide' target=\"_blank\">docs</a>)<br>Sweep page: <a href='https://wandb.ai/arunangshudutta218-iitm/dl_assgn_3_q_5a/sweeps/fwc4vyn0' target=\"_blank\">https://wandb.ai/arunangshudutta218-iitm/dl_assgn_3_q_5a/sweeps/fwc4vyn0</a>"
            ]
          },
          "metadata": {}
        },
        {
          "output_type": "display_data",
          "data": {
            "text/plain": [
              "<IPython.core.display.HTML object>"
            ],
            "text/html": [
              " View project at <a href='https://wandb.ai/arunangshudutta218-iitm/dl_assgn_3_q_5a' target=\"_blank\">https://wandb.ai/arunangshudutta218-iitm/dl_assgn_3_q_5a</a>"
            ]
          },
          "metadata": {}
        },
        {
          "output_type": "display_data",
          "data": {
            "text/plain": [
              "<IPython.core.display.HTML object>"
            ],
            "text/html": [
              " View sweep at <a href='https://wandb.ai/arunangshudutta218-iitm/dl_assgn_3_q_5a/sweeps/fwc4vyn0' target=\"_blank\">https://wandb.ai/arunangshudutta218-iitm/dl_assgn_3_q_5a/sweeps/fwc4vyn0</a>"
            ]
          },
          "metadata": {}
        },
        {
          "output_type": "display_data",
          "data": {
            "text/plain": [
              "<IPython.core.display.HTML object>"
            ],
            "text/html": [
              " View run at <a href='https://wandb.ai/arunangshudutta218-iitm/dl_assgn_3_q_5a/runs/6s9pio44' target=\"_blank\">https://wandb.ai/arunangshudutta218-iitm/dl_assgn_3_q_5a/runs/6s9pio44</a>"
            ]
          },
          "metadata": {}
        },
        {
          "output_type": "stream",
          "name": "stderr",
          "text": [
            "100%|██████████| 346/346 [00:15<00:00, 21.82it/s]\n"
          ]
        },
        {
          "output_type": "stream",
          "name": "stdout",
          "text": [
            "Epoch 1 | Train Loss: 1.6089 | val_accuracy: 52.59%\n"
          ]
        },
        {
          "output_type": "stream",
          "name": "stderr",
          "text": [
            "100%|██████████| 346/346 [00:15<00:00, 21.97it/s]\n"
          ]
        },
        {
          "output_type": "stream",
          "name": "stdout",
          "text": [
            "Epoch 2 | Train Loss: 0.5975 | val_accuracy: 59.21%\n"
          ]
        },
        {
          "output_type": "stream",
          "name": "stderr",
          "text": [
            "100%|██████████| 346/346 [00:15<00:00, 22.13it/s]\n"
          ]
        },
        {
          "output_type": "stream",
          "name": "stdout",
          "text": [
            "Epoch 3 | Train Loss: 0.4384 | val_accuracy: 65.20%\n"
          ]
        },
        {
          "output_type": "stream",
          "name": "stderr",
          "text": [
            "100%|██████████| 346/346 [00:15<00:00, 22.31it/s]\n"
          ]
        },
        {
          "output_type": "stream",
          "name": "stdout",
          "text": [
            "Epoch 4 | Train Loss: 0.3598 | val_accuracy: 65.64%\n"
          ]
        },
        {
          "output_type": "stream",
          "name": "stderr",
          "text": [
            "100%|██████████| 346/346 [00:16<00:00, 21.13it/s]\n"
          ]
        },
        {
          "output_type": "stream",
          "name": "stdout",
          "text": [
            "Epoch 5 | Train Loss: 0.3178 | val_accuracy: 67.59%\n"
          ]
        },
        {
          "output_type": "stream",
          "name": "stderr",
          "text": [
            "100%|██████████| 346/346 [00:15<00:00, 22.37it/s]\n"
          ]
        },
        {
          "output_type": "stream",
          "name": "stdout",
          "text": [
            "Epoch 6 | Train Loss: 0.2782 | val_accuracy: 68.49%\n"
          ]
        },
        {
          "output_type": "stream",
          "name": "stderr",
          "text": [
            "100%|██████████| 346/346 [00:15<00:00, 22.46it/s]\n"
          ]
        },
        {
          "output_type": "stream",
          "name": "stdout",
          "text": [
            "Epoch 7 | Train Loss: 0.2413 | val_accuracy: 68.69%\n"
          ]
        },
        {
          "output_type": "stream",
          "name": "stderr",
          "text": [
            "100%|██████████| 346/346 [00:15<00:00, 22.27it/s]\n"
          ]
        },
        {
          "output_type": "stream",
          "name": "stdout",
          "text": [
            "Epoch 8 | Train Loss: 0.2179 | val_accuracy: 70.24%\n"
          ]
        },
        {
          "output_type": "stream",
          "name": "stderr",
          "text": [
            "100%|██████████| 346/346 [00:16<00:00, 21.30it/s]\n"
          ]
        },
        {
          "output_type": "stream",
          "name": "stdout",
          "text": [
            "Epoch 9 | Train Loss: 0.2059 | val_accuracy: 70.53%\n"
          ]
        },
        {
          "output_type": "stream",
          "name": "stderr",
          "text": [
            "100%|██████████| 346/346 [00:15<00:00, 22.18it/s]\n"
          ]
        },
        {
          "output_type": "stream",
          "name": "stdout",
          "text": [
            "Epoch 10 | Train Loss: 0.1961 | val_accuracy: 70.73%\n"
          ]
        },
        {
          "output_type": "stream",
          "name": "stderr",
          "text": [
            "100%|██████████| 346/346 [00:15<00:00, 21.75it/s]\n"
          ]
        },
        {
          "output_type": "stream",
          "name": "stdout",
          "text": [
            "Epoch 11 | Train Loss: 0.1848 | val_accuracy: 71.08%\n"
          ]
        },
        {
          "output_type": "stream",
          "name": "stderr",
          "text": [
            "100%|██████████| 346/346 [00:15<00:00, 21.70it/s]\n"
          ]
        },
        {
          "output_type": "stream",
          "name": "stdout",
          "text": [
            "Epoch 12 | Train Loss: 0.1743 | val_accuracy: 70.90%\n"
          ]
        },
        {
          "output_type": "stream",
          "name": "stderr",
          "text": [
            "100%|██████████| 346/346 [00:15<00:00, 22.35it/s]\n"
          ]
        },
        {
          "output_type": "stream",
          "name": "stdout",
          "text": [
            "Epoch 13 | Train Loss: 0.1666 | val_accuracy: 70.90%\n"
          ]
        },
        {
          "output_type": "stream",
          "name": "stderr",
          "text": [
            "100%|██████████| 346/346 [00:15<00:00, 22.17it/s]\n"
          ]
        },
        {
          "output_type": "stream",
          "name": "stdout",
          "text": [
            "Epoch 14 | Train Loss: 0.1624 | val_accuracy: 70.26%\n"
          ]
        },
        {
          "output_type": "stream",
          "name": "stderr",
          "text": [
            "100%|██████████| 346/346 [00:15<00:00, 22.29it/s]\n"
          ]
        },
        {
          "output_type": "stream",
          "name": "stdout",
          "text": [
            "Epoch 15 | Train Loss: 0.1839 | val_accuracy: 71.32%\n"
          ]
        },
        {
          "output_type": "display_data",
          "data": {
            "text/plain": [
              "<IPython.core.display.HTML object>"
            ],
            "text/html": []
          },
          "metadata": {}
        },
        {
          "output_type": "display_data",
          "data": {
            "text/plain": [
              "<IPython.core.display.HTML object>"
            ],
            "text/html": [
              "<br>    <style><br>        .wandb-row {<br>            display: flex;<br>            flex-direction: row;<br>            flex-wrap: wrap;<br>            justify-content: flex-start;<br>            width: 100%;<br>        }<br>        .wandb-col {<br>            display: flex;<br>            flex-direction: column;<br>            flex-basis: 100%;<br>            flex: 1;<br>            padding: 10px;<br>        }<br>    </style><br><div class=\"wandb-row\"><div class=\"wandb-col\"><h3>Run history:</h3><br/><table class=\"wandb\"><tr><td>tr_loss</td><td>█▃▂▂▂▂▁▁▁▁▁▁▁▁▁</td></tr><tr><td>val_accuracy</td><td>▁▃▆▆▇▇▇████████</td></tr></table><br/></div><div class=\"wandb-col\"><h3>Run summary:</h3><br/><table class=\"wandb\"><tr><td>tr_loss</td><td>0.18389</td></tr><tr><td>val_accuracy</td><td>71.3152</td></tr></table><br/></div></div>"
            ]
          },
          "metadata": {}
        },
        {
          "output_type": "display_data",
          "data": {
            "text/plain": [
              "<IPython.core.display.HTML object>"
            ],
            "text/html": [
              " View run <strong style=\"color:#cdcd00\">cty_lstm_hsz_256_emsz_128_dr_0.2_lr_0.001</strong> at: <a href='https://wandb.ai/arunangshudutta218-iitm/dl_assgn_3_q_5a/runs/6s9pio44' target=\"_blank\">https://wandb.ai/arunangshudutta218-iitm/dl_assgn_3_q_5a/runs/6s9pio44</a><br> View project at: <a href='https://wandb.ai/arunangshudutta218-iitm/dl_assgn_3_q_5a' target=\"_blank\">https://wandb.ai/arunangshudutta218-iitm/dl_assgn_3_q_5a</a><br>Synced 5 W&B file(s), 0 media file(s), 0 artifact file(s) and 0 other file(s)"
            ]
          },
          "metadata": {}
        },
        {
          "output_type": "display_data",
          "data": {
            "text/plain": [
              "<IPython.core.display.HTML object>"
            ],
            "text/html": [
              "Find logs at: <code>./wandb/run-20250519_230336-6s9pio44/logs</code>"
            ]
          },
          "metadata": {}
        },
        {
          "output_type": "stream",
          "name": "stderr",
          "text": [
            "\u001b[34m\u001b[1mwandb\u001b[0m: Agent Starting Run: tnyaeo18 with config:\n",
            "\u001b[34m\u001b[1mwandb\u001b[0m: \tcell_type: lstm\n",
            "\u001b[34m\u001b[1mwandb\u001b[0m: \tdropout: 0.2\n",
            "\u001b[34m\u001b[1mwandb\u001b[0m: \tembedding_size: 128\n",
            "\u001b[34m\u001b[1mwandb\u001b[0m: \thidden_layer_size: 256\n",
            "\u001b[34m\u001b[1mwandb\u001b[0m: \tlearning_rate: 0.001\n"
          ]
        },
        {
          "output_type": "display_data",
          "data": {
            "text/plain": [
              "<IPython.core.display.HTML object>"
            ],
            "text/html": [
              "Tracking run with wandb version 0.19.11"
            ]
          },
          "metadata": {}
        },
        {
          "output_type": "display_data",
          "data": {
            "text/plain": [
              "<IPython.core.display.HTML object>"
            ],
            "text/html": [
              "Run data is saved locally in <code>/content/wandb/run-20250519_230814-tnyaeo18</code>"
            ]
          },
          "metadata": {}
        },
        {
          "output_type": "display_data",
          "data": {
            "text/plain": [
              "<IPython.core.display.HTML object>"
            ],
            "text/html": [
              "Syncing run <strong><a href='https://wandb.ai/arunangshudutta218-iitm/dl_assgn_3_q_5a/runs/tnyaeo18' target=\"_blank\">resilient-sweep-29</a></strong> to <a href='https://wandb.ai/arunangshudutta218-iitm/dl_assgn_3_q_5a' target=\"_blank\">Weights & Biases</a> (<a href='https://wandb.me/developer-guide' target=\"_blank\">docs</a>)<br>Sweep page: <a href='https://wandb.ai/arunangshudutta218-iitm/dl_assgn_3_q_5a/sweeps/fwc4vyn0' target=\"_blank\">https://wandb.ai/arunangshudutta218-iitm/dl_assgn_3_q_5a/sweeps/fwc4vyn0</a>"
            ]
          },
          "metadata": {}
        },
        {
          "output_type": "display_data",
          "data": {
            "text/plain": [
              "<IPython.core.display.HTML object>"
            ],
            "text/html": [
              " View project at <a href='https://wandb.ai/arunangshudutta218-iitm/dl_assgn_3_q_5a' target=\"_blank\">https://wandb.ai/arunangshudutta218-iitm/dl_assgn_3_q_5a</a>"
            ]
          },
          "metadata": {}
        },
        {
          "output_type": "display_data",
          "data": {
            "text/plain": [
              "<IPython.core.display.HTML object>"
            ],
            "text/html": [
              " View sweep at <a href='https://wandb.ai/arunangshudutta218-iitm/dl_assgn_3_q_5a/sweeps/fwc4vyn0' target=\"_blank\">https://wandb.ai/arunangshudutta218-iitm/dl_assgn_3_q_5a/sweeps/fwc4vyn0</a>"
            ]
          },
          "metadata": {}
        },
        {
          "output_type": "display_data",
          "data": {
            "text/plain": [
              "<IPython.core.display.HTML object>"
            ],
            "text/html": [
              " View run at <a href='https://wandb.ai/arunangshudutta218-iitm/dl_assgn_3_q_5a/runs/tnyaeo18' target=\"_blank\">https://wandb.ai/arunangshudutta218-iitm/dl_assgn_3_q_5a/runs/tnyaeo18</a>"
            ]
          },
          "metadata": {}
        },
        {
          "output_type": "stream",
          "name": "stderr",
          "text": [
            "100%|██████████| 346/346 [00:15<00:00, 22.13it/s]\n"
          ]
        },
        {
          "output_type": "stream",
          "name": "stdout",
          "text": [
            "Epoch 1 | Train Loss: 1.5576 | val_accuracy: 49.60%\n"
          ]
        },
        {
          "output_type": "stream",
          "name": "stderr",
          "text": [
            "100%|██████████| 346/346 [00:15<00:00, 22.13it/s]\n"
          ]
        },
        {
          "output_type": "stream",
          "name": "stdout",
          "text": [
            "Epoch 2 | Train Loss: 0.5836 | val_accuracy: 61.51%\n"
          ]
        },
        {
          "output_type": "stream",
          "name": "stderr",
          "text": [
            "100%|██████████| 346/346 [00:15<00:00, 22.04it/s]\n"
          ]
        },
        {
          "output_type": "stream",
          "name": "stdout",
          "text": [
            "Epoch 3 | Train Loss: 0.4315 | val_accuracy: 63.95%\n"
          ]
        },
        {
          "output_type": "stream",
          "name": "stderr",
          "text": [
            "100%|██████████| 346/346 [00:16<00:00, 21.22it/s]\n"
          ]
        },
        {
          "output_type": "stream",
          "name": "stdout",
          "text": [
            "Epoch 4 | Train Loss: 0.3645 | val_accuracy: 66.05%\n"
          ]
        },
        {
          "output_type": "stream",
          "name": "stderr",
          "text": [
            "100%|██████████| 346/346 [00:15<00:00, 22.04it/s]\n"
          ]
        },
        {
          "output_type": "stream",
          "name": "stdout",
          "text": [
            "Epoch 5 | Train Loss: 0.2926 | val_accuracy: 66.68%\n"
          ]
        },
        {
          "output_type": "stream",
          "name": "stderr",
          "text": [
            "100%|██████████| 346/346 [00:15<00:00, 22.27it/s]\n"
          ]
        },
        {
          "output_type": "stream",
          "name": "stdout",
          "text": [
            "Epoch 6 | Train Loss: 0.2644 | val_accuracy: 68.67%\n"
          ]
        },
        {
          "output_type": "stream",
          "name": "stderr",
          "text": [
            "100%|██████████| 346/346 [00:16<00:00, 20.70it/s]\n"
          ]
        },
        {
          "output_type": "stream",
          "name": "stdout",
          "text": [
            "Epoch 7 | Train Loss: 0.2418 | val_accuracy: 66.73%\n"
          ]
        },
        {
          "output_type": "stream",
          "name": "stderr",
          "text": [
            "100%|██████████| 346/346 [00:16<00:00, 21.49it/s]\n"
          ]
        },
        {
          "output_type": "stream",
          "name": "stdout",
          "text": [
            "Epoch 8 | Train Loss: 0.2349 | val_accuracy: 69.98%\n"
          ]
        },
        {
          "output_type": "stream",
          "name": "stderr",
          "text": [
            "100%|██████████| 346/346 [00:15<00:00, 22.04it/s]\n"
          ]
        },
        {
          "output_type": "stream",
          "name": "stdout",
          "text": [
            "Epoch 9 | Train Loss: 0.2069 | val_accuracy: 70.56%\n"
          ]
        },
        {
          "output_type": "stream",
          "name": "stderr",
          "text": [
            "100%|██████████| 346/346 [00:15<00:00, 22.24it/s]\n"
          ]
        },
        {
          "output_type": "stream",
          "name": "stdout",
          "text": [
            "Epoch 10 | Train Loss: 0.1976 | val_accuracy: 70.33%\n"
          ]
        },
        {
          "output_type": "stream",
          "name": "stderr",
          "text": [
            "100%|██████████| 346/346 [00:16<00:00, 20.98it/s]\n"
          ]
        },
        {
          "output_type": "stream",
          "name": "stdout",
          "text": [
            "Epoch 11 | Train Loss: 0.1780 | val_accuracy: 70.71%\n"
          ]
        },
        {
          "output_type": "stream",
          "name": "stderr",
          "text": [
            "100%|██████████| 346/346 [00:15<00:00, 22.32it/s]\n"
          ]
        },
        {
          "output_type": "stream",
          "name": "stdout",
          "text": [
            "Epoch 12 | Train Loss: 0.1642 | val_accuracy: 70.99%\n"
          ]
        },
        {
          "output_type": "stream",
          "name": "stderr",
          "text": [
            "100%|██████████| 346/346 [00:15<00:00, 22.03it/s]\n"
          ]
        },
        {
          "output_type": "stream",
          "name": "stdout",
          "text": [
            "Epoch 13 | Train Loss: 0.1585 | val_accuracy: 71.56%\n"
          ]
        },
        {
          "output_type": "stream",
          "name": "stderr",
          "text": [
            "100%|██████████| 346/346 [00:15<00:00, 22.04it/s]\n"
          ]
        },
        {
          "output_type": "stream",
          "name": "stdout",
          "text": [
            "Epoch 14 | Train Loss: 0.1516 | val_accuracy: 71.54%\n"
          ]
        },
        {
          "output_type": "stream",
          "name": "stderr",
          "text": [
            "100%|██████████| 346/346 [00:16<00:00, 21.11it/s]\n"
          ]
        },
        {
          "output_type": "stream",
          "name": "stdout",
          "text": [
            "Epoch 15 | Train Loss: 0.1408 | val_accuracy: 71.77%\n"
          ]
        },
        {
          "output_type": "display_data",
          "data": {
            "text/plain": [
              "<IPython.core.display.HTML object>"
            ],
            "text/html": []
          },
          "metadata": {}
        },
        {
          "output_type": "display_data",
          "data": {
            "text/plain": [
              "<IPython.core.display.HTML object>"
            ],
            "text/html": [
              "<br>    <style><br>        .wandb-row {<br>            display: flex;<br>            flex-direction: row;<br>            flex-wrap: wrap;<br>            justify-content: flex-start;<br>            width: 100%;<br>        }<br>        .wandb-col {<br>            display: flex;<br>            flex-direction: column;<br>            flex-basis: 100%;<br>            flex: 1;<br>            padding: 10px;<br>        }<br>    </style><br><div class=\"wandb-row\"><div class=\"wandb-col\"><h3>Run history:</h3><br/><table class=\"wandb\"><tr><td>tr_loss</td><td>█▃▂▂▂▂▁▁▁▁▁▁▁▁▁</td></tr><tr><td>val_accuracy</td><td>▁▅▆▆▆▇▆▇███████</td></tr></table><br/></div><div class=\"wandb-col\"><h3>Run summary:</h3><br/><table class=\"wandb\"><tr><td>tr_loss</td><td>0.14079</td></tr><tr><td>val_accuracy</td><td>71.76593</td></tr></table><br/></div></div>"
            ]
          },
          "metadata": {}
        },
        {
          "output_type": "display_data",
          "data": {
            "text/plain": [
              "<IPython.core.display.HTML object>"
            ],
            "text/html": [
              " View run <strong style=\"color:#cdcd00\">cty_lstm_hsz_256_emsz_128_dr_0.2_lr_0.001</strong> at: <a href='https://wandb.ai/arunangshudutta218-iitm/dl_assgn_3_q_5a/runs/tnyaeo18' target=\"_blank\">https://wandb.ai/arunangshudutta218-iitm/dl_assgn_3_q_5a/runs/tnyaeo18</a><br> View project at: <a href='https://wandb.ai/arunangshudutta218-iitm/dl_assgn_3_q_5a' target=\"_blank\">https://wandb.ai/arunangshudutta218-iitm/dl_assgn_3_q_5a</a><br>Synced 5 W&B file(s), 0 media file(s), 0 artifact file(s) and 0 other file(s)"
            ]
          },
          "metadata": {}
        },
        {
          "output_type": "display_data",
          "data": {
            "text/plain": [
              "<IPython.core.display.HTML object>"
            ],
            "text/html": [
              "Find logs at: <code>./wandb/run-20250519_230814-tnyaeo18/logs</code>"
            ]
          },
          "metadata": {}
        },
        {
          "output_type": "stream",
          "name": "stderr",
          "text": [
            "\u001b[34m\u001b[1mwandb\u001b[0m: Agent Starting Run: empc3ybe with config:\n",
            "\u001b[34m\u001b[1mwandb\u001b[0m: \tcell_type: lstm\n",
            "\u001b[34m\u001b[1mwandb\u001b[0m: \tdropout: 0.2\n",
            "\u001b[34m\u001b[1mwandb\u001b[0m: \tembedding_size: 128\n",
            "\u001b[34m\u001b[1mwandb\u001b[0m: \thidden_layer_size: 256\n",
            "\u001b[34m\u001b[1mwandb\u001b[0m: \tlearning_rate: 0.001\n"
          ]
        },
        {
          "output_type": "display_data",
          "data": {
            "text/plain": [
              "<IPython.core.display.HTML object>"
            ],
            "text/html": [
              "Tracking run with wandb version 0.19.11"
            ]
          },
          "metadata": {}
        },
        {
          "output_type": "display_data",
          "data": {
            "text/plain": [
              "<IPython.core.display.HTML object>"
            ],
            "text/html": [
              "Run data is saved locally in <code>/content/wandb/run-20250519_231257-empc3ybe</code>"
            ]
          },
          "metadata": {}
        },
        {
          "output_type": "display_data",
          "data": {
            "text/plain": [
              "<IPython.core.display.HTML object>"
            ],
            "text/html": [
              "Syncing run <strong><a href='https://wandb.ai/arunangshudutta218-iitm/dl_assgn_3_q_5a/runs/empc3ybe' target=\"_blank\">honest-sweep-30</a></strong> to <a href='https://wandb.ai/arunangshudutta218-iitm/dl_assgn_3_q_5a' target=\"_blank\">Weights & Biases</a> (<a href='https://wandb.me/developer-guide' target=\"_blank\">docs</a>)<br>Sweep page: <a href='https://wandb.ai/arunangshudutta218-iitm/dl_assgn_3_q_5a/sweeps/fwc4vyn0' target=\"_blank\">https://wandb.ai/arunangshudutta218-iitm/dl_assgn_3_q_5a/sweeps/fwc4vyn0</a>"
            ]
          },
          "metadata": {}
        },
        {
          "output_type": "display_data",
          "data": {
            "text/plain": [
              "<IPython.core.display.HTML object>"
            ],
            "text/html": [
              " View project at <a href='https://wandb.ai/arunangshudutta218-iitm/dl_assgn_3_q_5a' target=\"_blank\">https://wandb.ai/arunangshudutta218-iitm/dl_assgn_3_q_5a</a>"
            ]
          },
          "metadata": {}
        },
        {
          "output_type": "display_data",
          "data": {
            "text/plain": [
              "<IPython.core.display.HTML object>"
            ],
            "text/html": [
              " View sweep at <a href='https://wandb.ai/arunangshudutta218-iitm/dl_assgn_3_q_5a/sweeps/fwc4vyn0' target=\"_blank\">https://wandb.ai/arunangshudutta218-iitm/dl_assgn_3_q_5a/sweeps/fwc4vyn0</a>"
            ]
          },
          "metadata": {}
        },
        {
          "output_type": "display_data",
          "data": {
            "text/plain": [
              "<IPython.core.display.HTML object>"
            ],
            "text/html": [
              " View run at <a href='https://wandb.ai/arunangshudutta218-iitm/dl_assgn_3_q_5a/runs/empc3ybe' target=\"_blank\">https://wandb.ai/arunangshudutta218-iitm/dl_assgn_3_q_5a/runs/empc3ybe</a>"
            ]
          },
          "metadata": {}
        },
        {
          "output_type": "stream",
          "name": "stderr",
          "text": [
            "100%|██████████| 346/346 [00:16<00:00, 21.26it/s]\n"
          ]
        },
        {
          "output_type": "stream",
          "name": "stdout",
          "text": [
            "Epoch 1 | Train Loss: 1.5723 | val_accuracy: 53.46%\n"
          ]
        },
        {
          "output_type": "stream",
          "name": "stderr",
          "text": [
            "100%|██████████| 346/346 [00:15<00:00, 22.02it/s]\n"
          ]
        },
        {
          "output_type": "stream",
          "name": "stdout",
          "text": [
            "Epoch 2 | Train Loss: 0.5868 | val_accuracy: 60.04%\n"
          ]
        },
        {
          "output_type": "stream",
          "name": "stderr",
          "text": [
            "100%|██████████| 346/346 [00:15<00:00, 22.25it/s]\n"
          ]
        },
        {
          "output_type": "stream",
          "name": "stdout",
          "text": [
            "Epoch 3 | Train Loss: 0.4203 | val_accuracy: 58.58%\n"
          ]
        },
        {
          "output_type": "stream",
          "name": "stderr",
          "text": [
            "100%|██████████| 346/346 [00:16<00:00, 20.48it/s]\n"
          ]
        },
        {
          "output_type": "stream",
          "name": "stdout",
          "text": [
            "Epoch 4 | Train Loss: 0.3746 | val_accuracy: 65.78%\n"
          ]
        },
        {
          "output_type": "stream",
          "name": "stderr",
          "text": [
            "100%|██████████| 346/346 [00:16<00:00, 21.01it/s]\n"
          ]
        },
        {
          "output_type": "stream",
          "name": "stdout",
          "text": [
            "Epoch 5 | Train Loss: 0.3000 | val_accuracy: 67.24%\n"
          ]
        },
        {
          "output_type": "stream",
          "name": "stderr",
          "text": [
            "100%|██████████| 346/346 [00:15<00:00, 22.25it/s]\n"
          ]
        },
        {
          "output_type": "stream",
          "name": "stdout",
          "text": [
            "Epoch 6 | Train Loss: 0.2800 | val_accuracy: 68.13%\n"
          ]
        },
        {
          "output_type": "stream",
          "name": "stderr",
          "text": [
            "100%|██████████| 346/346 [00:15<00:00, 22.23it/s]\n"
          ]
        },
        {
          "output_type": "stream",
          "name": "stdout",
          "text": [
            "Epoch 7 | Train Loss: 0.2419 | val_accuracy: 67.90%\n"
          ]
        },
        {
          "output_type": "stream",
          "name": "stderr",
          "text": [
            "100%|██████████| 346/346 [00:15<00:00, 21.70it/s]\n"
          ]
        },
        {
          "output_type": "stream",
          "name": "stdout",
          "text": [
            "Epoch 8 | Train Loss: 0.2334 | val_accuracy: 69.07%\n"
          ]
        },
        {
          "output_type": "stream",
          "name": "stderr",
          "text": [
            "100%|██████████| 346/346 [00:15<00:00, 22.03it/s]\n"
          ]
        },
        {
          "output_type": "stream",
          "name": "stdout",
          "text": [
            "Epoch 9 | Train Loss: 0.2160 | val_accuracy: 69.83%\n"
          ]
        },
        {
          "output_type": "stream",
          "name": "stderr",
          "text": [
            "100%|██████████| 346/346 [00:15<00:00, 22.16it/s]\n"
          ]
        },
        {
          "output_type": "stream",
          "name": "stdout",
          "text": [
            "Epoch 10 | Train Loss: 0.1950 | val_accuracy: 70.51%\n"
          ]
        },
        {
          "output_type": "stream",
          "name": "stderr",
          "text": [
            "100%|██████████| 346/346 [00:15<00:00, 22.11it/s]\n"
          ]
        },
        {
          "output_type": "stream",
          "name": "stdout",
          "text": [
            "Epoch 11 | Train Loss: 0.1840 | val_accuracy: 71.78%\n"
          ]
        },
        {
          "output_type": "stream",
          "name": "stderr",
          "text": [
            "100%|██████████| 346/346 [00:16<00:00, 20.79it/s]\n"
          ]
        },
        {
          "output_type": "stream",
          "name": "stdout",
          "text": [
            "Epoch 12 | Train Loss: 0.1790 | val_accuracy: 70.96%\n"
          ]
        },
        {
          "output_type": "stream",
          "name": "stderr",
          "text": [
            "100%|██████████| 346/346 [00:15<00:00, 22.13it/s]\n"
          ]
        },
        {
          "output_type": "stream",
          "name": "stdout",
          "text": [
            "Epoch 13 | Train Loss: 0.1656 | val_accuracy: 71.44%\n"
          ]
        },
        {
          "output_type": "stream",
          "name": "stderr",
          "text": [
            "100%|██████████| 346/346 [00:15<00:00, 22.09it/s]\n"
          ]
        },
        {
          "output_type": "stream",
          "name": "stdout",
          "text": [
            "Epoch 14 | Train Loss: 0.1514 | val_accuracy: 71.61%\n"
          ]
        },
        {
          "output_type": "stream",
          "name": "stderr",
          "text": [
            "100%|██████████| 346/346 [00:15<00:00, 22.16it/s]\n"
          ]
        },
        {
          "output_type": "stream",
          "name": "stdout",
          "text": [
            "Epoch 15 | Train Loss: 0.1498 | val_accuracy: 71.94%\n"
          ]
        },
        {
          "output_type": "display_data",
          "data": {
            "text/plain": [
              "<IPython.core.display.HTML object>"
            ],
            "text/html": []
          },
          "metadata": {}
        },
        {
          "output_type": "display_data",
          "data": {
            "text/plain": [
              "<IPython.core.display.HTML object>"
            ],
            "text/html": [
              "<br>    <style><br>        .wandb-row {<br>            display: flex;<br>            flex-direction: row;<br>            flex-wrap: wrap;<br>            justify-content: flex-start;<br>            width: 100%;<br>        }<br>        .wandb-col {<br>            display: flex;<br>            flex-direction: column;<br>            flex-basis: 100%;<br>            flex: 1;<br>            padding: 10px;<br>        }<br>    </style><br><div class=\"wandb-row\"><div class=\"wandb-col\"><h3>Run history:</h3><br/><table class=\"wandb\"><tr><td>tr_loss</td><td>█▃▂▂▂▂▁▁▁▁▁▁▁▁▁</td></tr><tr><td>val_accuracy</td><td>▁▃▃▆▆▇▆▇▇▇█████</td></tr></table><br/></div><div class=\"wandb-col\"><h3>Run summary:</h3><br/><table class=\"wandb\"><tr><td>tr_loss</td><td>0.1498</td></tr><tr><td>val_accuracy</td><td>71.93543</td></tr></table><br/></div></div>"
            ]
          },
          "metadata": {}
        },
        {
          "output_type": "display_data",
          "data": {
            "text/plain": [
              "<IPython.core.display.HTML object>"
            ],
            "text/html": [
              " View run <strong style=\"color:#cdcd00\">cty_lstm_hsz_256_emsz_128_dr_0.2_lr_0.001</strong> at: <a href='https://wandb.ai/arunangshudutta218-iitm/dl_assgn_3_q_5a/runs/empc3ybe' target=\"_blank\">https://wandb.ai/arunangshudutta218-iitm/dl_assgn_3_q_5a/runs/empc3ybe</a><br> View project at: <a href='https://wandb.ai/arunangshudutta218-iitm/dl_assgn_3_q_5a' target=\"_blank\">https://wandb.ai/arunangshudutta218-iitm/dl_assgn_3_q_5a</a><br>Synced 5 W&B file(s), 0 media file(s), 0 artifact file(s) and 0 other file(s)"
            ]
          },
          "metadata": {}
        },
        {
          "output_type": "display_data",
          "data": {
            "text/plain": [
              "<IPython.core.display.HTML object>"
            ],
            "text/html": [
              "Find logs at: <code>./wandb/run-20250519_231257-empc3ybe/logs</code>"
            ]
          },
          "metadata": {}
        }
      ]
    },
    {
      "cell_type": "code",
      "source": [
        "em_sz = 128\n",
        "hid_sz = 256\n",
        "cty = 'lstm'\n",
        "dr = 0.2\n",
        "lr = 0.001\n",
        "\n",
        "\n",
        "\n",
        "INPUT_DIM = len(input_char2idx)\n",
        "OUTPUT_DIM = len(target_char2idx)\n",
        "EMB_DIM = em_sz\n",
        "HID_DIM = hid_sz\n",
        "\n",
        "encoder = Encoder(INPUT_DIM, EMB_DIM, HID_DIM, cell_type=cty, dropout=dr).to(device)\n",
        "attention = BahdanauAttention(HID_DIM, HID_DIM).to(device)\n",
        "decoder = DecoderWithAttention(OUTPUT_DIM, EMB_DIM, HID_DIM, HID_DIM, attention, cell_type=cty, dropout=dr).to(device)\n",
        "\n",
        "enc_optimizer = optim.Adam(encoder.parameters(), lr=lr)\n",
        "dec_optimizer = optim.Adam(decoder.parameters(), lr=lr)\n",
        "criterion = nn.CrossEntropyLoss(ignore_index=target_char2idx['<pad>'])\n",
        "\n",
        "for epoch in range(15):\n",
        "    loss = train(None, train_dataloader, encoder, decoder, enc_optimizer, dec_optimizer, criterion, device, target_char2idx['<pad>'])\n",
        "    accuracy, _ , _ = evaluate(None, val_dataloader, encoder, decoder, target_idx2char, target_char2idx, device, max_len=30)\n",
        "\n",
        "    val_accuracy = accuracy*100\n",
        "\n",
        "    print(f\"Epoch {epoch+1} | Train Loss: {loss:.4f} | val_accuracy: {val_accuracy:.2f}%\")"
      ],
      "metadata": {
        "colab": {
          "base_uri": "https://localhost:8080/"
        },
        "id": "g_U-n0LcVFF4",
        "outputId": "7b29c8ca-dd9b-4703-d37e-a78342e6a8dd"
      },
      "execution_count": null,
      "outputs": [
        {
          "output_type": "stream",
          "name": "stderr",
          "text": [
            "100%|██████████| 346/346 [06:21<00:00,  1.10s/it]\n"
          ]
        },
        {
          "output_type": "stream",
          "name": "stdout",
          "text": [
            "Epoch 1 | Train Loss: 1.6801 | val_accuracy: 49.30%\n"
          ]
        },
        {
          "output_type": "stream",
          "name": "stderr",
          "text": [
            "100%|██████████| 346/346 [06:14<00:00,  1.08s/it]\n"
          ]
        },
        {
          "output_type": "stream",
          "name": "stdout",
          "text": [
            "Epoch 2 | Train Loss: 0.6392 | val_accuracy: 60.71%\n"
          ]
        },
        {
          "output_type": "stream",
          "name": "stderr",
          "text": [
            "100%|██████████| 346/346 [06:13<00:00,  1.08s/it]\n"
          ]
        },
        {
          "output_type": "stream",
          "name": "stdout",
          "text": [
            "Epoch 3 | Train Loss: 0.4476 | val_accuracy: 64.79%\n"
          ]
        },
        {
          "output_type": "stream",
          "name": "stderr",
          "text": [
            "100%|██████████| 346/346 [06:15<00:00,  1.09s/it]\n"
          ]
        },
        {
          "output_type": "stream",
          "name": "stdout",
          "text": [
            "Epoch 4 | Train Loss: 0.3646 | val_accuracy: 66.21%\n"
          ]
        },
        {
          "output_type": "stream",
          "name": "stderr",
          "text": [
            "100%|██████████| 346/346 [06:23<00:00,  1.11s/it]\n"
          ]
        },
        {
          "output_type": "stream",
          "name": "stdout",
          "text": [
            "Epoch 5 | Train Loss: 0.3011 | val_accuracy: 67.40%\n"
          ]
        },
        {
          "output_type": "stream",
          "name": "stderr",
          "text": [
            "100%|██████████| 346/346 [06:15<00:00,  1.08s/it]\n"
          ]
        },
        {
          "output_type": "stream",
          "name": "stdout",
          "text": [
            "Epoch 6 | Train Loss: 0.2716 | val_accuracy: 67.57%\n"
          ]
        },
        {
          "output_type": "stream",
          "name": "stderr",
          "text": [
            "100%|██████████| 346/346 [06:17<00:00,  1.09s/it]\n"
          ]
        },
        {
          "output_type": "stream",
          "name": "stdout",
          "text": [
            "Epoch 7 | Train Loss: 0.2393 | val_accuracy: 69.02%\n"
          ]
        },
        {
          "output_type": "stream",
          "name": "stderr",
          "text": [
            "100%|██████████| 346/346 [06:11<00:00,  1.07s/it]\n"
          ]
        },
        {
          "output_type": "stream",
          "name": "stdout",
          "text": [
            "Epoch 8 | Train Loss: 0.2268 | val_accuracy: 69.17%\n"
          ]
        },
        {
          "output_type": "stream",
          "name": "stderr",
          "text": [
            "100%|██████████| 346/346 [06:13<00:00,  1.08s/it]\n"
          ]
        },
        {
          "output_type": "stream",
          "name": "stdout",
          "text": [
            "Epoch 9 | Train Loss: 0.2172 | val_accuracy: 68.58%\n"
          ]
        },
        {
          "output_type": "stream",
          "name": "stderr",
          "text": [
            "100%|██████████| 346/346 [06:11<00:00,  1.07s/it]\n"
          ]
        },
        {
          "output_type": "stream",
          "name": "stdout",
          "text": [
            "Epoch 10 | Train Loss: 0.2076 | val_accuracy: 70.04%\n"
          ]
        },
        {
          "output_type": "stream",
          "name": "stderr",
          "text": [
            "100%|██████████| 346/346 [06:11<00:00,  1.07s/it]\n"
          ]
        },
        {
          "output_type": "stream",
          "name": "stdout",
          "text": [
            "Epoch 11 | Train Loss: 0.1974 | val_accuracy: 70.59%\n"
          ]
        },
        {
          "output_type": "stream",
          "name": "stderr",
          "text": [
            "100%|██████████| 346/346 [06:13<00:00,  1.08s/it]\n"
          ]
        },
        {
          "output_type": "stream",
          "name": "stdout",
          "text": [
            "Epoch 12 | Train Loss: 0.2050 | val_accuracy: 70.44%\n"
          ]
        },
        {
          "output_type": "stream",
          "name": "stderr",
          "text": [
            "100%|██████████| 346/346 [06:11<00:00,  1.07s/it]\n"
          ]
        },
        {
          "output_type": "stream",
          "name": "stdout",
          "text": [
            "Epoch 13 | Train Loss: 0.1741 | val_accuracy: 70.75%\n"
          ]
        },
        {
          "output_type": "stream",
          "name": "stderr",
          "text": [
            "100%|██████████| 346/346 [06:11<00:00,  1.07s/it]\n"
          ]
        },
        {
          "output_type": "stream",
          "name": "stdout",
          "text": [
            "Epoch 14 | Train Loss: 0.1616 | val_accuracy: 71.82%\n"
          ]
        },
        {
          "output_type": "stream",
          "name": "stderr",
          "text": [
            "100%|██████████| 346/346 [06:11<00:00,  1.07s/it]\n"
          ]
        },
        {
          "output_type": "stream",
          "name": "stdout",
          "text": [
            "Epoch 15 | Train Loss: 0.1484 | val_accuracy: 71.69%\n"
          ]
        }
      ]
    },
    {
      "cell_type": "markdown",
      "source": [
        "# Prediction on test set"
      ],
      "metadata": {
        "id": "OC9trPxyGbVX"
      }
    },
    {
      "cell_type": "code",
      "source": [
        "def evaluate(model, dataloader, encoder, decoder, tgt_idx2char, tgt_char2idx, device, max_len=30):\n",
        "    encoder.eval()\n",
        "    decoder.eval()\n",
        "\n",
        "    all_predictions = []\n",
        "    all_targets = []\n",
        "    total_chars = 0\n",
        "    correct_chars = 0\n",
        "\n",
        "    with torch.no_grad():\n",
        "        for src, tgt in dataloader:\n",
        "            src, tgt = src.to(device), tgt.to(device)\n",
        "            batch_size = src.size(0)\n",
        "            encoder_outputs, hidden = encoder(src)\n",
        "\n",
        "            input = torch.tensor([tgt_char2idx['<sos>']] * batch_size).to(device)\n",
        "            outputs = []\n",
        "\n",
        "\n",
        "            for _ in range(max_len):\n",
        "                output, hidden, _ = decoder(input, hidden, encoder_outputs)\n",
        "                top1 = output.argmax(1)\n",
        "                outputs.append(top1.unsqueeze(1))\n",
        "                input = top1\n",
        "\n",
        "            outputs = torch.cat(outputs, dim=1)\n",
        "\n",
        "            # Convert predictions and targets to strings for comparison\n",
        "            for pred_seq, tgt_seq in zip(outputs, tgt[:, 1:]):  # Skip <sos> in tgt\n",
        "                pred_str = []\n",
        "                tgt_str = []\n",
        "                for p, t in zip(pred_seq, tgt_seq):\n",
        "                    p_ch = tgt_idx2char.get(p.item(), '')\n",
        "                    t_ch = tgt_idx2char.get(t.item(), '')\n",
        "                    if t_ch == '<eos>':\n",
        "                        break\n",
        "                    pred_str.append(p_ch)\n",
        "                    tgt_str.append(t_ch)\n",
        "\n",
        "                all_predictions.append(\"\".join(pred_str))\n",
        "                all_targets.append(\"\".join(tgt_str))\n",
        "\n",
        "                # Accuracy count\n",
        "                match_len = min(len(pred_str), len(tgt_str))\n",
        "                for i in range(match_len):\n",
        "                    if pred_str[i] == tgt_str[i]:\n",
        "                        correct_chars += 1\n",
        "                total_chars += len(tgt_str)\n",
        "\n",
        "    accuracy = correct_chars / total_chars if total_chars > 0 else 0.0\n",
        "    return accuracy, all_predictions, all_targets\n",
        "\n",
        "\n",
        "def indices_to_string(indices, idx2char):\n",
        "    chars = []\n",
        "    for i, idx in enumerate(indices):\n",
        "        char = idx2char[idx.item()]\n",
        "        if char == \"<sos>\" and i == 0:\n",
        "            continue  # Skip <sos> at the start\n",
        "        if char in [\"<eos>\", \"<pad>\"]:\n",
        "            break\n",
        "        chars.append(char)\n",
        "    return ''.join(chars)"
      ],
      "metadata": {
        "id": "sgsKZBNYHxmN"
      },
      "execution_count": null,
      "outputs": []
    },
    {
      "cell_type": "code",
      "source": [
        "accuracy, all_predictions, all_targets = evaluate(None, test_dataloader, encoder, decoder, target_idx2char, target_char2idx, device, max_len=30)\n",
        "print(\"Charecter level acc: \", accuracy)"
      ],
      "metadata": {
        "colab": {
          "base_uri": "https://localhost:8080/"
        },
        "id": "L_hW-CgqsgTF",
        "outputId": "238a84c4-e848-4800-80b0-aecbd5e235f6"
      },
      "execution_count": null,
      "outputs": [
        {
          "output_type": "stream",
          "name": "stdout",
          "text": [
            "Charecter level acc:  0.7161183450188766\n"
          ]
        }
      ]
    },
    {
      "cell_type": "code",
      "source": [
        "\n",
        "all_inputs = []\n",
        "for src, trg in test_dataloader:\n",
        "    src, trg = src.to(device), trg.to(device)\n",
        "\n",
        "    for i in range(src.size(0)):\n",
        "        input_str = indices_to_string(src[i], input_idx2char)\n",
        "\n",
        "        all_inputs.append(input_str)\n"
      ],
      "metadata": {
        "id": "8pMAEEQoGuuK"
      },
      "execution_count": null,
      "outputs": []
    },
    {
      "cell_type": "code",
      "source": [
        "all_predictions[6]"
      ],
      "metadata": {
        "colab": {
          "base_uri": "https://localhost:8080/",
          "height": 36
        },
        "id": "_1x30OFTG69W",
        "outputId": "cefecc7a-c61b-4e91-898b-9441e054edf0"
      },
      "execution_count": null,
      "outputs": [
        {
          "output_type": "execute_result",
          "data": {
            "text/plain": [
              "'अंजाम'"
            ],
            "application/vnd.google.colaboratory.intrinsic+json": {
              "type": "string"
            }
          },
          "metadata": {},
          "execution_count": 58
        }
      ]
    },
    {
      "cell_type": "code",
      "source": [
        "all_predictions = [seq.replace('<eos>', '') for seq in all_predictions]"
      ],
      "metadata": {
        "id": "IIqTsJyyLCVX"
      },
      "execution_count": null,
      "outputs": []
    },
    {
      "cell_type": "code",
      "source": [
        "all_predictions[6]"
      ],
      "metadata": {
        "colab": {
          "base_uri": "https://localhost:8080/",
          "height": 36
        },
        "id": "vIjWzFGvLDTa",
        "outputId": "04454441-7300-4caa-d4d0-62e0e6e326d0"
      },
      "execution_count": null,
      "outputs": [
        {
          "output_type": "execute_result",
          "data": {
            "text/plain": [
              "'अंजाम'"
            ],
            "application/vnd.google.colaboratory.intrinsic+json": {
              "type": "string"
            }
          },
          "metadata": {},
          "execution_count": 60
        }
      ]
    },
    {
      "cell_type": "code",
      "source": [
        "all_targets[6]"
      ],
      "metadata": {
        "colab": {
          "base_uri": "https://localhost:8080/",
          "height": 36
        },
        "id": "zyy8atKgLv1A",
        "outputId": "0efd1fc8-5ed7-49ec-8055-70088c65c1e0"
      },
      "execution_count": null,
      "outputs": [
        {
          "output_type": "execute_result",
          "data": {
            "text/plain": [
              "'अंजाम'"
            ],
            "application/vnd.google.colaboratory.intrinsic+json": {
              "type": "string"
            }
          },
          "metadata": {},
          "execution_count": 61
        }
      ]
    },
    {
      "cell_type": "code",
      "source": [
        "import csv\n",
        "import os\n",
        "\n",
        "save_path=\"/content/drive/MyDrive/Colab Notebooks/DA6401/assignment 3/predictions_attention.tsv\"\n",
        "\n",
        "os.makedirs(os.path.dirname(save_path), exist_ok=True)\n",
        "\n",
        "with open(save_path, \"w\", encoding='utf-8', newline='') as f:\n",
        "    tsv_writer = csv.writer(f, delimiter='\\t')\n",
        "    tsv_writer.writerow([\"Input\", \"Target (Hindi)\", \"Prediction (Hindi)\"])\n",
        "\n",
        "    for i in range(len(all_targets)):\n",
        "      tsv_writer.writerow([all_inputs[i], all_targets[i], all_predictions[i]])"
      ],
      "metadata": {
        "id": "77KkeIDMWpvO"
      },
      "execution_count": null,
      "outputs": []
    },
    {
      "cell_type": "code",
      "source": [
        "df_pred = pd.read_csv(\"/content/drive/MyDrive/Colab Notebooks/DA6401/assignment 3/predictions_attention.tsv\", sep=\"\\t\")"
      ],
      "metadata": {
        "id": "RBPRDxxmXjzF"
      },
      "execution_count": null,
      "outputs": []
    },
    {
      "cell_type": "code",
      "source": [
        "df_pred"
      ],
      "metadata": {
        "colab": {
          "base_uri": "https://localhost:8080/",
          "height": 423
        },
        "id": "H7XMQdK8X8em",
        "outputId": "b1a9c226-488f-45e5-950a-63aa4b845924"
      },
      "execution_count": null,
      "outputs": [
        {
          "output_type": "execute_result",
          "data": {
            "text/plain": [
              "        Input Target (Hindi) Prediction (Hindi)\n",
              "0       ankan           अंकन               अंकन\n",
              "1      angkor         अंगकोर              अंगकर\n",
              "2      angira         अंगिरा             अंगीरा\n",
              "3     angithi         अंगीठी             अंगीठी\n",
              "4      angrej        अंग्रेज            अंग्रेज\n",
              "...       ...            ...                ...\n",
              "4353   holder         होल्डर              लॉड्र\n",
              "4354    hosho           होशो               होशो\n",
              "4355     huar         ह्यूअर               हुआर\n",
              "4356    hyuar         ह्यूअर               युआर\n",
              "4357    hyuer         ह्यूअर               यूयर\n",
              "\n",
              "[4358 rows x 3 columns]"
            ],
            "text/html": [
              "\n",
              "  <div id=\"df-4e53ee68-482b-4816-a849-4cbc3d667714\" class=\"colab-df-container\">\n",
              "    <div>\n",
              "<style scoped>\n",
              "    .dataframe tbody tr th:only-of-type {\n",
              "        vertical-align: middle;\n",
              "    }\n",
              "\n",
              "    .dataframe tbody tr th {\n",
              "        vertical-align: top;\n",
              "    }\n",
              "\n",
              "    .dataframe thead th {\n",
              "        text-align: right;\n",
              "    }\n",
              "</style>\n",
              "<table border=\"1\" class=\"dataframe\">\n",
              "  <thead>\n",
              "    <tr style=\"text-align: right;\">\n",
              "      <th></th>\n",
              "      <th>Input</th>\n",
              "      <th>Target (Hindi)</th>\n",
              "      <th>Prediction (Hindi)</th>\n",
              "    </tr>\n",
              "  </thead>\n",
              "  <tbody>\n",
              "    <tr>\n",
              "      <th>0</th>\n",
              "      <td>ankan</td>\n",
              "      <td>अंकन</td>\n",
              "      <td>अंकन</td>\n",
              "    </tr>\n",
              "    <tr>\n",
              "      <th>1</th>\n",
              "      <td>angkor</td>\n",
              "      <td>अंगकोर</td>\n",
              "      <td>अंगकर</td>\n",
              "    </tr>\n",
              "    <tr>\n",
              "      <th>2</th>\n",
              "      <td>angira</td>\n",
              "      <td>अंगिरा</td>\n",
              "      <td>अंगीरा</td>\n",
              "    </tr>\n",
              "    <tr>\n",
              "      <th>3</th>\n",
              "      <td>angithi</td>\n",
              "      <td>अंगीठी</td>\n",
              "      <td>अंगीठी</td>\n",
              "    </tr>\n",
              "    <tr>\n",
              "      <th>4</th>\n",
              "      <td>angrej</td>\n",
              "      <td>अंग्रेज</td>\n",
              "      <td>अंग्रेज</td>\n",
              "    </tr>\n",
              "    <tr>\n",
              "      <th>...</th>\n",
              "      <td>...</td>\n",
              "      <td>...</td>\n",
              "      <td>...</td>\n",
              "    </tr>\n",
              "    <tr>\n",
              "      <th>4353</th>\n",
              "      <td>holder</td>\n",
              "      <td>होल्डर</td>\n",
              "      <td>लॉड्र</td>\n",
              "    </tr>\n",
              "    <tr>\n",
              "      <th>4354</th>\n",
              "      <td>hosho</td>\n",
              "      <td>होशो</td>\n",
              "      <td>होशो</td>\n",
              "    </tr>\n",
              "    <tr>\n",
              "      <th>4355</th>\n",
              "      <td>huar</td>\n",
              "      <td>ह्यूअर</td>\n",
              "      <td>हुआर</td>\n",
              "    </tr>\n",
              "    <tr>\n",
              "      <th>4356</th>\n",
              "      <td>hyuar</td>\n",
              "      <td>ह्यूअर</td>\n",
              "      <td>युआर</td>\n",
              "    </tr>\n",
              "    <tr>\n",
              "      <th>4357</th>\n",
              "      <td>hyuer</td>\n",
              "      <td>ह्यूअर</td>\n",
              "      <td>यूयर</td>\n",
              "    </tr>\n",
              "  </tbody>\n",
              "</table>\n",
              "<p>4358 rows × 3 columns</p>\n",
              "</div>\n",
              "    <div class=\"colab-df-buttons\">\n",
              "\n",
              "  <div class=\"colab-df-container\">\n",
              "    <button class=\"colab-df-convert\" onclick=\"convertToInteractive('df-4e53ee68-482b-4816-a849-4cbc3d667714')\"\n",
              "            title=\"Convert this dataframe to an interactive table.\"\n",
              "            style=\"display:none;\">\n",
              "\n",
              "  <svg xmlns=\"http://www.w3.org/2000/svg\" height=\"24px\" viewBox=\"0 -960 960 960\">\n",
              "    <path d=\"M120-120v-720h720v720H120Zm60-500h600v-160H180v160Zm220 220h160v-160H400v160Zm0 220h160v-160H400v160ZM180-400h160v-160H180v160Zm440 0h160v-160H620v160ZM180-180h160v-160H180v160Zm440 0h160v-160H620v160Z\"/>\n",
              "  </svg>\n",
              "    </button>\n",
              "\n",
              "  <style>\n",
              "    .colab-df-container {\n",
              "      display:flex;\n",
              "      gap: 12px;\n",
              "    }\n",
              "\n",
              "    .colab-df-convert {\n",
              "      background-color: #E8F0FE;\n",
              "      border: none;\n",
              "      border-radius: 50%;\n",
              "      cursor: pointer;\n",
              "      display: none;\n",
              "      fill: #1967D2;\n",
              "      height: 32px;\n",
              "      padding: 0 0 0 0;\n",
              "      width: 32px;\n",
              "    }\n",
              "\n",
              "    .colab-df-convert:hover {\n",
              "      background-color: #E2EBFA;\n",
              "      box-shadow: 0px 1px 2px rgba(60, 64, 67, 0.3), 0px 1px 3px 1px rgba(60, 64, 67, 0.15);\n",
              "      fill: #174EA6;\n",
              "    }\n",
              "\n",
              "    .colab-df-buttons div {\n",
              "      margin-bottom: 4px;\n",
              "    }\n",
              "\n",
              "    [theme=dark] .colab-df-convert {\n",
              "      background-color: #3B4455;\n",
              "      fill: #D2E3FC;\n",
              "    }\n",
              "\n",
              "    [theme=dark] .colab-df-convert:hover {\n",
              "      background-color: #434B5C;\n",
              "      box-shadow: 0px 1px 3px 1px rgba(0, 0, 0, 0.15);\n",
              "      filter: drop-shadow(0px 1px 2px rgba(0, 0, 0, 0.3));\n",
              "      fill: #FFFFFF;\n",
              "    }\n",
              "  </style>\n",
              "\n",
              "    <script>\n",
              "      const buttonEl =\n",
              "        document.querySelector('#df-4e53ee68-482b-4816-a849-4cbc3d667714 button.colab-df-convert');\n",
              "      buttonEl.style.display =\n",
              "        google.colab.kernel.accessAllowed ? 'block' : 'none';\n",
              "\n",
              "      async function convertToInteractive(key) {\n",
              "        const element = document.querySelector('#df-4e53ee68-482b-4816-a849-4cbc3d667714');\n",
              "        const dataTable =\n",
              "          await google.colab.kernel.invokeFunction('convertToInteractive',\n",
              "                                                    [key], {});\n",
              "        if (!dataTable) return;\n",
              "\n",
              "        const docLinkHtml = 'Like what you see? Visit the ' +\n",
              "          '<a target=\"_blank\" href=https://colab.research.google.com/notebooks/data_table.ipynb>data table notebook</a>'\n",
              "          + ' to learn more about interactive tables.';\n",
              "        element.innerHTML = '';\n",
              "        dataTable['output_type'] = 'display_data';\n",
              "        await google.colab.output.renderOutput(dataTable, element);\n",
              "        const docLink = document.createElement('div');\n",
              "        docLink.innerHTML = docLinkHtml;\n",
              "        element.appendChild(docLink);\n",
              "      }\n",
              "    </script>\n",
              "  </div>\n",
              "\n",
              "\n",
              "    <div id=\"df-267d6dab-4750-4c63-983e-ab83506af404\">\n",
              "      <button class=\"colab-df-quickchart\" onclick=\"quickchart('df-267d6dab-4750-4c63-983e-ab83506af404')\"\n",
              "                title=\"Suggest charts\"\n",
              "                style=\"display:none;\">\n",
              "\n",
              "<svg xmlns=\"http://www.w3.org/2000/svg\" height=\"24px\"viewBox=\"0 0 24 24\"\n",
              "     width=\"24px\">\n",
              "    <g>\n",
              "        <path d=\"M19 3H5c-1.1 0-2 .9-2 2v14c0 1.1.9 2 2 2h14c1.1 0 2-.9 2-2V5c0-1.1-.9-2-2-2zM9 17H7v-7h2v7zm4 0h-2V7h2v10zm4 0h-2v-4h2v4z\"/>\n",
              "    </g>\n",
              "</svg>\n",
              "      </button>\n",
              "\n",
              "<style>\n",
              "  .colab-df-quickchart {\n",
              "      --bg-color: #E8F0FE;\n",
              "      --fill-color: #1967D2;\n",
              "      --hover-bg-color: #E2EBFA;\n",
              "      --hover-fill-color: #174EA6;\n",
              "      --disabled-fill-color: #AAA;\n",
              "      --disabled-bg-color: #DDD;\n",
              "  }\n",
              "\n",
              "  [theme=dark] .colab-df-quickchart {\n",
              "      --bg-color: #3B4455;\n",
              "      --fill-color: #D2E3FC;\n",
              "      --hover-bg-color: #434B5C;\n",
              "      --hover-fill-color: #FFFFFF;\n",
              "      --disabled-bg-color: #3B4455;\n",
              "      --disabled-fill-color: #666;\n",
              "  }\n",
              "\n",
              "  .colab-df-quickchart {\n",
              "    background-color: var(--bg-color);\n",
              "    border: none;\n",
              "    border-radius: 50%;\n",
              "    cursor: pointer;\n",
              "    display: none;\n",
              "    fill: var(--fill-color);\n",
              "    height: 32px;\n",
              "    padding: 0;\n",
              "    width: 32px;\n",
              "  }\n",
              "\n",
              "  .colab-df-quickchart:hover {\n",
              "    background-color: var(--hover-bg-color);\n",
              "    box-shadow: 0 1px 2px rgba(60, 64, 67, 0.3), 0 1px 3px 1px rgba(60, 64, 67, 0.15);\n",
              "    fill: var(--button-hover-fill-color);\n",
              "  }\n",
              "\n",
              "  .colab-df-quickchart-complete:disabled,\n",
              "  .colab-df-quickchart-complete:disabled:hover {\n",
              "    background-color: var(--disabled-bg-color);\n",
              "    fill: var(--disabled-fill-color);\n",
              "    box-shadow: none;\n",
              "  }\n",
              "\n",
              "  .colab-df-spinner {\n",
              "    border: 2px solid var(--fill-color);\n",
              "    border-color: transparent;\n",
              "    border-bottom-color: var(--fill-color);\n",
              "    animation:\n",
              "      spin 1s steps(1) infinite;\n",
              "  }\n",
              "\n",
              "  @keyframes spin {\n",
              "    0% {\n",
              "      border-color: transparent;\n",
              "      border-bottom-color: var(--fill-color);\n",
              "      border-left-color: var(--fill-color);\n",
              "    }\n",
              "    20% {\n",
              "      border-color: transparent;\n",
              "      border-left-color: var(--fill-color);\n",
              "      border-top-color: var(--fill-color);\n",
              "    }\n",
              "    30% {\n",
              "      border-color: transparent;\n",
              "      border-left-color: var(--fill-color);\n",
              "      border-top-color: var(--fill-color);\n",
              "      border-right-color: var(--fill-color);\n",
              "    }\n",
              "    40% {\n",
              "      border-color: transparent;\n",
              "      border-right-color: var(--fill-color);\n",
              "      border-top-color: var(--fill-color);\n",
              "    }\n",
              "    60% {\n",
              "      border-color: transparent;\n",
              "      border-right-color: var(--fill-color);\n",
              "    }\n",
              "    80% {\n",
              "      border-color: transparent;\n",
              "      border-right-color: var(--fill-color);\n",
              "      border-bottom-color: var(--fill-color);\n",
              "    }\n",
              "    90% {\n",
              "      border-color: transparent;\n",
              "      border-bottom-color: var(--fill-color);\n",
              "    }\n",
              "  }\n",
              "</style>\n",
              "\n",
              "      <script>\n",
              "        async function quickchart(key) {\n",
              "          const quickchartButtonEl =\n",
              "            document.querySelector('#' + key + ' button');\n",
              "          quickchartButtonEl.disabled = true;  // To prevent multiple clicks.\n",
              "          quickchartButtonEl.classList.add('colab-df-spinner');\n",
              "          try {\n",
              "            const charts = await google.colab.kernel.invokeFunction(\n",
              "                'suggestCharts', [key], {});\n",
              "          } catch (error) {\n",
              "            console.error('Error during call to suggestCharts:', error);\n",
              "          }\n",
              "          quickchartButtonEl.classList.remove('colab-df-spinner');\n",
              "          quickchartButtonEl.classList.add('colab-df-quickchart-complete');\n",
              "        }\n",
              "        (() => {\n",
              "          let quickchartButtonEl =\n",
              "            document.querySelector('#df-267d6dab-4750-4c63-983e-ab83506af404 button');\n",
              "          quickchartButtonEl.style.display =\n",
              "            google.colab.kernel.accessAllowed ? 'block' : 'none';\n",
              "        })();\n",
              "      </script>\n",
              "    </div>\n",
              "\n",
              "  <div id=\"id_ca6e6ca0-a9ed-4094-ae02-28a6561ab3c1\">\n",
              "    <style>\n",
              "      .colab-df-generate {\n",
              "        background-color: #E8F0FE;\n",
              "        border: none;\n",
              "        border-radius: 50%;\n",
              "        cursor: pointer;\n",
              "        display: none;\n",
              "        fill: #1967D2;\n",
              "        height: 32px;\n",
              "        padding: 0 0 0 0;\n",
              "        width: 32px;\n",
              "      }\n",
              "\n",
              "      .colab-df-generate:hover {\n",
              "        background-color: #E2EBFA;\n",
              "        box-shadow: 0px 1px 2px rgba(60, 64, 67, 0.3), 0px 1px 3px 1px rgba(60, 64, 67, 0.15);\n",
              "        fill: #174EA6;\n",
              "      }\n",
              "\n",
              "      [theme=dark] .colab-df-generate {\n",
              "        background-color: #3B4455;\n",
              "        fill: #D2E3FC;\n",
              "      }\n",
              "\n",
              "      [theme=dark] .colab-df-generate:hover {\n",
              "        background-color: #434B5C;\n",
              "        box-shadow: 0px 1px 3px 1px rgba(0, 0, 0, 0.15);\n",
              "        filter: drop-shadow(0px 1px 2px rgba(0, 0, 0, 0.3));\n",
              "        fill: #FFFFFF;\n",
              "      }\n",
              "    </style>\n",
              "    <button class=\"colab-df-generate\" onclick=\"generateWithVariable('df_pred')\"\n",
              "            title=\"Generate code using this dataframe.\"\n",
              "            style=\"display:none;\">\n",
              "\n",
              "  <svg xmlns=\"http://www.w3.org/2000/svg\" height=\"24px\"viewBox=\"0 0 24 24\"\n",
              "       width=\"24px\">\n",
              "    <path d=\"M7,19H8.4L18.45,9,17,7.55,7,17.6ZM5,21V16.75L18.45,3.32a2,2,0,0,1,2.83,0l1.4,1.43a1.91,1.91,0,0,1,.58,1.4,1.91,1.91,0,0,1-.58,1.4L9.25,21ZM18.45,9,17,7.55Zm-12,3A5.31,5.31,0,0,0,4.9,8.1,5.31,5.31,0,0,0,1,6.5,5.31,5.31,0,0,0,4.9,4.9,5.31,5.31,0,0,0,6.5,1,5.31,5.31,0,0,0,8.1,4.9,5.31,5.31,0,0,0,12,6.5,5.46,5.46,0,0,0,6.5,12Z\"/>\n",
              "  </svg>\n",
              "    </button>\n",
              "    <script>\n",
              "      (() => {\n",
              "      const buttonEl =\n",
              "        document.querySelector('#id_ca6e6ca0-a9ed-4094-ae02-28a6561ab3c1 button.colab-df-generate');\n",
              "      buttonEl.style.display =\n",
              "        google.colab.kernel.accessAllowed ? 'block' : 'none';\n",
              "\n",
              "      buttonEl.onclick = () => {\n",
              "        google.colab.notebook.generateWithVariable('df_pred');\n",
              "      }\n",
              "      })();\n",
              "    </script>\n",
              "  </div>\n",
              "\n",
              "    </div>\n",
              "  </div>\n"
            ],
            "application/vnd.google.colaboratory.intrinsic+json": {
              "type": "dataframe",
              "variable_name": "df_pred",
              "summary": "{\n  \"name\": \"df_pred\",\n  \"rows\": 4358,\n  \"fields\": [\n    {\n      \"column\": \"Input\",\n      \"properties\": {\n        \"dtype\": \"string\",\n        \"num_unique_values\": 4321,\n        \"samples\": [\n          \"ghumane\",\n          \"crops\",\n          \"zanjeer\"\n        ],\n        \"semantic_type\": \"\",\n        \"description\": \"\"\n      }\n    },\n    {\n      \"column\": \"Target (Hindi)\",\n      \"properties\": {\n        \"dtype\": \"string\",\n        \"num_unique_values\": 2500,\n        \"samples\": [\n          \"\\u092b\\u0949\\u0907\\u0932\",\n          \"\\u0927\\u0928\\u093e\\u0930\\u094d\\u0925\\u0940\",\n          \"\\u0926\\u093e\\u0939\\u0938\\u0902\\u0938\\u094d\\u0915\\u093e\\u0930\"\n        ],\n        \"semantic_type\": \"\",\n        \"description\": \"\"\n      }\n    },\n    {\n      \"column\": \"Prediction (Hindi)\",\n      \"properties\": {\n        \"dtype\": \"string\",\n        \"num_unique_values\": 3549,\n        \"samples\": [\n          \"\\u0907\\u092e\\u0947\\u091c\",\n          \"\\u092e\\u0941\\u0928\\u092b\\u0947\",\n          \"\\u0936\\u093e\\u0938\\u094d\\u0915\\u093f\"\n        ],\n        \"semantic_type\": \"\",\n        \"description\": \"\"\n      }\n    }\n  ]\n}"
            }
          },
          "metadata": {},
          "execution_count": 64
        }
      ]
    },
    {
      "cell_type": "code",
      "source": [
        "count = 0\n",
        "for i in range(len(all_targets)):\n",
        "  if df_pred[\"Target (Hindi)\"][i] == df_pred[\"Prediction (Hindi)\"][i]:\n",
        "    count = count + 1\n",
        "\n",
        "word_level_acc = count/len(all_targets)\n",
        "print(\"Word level accuracy: \", word_level_acc)"
      ],
      "metadata": {
        "colab": {
          "base_uri": "https://localhost:8080/"
        },
        "id": "DzyByfRiYC5S",
        "outputId": "b32371ec-49d6-4e9b-fcb9-664f2e7e1dab"
      },
      "execution_count": null,
      "outputs": [
        {
          "output_type": "stream",
          "name": "stdout",
          "text": [
            "Word level accuracy:  0.4226709499770537\n"
          ]
        }
      ]
    },
    {
      "cell_type": "markdown",
      "source": [
        "# attention heatmaps for 10 inputs from your test data"
      ],
      "metadata": {
        "id": "m-OL-rM4cKIV"
      }
    },
    {
      "cell_type": "code",
      "source": [
        "!apt-get install -y fonts-noto"
      ],
      "metadata": {
        "colab": {
          "base_uri": "https://localhost:8080/"
        },
        "id": "uvuBs1ofdzmQ",
        "outputId": "e5b83598-7881-41f7-ab66-9be8563e51f0"
      },
      "execution_count": null,
      "outputs": [
        {
          "output_type": "stream",
          "name": "stdout",
          "text": [
            "Reading package lists... Done\n",
            "Building dependency tree... Done\n",
            "Reading state information... Done\n",
            "The following additional packages will be installed:\n",
            "  fonts-noto-cjk fonts-noto-cjk-extra fonts-noto-color-emoji fonts-noto-core\n",
            "  fonts-noto-extra fonts-noto-mono fonts-noto-ui-core fonts-noto-ui-extra\n",
            "  fonts-noto-unhinted\n",
            "The following NEW packages will be installed:\n",
            "  fonts-noto fonts-noto-cjk fonts-noto-cjk-extra fonts-noto-color-emoji\n",
            "  fonts-noto-core fonts-noto-extra fonts-noto-mono fonts-noto-ui-core\n",
            "  fonts-noto-ui-extra fonts-noto-unhinted\n",
            "0 upgraded, 10 newly installed, 0 to remove and 34 not upgraded.\n",
            "Need to get 317 MB of archives.\n",
            "After this operation, 790 MB of additional disk space will be used.\n",
            "Get:1 http://archive.ubuntu.com/ubuntu jammy/main amd64 fonts-noto-core all 20201225-1build1 [12.2 MB]\n",
            "Get:2 http://archive.ubuntu.com/ubuntu jammy/universe amd64 fonts-noto all 20201225-1build1 [16.8 kB]\n",
            "Get:3 http://archive.ubuntu.com/ubuntu jammy/main amd64 fonts-noto-cjk all 1:20220127+repack1-1 [61.2 MB]\n",
            "Get:4 http://archive.ubuntu.com/ubuntu jammy/main amd64 fonts-noto-cjk-extra all 1:20220127+repack1-1 [145 MB]\n",
            "Get:5 http://archive.ubuntu.com/ubuntu jammy-updates/main amd64 fonts-noto-color-emoji all 2.047-0ubuntu0.22.04.1 [10.0 MB]\n",
            "Get:6 http://archive.ubuntu.com/ubuntu jammy/universe amd64 fonts-noto-extra all 20201225-1build1 [72.4 MB]\n",
            "Get:7 http://archive.ubuntu.com/ubuntu jammy/main amd64 fonts-noto-mono all 20201225-1build1 [397 kB]\n",
            "Get:8 http://archive.ubuntu.com/ubuntu jammy/main amd64 fonts-noto-ui-core all 20201225-1build1 [1,420 kB]\n",
            "Get:9 http://archive.ubuntu.com/ubuntu jammy/universe amd64 fonts-noto-ui-extra all 20201225-1build1 [14.3 MB]\n",
            "Get:10 http://archive.ubuntu.com/ubuntu jammy/universe amd64 fonts-noto-unhinted all 20201225-1build1 [16.8 kB]\n",
            "Fetched 317 MB in 5s (68.7 MB/s)\n",
            "Selecting previously unselected package fonts-noto-core.\n",
            "(Reading database ... 126102 files and directories currently installed.)\n",
            "Preparing to unpack .../0-fonts-noto-core_20201225-1build1_all.deb ...\n",
            "Unpacking fonts-noto-core (20201225-1build1) ...\n",
            "Selecting previously unselected package fonts-noto.\n",
            "Preparing to unpack .../1-fonts-noto_20201225-1build1_all.deb ...\n",
            "Unpacking fonts-noto (20201225-1build1) ...\n",
            "Selecting previously unselected package fonts-noto-cjk.\n",
            "Preparing to unpack .../2-fonts-noto-cjk_1%3a20220127+repack1-1_all.deb ...\n",
            "Unpacking fonts-noto-cjk (1:20220127+repack1-1) ...\n",
            "Selecting previously unselected package fonts-noto-cjk-extra.\n",
            "Preparing to unpack .../3-fonts-noto-cjk-extra_1%3a20220127+repack1-1_all.deb ...\n",
            "Unpacking fonts-noto-cjk-extra (1:20220127+repack1-1) ...\n",
            "Selecting previously unselected package fonts-noto-color-emoji.\n",
            "Preparing to unpack .../4-fonts-noto-color-emoji_2.047-0ubuntu0.22.04.1_all.deb ...\n",
            "Unpacking fonts-noto-color-emoji (2.047-0ubuntu0.22.04.1) ...\n",
            "Selecting previously unselected package fonts-noto-extra.\n",
            "Preparing to unpack .../5-fonts-noto-extra_20201225-1build1_all.deb ...\n",
            "Unpacking fonts-noto-extra (20201225-1build1) ...\n",
            "Selecting previously unselected package fonts-noto-mono.\n",
            "Preparing to unpack .../6-fonts-noto-mono_20201225-1build1_all.deb ...\n",
            "Unpacking fonts-noto-mono (20201225-1build1) ...\n",
            "Selecting previously unselected package fonts-noto-ui-core.\n",
            "Preparing to unpack .../7-fonts-noto-ui-core_20201225-1build1_all.deb ...\n",
            "Unpacking fonts-noto-ui-core (20201225-1build1) ...\n",
            "Selecting previously unselected package fonts-noto-ui-extra.\n",
            "Preparing to unpack .../8-fonts-noto-ui-extra_20201225-1build1_all.deb ...\n",
            "Unpacking fonts-noto-ui-extra (20201225-1build1) ...\n",
            "Selecting previously unselected package fonts-noto-unhinted.\n",
            "Preparing to unpack .../9-fonts-noto-unhinted_20201225-1build1_all.deb ...\n",
            "Unpacking fonts-noto-unhinted (20201225-1build1) ...\n",
            "Setting up fonts-noto-mono (20201225-1build1) ...\n",
            "Setting up fonts-noto-color-emoji (2.047-0ubuntu0.22.04.1) ...\n",
            "Setting up fonts-noto-ui-extra (20201225-1build1) ...\n",
            "Setting up fonts-noto-extra (20201225-1build1) ...\n",
            "Setting up fonts-noto-cjk (1:20220127+repack1-1) ...\n",
            "Setting up fonts-noto-unhinted (20201225-1build1) ...\n",
            "Setting up fonts-noto-ui-core (20201225-1build1) ...\n",
            "Setting up fonts-noto-core (20201225-1build1) ...\n",
            "Setting up fonts-noto-cjk-extra (1:20220127+repack1-1) ...\n",
            "Setting up fonts-noto (20201225-1build1) ...\n",
            "Processing triggers for fontconfig (2.13.1-4.2ubuntu5) ...\n"
          ]
        }
      ]
    },
    {
      "cell_type": "code",
      "source": [
        "import matplotlib.pyplot as plt\n",
        "import seaborn as sns\n",
        "import matplotlib.font_manager as fm\n",
        "\n",
        "# Set font globally\n",
        "plt.rcParams['font.family'] = 'Noto Sans Devanagari'\n",
        "\n",
        "# Optional: Confirm it’s set\n",
        "print(plt.rcParams['font.family'])"
      ],
      "metadata": {
        "colab": {
          "base_uri": "https://localhost:8080/"
        },
        "id": "3i9PjBcnd3oA",
        "outputId": "be618fbe-7fc9-49ac-8085-afe05e0404e0"
      },
      "execution_count": null,
      "outputs": [
        {
          "output_type": "stream",
          "name": "stdout",
          "text": [
            "['Noto Sans Devanagari']\n"
          ]
        }
      ]
    },
    {
      "cell_type": "code",
      "source": [
        "def evaluate_with_attention(dataloader, encoder, decoder, tgt_idx2char, tgt_char2idx, src_idx2char, device, max_len=30):\n",
        "    encoder.eval()\n",
        "    decoder.eval()\n",
        "\n",
        "    results = []\n",
        "\n",
        "    with torch.no_grad():\n",
        "        for src, tgt in dataloader:\n",
        "            src = src.to(device)\n",
        "            batch_size = src.size(0)\n",
        "            encoder_outputs, hidden = encoder(src)\n",
        "            input = torch.tensor([tgt_char2idx['<sos>']] * batch_size).to(device)\n",
        "\n",
        "            outputs = []\n",
        "            attentions = []\n",
        "\n",
        "            for _ in range(max_len):\n",
        "                output, hidden, attn_weights = decoder(input, hidden, encoder_outputs)\n",
        "                top1 = output.argmax(1)\n",
        "                outputs.append(top1.unsqueeze(1))\n",
        "                attentions.append(attn_weights.unsqueeze(1))\n",
        "                input = top1\n",
        "\n",
        "            outputs = torch.cat(outputs, dim=1)\n",
        "            attentions = torch.cat(attentions, dim=1)  # [batch_size, tgt_len, src_len]\n",
        "\n",
        "            for i in range(min(9, batch_size)):  # Just get first 9\n",
        "                src_seq = [src_idx2char[idx.item()] for idx in src[i] if idx.item() != 0]\n",
        "                pred_seq = [tgt_idx2char[idx.item()] for idx in outputs[i] if idx.item() not in [tgt_char2idx['<pad>'], tgt_char2idx['<eos>']]]\n",
        "                attn_map = attentions[i][:len(pred_seq), :len(src_seq)].cpu().numpy()\n",
        "                results.append((src_seq, pred_seq, attn_map))\n",
        "\n",
        "            if len(results) >= 9:\n",
        "                break\n",
        "\n",
        "    return results[:9]\n",
        "\n",
        "\n",
        "def plot_attention_heatmaps(attention_data):\n",
        "    devanagari_font_path = \"/usr/share/fonts/truetype/noto/NotoSansDevanagari-Regular.ttf\"\n",
        "    devanagari_font = fm.FontProperties(fname=devanagari_font_path)\n",
        "    fig, axes = plt.subplots(3, 3, figsize=(18, 12))\n",
        "    for i, (src_seq, pred_seq, attn_map) in enumerate(attention_data):\n",
        "        ax = axes[i//3, i%3]\n",
        "        sns.heatmap(attn_map, xticklabels=src_seq, yticklabels=pred_seq, cmap='viridis', ax=ax)\n",
        "        # Set font for ticks\n",
        "        ax.set_xticklabels(src_seq, fontproperties=None)  # Latin input (x-axis)\n",
        "        ax.set_yticklabels(pred_seq, fontproperties=devanagari_font)  # Hindi output (y-axis)\n",
        "\n",
        "        ax.set_xlabel(\"Input (Latin)\", fontsize=10)\n",
        "        ax.set_ylabel(\"Output (Hindi)\", fontsize=10)\n",
        "        ax.set_title(f\"Example {i+1}\")\n",
        "    plt.tight_layout()\n",
        "    plt.show()\n",
        "\n",
        "    wandb.log({\"Attention Heatmaps\": wandb.Image(fig)})\n"
      ],
      "metadata": {
        "id": "wtaYxyD3aaDo"
      },
      "execution_count": null,
      "outputs": []
    },
    {
      "cell_type": "code",
      "source": [
        "import wandb\n",
        "wandb.login(key=\"b81ae278300a216ce5380e07b52d628e2dd6eb69\")\n",
        "wandb.init(entity=\"arunangshudutta218-iitm\", project = 'dl_assgn_3_q_5d')"
      ],
      "metadata": {
        "colab": {
          "base_uri": "https://localhost:8080/",
          "height": 216
        },
        "id": "h1_f93GSjhZ2",
        "outputId": "358c12fb-920b-4b18-f3e6-27add5c8c67b"
      },
      "execution_count": null,
      "outputs": [
        {
          "output_type": "stream",
          "name": "stderr",
          "text": [
            "\u001b[34m\u001b[1mwandb\u001b[0m: \u001b[33mWARNING\u001b[0m If you're specifying your api key in code, ensure this code is not shared publicly.\n",
            "\u001b[34m\u001b[1mwandb\u001b[0m: \u001b[33mWARNING\u001b[0m Consider setting the WANDB_API_KEY environment variable, or running `wandb login` from the command line.\n",
            "\u001b[34m\u001b[1mwandb\u001b[0m: No netrc file found, creating one.\n",
            "\u001b[34m\u001b[1mwandb\u001b[0m: Appending key for api.wandb.ai to your netrc file: /root/.netrc\n",
            "\u001b[34m\u001b[1mwandb\u001b[0m: Currently logged in as: \u001b[33marunangshudutta218\u001b[0m (\u001b[33marunangshudutta218-iitm\u001b[0m) to \u001b[32mhttps://api.wandb.ai\u001b[0m. Use \u001b[1m`wandb login --relogin`\u001b[0m to force relogin\n"
          ]
        },
        {
          "output_type": "display_data",
          "data": {
            "text/plain": [
              "<IPython.core.display.HTML object>"
            ],
            "text/html": [
              "Tracking run with wandb version 0.19.11"
            ]
          },
          "metadata": {}
        },
        {
          "output_type": "display_data",
          "data": {
            "text/plain": [
              "<IPython.core.display.HTML object>"
            ],
            "text/html": [
              "Run data is saved locally in <code>/content/wandb/run-20250520_071940-6duyj0zs</code>"
            ]
          },
          "metadata": {}
        },
        {
          "output_type": "display_data",
          "data": {
            "text/plain": [
              "<IPython.core.display.HTML object>"
            ],
            "text/html": [
              "Syncing run <strong><a href='https://wandb.ai/arunangshudutta218-iitm/dl_assgn_3_q_5d/runs/6duyj0zs' target=\"_blank\">denim-river-1</a></strong> to <a href='https://wandb.ai/arunangshudutta218-iitm/dl_assgn_3_q_5d' target=\"_blank\">Weights & Biases</a> (<a href='https://wandb.me/developer-guide' target=\"_blank\">docs</a>)<br>"
            ]
          },
          "metadata": {}
        },
        {
          "output_type": "display_data",
          "data": {
            "text/plain": [
              "<IPython.core.display.HTML object>"
            ],
            "text/html": [
              " View project at <a href='https://wandb.ai/arunangshudutta218-iitm/dl_assgn_3_q_5d' target=\"_blank\">https://wandb.ai/arunangshudutta218-iitm/dl_assgn_3_q_5d</a>"
            ]
          },
          "metadata": {}
        },
        {
          "output_type": "display_data",
          "data": {
            "text/plain": [
              "<IPython.core.display.HTML object>"
            ],
            "text/html": [
              " View run at <a href='https://wandb.ai/arunangshudutta218-iitm/dl_assgn_3_q_5d/runs/6duyj0zs' target=\"_blank\">https://wandb.ai/arunangshudutta218-iitm/dl_assgn_3_q_5d/runs/6duyj0zs</a>"
            ]
          },
          "metadata": {}
        },
        {
          "output_type": "execute_result",
          "data": {
            "text/html": [
              "<button onClick=\"this.nextSibling.style.display='block';this.style.display='none';\">Display W&B run</button><iframe src='https://wandb.ai/arunangshudutta218-iitm/dl_assgn_3_q_5d/runs/6duyj0zs?jupyter=true' style='border:none;width:100%;height:420px;display:none;'></iframe>"
            ],
            "text/plain": [
              "<wandb.sdk.wandb_run.Run at 0x781f67db8e90>"
            ]
          },
          "metadata": {},
          "execution_count": 86
        }
      ]
    },
    {
      "cell_type": "code",
      "source": [
        "attention_data = evaluate_with_attention(test_dataloader, encoder, decoder, target_idx2char, target_char2idx, input_idx2char, device, max_len=30)\n",
        "plot_attention_heatmaps(attention_data)\n"
      ],
      "metadata": {
        "colab": {
          "base_uri": "https://localhost:8080/"
        },
        "id": "pdKLcXOgdENU",
        "outputId": "365b859d-8b9f-4fad-fe1d-f89b89a505e9"
      },
      "execution_count": null,
      "outputs": [
        {
          "output_type": "stream",
          "name": "stderr",
          "text": [
            "WARNING:matplotlib.font_manager:findfont: Font family 'Noto Sans Devanagari' not found.\n",
            "WARNING:matplotlib.font_manager:findfont: Font family 'Noto Sans Devanagari' not found.\n",
            "WARNING:matplotlib.font_manager:findfont: Font family 'Noto Sans Devanagari' not found.\n",
            "WARNING:matplotlib.font_manager:findfont: Font family 'Noto Sans Devanagari' not found.\n",
            "WARNING:matplotlib.font_manager:findfont: Font family 'Noto Sans Devanagari' not found.\n",
            "WARNING:matplotlib.font_manager:findfont: Font family 'Noto Sans Devanagari' not found.\n",
            "WARNING:matplotlib.font_manager:findfont: Font family 'Noto Sans Devanagari' not found.\n",
            "WARNING:matplotlib.font_manager:findfont: Font family 'Noto Sans Devanagari' not found.\n",
            "WARNING:matplotlib.font_manager:findfont: Font family 'Noto Sans Devanagari' not found.\n",
            "WARNING:matplotlib.font_manager:findfont: Font family 'Noto Sans Devanagari' not found.\n",
            "WARNING:matplotlib.font_manager:findfont: Font family 'Noto Sans Devanagari' not found.\n",
            "WARNING:matplotlib.font_manager:findfont: Font family 'Noto Sans Devanagari' not found.\n",
            "WARNING:matplotlib.font_manager:findfont: Font family 'Noto Sans Devanagari' not found.\n",
            "WARNING:matplotlib.font_manager:findfont: Font family 'Noto Sans Devanagari' not found.\n",
            "/usr/local/lib/python3.11/dist-packages/seaborn/utils.py:61: UserWarning: Glyph 2309 (\\N{DEVANAGARI LETTER A}) missing from font(s) DejaVu Sans.\n",
            "  fig.canvas.draw()\n",
            "/usr/local/lib/python3.11/dist-packages/seaborn/utils.py:61: UserWarning: Matplotlib currently does not support Devanagari natively.\n",
            "  fig.canvas.draw()\n",
            "WARNING:matplotlib.font_manager:findfont: Font family 'Noto Sans Devanagari' not found.\n",
            "/usr/local/lib/python3.11/dist-packages/seaborn/utils.py:61: UserWarning: Glyph 2306 (\\N{DEVANAGARI SIGN ANUSVARA}) missing from font(s) DejaVu Sans.\n",
            "  fig.canvas.draw()\n",
            "WARNING:matplotlib.font_manager:findfont: Font family 'Noto Sans Devanagari' not found.\n",
            "/usr/local/lib/python3.11/dist-packages/seaborn/utils.py:61: UserWarning: Glyph 2325 (\\N{DEVANAGARI LETTER KA}) missing from font(s) DejaVu Sans.\n",
            "  fig.canvas.draw()\n",
            "WARNING:matplotlib.font_manager:findfont: Font family 'Noto Sans Devanagari' not found.\n",
            "/usr/local/lib/python3.11/dist-packages/seaborn/utils.py:61: UserWarning: Glyph 2344 (\\N{DEVANAGARI LETTER NA}) missing from font(s) DejaVu Sans.\n",
            "  fig.canvas.draw()\n",
            "WARNING:matplotlib.font_manager:findfont: Font family 'Noto Sans Devanagari' not found.\n",
            "WARNING:matplotlib.font_manager:findfont: Font family 'Noto Sans Devanagari' not found.\n",
            "WARNING:matplotlib.font_manager:findfont: Font family 'Noto Sans Devanagari' not found.\n",
            "WARNING:matplotlib.font_manager:findfont: Font family 'Noto Sans Devanagari' not found.\n",
            "WARNING:matplotlib.font_manager:findfont: Font family 'Noto Sans Devanagari' not found.\n",
            "WARNING:matplotlib.font_manager:findfont: Font family 'Noto Sans Devanagari' not found.\n",
            "WARNING:matplotlib.font_manager:findfont: Font family 'Noto Sans Devanagari' not found.\n",
            "WARNING:matplotlib.font_manager:findfont: Font family 'Noto Sans Devanagari' not found.\n",
            "WARNING:matplotlib.font_manager:findfont: Font family 'Noto Sans Devanagari' not found.\n",
            "WARNING:matplotlib.font_manager:findfont: Font family 'Noto Sans Devanagari' not found.\n",
            "WARNING:matplotlib.font_manager:findfont: Font family 'Noto Sans Devanagari' not found.\n",
            "WARNING:matplotlib.font_manager:findfont: Font family 'Noto Sans Devanagari' not found.\n",
            "WARNING:matplotlib.font_manager:findfont: Font family 'Noto Sans Devanagari' not found.\n",
            "WARNING:matplotlib.font_manager:findfont: Font family 'Noto Sans Devanagari' not found.\n",
            "WARNING:matplotlib.font_manager:findfont: Font family 'Noto Sans Devanagari' not found.\n",
            "WARNING:matplotlib.font_manager:findfont: Font family 'Noto Sans Devanagari' not found.\n",
            "WARNING:matplotlib.font_manager:findfont: Font family 'Noto Sans Devanagari' not found.\n",
            "WARNING:matplotlib.font_manager:findfont: Font family 'Noto Sans Devanagari' not found.\n",
            "WARNING:matplotlib.font_manager:findfont: Font family 'Noto Sans Devanagari' not found.\n",
            "WARNING:matplotlib.font_manager:findfont: Font family 'Noto Sans Devanagari' not found.\n",
            "WARNING:matplotlib.font_manager:findfont: Font family 'Noto Sans Devanagari' not found.\n",
            "WARNING:matplotlib.font_manager:findfont: Font family 'Noto Sans Devanagari' not found.\n",
            "WARNING:matplotlib.font_manager:findfont: Font family 'Noto Sans Devanagari' not found.\n",
            "WARNING:matplotlib.font_manager:findfont: Font family 'Noto Sans Devanagari' not found.\n",
            "WARNING:matplotlib.font_manager:findfont: Font family 'Noto Sans Devanagari' not found.\n",
            "WARNING:matplotlib.font_manager:findfont: Font family 'Noto Sans Devanagari' not found.\n",
            "WARNING:matplotlib.font_manager:findfont: Font family 'Noto Sans Devanagari' not found.\n",
            "WARNING:matplotlib.font_manager:findfont: Font family 'Noto Sans Devanagari' not found.\n",
            "WARNING:matplotlib.font_manager:findfont: Font family 'Noto Sans Devanagari' not found.\n",
            "WARNING:matplotlib.font_manager:findfont: Font family 'Noto Sans Devanagari' not found.\n",
            "WARNING:matplotlib.font_manager:findfont: Font family 'Noto Sans Devanagari' not found.\n",
            "WARNING:matplotlib.font_manager:findfont: Font family 'Noto Sans Devanagari' not found.\n",
            "WARNING:matplotlib.font_manager:findfont: Font family 'Noto Sans Devanagari' not found.\n",
            "WARNING:matplotlib.font_manager:findfont: Font family 'Noto Sans Devanagari' not found.\n",
            "WARNING:matplotlib.font_manager:findfont: Font family 'Noto Sans Devanagari' not found.\n",
            "WARNING:matplotlib.font_manager:findfont: Font family 'Noto Sans Devanagari' not found.\n",
            "WARNING:matplotlib.font_manager:findfont: Font family 'Noto Sans Devanagari' not found.\n",
            "WARNING:matplotlib.font_manager:findfont: Font family 'Noto Sans Devanagari' not found.\n",
            "WARNING:matplotlib.font_manager:findfont: Font family 'Noto Sans Devanagari' not found.\n",
            "WARNING:matplotlib.font_manager:findfont: Font family 'Noto Sans Devanagari' not found.\n",
            "WARNING:matplotlib.font_manager:findfont: Font family 'Noto Sans Devanagari' not found.\n",
            "WARNING:matplotlib.font_manager:findfont: Font family 'Noto Sans Devanagari' not found.\n",
            "WARNING:matplotlib.font_manager:findfont: Font family 'Noto Sans Devanagari' not found.\n",
            "WARNING:matplotlib.font_manager:findfont: Font family 'Noto Sans Devanagari' not found.\n",
            "WARNING:matplotlib.font_manager:findfont: Font family 'Noto Sans Devanagari' not found.\n",
            "WARNING:matplotlib.font_manager:findfont: Font family 'Noto Sans Devanagari' not found.\n",
            "WARNING:matplotlib.font_manager:findfont: Font family 'Noto Sans Devanagari' not found.\n",
            "WARNING:matplotlib.font_manager:findfont: Font family 'Noto Sans Devanagari' not found.\n",
            "WARNING:matplotlib.font_manager:findfont: Font family 'Noto Sans Devanagari' not found.\n",
            "WARNING:matplotlib.font_manager:findfont: Font family 'Noto Sans Devanagari' not found.\n",
            "WARNING:matplotlib.font_manager:findfont: Font family 'Noto Sans Devanagari' not found.\n",
            "WARNING:matplotlib.font_manager:findfont: Font family 'Noto Sans Devanagari' not found.\n",
            "WARNING:matplotlib.font_manager:findfont: Font family 'Noto Sans Devanagari' not found.\n",
            "WARNING:matplotlib.font_manager:findfont: Font family 'Noto Sans Devanagari' not found.\n",
            "WARNING:matplotlib.font_manager:findfont: Font family 'Noto Sans Devanagari' not found.\n",
            "WARNING:matplotlib.font_manager:findfont: Font family 'Noto Sans Devanagari' not found.\n",
            "WARNING:matplotlib.font_manager:findfont: Font family 'Noto Sans Devanagari' not found.\n",
            "WARNING:matplotlib.font_manager:findfont: Font family 'Noto Sans Devanagari' not found.\n",
            "WARNING:matplotlib.font_manager:findfont: Font family 'Noto Sans Devanagari' not found.\n",
            "WARNING:matplotlib.font_manager:findfont: Font family 'Noto Sans Devanagari' not found.\n",
            "WARNING:matplotlib.font_manager:findfont: Font family 'Noto Sans Devanagari' not found.\n",
            "WARNING:matplotlib.font_manager:findfont: Font family 'Noto Sans Devanagari' not found.\n",
            "WARNING:matplotlib.font_manager:findfont: Font family 'Noto Sans Devanagari' not found.\n",
            "WARNING:matplotlib.font_manager:findfont: Font family 'Noto Sans Devanagari' not found.\n",
            "WARNING:matplotlib.font_manager:findfont: Font family 'Noto Sans Devanagari' not found.\n",
            "WARNING:matplotlib.font_manager:findfont: Font family 'Noto Sans Devanagari' not found.\n",
            "WARNING:matplotlib.font_manager:findfont: Font family 'Noto Sans Devanagari' not found.\n",
            "WARNING:matplotlib.font_manager:findfont: Font family 'Noto Sans Devanagari' not found.\n",
            "WARNING:matplotlib.font_manager:findfont: Font family 'Noto Sans Devanagari' not found.\n",
            "WARNING:matplotlib.font_manager:findfont: Font family 'Noto Sans Devanagari' not found.\n",
            "WARNING:matplotlib.font_manager:findfont: Font family 'Noto Sans Devanagari' not found.\n",
            "WARNING:matplotlib.font_manager:findfont: Font family 'Noto Sans Devanagari' not found.\n",
            "WARNING:matplotlib.font_manager:findfont: Font family 'Noto Sans Devanagari' not found.\n",
            "WARNING:matplotlib.font_manager:findfont: Font family 'Noto Sans Devanagari' not found.\n",
            "WARNING:matplotlib.font_manager:findfont: Font family 'Noto Sans Devanagari' not found.\n",
            "WARNING:matplotlib.font_manager:findfont: Font family 'Noto Sans Devanagari' not found.\n",
            "WARNING:matplotlib.font_manager:findfont: Font family 'Noto Sans Devanagari' not found.\n",
            "WARNING:matplotlib.font_manager:findfont: Font family 'Noto Sans Devanagari' not found.\n",
            "WARNING:matplotlib.font_manager:findfont: Font family 'Noto Sans Devanagari' not found.\n",
            "WARNING:matplotlib.font_manager:findfont: Font family 'Noto Sans Devanagari' not found.\n",
            "WARNING:matplotlib.font_manager:findfont: Font family 'Noto Sans Devanagari' not found.\n",
            "WARNING:matplotlib.font_manager:findfont: Font family 'Noto Sans Devanagari' not found.\n",
            "WARNING:matplotlib.font_manager:findfont: Font family 'Noto Sans Devanagari' not found.\n",
            "WARNING:matplotlib.font_manager:findfont: Font family 'Noto Sans Devanagari' not found.\n",
            "WARNING:matplotlib.font_manager:findfont: Font family 'Noto Sans Devanagari' not found.\n",
            "WARNING:matplotlib.font_manager:findfont: Font family 'Noto Sans Devanagari' not found.\n",
            "WARNING:matplotlib.font_manager:findfont: Font family 'Noto Sans Devanagari' not found.\n",
            "WARNING:matplotlib.font_manager:findfont: Font family 'Noto Sans Devanagari' not found.\n",
            "WARNING:matplotlib.font_manager:findfont: Font family 'Noto Sans Devanagari' not found.\n",
            "WARNING:matplotlib.font_manager:findfont: Font family 'Noto Sans Devanagari' not found.\n",
            "WARNING:matplotlib.font_manager:findfont: Font family 'Noto Sans Devanagari' not found.\n",
            "WARNING:matplotlib.font_manager:findfont: Font family 'Noto Sans Devanagari' not found.\n",
            "WARNING:matplotlib.font_manager:findfont: Font family 'Noto Sans Devanagari' not found.\n",
            "WARNING:matplotlib.font_manager:findfont: Font family 'Noto Sans Devanagari' not found.\n",
            "WARNING:matplotlib.font_manager:findfont: Font family 'Noto Sans Devanagari' not found.\n",
            "WARNING:matplotlib.font_manager:findfont: Font family 'Noto Sans Devanagari' not found.\n",
            "WARNING:matplotlib.font_manager:findfont: Font family 'Noto Sans Devanagari' not found.\n",
            "WARNING:matplotlib.font_manager:findfont: Font family 'Noto Sans Devanagari' not found.\n",
            "WARNING:matplotlib.font_manager:findfont: Font family 'Noto Sans Devanagari' not found.\n",
            "WARNING:matplotlib.font_manager:findfont: Font family 'Noto Sans Devanagari' not found.\n",
            "WARNING:matplotlib.font_manager:findfont: Font family 'Noto Sans Devanagari' not found.\n",
            "WARNING:matplotlib.font_manager:findfont: Font family 'Noto Sans Devanagari' not found.\n",
            "WARNING:matplotlib.font_manager:findfont: Font family 'Noto Sans Devanagari' not found.\n",
            "WARNING:matplotlib.font_manager:findfont: Font family 'Noto Sans Devanagari' not found.\n",
            "WARNING:matplotlib.font_manager:findfont: Font family 'Noto Sans Devanagari' not found.\n",
            "WARNING:matplotlib.font_manager:findfont: Font family 'Noto Sans Devanagari' not found.\n",
            "WARNING:matplotlib.font_manager:findfont: Font family 'Noto Sans Devanagari' not found.\n",
            "WARNING:matplotlib.font_manager:findfont: Font family 'Noto Sans Devanagari' not found.\n",
            "WARNING:matplotlib.font_manager:findfont: Font family 'Noto Sans Devanagari' not found.\n",
            "WARNING:matplotlib.font_manager:findfont: Font family 'Noto Sans Devanagari' not found.\n",
            "WARNING:matplotlib.font_manager:findfont: Font family 'Noto Sans Devanagari' not found.\n",
            "WARNING:matplotlib.font_manager:findfont: Font family 'Noto Sans Devanagari' not found.\n",
            "WARNING:matplotlib.font_manager:findfont: Font family 'Noto Sans Devanagari' not found.\n",
            "WARNING:matplotlib.font_manager:findfont: Font family 'Noto Sans Devanagari' not found.\n",
            "WARNING:matplotlib.font_manager:findfont: Font family 'Noto Sans Devanagari' not found.\n",
            "/usr/local/lib/python3.11/dist-packages/seaborn/utils.py:61: UserWarning: Glyph 108 (l) missing from font(s) Noto Sans Devanagari.\n",
            "  fig.canvas.draw()\n",
            "/usr/local/lib/python3.11/dist-packages/seaborn/utils.py:61: UserWarning: Glyph 112 (p) missing from font(s) Noto Sans Devanagari.\n",
            "  fig.canvas.draw()\n",
            "WARNING:matplotlib.font_manager:findfont: Font family 'Noto Sans Devanagari' not found.\n",
            "WARNING:matplotlib.font_manager:findfont: Font family 'Noto Sans Devanagari' not found.\n",
            "WARNING:matplotlib.font_manager:findfont: Font family 'Noto Sans Devanagari' not found.\n",
            "WARNING:matplotlib.font_manager:findfont: Font family 'Noto Sans Devanagari' not found.\n",
            "WARNING:matplotlib.font_manager:findfont: Font family 'Noto Sans Devanagari' not found.\n",
            "WARNING:matplotlib.font_manager:findfont: Font family 'Noto Sans Devanagari' not found.\n",
            "WARNING:matplotlib.font_manager:findfont: Font family 'Noto Sans Devanagari' not found.\n",
            "WARNING:matplotlib.font_manager:findfont: Font family 'Noto Sans Devanagari' not found.\n",
            "WARNING:matplotlib.font_manager:findfont: Font family 'Noto Sans Devanagari' not found.\n",
            "WARNING:matplotlib.font_manager:findfont: Font family 'Noto Sans Devanagari' not found.\n",
            "WARNING:matplotlib.font_manager:findfont: Font family 'Noto Sans Devanagari' not found.\n",
            "WARNING:matplotlib.font_manager:findfont: Font family 'Noto Sans Devanagari' not found.\n",
            "WARNING:matplotlib.font_manager:findfont: Font family 'Noto Sans Devanagari' not found.\n",
            "WARNING:matplotlib.font_manager:findfont: Font family 'Noto Sans Devanagari' not found.\n",
            "WARNING:matplotlib.font_manager:findfont: Font family 'Noto Sans Devanagari' not found.\n",
            "WARNING:matplotlib.font_manager:findfont: Font family 'Noto Sans Devanagari' not found.\n",
            "WARNING:matplotlib.font_manager:findfont: Font family 'Noto Sans Devanagari' not found.\n",
            "WARNING:matplotlib.font_manager:findfont: Font family 'Noto Sans Devanagari' not found.\n",
            "WARNING:matplotlib.font_manager:findfont: Font family 'Noto Sans Devanagari' not found.\n",
            "WARNING:matplotlib.font_manager:findfont: Font family 'Noto Sans Devanagari' not found.\n",
            "WARNING:matplotlib.font_manager:findfont: Font family 'Noto Sans Devanagari' not found.\n",
            "WARNING:matplotlib.font_manager:findfont: Font family 'Noto Sans Devanagari' not found.\n",
            "WARNING:matplotlib.font_manager:findfont: Font family 'Noto Sans Devanagari' not found.\n",
            "WARNING:matplotlib.font_manager:findfont: Font family 'Noto Sans Devanagari' not found.\n",
            "WARNING:matplotlib.font_manager:findfont: Font family 'Noto Sans Devanagari' not found.\n",
            "WARNING:matplotlib.font_manager:findfont: Font family 'Noto Sans Devanagari' not found.\n",
            "/usr/local/lib/python3.11/dist-packages/seaborn/utils.py:61: UserWarning: Glyph 2327 (\\N{DEVANAGARI LETTER GA}) missing from font(s) DejaVu Sans.\n",
            "  fig.canvas.draw()\n",
            "/usr/local/lib/python3.11/dist-packages/seaborn/utils.py:61: UserWarning: Matplotlib currently does not support Devanagari natively.\n",
            "  fig.canvas.draw()\n",
            "WARNING:matplotlib.font_manager:findfont: Font family 'Noto Sans Devanagari' not found.\n",
            "/usr/local/lib/python3.11/dist-packages/seaborn/utils.py:61: UserWarning: Glyph 2352 (\\N{DEVANAGARI LETTER RA}) missing from font(s) DejaVu Sans.\n",
            "  fig.canvas.draw()\n",
            "WARNING:matplotlib.font_manager:findfont: Font family 'Noto Sans Devanagari' not found.\n",
            "/usr/local/lib/python3.11/dist-packages/seaborn/utils.py:61: UserWarning: Glyph 2309 (\\N{DEVANAGARI LETTER A}) missing from font(s) DejaVu Sans.\n",
            "  fig.canvas.draw()\n",
            "WARNING:matplotlib.font_manager:findfont: Font family 'Noto Sans Devanagari' not found.\n",
            "/usr/local/lib/python3.11/dist-packages/seaborn/utils.py:61: UserWarning: Glyph 2306 (\\N{DEVANAGARI SIGN ANUSVARA}) missing from font(s) DejaVu Sans.\n",
            "  fig.canvas.draw()\n",
            "WARNING:matplotlib.font_manager:findfont: Font family 'Noto Sans Devanagari' not found.\n",
            "WARNING:matplotlib.font_manager:findfont: Font family 'Noto Sans Devanagari' not found.\n",
            "/usr/local/lib/python3.11/dist-packages/seaborn/utils.py:61: UserWarning: Glyph 2325 (\\N{DEVANAGARI LETTER KA}) missing from font(s) DejaVu Sans.\n",
            "  fig.canvas.draw()\n",
            "WARNING:matplotlib.font_manager:findfont: Font family 'Noto Sans Devanagari' not found.\n",
            "WARNING:matplotlib.font_manager:findfont: Font family 'Noto Sans Devanagari' not found.\n",
            "WARNING:matplotlib.font_manager:findfont: Font family 'Noto Sans Devanagari' not found.\n",
            "WARNING:matplotlib.font_manager:findfont: Font family 'Noto Sans Devanagari' not found.\n",
            "WARNING:matplotlib.font_manager:findfont: Font family 'Noto Sans Devanagari' not found.\n",
            "WARNING:matplotlib.font_manager:findfont: Font family 'Noto Sans Devanagari' not found.\n",
            "WARNING:matplotlib.font_manager:findfont: Font family 'Noto Sans Devanagari' not found.\n",
            "WARNING:matplotlib.font_manager:findfont: Font family 'Noto Sans Devanagari' not found.\n",
            "WARNING:matplotlib.font_manager:findfont: Font family 'Noto Sans Devanagari' not found.\n",
            "WARNING:matplotlib.font_manager:findfont: Font family 'Noto Sans Devanagari' not found.\n",
            "WARNING:matplotlib.font_manager:findfont: Font family 'Noto Sans Devanagari' not found.\n",
            "WARNING:matplotlib.font_manager:findfont: Font family 'Noto Sans Devanagari' not found.\n",
            "WARNING:matplotlib.font_manager:findfont: Font family 'Noto Sans Devanagari' not found.\n",
            "WARNING:matplotlib.font_manager:findfont: Font family 'Noto Sans Devanagari' not found.\n",
            "WARNING:matplotlib.font_manager:findfont: Font family 'Noto Sans Devanagari' not found.\n",
            "WARNING:matplotlib.font_manager:findfont: Font family 'Noto Sans Devanagari' not found.\n",
            "WARNING:matplotlib.font_manager:findfont: Font family 'Noto Sans Devanagari' not found.\n",
            "WARNING:matplotlib.font_manager:findfont: Font family 'Noto Sans Devanagari' not found.\n",
            "WARNING:matplotlib.font_manager:findfont: Font family 'Noto Sans Devanagari' not found.\n",
            "WARNING:matplotlib.font_manager:findfont: Font family 'Noto Sans Devanagari' not found.\n",
            "WARNING:matplotlib.font_manager:findfont: Font family 'Noto Sans Devanagari' not found.\n",
            "WARNING:matplotlib.font_manager:findfont: Font family 'Noto Sans Devanagari' not found.\n",
            "WARNING:matplotlib.font_manager:findfont: Font family 'Noto Sans Devanagari' not found.\n",
            "WARNING:matplotlib.font_manager:findfont: Font family 'Noto Sans Devanagari' not found.\n",
            "WARNING:matplotlib.font_manager:findfont: Font family 'Noto Sans Devanagari' not found.\n",
            "WARNING:matplotlib.font_manager:findfont: Font family 'Noto Sans Devanagari' not found.\n",
            "WARNING:matplotlib.font_manager:findfont: Font family 'Noto Sans Devanagari' not found.\n",
            "WARNING:matplotlib.font_manager:findfont: Font family 'Noto Sans Devanagari' not found.\n",
            "WARNING:matplotlib.font_manager:findfont: Font family 'Noto Sans Devanagari' not found.\n",
            "WARNING:matplotlib.font_manager:findfont: Font family 'Noto Sans Devanagari' not found.\n",
            "WARNING:matplotlib.font_manager:findfont: Font family 'Noto Sans Devanagari' not found.\n",
            "WARNING:matplotlib.font_manager:findfont: Font family 'Noto Sans Devanagari' not found.\n",
            "WARNING:matplotlib.font_manager:findfont: Font family 'Noto Sans Devanagari' not found.\n",
            "WARNING:matplotlib.font_manager:findfont: Font family 'Noto Sans Devanagari' not found.\n",
            "WARNING:matplotlib.font_manager:findfont: Font family 'Noto Sans Devanagari' not found.\n",
            "WARNING:matplotlib.font_manager:findfont: Font family 'Noto Sans Devanagari' not found.\n",
            "WARNING:matplotlib.font_manager:findfont: Font family 'Noto Sans Devanagari' not found.\n",
            "WARNING:matplotlib.font_manager:findfont: Font family 'Noto Sans Devanagari' not found.\n",
            "WARNING:matplotlib.font_manager:findfont: Font family 'Noto Sans Devanagari' not found.\n",
            "WARNING:matplotlib.font_manager:findfont: Font family 'Noto Sans Devanagari' not found.\n",
            "WARNING:matplotlib.font_manager:findfont: Font family 'Noto Sans Devanagari' not found.\n",
            "WARNING:matplotlib.font_manager:findfont: Font family 'Noto Sans Devanagari' not found.\n",
            "WARNING:matplotlib.font_manager:findfont: Font family 'Noto Sans Devanagari' not found.\n",
            "WARNING:matplotlib.font_manager:findfont: Font family 'Noto Sans Devanagari' not found.\n",
            "WARNING:matplotlib.font_manager:findfont: Font family 'Noto Sans Devanagari' not found.\n",
            "WARNING:matplotlib.font_manager:findfont: Font family 'Noto Sans Devanagari' not found.\n",
            "WARNING:matplotlib.font_manager:findfont: Font family 'Noto Sans Devanagari' not found.\n",
            "WARNING:matplotlib.font_manager:findfont: Font family 'Noto Sans Devanagari' not found.\n",
            "WARNING:matplotlib.font_manager:findfont: Font family 'Noto Sans Devanagari' not found.\n",
            "WARNING:matplotlib.font_manager:findfont: Font family 'Noto Sans Devanagari' not found.\n",
            "WARNING:matplotlib.font_manager:findfont: Font family 'Noto Sans Devanagari' not found.\n",
            "WARNING:matplotlib.font_manager:findfont: Font family 'Noto Sans Devanagari' not found.\n",
            "WARNING:matplotlib.font_manager:findfont: Font family 'Noto Sans Devanagari' not found.\n",
            "WARNING:matplotlib.font_manager:findfont: Font family 'Noto Sans Devanagari' not found.\n",
            "WARNING:matplotlib.font_manager:findfont: Font family 'Noto Sans Devanagari' not found.\n",
            "WARNING:matplotlib.font_manager:findfont: Font family 'Noto Sans Devanagari' not found.\n",
            "WARNING:matplotlib.font_manager:findfont: Font family 'Noto Sans Devanagari' not found.\n",
            "WARNING:matplotlib.font_manager:findfont: Font family 'Noto Sans Devanagari' not found.\n",
            "WARNING:matplotlib.font_manager:findfont: Font family 'Noto Sans Devanagari' not found.\n",
            "WARNING:matplotlib.font_manager:findfont: Font family 'Noto Sans Devanagari' not found.\n",
            "WARNING:matplotlib.font_manager:findfont: Font family 'Noto Sans Devanagari' not found.\n",
            "WARNING:matplotlib.font_manager:findfont: Font family 'Noto Sans Devanagari' not found.\n",
            "WARNING:matplotlib.font_manager:findfont: Font family 'Noto Sans Devanagari' not found.\n",
            "WARNING:matplotlib.font_manager:findfont: Font family 'Noto Sans Devanagari' not found.\n",
            "WARNING:matplotlib.font_manager:findfont: Font family 'Noto Sans Devanagari' not found.\n",
            "WARNING:matplotlib.font_manager:findfont: Font family 'Noto Sans Devanagari' not found.\n",
            "WARNING:matplotlib.font_manager:findfont: Font family 'Noto Sans Devanagari' not found.\n",
            "WARNING:matplotlib.font_manager:findfont: Font family 'Noto Sans Devanagari' not found.\n",
            "WARNING:matplotlib.font_manager:findfont: Font family 'Noto Sans Devanagari' not found.\n",
            "WARNING:matplotlib.font_manager:findfont: Font family 'Noto Sans Devanagari' not found.\n",
            "WARNING:matplotlib.font_manager:findfont: Font family 'Noto Sans Devanagari' not found.\n",
            "WARNING:matplotlib.font_manager:findfont: Font family 'Noto Sans Devanagari' not found.\n",
            "WARNING:matplotlib.font_manager:findfont: Font family 'Noto Sans Devanagari' not found.\n",
            "WARNING:matplotlib.font_manager:findfont: Font family 'Noto Sans Devanagari' not found.\n",
            "WARNING:matplotlib.font_manager:findfont: Font family 'Noto Sans Devanagari' not found.\n",
            "WARNING:matplotlib.font_manager:findfont: Font family 'Noto Sans Devanagari' not found.\n",
            "WARNING:matplotlib.font_manager:findfont: Font family 'Noto Sans Devanagari' not found.\n",
            "WARNING:matplotlib.font_manager:findfont: Font family 'Noto Sans Devanagari' not found.\n",
            "WARNING:matplotlib.font_manager:findfont: Font family 'Noto Sans Devanagari' not found.\n",
            "WARNING:matplotlib.font_manager:findfont: Font family 'Noto Sans Devanagari' not found.\n",
            "WARNING:matplotlib.font_manager:findfont: Font family 'Noto Sans Devanagari' not found.\n",
            "WARNING:matplotlib.font_manager:findfont: Font family 'Noto Sans Devanagari' not found.\n",
            "WARNING:matplotlib.font_manager:findfont: Font family 'Noto Sans Devanagari' not found.\n",
            "WARNING:matplotlib.font_manager:findfont: Font family 'Noto Sans Devanagari' not found.\n",
            "WARNING:matplotlib.font_manager:findfont: Font family 'Noto Sans Devanagari' not found.\n",
            "WARNING:matplotlib.font_manager:findfont: Font family 'Noto Sans Devanagari' not found.\n",
            "WARNING:matplotlib.font_manager:findfont: Font family 'Noto Sans Devanagari' not found.\n",
            "WARNING:matplotlib.font_manager:findfont: Font family 'Noto Sans Devanagari' not found.\n",
            "WARNING:matplotlib.font_manager:findfont: Font family 'Noto Sans Devanagari' not found.\n",
            "WARNING:matplotlib.font_manager:findfont: Font family 'Noto Sans Devanagari' not found.\n",
            "WARNING:matplotlib.font_manager:findfont: Font family 'Noto Sans Devanagari' not found.\n",
            "WARNING:matplotlib.font_manager:findfont: Font family 'Noto Sans Devanagari' not found.\n",
            "WARNING:matplotlib.font_manager:findfont: Font family 'Noto Sans Devanagari' not found.\n",
            "WARNING:matplotlib.font_manager:findfont: Font family 'Noto Sans Devanagari' not found.\n",
            "WARNING:matplotlib.font_manager:findfont: Font family 'Noto Sans Devanagari' not found.\n",
            "WARNING:matplotlib.font_manager:findfont: Font family 'Noto Sans Devanagari' not found.\n",
            "WARNING:matplotlib.font_manager:findfont: Font family 'Noto Sans Devanagari' not found.\n",
            "WARNING:matplotlib.font_manager:findfont: Font family 'Noto Sans Devanagari' not found.\n",
            "WARNING:matplotlib.font_manager:findfont: Font family 'Noto Sans Devanagari' not found.\n",
            "WARNING:matplotlib.font_manager:findfont: Font family 'Noto Sans Devanagari' not found.\n",
            "WARNING:matplotlib.font_manager:findfont: Font family 'Noto Sans Devanagari' not found.\n",
            "WARNING:matplotlib.font_manager:findfont: Font family 'Noto Sans Devanagari' not found.\n",
            "WARNING:matplotlib.font_manager:findfont: Font family 'Noto Sans Devanagari' not found.\n",
            "WARNING:matplotlib.font_manager:findfont: Font family 'Noto Sans Devanagari' not found.\n",
            "WARNING:matplotlib.font_manager:findfont: Font family 'Noto Sans Devanagari' not found.\n",
            "WARNING:matplotlib.font_manager:findfont: Font family 'Noto Sans Devanagari' not found.\n",
            "WARNING:matplotlib.font_manager:findfont: Font family 'Noto Sans Devanagari' not found.\n",
            "WARNING:matplotlib.font_manager:findfont: Font family 'Noto Sans Devanagari' not found.\n",
            "WARNING:matplotlib.font_manager:findfont: Font family 'Noto Sans Devanagari' not found.\n",
            "WARNING:matplotlib.font_manager:findfont: Font family 'Noto Sans Devanagari' not found.\n",
            "WARNING:matplotlib.font_manager:findfont: Font family 'Noto Sans Devanagari' not found.\n",
            "WARNING:matplotlib.font_manager:findfont: Font family 'Noto Sans Devanagari' not found.\n",
            "WARNING:matplotlib.font_manager:findfont: Font family 'Noto Sans Devanagari' not found.\n",
            "WARNING:matplotlib.font_manager:findfont: Font family 'Noto Sans Devanagari' not found.\n",
            "WARNING:matplotlib.font_manager:findfont: Font family 'Noto Sans Devanagari' not found.\n",
            "WARNING:matplotlib.font_manager:findfont: Font family 'Noto Sans Devanagari' not found.\n",
            "WARNING:matplotlib.font_manager:findfont: Font family 'Noto Sans Devanagari' not found.\n",
            "WARNING:matplotlib.font_manager:findfont: Font family 'Noto Sans Devanagari' not found.\n",
            "WARNING:matplotlib.font_manager:findfont: Font family 'Noto Sans Devanagari' not found.\n",
            "WARNING:matplotlib.font_manager:findfont: Font family 'Noto Sans Devanagari' not found.\n",
            "WARNING:matplotlib.font_manager:findfont: Font family 'Noto Sans Devanagari' not found.\n",
            "WARNING:matplotlib.font_manager:findfont: Font family 'Noto Sans Devanagari' not found.\n",
            "WARNING:matplotlib.font_manager:findfont: Font family 'Noto Sans Devanagari' not found.\n",
            "WARNING:matplotlib.font_manager:findfont: Font family 'Noto Sans Devanagari' not found.\n",
            "WARNING:matplotlib.font_manager:findfont: Font family 'Noto Sans Devanagari' not found.\n",
            "WARNING:matplotlib.font_manager:findfont: Font family 'Noto Sans Devanagari' not found.\n",
            "WARNING:matplotlib.font_manager:findfont: Font family 'Noto Sans Devanagari' not found.\n",
            "WARNING:matplotlib.font_manager:findfont: Font family 'Noto Sans Devanagari' not found.\n",
            "WARNING:matplotlib.font_manager:findfont: Font family 'Noto Sans Devanagari' not found.\n",
            "WARNING:matplotlib.font_manager:findfont: Font family 'Noto Sans Devanagari' not found.\n",
            "/usr/local/lib/python3.11/dist-packages/seaborn/utils.py:61: UserWarning: Glyph 2368 (\\N{DEVANAGARI VOWEL SIGN II}) missing from font(s) DejaVu Sans.\n",
            "  fig.canvas.draw()\n",
            "/usr/local/lib/python3.11/dist-packages/seaborn/utils.py:61: UserWarning: Matplotlib currently does not support Devanagari natively.\n",
            "  fig.canvas.draw()\n",
            "WARNING:matplotlib.font_manager:findfont: Font family 'Noto Sans Devanagari' not found.\n",
            "/usr/local/lib/python3.11/dist-packages/seaborn/utils.py:61: UserWarning: Glyph 2366 (\\N{DEVANAGARI VOWEL SIGN AA}) missing from font(s) DejaVu Sans.\n",
            "  fig.canvas.draw()\n",
            "WARNING:matplotlib.font_manager:findfont: Font family 'Noto Sans Devanagari' not found.\n",
            "/usr/local/lib/python3.11/dist-packages/seaborn/utils.py:61: UserWarning: Glyph 2309 (\\N{DEVANAGARI LETTER A}) missing from font(s) DejaVu Sans.\n",
            "  fig.canvas.draw()\n",
            "WARNING:matplotlib.font_manager:findfont: Font family 'Noto Sans Devanagari' not found.\n",
            "/usr/local/lib/python3.11/dist-packages/seaborn/utils.py:61: UserWarning: Glyph 2306 (\\N{DEVANAGARI SIGN ANUSVARA}) missing from font(s) DejaVu Sans.\n",
            "  fig.canvas.draw()\n",
            "WARNING:matplotlib.font_manager:findfont: Font family 'Noto Sans Devanagari' not found.\n",
            "/usr/local/lib/python3.11/dist-packages/seaborn/utils.py:61: UserWarning: Glyph 2327 (\\N{DEVANAGARI LETTER GA}) missing from font(s) DejaVu Sans.\n",
            "  fig.canvas.draw()\n",
            "WARNING:matplotlib.font_manager:findfont: Font family 'Noto Sans Devanagari' not found.\n",
            "WARNING:matplotlib.font_manager:findfont: Font family 'Noto Sans Devanagari' not found.\n",
            "/usr/local/lib/python3.11/dist-packages/seaborn/utils.py:61: UserWarning: Glyph 2352 (\\N{DEVANAGARI LETTER RA}) missing from font(s) DejaVu Sans.\n",
            "  fig.canvas.draw()\n",
            "WARNING:matplotlib.font_manager:findfont: Font family 'Noto Sans Devanagari' not found.\n",
            "WARNING:matplotlib.font_manager:findfont: Font family 'Noto Sans Devanagari' not found.\n",
            "WARNING:matplotlib.font_manager:findfont: Font family 'Noto Sans Devanagari' not found.\n",
            "WARNING:matplotlib.font_manager:findfont: Font family 'Noto Sans Devanagari' not found.\n",
            "WARNING:matplotlib.font_manager:findfont: Font family 'Noto Sans Devanagari' not found.\n",
            "WARNING:matplotlib.font_manager:findfont: Font family 'Noto Sans Devanagari' not found.\n",
            "WARNING:matplotlib.font_manager:findfont: Font family 'Noto Sans Devanagari' not found.\n",
            "WARNING:matplotlib.font_manager:findfont: Font family 'Noto Sans Devanagari' not found.\n",
            "WARNING:matplotlib.font_manager:findfont: Font family 'Noto Sans Devanagari' not found.\n",
            "WARNING:matplotlib.font_manager:findfont: Font family 'Noto Sans Devanagari' not found.\n",
            "WARNING:matplotlib.font_manager:findfont: Font family 'Noto Sans Devanagari' not found.\n",
            "WARNING:matplotlib.font_manager:findfont: Font family 'Noto Sans Devanagari' not found.\n",
            "WARNING:matplotlib.font_manager:findfont: Font family 'Noto Sans Devanagari' not found.\n",
            "WARNING:matplotlib.font_manager:findfont: Font family 'Noto Sans Devanagari' not found.\n",
            "WARNING:matplotlib.font_manager:findfont: Font family 'Noto Sans Devanagari' not found.\n",
            "WARNING:matplotlib.font_manager:findfont: Font family 'Noto Sans Devanagari' not found.\n",
            "WARNING:matplotlib.font_manager:findfont: Font family 'Noto Sans Devanagari' not found.\n",
            "WARNING:matplotlib.font_manager:findfont: Font family 'Noto Sans Devanagari' not found.\n",
            "WARNING:matplotlib.font_manager:findfont: Font family 'Noto Sans Devanagari' not found.\n",
            "WARNING:matplotlib.font_manager:findfont: Font family 'Noto Sans Devanagari' not found.\n",
            "WARNING:matplotlib.font_manager:findfont: Font family 'Noto Sans Devanagari' not found.\n",
            "WARNING:matplotlib.font_manager:findfont: Font family 'Noto Sans Devanagari' not found.\n",
            "WARNING:matplotlib.font_manager:findfont: Font family 'Noto Sans Devanagari' not found.\n",
            "WARNING:matplotlib.font_manager:findfont: Font family 'Noto Sans Devanagari' not found.\n",
            "WARNING:matplotlib.font_manager:findfont: Font family 'Noto Sans Devanagari' not found.\n",
            "WARNING:matplotlib.font_manager:findfont: Font family 'Noto Sans Devanagari' not found.\n",
            "WARNING:matplotlib.font_manager:findfont: Font family 'Noto Sans Devanagari' not found.\n",
            "WARNING:matplotlib.font_manager:findfont: Font family 'Noto Sans Devanagari' not found.\n",
            "WARNING:matplotlib.font_manager:findfont: Font family 'Noto Sans Devanagari' not found.\n",
            "WARNING:matplotlib.font_manager:findfont: Font family 'Noto Sans Devanagari' not found.\n",
            "WARNING:matplotlib.font_manager:findfont: Font family 'Noto Sans Devanagari' not found.\n",
            "WARNING:matplotlib.font_manager:findfont: Font family 'Noto Sans Devanagari' not found.\n",
            "WARNING:matplotlib.font_manager:findfont: Font family 'Noto Sans Devanagari' not found.\n",
            "WARNING:matplotlib.font_manager:findfont: Font family 'Noto Sans Devanagari' not found.\n",
            "WARNING:matplotlib.font_manager:findfont: Font family 'Noto Sans Devanagari' not found.\n",
            "WARNING:matplotlib.font_manager:findfont: Font family 'Noto Sans Devanagari' not found.\n",
            "WARNING:matplotlib.font_manager:findfont: Font family 'Noto Sans Devanagari' not found.\n",
            "WARNING:matplotlib.font_manager:findfont: Font family 'Noto Sans Devanagari' not found.\n",
            "WARNING:matplotlib.font_manager:findfont: Font family 'Noto Sans Devanagari' not found.\n",
            "WARNING:matplotlib.font_manager:findfont: Font family 'Noto Sans Devanagari' not found.\n",
            "WARNING:matplotlib.font_manager:findfont: Font family 'Noto Sans Devanagari' not found.\n",
            "WARNING:matplotlib.font_manager:findfont: Font family 'Noto Sans Devanagari' not found.\n",
            "WARNING:matplotlib.font_manager:findfont: Font family 'Noto Sans Devanagari' not found.\n",
            "WARNING:matplotlib.font_manager:findfont: Font family 'Noto Sans Devanagari' not found.\n",
            "WARNING:matplotlib.font_manager:findfont: Font family 'Noto Sans Devanagari' not found.\n",
            "WARNING:matplotlib.font_manager:findfont: Font family 'Noto Sans Devanagari' not found.\n",
            "WARNING:matplotlib.font_manager:findfont: Font family 'Noto Sans Devanagari' not found.\n",
            "WARNING:matplotlib.font_manager:findfont: Font family 'Noto Sans Devanagari' not found.\n",
            "WARNING:matplotlib.font_manager:findfont: Font family 'Noto Sans Devanagari' not found.\n",
            "WARNING:matplotlib.font_manager:findfont: Font family 'Noto Sans Devanagari' not found.\n",
            "WARNING:matplotlib.font_manager:findfont: Font family 'Noto Sans Devanagari' not found.\n",
            "WARNING:matplotlib.font_manager:findfont: Font family 'Noto Sans Devanagari' not found.\n",
            "WARNING:matplotlib.font_manager:findfont: Font family 'Noto Sans Devanagari' not found.\n",
            "WARNING:matplotlib.font_manager:findfont: Font family 'Noto Sans Devanagari' not found.\n",
            "WARNING:matplotlib.font_manager:findfont: Font family 'Noto Sans Devanagari' not found.\n",
            "WARNING:matplotlib.font_manager:findfont: Font family 'Noto Sans Devanagari' not found.\n",
            "WARNING:matplotlib.font_manager:findfont: Font family 'Noto Sans Devanagari' not found.\n",
            "WARNING:matplotlib.font_manager:findfont: Font family 'Noto Sans Devanagari' not found.\n",
            "WARNING:matplotlib.font_manager:findfont: Font family 'Noto Sans Devanagari' not found.\n",
            "WARNING:matplotlib.font_manager:findfont: Font family 'Noto Sans Devanagari' not found.\n",
            "WARNING:matplotlib.font_manager:findfont: Font family 'Noto Sans Devanagari' not found.\n",
            "WARNING:matplotlib.font_manager:findfont: Font family 'Noto Sans Devanagari' not found.\n",
            "WARNING:matplotlib.font_manager:findfont: Font family 'Noto Sans Devanagari' not found.\n",
            "WARNING:matplotlib.font_manager:findfont: Font family 'Noto Sans Devanagari' not found.\n",
            "WARNING:matplotlib.font_manager:findfont: Font family 'Noto Sans Devanagari' not found.\n",
            "WARNING:matplotlib.font_manager:findfont: Font family 'Noto Sans Devanagari' not found.\n",
            "WARNING:matplotlib.font_manager:findfont: Font family 'Noto Sans Devanagari' not found.\n",
            "WARNING:matplotlib.font_manager:findfont: Font family 'Noto Sans Devanagari' not found.\n",
            "WARNING:matplotlib.font_manager:findfont: Font family 'Noto Sans Devanagari' not found.\n",
            "WARNING:matplotlib.font_manager:findfont: Font family 'Noto Sans Devanagari' not found.\n",
            "WARNING:matplotlib.font_manager:findfont: Font family 'Noto Sans Devanagari' not found.\n",
            "WARNING:matplotlib.font_manager:findfont: Font family 'Noto Sans Devanagari' not found.\n",
            "WARNING:matplotlib.font_manager:findfont: Font family 'Noto Sans Devanagari' not found.\n",
            "WARNING:matplotlib.font_manager:findfont: Font family 'Noto Sans Devanagari' not found.\n",
            "WARNING:matplotlib.font_manager:findfont: Font family 'Noto Sans Devanagari' not found.\n",
            "WARNING:matplotlib.font_manager:findfont: Font family 'Noto Sans Devanagari' not found.\n",
            "WARNING:matplotlib.font_manager:findfont: Font family 'Noto Sans Devanagari' not found.\n",
            "WARNING:matplotlib.font_manager:findfont: Font family 'Noto Sans Devanagari' not found.\n",
            "WARNING:matplotlib.font_manager:findfont: Font family 'Noto Sans Devanagari' not found.\n",
            "WARNING:matplotlib.font_manager:findfont: Font family 'Noto Sans Devanagari' not found.\n",
            "WARNING:matplotlib.font_manager:findfont: Font family 'Noto Sans Devanagari' not found.\n",
            "WARNING:matplotlib.font_manager:findfont: Font family 'Noto Sans Devanagari' not found.\n",
            "WARNING:matplotlib.font_manager:findfont: Font family 'Noto Sans Devanagari' not found.\n",
            "WARNING:matplotlib.font_manager:findfont: Font family 'Noto Sans Devanagari' not found.\n",
            "WARNING:matplotlib.font_manager:findfont: Font family 'Noto Sans Devanagari' not found.\n",
            "WARNING:matplotlib.font_manager:findfont: Font family 'Noto Sans Devanagari' not found.\n",
            "WARNING:matplotlib.font_manager:findfont: Font family 'Noto Sans Devanagari' not found.\n",
            "WARNING:matplotlib.font_manager:findfont: Font family 'Noto Sans Devanagari' not found.\n",
            "WARNING:matplotlib.font_manager:findfont: Font family 'Noto Sans Devanagari' not found.\n",
            "WARNING:matplotlib.font_manager:findfont: Font family 'Noto Sans Devanagari' not found.\n",
            "WARNING:matplotlib.font_manager:findfont: Font family 'Noto Sans Devanagari' not found.\n",
            "WARNING:matplotlib.font_manager:findfont: Font family 'Noto Sans Devanagari' not found.\n",
            "WARNING:matplotlib.font_manager:findfont: Font family 'Noto Sans Devanagari' not found.\n",
            "WARNING:matplotlib.font_manager:findfont: Font family 'Noto Sans Devanagari' not found.\n",
            "WARNING:matplotlib.font_manager:findfont: Font family 'Noto Sans Devanagari' not found.\n",
            "WARNING:matplotlib.font_manager:findfont: Font family 'Noto Sans Devanagari' not found.\n",
            "WARNING:matplotlib.font_manager:findfont: Font family 'Noto Sans Devanagari' not found.\n",
            "WARNING:matplotlib.font_manager:findfont: Font family 'Noto Sans Devanagari' not found.\n",
            "WARNING:matplotlib.font_manager:findfont: Font family 'Noto Sans Devanagari' not found.\n",
            "WARNING:matplotlib.font_manager:findfont: Font family 'Noto Sans Devanagari' not found.\n",
            "WARNING:matplotlib.font_manager:findfont: Font family 'Noto Sans Devanagari' not found.\n",
            "WARNING:matplotlib.font_manager:findfont: Font family 'Noto Sans Devanagari' not found.\n",
            "WARNING:matplotlib.font_manager:findfont: Font family 'Noto Sans Devanagari' not found.\n",
            "WARNING:matplotlib.font_manager:findfont: Font family 'Noto Sans Devanagari' not found.\n",
            "WARNING:matplotlib.font_manager:findfont: Font family 'Noto Sans Devanagari' not found.\n",
            "WARNING:matplotlib.font_manager:findfont: Font family 'Noto Sans Devanagari' not found.\n",
            "WARNING:matplotlib.font_manager:findfont: Font family 'Noto Sans Devanagari' not found.\n",
            "WARNING:matplotlib.font_manager:findfont: Font family 'Noto Sans Devanagari' not found.\n",
            "WARNING:matplotlib.font_manager:findfont: Font family 'Noto Sans Devanagari' not found.\n",
            "WARNING:matplotlib.font_manager:findfont: Font family 'Noto Sans Devanagari' not found.\n",
            "WARNING:matplotlib.font_manager:findfont: Font family 'Noto Sans Devanagari' not found.\n",
            "WARNING:matplotlib.font_manager:findfont: Font family 'Noto Sans Devanagari' not found.\n",
            "WARNING:matplotlib.font_manager:findfont: Font family 'Noto Sans Devanagari' not found.\n",
            "WARNING:matplotlib.font_manager:findfont: Font family 'Noto Sans Devanagari' not found.\n",
            "WARNING:matplotlib.font_manager:findfont: Font family 'Noto Sans Devanagari' not found.\n",
            "WARNING:matplotlib.font_manager:findfont: Font family 'Noto Sans Devanagari' not found.\n",
            "WARNING:matplotlib.font_manager:findfont: Font family 'Noto Sans Devanagari' not found.\n",
            "WARNING:matplotlib.font_manager:findfont: Font family 'Noto Sans Devanagari' not found.\n",
            "WARNING:matplotlib.font_manager:findfont: Font family 'Noto Sans Devanagari' not found.\n",
            "WARNING:matplotlib.font_manager:findfont: Font family 'Noto Sans Devanagari' not found.\n",
            "WARNING:matplotlib.font_manager:findfont: Font family 'Noto Sans Devanagari' not found.\n",
            "WARNING:matplotlib.font_manager:findfont: Font family 'Noto Sans Devanagari' not found.\n",
            "WARNING:matplotlib.font_manager:findfont: Font family 'Noto Sans Devanagari' not found.\n",
            "WARNING:matplotlib.font_manager:findfont: Font family 'Noto Sans Devanagari' not found.\n",
            "WARNING:matplotlib.font_manager:findfont: Font family 'Noto Sans Devanagari' not found.\n",
            "WARNING:matplotlib.font_manager:findfont: Font family 'Noto Sans Devanagari' not found.\n",
            "WARNING:matplotlib.font_manager:findfont: Font family 'Noto Sans Devanagari' not found.\n",
            "WARNING:matplotlib.font_manager:findfont: Font family 'Noto Sans Devanagari' not found.\n",
            "WARNING:matplotlib.font_manager:findfont: Font family 'Noto Sans Devanagari' not found.\n",
            "WARNING:matplotlib.font_manager:findfont: Font family 'Noto Sans Devanagari' not found.\n",
            "WARNING:matplotlib.font_manager:findfont: Font family 'Noto Sans Devanagari' not found.\n",
            "WARNING:matplotlib.font_manager:findfont: Font family 'Noto Sans Devanagari' not found.\n",
            "WARNING:matplotlib.font_manager:findfont: Font family 'Noto Sans Devanagari' not found.\n",
            "WARNING:matplotlib.font_manager:findfont: Font family 'Noto Sans Devanagari' not found.\n",
            "WARNING:matplotlib.font_manager:findfont: Font family 'Noto Sans Devanagari' not found.\n",
            "WARNING:matplotlib.font_manager:findfont: Font family 'Noto Sans Devanagari' not found.\n",
            "WARNING:matplotlib.font_manager:findfont: Font family 'Noto Sans Devanagari' not found.\n",
            "WARNING:matplotlib.font_manager:findfont: Font family 'Noto Sans Devanagari' not found.\n",
            "WARNING:matplotlib.font_manager:findfont: Font family 'Noto Sans Devanagari' not found.\n",
            "WARNING:matplotlib.font_manager:findfont: Font family 'Noto Sans Devanagari' not found.\n",
            "WARNING:matplotlib.font_manager:findfont: Font family 'Noto Sans Devanagari' not found.\n",
            "/usr/local/lib/python3.11/dist-packages/seaborn/utils.py:61: UserWarning: Glyph 2336 (\\N{DEVANAGARI LETTER TTHA}) missing from font(s) DejaVu Sans.\n",
            "  fig.canvas.draw()\n",
            "/usr/local/lib/python3.11/dist-packages/seaborn/utils.py:61: UserWarning: Matplotlib currently does not support Devanagari natively.\n",
            "  fig.canvas.draw()\n",
            "WARNING:matplotlib.font_manager:findfont: Font family 'Noto Sans Devanagari' not found.\n",
            "/usr/local/lib/python3.11/dist-packages/seaborn/utils.py:61: UserWarning: Glyph 2309 (\\N{DEVANAGARI LETTER A}) missing from font(s) DejaVu Sans.\n",
            "  fig.canvas.draw()\n",
            "WARNING:matplotlib.font_manager:findfont: Font family 'Noto Sans Devanagari' not found.\n",
            "/usr/local/lib/python3.11/dist-packages/seaborn/utils.py:61: UserWarning: Glyph 2306 (\\N{DEVANAGARI SIGN ANUSVARA}) missing from font(s) DejaVu Sans.\n",
            "  fig.canvas.draw()\n",
            "WARNING:matplotlib.font_manager:findfont: Font family 'Noto Sans Devanagari' not found.\n",
            "/usr/local/lib/python3.11/dist-packages/seaborn/utils.py:61: UserWarning: Glyph 2327 (\\N{DEVANAGARI LETTER GA}) missing from font(s) DejaVu Sans.\n",
            "  fig.canvas.draw()\n",
            "WARNING:matplotlib.font_manager:findfont: Font family 'Noto Sans Devanagari' not found.\n",
            "/usr/local/lib/python3.11/dist-packages/seaborn/utils.py:61: UserWarning: Glyph 2368 (\\N{DEVANAGARI VOWEL SIGN II}) missing from font(s) DejaVu Sans.\n",
            "  fig.canvas.draw()\n",
            "WARNING:matplotlib.font_manager:findfont: Font family 'Noto Sans Devanagari' not found.\n",
            "WARNING:matplotlib.font_manager:findfont: Font family 'Noto Sans Devanagari' not found.\n",
            "WARNING:matplotlib.font_manager:findfont: Font family 'Noto Sans Devanagari' not found.\n",
            "WARNING:matplotlib.font_manager:findfont: Font family 'Noto Sans Devanagari' not found.\n",
            "WARNING:matplotlib.font_manager:findfont: Font family 'Noto Sans Devanagari' not found.\n",
            "WARNING:matplotlib.font_manager:findfont: Font family 'Noto Sans Devanagari' not found.\n",
            "WARNING:matplotlib.font_manager:findfont: Font family 'Noto Sans Devanagari' not found.\n",
            "WARNING:matplotlib.font_manager:findfont: Font family 'Noto Sans Devanagari' not found.\n",
            "WARNING:matplotlib.font_manager:findfont: Font family 'Noto Sans Devanagari' not found.\n",
            "WARNING:matplotlib.font_manager:findfont: Font family 'Noto Sans Devanagari' not found.\n",
            "WARNING:matplotlib.font_manager:findfont: Font family 'Noto Sans Devanagari' not found.\n",
            "WARNING:matplotlib.font_manager:findfont: Font family 'Noto Sans Devanagari' not found.\n",
            "WARNING:matplotlib.font_manager:findfont: Font family 'Noto Sans Devanagari' not found.\n",
            "WARNING:matplotlib.font_manager:findfont: Font family 'Noto Sans Devanagari' not found.\n",
            "WARNING:matplotlib.font_manager:findfont: Font family 'Noto Sans Devanagari' not found.\n",
            "WARNING:matplotlib.font_manager:findfont: Font family 'Noto Sans Devanagari' not found.\n",
            "WARNING:matplotlib.font_manager:findfont: Font family 'Noto Sans Devanagari' not found.\n",
            "WARNING:matplotlib.font_manager:findfont: Font family 'Noto Sans Devanagari' not found.\n",
            "WARNING:matplotlib.font_manager:findfont: Font family 'Noto Sans Devanagari' not found.\n",
            "WARNING:matplotlib.font_manager:findfont: Font family 'Noto Sans Devanagari' not found.\n",
            "WARNING:matplotlib.font_manager:findfont: Font family 'Noto Sans Devanagari' not found.\n",
            "WARNING:matplotlib.font_manager:findfont: Font family 'Noto Sans Devanagari' not found.\n",
            "WARNING:matplotlib.font_manager:findfont: Font family 'Noto Sans Devanagari' not found.\n",
            "WARNING:matplotlib.font_manager:findfont: Font family 'Noto Sans Devanagari' not found.\n",
            "WARNING:matplotlib.font_manager:findfont: Font family 'Noto Sans Devanagari' not found.\n",
            "WARNING:matplotlib.font_manager:findfont: Font family 'Noto Sans Devanagari' not found.\n",
            "WARNING:matplotlib.font_manager:findfont: Font family 'Noto Sans Devanagari' not found.\n",
            "WARNING:matplotlib.font_manager:findfont: Font family 'Noto Sans Devanagari' not found.\n",
            "WARNING:matplotlib.font_manager:findfont: Font family 'Noto Sans Devanagari' not found.\n",
            "WARNING:matplotlib.font_manager:findfont: Font family 'Noto Sans Devanagari' not found.\n",
            "WARNING:matplotlib.font_manager:findfont: Font family 'Noto Sans Devanagari' not found.\n",
            "WARNING:matplotlib.font_manager:findfont: Font family 'Noto Sans Devanagari' not found.\n",
            "WARNING:matplotlib.font_manager:findfont: Font family 'Noto Sans Devanagari' not found.\n",
            "WARNING:matplotlib.font_manager:findfont: Font family 'Noto Sans Devanagari' not found.\n",
            "WARNING:matplotlib.font_manager:findfont: Font family 'Noto Sans Devanagari' not found.\n",
            "WARNING:matplotlib.font_manager:findfont: Font family 'Noto Sans Devanagari' not found.\n",
            "WARNING:matplotlib.font_manager:findfont: Font family 'Noto Sans Devanagari' not found.\n",
            "WARNING:matplotlib.font_manager:findfont: Font family 'Noto Sans Devanagari' not found.\n",
            "WARNING:matplotlib.font_manager:findfont: Font family 'Noto Sans Devanagari' not found.\n",
            "WARNING:matplotlib.font_manager:findfont: Font family 'Noto Sans Devanagari' not found.\n",
            "WARNING:matplotlib.font_manager:findfont: Font family 'Noto Sans Devanagari' not found.\n",
            "WARNING:matplotlib.font_manager:findfont: Font family 'Noto Sans Devanagari' not found.\n",
            "WARNING:matplotlib.font_manager:findfont: Font family 'Noto Sans Devanagari' not found.\n",
            "WARNING:matplotlib.font_manager:findfont: Font family 'Noto Sans Devanagari' not found.\n",
            "WARNING:matplotlib.font_manager:findfont: Font family 'Noto Sans Devanagari' not found.\n",
            "WARNING:matplotlib.font_manager:findfont: Font family 'Noto Sans Devanagari' not found.\n",
            "WARNING:matplotlib.font_manager:findfont: Font family 'Noto Sans Devanagari' not found.\n",
            "WARNING:matplotlib.font_manager:findfont: Font family 'Noto Sans Devanagari' not found.\n",
            "WARNING:matplotlib.font_manager:findfont: Font family 'Noto Sans Devanagari' not found.\n",
            "WARNING:matplotlib.font_manager:findfont: Font family 'Noto Sans Devanagari' not found.\n",
            "WARNING:matplotlib.font_manager:findfont: Font family 'Noto Sans Devanagari' not found.\n",
            "WARNING:matplotlib.font_manager:findfont: Font family 'Noto Sans Devanagari' not found.\n",
            "WARNING:matplotlib.font_manager:findfont: Font family 'Noto Sans Devanagari' not found.\n",
            "WARNING:matplotlib.font_manager:findfont: Font family 'Noto Sans Devanagari' not found.\n",
            "WARNING:matplotlib.font_manager:findfont: Font family 'Noto Sans Devanagari' not found.\n",
            "WARNING:matplotlib.font_manager:findfont: Font family 'Noto Sans Devanagari' not found.\n",
            "WARNING:matplotlib.font_manager:findfont: Font family 'Noto Sans Devanagari' not found.\n",
            "WARNING:matplotlib.font_manager:findfont: Font family 'Noto Sans Devanagari' not found.\n",
            "WARNING:matplotlib.font_manager:findfont: Font family 'Noto Sans Devanagari' not found.\n",
            "WARNING:matplotlib.font_manager:findfont: Font family 'Noto Sans Devanagari' not found.\n",
            "WARNING:matplotlib.font_manager:findfont: Font family 'Noto Sans Devanagari' not found.\n",
            "WARNING:matplotlib.font_manager:findfont: Font family 'Noto Sans Devanagari' not found.\n",
            "WARNING:matplotlib.font_manager:findfont: Font family 'Noto Sans Devanagari' not found.\n",
            "WARNING:matplotlib.font_manager:findfont: Font family 'Noto Sans Devanagari' not found.\n",
            "WARNING:matplotlib.font_manager:findfont: Font family 'Noto Sans Devanagari' not found.\n",
            "WARNING:matplotlib.font_manager:findfont: Font family 'Noto Sans Devanagari' not found.\n",
            "WARNING:matplotlib.font_manager:findfont: Font family 'Noto Sans Devanagari' not found.\n",
            "WARNING:matplotlib.font_manager:findfont: Font family 'Noto Sans Devanagari' not found.\n",
            "WARNING:matplotlib.font_manager:findfont: Font family 'Noto Sans Devanagari' not found.\n",
            "WARNING:matplotlib.font_manager:findfont: Font family 'Noto Sans Devanagari' not found.\n",
            "WARNING:matplotlib.font_manager:findfont: Font family 'Noto Sans Devanagari' not found.\n",
            "WARNING:matplotlib.font_manager:findfont: Font family 'Noto Sans Devanagari' not found.\n",
            "WARNING:matplotlib.font_manager:findfont: Font family 'Noto Sans Devanagari' not found.\n",
            "WARNING:matplotlib.font_manager:findfont: Font family 'Noto Sans Devanagari' not found.\n",
            "WARNING:matplotlib.font_manager:findfont: Font family 'Noto Sans Devanagari' not found.\n",
            "WARNING:matplotlib.font_manager:findfont: Font family 'Noto Sans Devanagari' not found.\n",
            "WARNING:matplotlib.font_manager:findfont: Font family 'Noto Sans Devanagari' not found.\n",
            "WARNING:matplotlib.font_manager:findfont: Font family 'Noto Sans Devanagari' not found.\n",
            "WARNING:matplotlib.font_manager:findfont: Font family 'Noto Sans Devanagari' not found.\n",
            "WARNING:matplotlib.font_manager:findfont: Font family 'Noto Sans Devanagari' not found.\n",
            "WARNING:matplotlib.font_manager:findfont: Font family 'Noto Sans Devanagari' not found.\n",
            "WARNING:matplotlib.font_manager:findfont: Font family 'Noto Sans Devanagari' not found.\n",
            "WARNING:matplotlib.font_manager:findfont: Font family 'Noto Sans Devanagari' not found.\n",
            "WARNING:matplotlib.font_manager:findfont: Font family 'Noto Sans Devanagari' not found.\n",
            "WARNING:matplotlib.font_manager:findfont: Font family 'Noto Sans Devanagari' not found.\n",
            "WARNING:matplotlib.font_manager:findfont: Font family 'Noto Sans Devanagari' not found.\n",
            "WARNING:matplotlib.font_manager:findfont: Font family 'Noto Sans Devanagari' not found.\n",
            "WARNING:matplotlib.font_manager:findfont: Font family 'Noto Sans Devanagari' not found.\n",
            "WARNING:matplotlib.font_manager:findfont: Font family 'Noto Sans Devanagari' not found.\n",
            "WARNING:matplotlib.font_manager:findfont: Font family 'Noto Sans Devanagari' not found.\n",
            "WARNING:matplotlib.font_manager:findfont: Font family 'Noto Sans Devanagari' not found.\n",
            "WARNING:matplotlib.font_manager:findfont: Font family 'Noto Sans Devanagari' not found.\n",
            "WARNING:matplotlib.font_manager:findfont: Font family 'Noto Sans Devanagari' not found.\n",
            "WARNING:matplotlib.font_manager:findfont: Font family 'Noto Sans Devanagari' not found.\n",
            "WARNING:matplotlib.font_manager:findfont: Font family 'Noto Sans Devanagari' not found.\n",
            "WARNING:matplotlib.font_manager:findfont: Font family 'Noto Sans Devanagari' not found.\n",
            "WARNING:matplotlib.font_manager:findfont: Font family 'Noto Sans Devanagari' not found.\n",
            "WARNING:matplotlib.font_manager:findfont: Font family 'Noto Sans Devanagari' not found.\n",
            "WARNING:matplotlib.font_manager:findfont: Font family 'Noto Sans Devanagari' not found.\n",
            "WARNING:matplotlib.font_manager:findfont: Font family 'Noto Sans Devanagari' not found.\n",
            "WARNING:matplotlib.font_manager:findfont: Font family 'Noto Sans Devanagari' not found.\n",
            "WARNING:matplotlib.font_manager:findfont: Font family 'Noto Sans Devanagari' not found.\n",
            "WARNING:matplotlib.font_manager:findfont: Font family 'Noto Sans Devanagari' not found.\n",
            "WARNING:matplotlib.font_manager:findfont: Font family 'Noto Sans Devanagari' not found.\n",
            "WARNING:matplotlib.font_manager:findfont: Font family 'Noto Sans Devanagari' not found.\n",
            "WARNING:matplotlib.font_manager:findfont: Font family 'Noto Sans Devanagari' not found.\n",
            "WARNING:matplotlib.font_manager:findfont: Font family 'Noto Sans Devanagari' not found.\n",
            "WARNING:matplotlib.font_manager:findfont: Font family 'Noto Sans Devanagari' not found.\n",
            "WARNING:matplotlib.font_manager:findfont: Font family 'Noto Sans Devanagari' not found.\n",
            "WARNING:matplotlib.font_manager:findfont: Font family 'Noto Sans Devanagari' not found.\n",
            "WARNING:matplotlib.font_manager:findfont: Font family 'Noto Sans Devanagari' not found.\n",
            "WARNING:matplotlib.font_manager:findfont: Font family 'Noto Sans Devanagari' not found.\n",
            "WARNING:matplotlib.font_manager:findfont: Font family 'Noto Sans Devanagari' not found.\n",
            "WARNING:matplotlib.font_manager:findfont: Font family 'Noto Sans Devanagari' not found.\n",
            "WARNING:matplotlib.font_manager:findfont: Font family 'Noto Sans Devanagari' not found.\n",
            "WARNING:matplotlib.font_manager:findfont: Font family 'Noto Sans Devanagari' not found.\n",
            "WARNING:matplotlib.font_manager:findfont: Font family 'Noto Sans Devanagari' not found.\n",
            "WARNING:matplotlib.font_manager:findfont: Font family 'Noto Sans Devanagari' not found.\n",
            "WARNING:matplotlib.font_manager:findfont: Font family 'Noto Sans Devanagari' not found.\n",
            "WARNING:matplotlib.font_manager:findfont: Font family 'Noto Sans Devanagari' not found.\n",
            "WARNING:matplotlib.font_manager:findfont: Font family 'Noto Sans Devanagari' not found.\n",
            "WARNING:matplotlib.font_manager:findfont: Font family 'Noto Sans Devanagari' not found.\n",
            "WARNING:matplotlib.font_manager:findfont: Font family 'Noto Sans Devanagari' not found.\n",
            "WARNING:matplotlib.font_manager:findfont: Font family 'Noto Sans Devanagari' not found.\n",
            "WARNING:matplotlib.font_manager:findfont: Font family 'Noto Sans Devanagari' not found.\n",
            "WARNING:matplotlib.font_manager:findfont: Font family 'Noto Sans Devanagari' not found.\n",
            "WARNING:matplotlib.font_manager:findfont: Font family 'Noto Sans Devanagari' not found.\n",
            "WARNING:matplotlib.font_manager:findfont: Font family 'Noto Sans Devanagari' not found.\n",
            "WARNING:matplotlib.font_manager:findfont: Font family 'Noto Sans Devanagari' not found.\n",
            "WARNING:matplotlib.font_manager:findfont: Font family 'Noto Sans Devanagari' not found.\n",
            "WARNING:matplotlib.font_manager:findfont: Font family 'Noto Sans Devanagari' not found.\n",
            "WARNING:matplotlib.font_manager:findfont: Font family 'Noto Sans Devanagari' not found.\n",
            "WARNING:matplotlib.font_manager:findfont: Font family 'Noto Sans Devanagari' not found.\n",
            "WARNING:matplotlib.font_manager:findfont: Font family 'Noto Sans Devanagari' not found.\n",
            "WARNING:matplotlib.font_manager:findfont: Font family 'Noto Sans Devanagari' not found.\n",
            "WARNING:matplotlib.font_manager:findfont: Font family 'Noto Sans Devanagari' not found.\n",
            "WARNING:matplotlib.font_manager:findfont: Font family 'Noto Sans Devanagari' not found.\n",
            "WARNING:matplotlib.font_manager:findfont: Font family 'Noto Sans Devanagari' not found.\n",
            "WARNING:matplotlib.font_manager:findfont: Font family 'Noto Sans Devanagari' not found.\n",
            "WARNING:matplotlib.font_manager:findfont: Font family 'Noto Sans Devanagari' not found.\n",
            "WARNING:matplotlib.font_manager:findfont: Font family 'Noto Sans Devanagari' not found.\n",
            "WARNING:matplotlib.font_manager:findfont: Font family 'Noto Sans Devanagari' not found.\n",
            "WARNING:matplotlib.font_manager:findfont: Font family 'Noto Sans Devanagari' not found.\n",
            "WARNING:matplotlib.font_manager:findfont: Font family 'Noto Sans Devanagari' not found.\n",
            "WARNING:matplotlib.font_manager:findfont: Font family 'Noto Sans Devanagari' not found.\n",
            "WARNING:matplotlib.font_manager:findfont: Font family 'Noto Sans Devanagari' not found.\n",
            "WARNING:matplotlib.font_manager:findfont: Font family 'Noto Sans Devanagari' not found.\n",
            "/usr/local/lib/python3.11/dist-packages/seaborn/utils.py:61: UserWarning: Glyph 2381 (\\N{DEVANAGARI SIGN VIRAMA}) missing from font(s) DejaVu Sans.\n",
            "  fig.canvas.draw()\n",
            "/usr/local/lib/python3.11/dist-packages/seaborn/utils.py:61: UserWarning: Matplotlib currently does not support Devanagari natively.\n",
            "  fig.canvas.draw()\n",
            "WARNING:matplotlib.font_manager:findfont: Font family 'Noto Sans Devanagari' not found.\n",
            "/usr/local/lib/python3.11/dist-packages/seaborn/utils.py:61: UserWarning: Glyph 2375 (\\N{DEVANAGARI VOWEL SIGN E}) missing from font(s) DejaVu Sans.\n",
            "  fig.canvas.draw()\n",
            "WARNING:matplotlib.font_manager:findfont: Font family 'Noto Sans Devanagari' not found.\n",
            "/usr/local/lib/python3.11/dist-packages/seaborn/utils.py:61: UserWarning: Glyph 2332 (\\N{DEVANAGARI LETTER JA}) missing from font(s) DejaVu Sans.\n",
            "  fig.canvas.draw()\n",
            "WARNING:matplotlib.font_manager:findfont: Font family 'Noto Sans Devanagari' not found.\n",
            "/usr/local/lib/python3.11/dist-packages/seaborn/utils.py:61: UserWarning: Glyph 2309 (\\N{DEVANAGARI LETTER A}) missing from font(s) DejaVu Sans.\n",
            "  fig.canvas.draw()\n",
            "WARNING:matplotlib.font_manager:findfont: Font family 'Noto Sans Devanagari' not found.\n",
            "/usr/local/lib/python3.11/dist-packages/seaborn/utils.py:61: UserWarning: Glyph 2306 (\\N{DEVANAGARI SIGN ANUSVARA}) missing from font(s) DejaVu Sans.\n",
            "  fig.canvas.draw()\n",
            "WARNING:matplotlib.font_manager:findfont: Font family 'Noto Sans Devanagari' not found.\n",
            "/usr/local/lib/python3.11/dist-packages/seaborn/utils.py:61: UserWarning: Glyph 2327 (\\N{DEVANAGARI LETTER GA}) missing from font(s) DejaVu Sans.\n",
            "  fig.canvas.draw()\n",
            "WARNING:matplotlib.font_manager:findfont: Font family 'Noto Sans Devanagari' not found.\n",
            "WARNING:matplotlib.font_manager:findfont: Font family 'Noto Sans Devanagari' not found.\n",
            "/usr/local/lib/python3.11/dist-packages/seaborn/utils.py:61: UserWarning: Glyph 2352 (\\N{DEVANAGARI LETTER RA}) missing from font(s) DejaVu Sans.\n",
            "  fig.canvas.draw()\n",
            "WARNING:matplotlib.font_manager:findfont: Font family 'Noto Sans Devanagari' not found.\n",
            "WARNING:matplotlib.font_manager:findfont: Font family 'Noto Sans Devanagari' not found.\n",
            "WARNING:matplotlib.font_manager:findfont: Font family 'Noto Sans Devanagari' not found.\n",
            "WARNING:matplotlib.font_manager:findfont: Font family 'Noto Sans Devanagari' not found.\n",
            "WARNING:matplotlib.font_manager:findfont: Font family 'Noto Sans Devanagari' not found.\n",
            "WARNING:matplotlib.font_manager:findfont: Font family 'Noto Sans Devanagari' not found.\n",
            "WARNING:matplotlib.font_manager:findfont: Font family 'Noto Sans Devanagari' not found.\n",
            "WARNING:matplotlib.font_manager:findfont: Font family 'Noto Sans Devanagari' not found.\n",
            "WARNING:matplotlib.font_manager:findfont: Font family 'Noto Sans Devanagari' not found.\n",
            "WARNING:matplotlib.font_manager:findfont: Font family 'Noto Sans Devanagari' not found.\n",
            "WARNING:matplotlib.font_manager:findfont: Font family 'Noto Sans Devanagari' not found.\n",
            "WARNING:matplotlib.font_manager:findfont: Font family 'Noto Sans Devanagari' not found.\n",
            "WARNING:matplotlib.font_manager:findfont: Font family 'Noto Sans Devanagari' not found.\n",
            "WARNING:matplotlib.font_manager:findfont: Font family 'Noto Sans Devanagari' not found.\n",
            "WARNING:matplotlib.font_manager:findfont: Font family 'Noto Sans Devanagari' not found.\n",
            "WARNING:matplotlib.font_manager:findfont: Font family 'Noto Sans Devanagari' not found.\n",
            "WARNING:matplotlib.font_manager:findfont: Font family 'Noto Sans Devanagari' not found.\n",
            "WARNING:matplotlib.font_manager:findfont: Font family 'Noto Sans Devanagari' not found.\n",
            "WARNING:matplotlib.font_manager:findfont: Font family 'Noto Sans Devanagari' not found.\n",
            "WARNING:matplotlib.font_manager:findfont: Font family 'Noto Sans Devanagari' not found.\n",
            "WARNING:matplotlib.font_manager:findfont: Font family 'Noto Sans Devanagari' not found.\n",
            "WARNING:matplotlib.font_manager:findfont: Font family 'Noto Sans Devanagari' not found.\n",
            "WARNING:matplotlib.font_manager:findfont: Font family 'Noto Sans Devanagari' not found.\n",
            "WARNING:matplotlib.font_manager:findfont: Font family 'Noto Sans Devanagari' not found.\n",
            "WARNING:matplotlib.font_manager:findfont: Font family 'Noto Sans Devanagari' not found.\n",
            "WARNING:matplotlib.font_manager:findfont: Font family 'Noto Sans Devanagari' not found.\n",
            "WARNING:matplotlib.font_manager:findfont: Font family 'Noto Sans Devanagari' not found.\n",
            "WARNING:matplotlib.font_manager:findfont: Font family 'Noto Sans Devanagari' not found.\n",
            "WARNING:matplotlib.font_manager:findfont: Font family 'Noto Sans Devanagari' not found.\n",
            "WARNING:matplotlib.font_manager:findfont: Font family 'Noto Sans Devanagari' not found.\n",
            "WARNING:matplotlib.font_manager:findfont: Font family 'Noto Sans Devanagari' not found.\n",
            "WARNING:matplotlib.font_manager:findfont: Font family 'Noto Sans Devanagari' not found.\n",
            "WARNING:matplotlib.font_manager:findfont: Font family 'Noto Sans Devanagari' not found.\n",
            "WARNING:matplotlib.font_manager:findfont: Font family 'Noto Sans Devanagari' not found.\n",
            "WARNING:matplotlib.font_manager:findfont: Font family 'Noto Sans Devanagari' not found.\n",
            "WARNING:matplotlib.font_manager:findfont: Font family 'Noto Sans Devanagari' not found.\n",
            "WARNING:matplotlib.font_manager:findfont: Font family 'Noto Sans Devanagari' not found.\n",
            "WARNING:matplotlib.font_manager:findfont: Font family 'Noto Sans Devanagari' not found.\n",
            "WARNING:matplotlib.font_manager:findfont: Font family 'Noto Sans Devanagari' not found.\n",
            "WARNING:matplotlib.font_manager:findfont: Font family 'Noto Sans Devanagari' not found.\n",
            "WARNING:matplotlib.font_manager:findfont: Font family 'Noto Sans Devanagari' not found.\n",
            "WARNING:matplotlib.font_manager:findfont: Font family 'Noto Sans Devanagari' not found.\n",
            "WARNING:matplotlib.font_manager:findfont: Font family 'Noto Sans Devanagari' not found.\n",
            "WARNING:matplotlib.font_manager:findfont: Font family 'Noto Sans Devanagari' not found.\n",
            "WARNING:matplotlib.font_manager:findfont: Font family 'Noto Sans Devanagari' not found.\n",
            "WARNING:matplotlib.font_manager:findfont: Font family 'Noto Sans Devanagari' not found.\n",
            "WARNING:matplotlib.font_manager:findfont: Font family 'Noto Sans Devanagari' not found.\n",
            "WARNING:matplotlib.font_manager:findfont: Font family 'Noto Sans Devanagari' not found.\n",
            "WARNING:matplotlib.font_manager:findfont: Font family 'Noto Sans Devanagari' not found.\n",
            "WARNING:matplotlib.font_manager:findfont: Font family 'Noto Sans Devanagari' not found.\n",
            "WARNING:matplotlib.font_manager:findfont: Font family 'Noto Sans Devanagari' not found.\n",
            "WARNING:matplotlib.font_manager:findfont: Font family 'Noto Sans Devanagari' not found.\n",
            "WARNING:matplotlib.font_manager:findfont: Font family 'Noto Sans Devanagari' not found.\n",
            "WARNING:matplotlib.font_manager:findfont: Font family 'Noto Sans Devanagari' not found.\n",
            "WARNING:matplotlib.font_manager:findfont: Font family 'Noto Sans Devanagari' not found.\n",
            "WARNING:matplotlib.font_manager:findfont: Font family 'Noto Sans Devanagari' not found.\n",
            "WARNING:matplotlib.font_manager:findfont: Font family 'Noto Sans Devanagari' not found.\n",
            "WARNING:matplotlib.font_manager:findfont: Font family 'Noto Sans Devanagari' not found.\n",
            "WARNING:matplotlib.font_manager:findfont: Font family 'Noto Sans Devanagari' not found.\n",
            "WARNING:matplotlib.font_manager:findfont: Font family 'Noto Sans Devanagari' not found.\n",
            "WARNING:matplotlib.font_manager:findfont: Font family 'Noto Sans Devanagari' not found.\n",
            "WARNING:matplotlib.font_manager:findfont: Font family 'Noto Sans Devanagari' not found.\n",
            "WARNING:matplotlib.font_manager:findfont: Font family 'Noto Sans Devanagari' not found.\n",
            "WARNING:matplotlib.font_manager:findfont: Font family 'Noto Sans Devanagari' not found.\n",
            "WARNING:matplotlib.font_manager:findfont: Font family 'Noto Sans Devanagari' not found.\n",
            "WARNING:matplotlib.font_manager:findfont: Font family 'Noto Sans Devanagari' not found.\n",
            "WARNING:matplotlib.font_manager:findfont: Font family 'Noto Sans Devanagari' not found.\n",
            "WARNING:matplotlib.font_manager:findfont: Font family 'Noto Sans Devanagari' not found.\n",
            "WARNING:matplotlib.font_manager:findfont: Font family 'Noto Sans Devanagari' not found.\n",
            "WARNING:matplotlib.font_manager:findfont: Font family 'Noto Sans Devanagari' not found.\n",
            "WARNING:matplotlib.font_manager:findfont: Font family 'Noto Sans Devanagari' not found.\n",
            "WARNING:matplotlib.font_manager:findfont: Font family 'Noto Sans Devanagari' not found.\n",
            "WARNING:matplotlib.font_manager:findfont: Font family 'Noto Sans Devanagari' not found.\n",
            "WARNING:matplotlib.font_manager:findfont: Font family 'Noto Sans Devanagari' not found.\n",
            "WARNING:matplotlib.font_manager:findfont: Font family 'Noto Sans Devanagari' not found.\n",
            "WARNING:matplotlib.font_manager:findfont: Font family 'Noto Sans Devanagari' not found.\n",
            "WARNING:matplotlib.font_manager:findfont: Font family 'Noto Sans Devanagari' not found.\n",
            "WARNING:matplotlib.font_manager:findfont: Font family 'Noto Sans Devanagari' not found.\n",
            "WARNING:matplotlib.font_manager:findfont: Font family 'Noto Sans Devanagari' not found.\n",
            "WARNING:matplotlib.font_manager:findfont: Font family 'Noto Sans Devanagari' not found.\n",
            "WARNING:matplotlib.font_manager:findfont: Font family 'Noto Sans Devanagari' not found.\n",
            "WARNING:matplotlib.font_manager:findfont: Font family 'Noto Sans Devanagari' not found.\n",
            "WARNING:matplotlib.font_manager:findfont: Font family 'Noto Sans Devanagari' not found.\n",
            "WARNING:matplotlib.font_manager:findfont: Font family 'Noto Sans Devanagari' not found.\n",
            "WARNING:matplotlib.font_manager:findfont: Font family 'Noto Sans Devanagari' not found.\n",
            "WARNING:matplotlib.font_manager:findfont: Font family 'Noto Sans Devanagari' not found.\n",
            "WARNING:matplotlib.font_manager:findfont: Font family 'Noto Sans Devanagari' not found.\n",
            "WARNING:matplotlib.font_manager:findfont: Font family 'Noto Sans Devanagari' not found.\n",
            "WARNING:matplotlib.font_manager:findfont: Font family 'Noto Sans Devanagari' not found.\n",
            "WARNING:matplotlib.font_manager:findfont: Font family 'Noto Sans Devanagari' not found.\n",
            "WARNING:matplotlib.font_manager:findfont: Font family 'Noto Sans Devanagari' not found.\n",
            "WARNING:matplotlib.font_manager:findfont: Font family 'Noto Sans Devanagari' not found.\n",
            "WARNING:matplotlib.font_manager:findfont: Font family 'Noto Sans Devanagari' not found.\n",
            "WARNING:matplotlib.font_manager:findfont: Font family 'Noto Sans Devanagari' not found.\n",
            "WARNING:matplotlib.font_manager:findfont: Font family 'Noto Sans Devanagari' not found.\n",
            "WARNING:matplotlib.font_manager:findfont: Font family 'Noto Sans Devanagari' not found.\n",
            "WARNING:matplotlib.font_manager:findfont: Font family 'Noto Sans Devanagari' not found.\n",
            "WARNING:matplotlib.font_manager:findfont: Font family 'Noto Sans Devanagari' not found.\n",
            "WARNING:matplotlib.font_manager:findfont: Font family 'Noto Sans Devanagari' not found.\n",
            "WARNING:matplotlib.font_manager:findfont: Font family 'Noto Sans Devanagari' not found.\n",
            "WARNING:matplotlib.font_manager:findfont: Font family 'Noto Sans Devanagari' not found.\n",
            "WARNING:matplotlib.font_manager:findfont: Font family 'Noto Sans Devanagari' not found.\n",
            "WARNING:matplotlib.font_manager:findfont: Font family 'Noto Sans Devanagari' not found.\n",
            "WARNING:matplotlib.font_manager:findfont: Font family 'Noto Sans Devanagari' not found.\n",
            "WARNING:matplotlib.font_manager:findfont: Font family 'Noto Sans Devanagari' not found.\n",
            "WARNING:matplotlib.font_manager:findfont: Font family 'Noto Sans Devanagari' not found.\n",
            "WARNING:matplotlib.font_manager:findfont: Font family 'Noto Sans Devanagari' not found.\n",
            "WARNING:matplotlib.font_manager:findfont: Font family 'Noto Sans Devanagari' not found.\n",
            "WARNING:matplotlib.font_manager:findfont: Font family 'Noto Sans Devanagari' not found.\n",
            "WARNING:matplotlib.font_manager:findfont: Font family 'Noto Sans Devanagari' not found.\n",
            "WARNING:matplotlib.font_manager:findfont: Font family 'Noto Sans Devanagari' not found.\n",
            "WARNING:matplotlib.font_manager:findfont: Font family 'Noto Sans Devanagari' not found.\n",
            "WARNING:matplotlib.font_manager:findfont: Font family 'Noto Sans Devanagari' not found.\n",
            "WARNING:matplotlib.font_manager:findfont: Font family 'Noto Sans Devanagari' not found.\n",
            "WARNING:matplotlib.font_manager:findfont: Font family 'Noto Sans Devanagari' not found.\n",
            "WARNING:matplotlib.font_manager:findfont: Font family 'Noto Sans Devanagari' not found.\n",
            "WARNING:matplotlib.font_manager:findfont: Font family 'Noto Sans Devanagari' not found.\n",
            "WARNING:matplotlib.font_manager:findfont: Font family 'Noto Sans Devanagari' not found.\n",
            "WARNING:matplotlib.font_manager:findfont: Font family 'Noto Sans Devanagari' not found.\n",
            "WARNING:matplotlib.font_manager:findfont: Font family 'Noto Sans Devanagari' not found.\n",
            "WARNING:matplotlib.font_manager:findfont: Font family 'Noto Sans Devanagari' not found.\n",
            "WARNING:matplotlib.font_manager:findfont: Font family 'Noto Sans Devanagari' not found.\n",
            "WARNING:matplotlib.font_manager:findfont: Font family 'Noto Sans Devanagari' not found.\n",
            "WARNING:matplotlib.font_manager:findfont: Font family 'Noto Sans Devanagari' not found.\n",
            "WARNING:matplotlib.font_manager:findfont: Font family 'Noto Sans Devanagari' not found.\n",
            "WARNING:matplotlib.font_manager:findfont: Font family 'Noto Sans Devanagari' not found.\n",
            "WARNING:matplotlib.font_manager:findfont: Font family 'Noto Sans Devanagari' not found.\n",
            "WARNING:matplotlib.font_manager:findfont: Font family 'Noto Sans Devanagari' not found.\n",
            "WARNING:matplotlib.font_manager:findfont: Font family 'Noto Sans Devanagari' not found.\n",
            "WARNING:matplotlib.font_manager:findfont: Font family 'Noto Sans Devanagari' not found.\n",
            "WARNING:matplotlib.font_manager:findfont: Font family 'Noto Sans Devanagari' not found.\n",
            "WARNING:matplotlib.font_manager:findfont: Font family 'Noto Sans Devanagari' not found.\n",
            "WARNING:matplotlib.font_manager:findfont: Font family 'Noto Sans Devanagari' not found.\n",
            "WARNING:matplotlib.font_manager:findfont: Font family 'Noto Sans Devanagari' not found.\n",
            "WARNING:matplotlib.font_manager:findfont: Font family 'Noto Sans Devanagari' not found.\n",
            "WARNING:matplotlib.font_manager:findfont: Font family 'Noto Sans Devanagari' not found.\n",
            "WARNING:matplotlib.font_manager:findfont: Font family 'Noto Sans Devanagari' not found.\n",
            "WARNING:matplotlib.font_manager:findfont: Font family 'Noto Sans Devanagari' not found.\n",
            "WARNING:matplotlib.font_manager:findfont: Font family 'Noto Sans Devanagari' not found.\n",
            "WARNING:matplotlib.font_manager:findfont: Font family 'Noto Sans Devanagari' not found.\n",
            "WARNING:matplotlib.font_manager:findfont: Font family 'Noto Sans Devanagari' not found.\n",
            "WARNING:matplotlib.font_manager:findfont: Font family 'Noto Sans Devanagari' not found.\n",
            "WARNING:matplotlib.font_manager:findfont: Font family 'Noto Sans Devanagari' not found.\n",
            "WARNING:matplotlib.font_manager:findfont: Font family 'Noto Sans Devanagari' not found.\n",
            "WARNING:matplotlib.font_manager:findfont: Font family 'Noto Sans Devanagari' not found.\n",
            "WARNING:matplotlib.font_manager:findfont: Font family 'Noto Sans Devanagari' not found.\n",
            "WARNING:matplotlib.font_manager:findfont: Font family 'Noto Sans Devanagari' not found.\n",
            "WARNING:matplotlib.font_manager:findfont: Font family 'Noto Sans Devanagari' not found.\n",
            "WARNING:matplotlib.font_manager:findfont: Font family 'Noto Sans Devanagari' not found.\n",
            "WARNING:matplotlib.font_manager:findfont: Font family 'Noto Sans Devanagari' not found.\n",
            "WARNING:matplotlib.font_manager:findfont: Font family 'Noto Sans Devanagari' not found.\n",
            "WARNING:matplotlib.font_manager:findfont: Font family 'Noto Sans Devanagari' not found.\n",
            "WARNING:matplotlib.font_manager:findfont: Font family 'Noto Sans Devanagari' not found.\n",
            "WARNING:matplotlib.font_manager:findfont: Font family 'Noto Sans Devanagari' not found.\n",
            "/usr/local/lib/python3.11/dist-packages/seaborn/utils.py:61: UserWarning: Glyph 2379 (\\N{DEVANAGARI VOWEL SIGN O}) missing from font(s) DejaVu Sans.\n",
            "  fig.canvas.draw()\n",
            "/usr/local/lib/python3.11/dist-packages/seaborn/utils.py:61: UserWarning: Matplotlib currently does not support Devanagari natively.\n",
            "  fig.canvas.draw()\n",
            "WARNING:matplotlib.font_manager:findfont: Font family 'Noto Sans Devanagari' not found.\n",
            "/usr/local/lib/python3.11/dist-packages/seaborn/utils.py:61: UserWarning: Glyph 2309 (\\N{DEVANAGARI LETTER A}) missing from font(s) DejaVu Sans.\n",
            "  fig.canvas.draw()\n",
            "WARNING:matplotlib.font_manager:findfont: Font family 'Noto Sans Devanagari' not found.\n",
            "/usr/local/lib/python3.11/dist-packages/seaborn/utils.py:61: UserWarning: Glyph 2306 (\\N{DEVANAGARI SIGN ANUSVARA}) missing from font(s) DejaVu Sans.\n",
            "  fig.canvas.draw()\n",
            "WARNING:matplotlib.font_manager:findfont: Font family 'Noto Sans Devanagari' not found.\n",
            "/usr/local/lib/python3.11/dist-packages/seaborn/utils.py:61: UserWarning: Glyph 2327 (\\N{DEVANAGARI LETTER GA}) missing from font(s) DejaVu Sans.\n",
            "  fig.canvas.draw()\n",
            "WARNING:matplotlib.font_manager:findfont: Font family 'Noto Sans Devanagari' not found.\n",
            "/usr/local/lib/python3.11/dist-packages/seaborn/utils.py:61: UserWarning: Glyph 2381 (\\N{DEVANAGARI SIGN VIRAMA}) missing from font(s) DejaVu Sans.\n",
            "  fig.canvas.draw()\n",
            "WARNING:matplotlib.font_manager:findfont: Font family 'Noto Sans Devanagari' not found.\n",
            "/usr/local/lib/python3.11/dist-packages/seaborn/utils.py:61: UserWarning: Glyph 2352 (\\N{DEVANAGARI LETTER RA}) missing from font(s) DejaVu Sans.\n",
            "  fig.canvas.draw()\n",
            "WARNING:matplotlib.font_manager:findfont: Font family 'Noto Sans Devanagari' not found.\n",
            "/usr/local/lib/python3.11/dist-packages/seaborn/utils.py:61: UserWarning: Glyph 2332 (\\N{DEVANAGARI LETTER JA}) missing from font(s) DejaVu Sans.\n",
            "  fig.canvas.draw()\n",
            "WARNING:matplotlib.font_manager:findfont: Font family 'Noto Sans Devanagari' not found.\n",
            "WARNING:matplotlib.font_manager:findfont: Font family 'Noto Sans Devanagari' not found.\n",
            "WARNING:matplotlib.font_manager:findfont: Font family 'Noto Sans Devanagari' not found.\n",
            "WARNING:matplotlib.font_manager:findfont: Font family 'Noto Sans Devanagari' not found.\n",
            "WARNING:matplotlib.font_manager:findfont: Font family 'Noto Sans Devanagari' not found.\n",
            "WARNING:matplotlib.font_manager:findfont: Font family 'Noto Sans Devanagari' not found.\n",
            "WARNING:matplotlib.font_manager:findfont: Font family 'Noto Sans Devanagari' not found.\n",
            "WARNING:matplotlib.font_manager:findfont: Font family 'Noto Sans Devanagari' not found.\n",
            "WARNING:matplotlib.font_manager:findfont: Font family 'Noto Sans Devanagari' not found.\n",
            "WARNING:matplotlib.font_manager:findfont: Font family 'Noto Sans Devanagari' not found.\n",
            "WARNING:matplotlib.font_manager:findfont: Font family 'Noto Sans Devanagari' not found.\n",
            "WARNING:matplotlib.font_manager:findfont: Font family 'Noto Sans Devanagari' not found.\n",
            "WARNING:matplotlib.font_manager:findfont: Font family 'Noto Sans Devanagari' not found.\n",
            "WARNING:matplotlib.font_manager:findfont: Font family 'Noto Sans Devanagari' not found.\n",
            "WARNING:matplotlib.font_manager:findfont: Font family 'Noto Sans Devanagari' not found.\n",
            "WARNING:matplotlib.font_manager:findfont: Font family 'Noto Sans Devanagari' not found.\n",
            "WARNING:matplotlib.font_manager:findfont: Font family 'Noto Sans Devanagari' not found.\n",
            "WARNING:matplotlib.font_manager:findfont: Font family 'Noto Sans Devanagari' not found.\n",
            "WARNING:matplotlib.font_manager:findfont: Font family 'Noto Sans Devanagari' not found.\n",
            "WARNING:matplotlib.font_manager:findfont: Font family 'Noto Sans Devanagari' not found.\n",
            "WARNING:matplotlib.font_manager:findfont: Font family 'Noto Sans Devanagari' not found.\n",
            "WARNING:matplotlib.font_manager:findfont: Font family 'Noto Sans Devanagari' not found.\n",
            "WARNING:matplotlib.font_manager:findfont: Font family 'Noto Sans Devanagari' not found.\n",
            "WARNING:matplotlib.font_manager:findfont: Font family 'Noto Sans Devanagari' not found.\n",
            "WARNING:matplotlib.font_manager:findfont: Font family 'Noto Sans Devanagari' not found.\n",
            "WARNING:matplotlib.font_manager:findfont: Font family 'Noto Sans Devanagari' not found.\n",
            "WARNING:matplotlib.font_manager:findfont: Font family 'Noto Sans Devanagari' not found.\n",
            "WARNING:matplotlib.font_manager:findfont: Font family 'Noto Sans Devanagari' not found.\n",
            "WARNING:matplotlib.font_manager:findfont: Font family 'Noto Sans Devanagari' not found.\n",
            "WARNING:matplotlib.font_manager:findfont: Font family 'Noto Sans Devanagari' not found.\n",
            "WARNING:matplotlib.font_manager:findfont: Font family 'Noto Sans Devanagari' not found.\n",
            "WARNING:matplotlib.font_manager:findfont: Font family 'Noto Sans Devanagari' not found.\n",
            "WARNING:matplotlib.font_manager:findfont: Font family 'Noto Sans Devanagari' not found.\n",
            "WARNING:matplotlib.font_manager:findfont: Font family 'Noto Sans Devanagari' not found.\n",
            "WARNING:matplotlib.font_manager:findfont: Font family 'Noto Sans Devanagari' not found.\n",
            "WARNING:matplotlib.font_manager:findfont: Font family 'Noto Sans Devanagari' not found.\n",
            "WARNING:matplotlib.font_manager:findfont: Font family 'Noto Sans Devanagari' not found.\n",
            "WARNING:matplotlib.font_manager:findfont: Font family 'Noto Sans Devanagari' not found.\n",
            "WARNING:matplotlib.font_manager:findfont: Font family 'Noto Sans Devanagari' not found.\n",
            "WARNING:matplotlib.font_manager:findfont: Font family 'Noto Sans Devanagari' not found.\n",
            "WARNING:matplotlib.font_manager:findfont: Font family 'Noto Sans Devanagari' not found.\n",
            "WARNING:matplotlib.font_manager:findfont: Font family 'Noto Sans Devanagari' not found.\n",
            "WARNING:matplotlib.font_manager:findfont: Font family 'Noto Sans Devanagari' not found.\n",
            "WARNING:matplotlib.font_manager:findfont: Font family 'Noto Sans Devanagari' not found.\n",
            "WARNING:matplotlib.font_manager:findfont: Font family 'Noto Sans Devanagari' not found.\n",
            "WARNING:matplotlib.font_manager:findfont: Font family 'Noto Sans Devanagari' not found.\n",
            "WARNING:matplotlib.font_manager:findfont: Font family 'Noto Sans Devanagari' not found.\n",
            "WARNING:matplotlib.font_manager:findfont: Font family 'Noto Sans Devanagari' not found.\n",
            "WARNING:matplotlib.font_manager:findfont: Font family 'Noto Sans Devanagari' not found.\n",
            "WARNING:matplotlib.font_manager:findfont: Font family 'Noto Sans Devanagari' not found.\n",
            "WARNING:matplotlib.font_manager:findfont: Font family 'Noto Sans Devanagari' not found.\n",
            "WARNING:matplotlib.font_manager:findfont: Font family 'Noto Sans Devanagari' not found.\n",
            "WARNING:matplotlib.font_manager:findfont: Font family 'Noto Sans Devanagari' not found.\n",
            "WARNING:matplotlib.font_manager:findfont: Font family 'Noto Sans Devanagari' not found.\n",
            "WARNING:matplotlib.font_manager:findfont: Font family 'Noto Sans Devanagari' not found.\n",
            "WARNING:matplotlib.font_manager:findfont: Font family 'Noto Sans Devanagari' not found.\n",
            "WARNING:matplotlib.font_manager:findfont: Font family 'Noto Sans Devanagari' not found.\n",
            "WARNING:matplotlib.font_manager:findfont: Font family 'Noto Sans Devanagari' not found.\n",
            "WARNING:matplotlib.font_manager:findfont: Font family 'Noto Sans Devanagari' not found.\n",
            "WARNING:matplotlib.font_manager:findfont: Font family 'Noto Sans Devanagari' not found.\n",
            "WARNING:matplotlib.font_manager:findfont: Font family 'Noto Sans Devanagari' not found.\n",
            "WARNING:matplotlib.font_manager:findfont: Font family 'Noto Sans Devanagari' not found.\n",
            "WARNING:matplotlib.font_manager:findfont: Font family 'Noto Sans Devanagari' not found.\n",
            "WARNING:matplotlib.font_manager:findfont: Font family 'Noto Sans Devanagari' not found.\n",
            "WARNING:matplotlib.font_manager:findfont: Font family 'Noto Sans Devanagari' not found.\n",
            "WARNING:matplotlib.font_manager:findfont: Font family 'Noto Sans Devanagari' not found.\n",
            "WARNING:matplotlib.font_manager:findfont: Font family 'Noto Sans Devanagari' not found.\n",
            "WARNING:matplotlib.font_manager:findfont: Font family 'Noto Sans Devanagari' not found.\n",
            "WARNING:matplotlib.font_manager:findfont: Font family 'Noto Sans Devanagari' not found.\n",
            "WARNING:matplotlib.font_manager:findfont: Font family 'Noto Sans Devanagari' not found.\n",
            "WARNING:matplotlib.font_manager:findfont: Font family 'Noto Sans Devanagari' not found.\n",
            "WARNING:matplotlib.font_manager:findfont: Font family 'Noto Sans Devanagari' not found.\n",
            "WARNING:matplotlib.font_manager:findfont: Font family 'Noto Sans Devanagari' not found.\n",
            "WARNING:matplotlib.font_manager:findfont: Font family 'Noto Sans Devanagari' not found.\n",
            "WARNING:matplotlib.font_manager:findfont: Font family 'Noto Sans Devanagari' not found.\n",
            "WARNING:matplotlib.font_manager:findfont: Font family 'Noto Sans Devanagari' not found.\n",
            "WARNING:matplotlib.font_manager:findfont: Font family 'Noto Sans Devanagari' not found.\n",
            "WARNING:matplotlib.font_manager:findfont: Font family 'Noto Sans Devanagari' not found.\n",
            "WARNING:matplotlib.font_manager:findfont: Font family 'Noto Sans Devanagari' not found.\n",
            "WARNING:matplotlib.font_manager:findfont: Font family 'Noto Sans Devanagari' not found.\n",
            "WARNING:matplotlib.font_manager:findfont: Font family 'Noto Sans Devanagari' not found.\n",
            "WARNING:matplotlib.font_manager:findfont: Font family 'Noto Sans Devanagari' not found.\n",
            "WARNING:matplotlib.font_manager:findfont: Font family 'Noto Sans Devanagari' not found.\n",
            "WARNING:matplotlib.font_manager:findfont: Font family 'Noto Sans Devanagari' not found.\n",
            "WARNING:matplotlib.font_manager:findfont: Font family 'Noto Sans Devanagari' not found.\n",
            "WARNING:matplotlib.font_manager:findfont: Font family 'Noto Sans Devanagari' not found.\n",
            "WARNING:matplotlib.font_manager:findfont: Font family 'Noto Sans Devanagari' not found.\n",
            "WARNING:matplotlib.font_manager:findfont: Font family 'Noto Sans Devanagari' not found.\n",
            "WARNING:matplotlib.font_manager:findfont: Font family 'Noto Sans Devanagari' not found.\n",
            "WARNING:matplotlib.font_manager:findfont: Font family 'Noto Sans Devanagari' not found.\n",
            "WARNING:matplotlib.font_manager:findfont: Font family 'Noto Sans Devanagari' not found.\n",
            "WARNING:matplotlib.font_manager:findfont: Font family 'Noto Sans Devanagari' not found.\n",
            "WARNING:matplotlib.font_manager:findfont: Font family 'Noto Sans Devanagari' not found.\n",
            "WARNING:matplotlib.font_manager:findfont: Font family 'Noto Sans Devanagari' not found.\n",
            "WARNING:matplotlib.font_manager:findfont: Font family 'Noto Sans Devanagari' not found.\n",
            "WARNING:matplotlib.font_manager:findfont: Font family 'Noto Sans Devanagari' not found.\n",
            "WARNING:matplotlib.font_manager:findfont: Font family 'Noto Sans Devanagari' not found.\n",
            "WARNING:matplotlib.font_manager:findfont: Font family 'Noto Sans Devanagari' not found.\n",
            "WARNING:matplotlib.font_manager:findfont: Font family 'Noto Sans Devanagari' not found.\n",
            "WARNING:matplotlib.font_manager:findfont: Font family 'Noto Sans Devanagari' not found.\n",
            "WARNING:matplotlib.font_manager:findfont: Font family 'Noto Sans Devanagari' not found.\n",
            "WARNING:matplotlib.font_manager:findfont: Font family 'Noto Sans Devanagari' not found.\n",
            "WARNING:matplotlib.font_manager:findfont: Font family 'Noto Sans Devanagari' not found.\n",
            "WARNING:matplotlib.font_manager:findfont: Font family 'Noto Sans Devanagari' not found.\n",
            "WARNING:matplotlib.font_manager:findfont: Font family 'Noto Sans Devanagari' not found.\n",
            "WARNING:matplotlib.font_manager:findfont: Font family 'Noto Sans Devanagari' not found.\n",
            "WARNING:matplotlib.font_manager:findfont: Font family 'Noto Sans Devanagari' not found.\n",
            "WARNING:matplotlib.font_manager:findfont: Font family 'Noto Sans Devanagari' not found.\n",
            "WARNING:matplotlib.font_manager:findfont: Font family 'Noto Sans Devanagari' not found.\n",
            "WARNING:matplotlib.font_manager:findfont: Font family 'Noto Sans Devanagari' not found.\n",
            "WARNING:matplotlib.font_manager:findfont: Font family 'Noto Sans Devanagari' not found.\n",
            "WARNING:matplotlib.font_manager:findfont: Font family 'Noto Sans Devanagari' not found.\n",
            "WARNING:matplotlib.font_manager:findfont: Font family 'Noto Sans Devanagari' not found.\n",
            "WARNING:matplotlib.font_manager:findfont: Font family 'Noto Sans Devanagari' not found.\n",
            "WARNING:matplotlib.font_manager:findfont: Font family 'Noto Sans Devanagari' not found.\n",
            "WARNING:matplotlib.font_manager:findfont: Font family 'Noto Sans Devanagari' not found.\n",
            "WARNING:matplotlib.font_manager:findfont: Font family 'Noto Sans Devanagari' not found.\n",
            "WARNING:matplotlib.font_manager:findfont: Font family 'Noto Sans Devanagari' not found.\n",
            "WARNING:matplotlib.font_manager:findfont: Font family 'Noto Sans Devanagari' not found.\n",
            "WARNING:matplotlib.font_manager:findfont: Font family 'Noto Sans Devanagari' not found.\n",
            "WARNING:matplotlib.font_manager:findfont: Font family 'Noto Sans Devanagari' not found.\n",
            "WARNING:matplotlib.font_manager:findfont: Font family 'Noto Sans Devanagari' not found.\n",
            "WARNING:matplotlib.font_manager:findfont: Font family 'Noto Sans Devanagari' not found.\n",
            "WARNING:matplotlib.font_manager:findfont: Font family 'Noto Sans Devanagari' not found.\n",
            "WARNING:matplotlib.font_manager:findfont: Font family 'Noto Sans Devanagari' not found.\n",
            "WARNING:matplotlib.font_manager:findfont: Font family 'Noto Sans Devanagari' not found.\n",
            "WARNING:matplotlib.font_manager:findfont: Font family 'Noto Sans Devanagari' not found.\n",
            "WARNING:matplotlib.font_manager:findfont: Font family 'Noto Sans Devanagari' not found.\n",
            "WARNING:matplotlib.font_manager:findfont: Font family 'Noto Sans Devanagari' not found.\n",
            "WARNING:matplotlib.font_manager:findfont: Font family 'Noto Sans Devanagari' not found.\n",
            "WARNING:matplotlib.font_manager:findfont: Font family 'Noto Sans Devanagari' not found.\n",
            "WARNING:matplotlib.font_manager:findfont: Font family 'Noto Sans Devanagari' not found.\n",
            "WARNING:matplotlib.font_manager:findfont: Font family 'Noto Sans Devanagari' not found.\n",
            "WARNING:matplotlib.font_manager:findfont: Font family 'Noto Sans Devanagari' not found.\n",
            "WARNING:matplotlib.font_manager:findfont: Font family 'Noto Sans Devanagari' not found.\n",
            "WARNING:matplotlib.font_manager:findfont: Font family 'Noto Sans Devanagari' not found.\n",
            "WARNING:matplotlib.font_manager:findfont: Font family 'Noto Sans Devanagari' not found.\n",
            "WARNING:matplotlib.font_manager:findfont: Font family 'Noto Sans Devanagari' not found.\n",
            "WARNING:matplotlib.font_manager:findfont: Font family 'Noto Sans Devanagari' not found.\n",
            "WARNING:matplotlib.font_manager:findfont: Font family 'Noto Sans Devanagari' not found.\n",
            "WARNING:matplotlib.font_manager:findfont: Font family 'Noto Sans Devanagari' not found.\n",
            "WARNING:matplotlib.font_manager:findfont: Font family 'Noto Sans Devanagari' not found.\n",
            "WARNING:matplotlib.font_manager:findfont: Font family 'Noto Sans Devanagari' not found.\n",
            "WARNING:matplotlib.font_manager:findfont: Font family 'Noto Sans Devanagari' not found.\n",
            "WARNING:matplotlib.font_manager:findfont: Font family 'Noto Sans Devanagari' not found.\n",
            "WARNING:matplotlib.font_manager:findfont: Font family 'Noto Sans Devanagari' not found.\n",
            "WARNING:matplotlib.font_manager:findfont: Font family 'Noto Sans Devanagari' not found.\n",
            "WARNING:matplotlib.font_manager:findfont: Font family 'Noto Sans Devanagari' not found.\n",
            "WARNING:matplotlib.font_manager:findfont: Font family 'Noto Sans Devanagari' not found.\n",
            "WARNING:matplotlib.font_manager:findfont: Font family 'Noto Sans Devanagari' not found.\n",
            "WARNING:matplotlib.font_manager:findfont: Font family 'Noto Sans Devanagari' not found.\n",
            "WARNING:matplotlib.font_manager:findfont: Font family 'Noto Sans Devanagari' not found.\n",
            "WARNING:matplotlib.font_manager:findfont: Font family 'Noto Sans Devanagari' not found.\n",
            "WARNING:matplotlib.font_manager:findfont: Font family 'Noto Sans Devanagari' not found.\n",
            "WARNING:matplotlib.font_manager:findfont: Font family 'Noto Sans Devanagari' not found.\n",
            "WARNING:matplotlib.font_manager:findfont: Font family 'Noto Sans Devanagari' not found.\n",
            "WARNING:matplotlib.font_manager:findfont: Font family 'Noto Sans Devanagari' not found.\n",
            "WARNING:matplotlib.font_manager:findfont: Font family 'Noto Sans Devanagari' not found.\n",
            "WARNING:matplotlib.font_manager:findfont: Font family 'Noto Sans Devanagari' not found.\n",
            "WARNING:matplotlib.font_manager:findfont: Font family 'Noto Sans Devanagari' not found.\n",
            "WARNING:matplotlib.font_manager:findfont: Font family 'Noto Sans Devanagari' not found.\n",
            "WARNING:matplotlib.font_manager:findfont: Font family 'Noto Sans Devanagari' not found.\n",
            "/usr/local/lib/python3.11/dist-packages/seaborn/utils.py:61: UserWarning: Glyph 2350 (\\N{DEVANAGARI LETTER MA}) missing from font(s) DejaVu Sans.\n",
            "  fig.canvas.draw()\n",
            "/usr/local/lib/python3.11/dist-packages/seaborn/utils.py:61: UserWarning: Matplotlib currently does not support Devanagari natively.\n",
            "  fig.canvas.draw()\n",
            "WARNING:matplotlib.font_manager:findfont: Font family 'Noto Sans Devanagari' not found.\n",
            "/usr/local/lib/python3.11/dist-packages/seaborn/utils.py:61: UserWarning: Glyph 2309 (\\N{DEVANAGARI LETTER A}) missing from font(s) DejaVu Sans.\n",
            "  fig.canvas.draw()\n",
            "WARNING:matplotlib.font_manager:findfont: Font family 'Noto Sans Devanagari' not found.\n",
            "/usr/local/lib/python3.11/dist-packages/seaborn/utils.py:61: UserWarning: Glyph 2306 (\\N{DEVANAGARI SIGN ANUSVARA}) missing from font(s) DejaVu Sans.\n",
            "  fig.canvas.draw()\n",
            "WARNING:matplotlib.font_manager:findfont: Font family 'Noto Sans Devanagari' not found.\n",
            "/usr/local/lib/python3.11/dist-packages/seaborn/utils.py:61: UserWarning: Glyph 2332 (\\N{DEVANAGARI LETTER JA}) missing from font(s) DejaVu Sans.\n",
            "  fig.canvas.draw()\n",
            "WARNING:matplotlib.font_manager:findfont: Font family 'Noto Sans Devanagari' not found.\n",
            "/usr/local/lib/python3.11/dist-packages/seaborn/utils.py:61: UserWarning: Glyph 2366 (\\N{DEVANAGARI VOWEL SIGN AA}) missing from font(s) DejaVu Sans.\n",
            "  fig.canvas.draw()\n",
            "WARNING:matplotlib.font_manager:findfont: Font family 'Noto Sans Devanagari' not found.\n",
            "WARNING:matplotlib.font_manager:findfont: Font family 'Noto Sans Devanagari' not found.\n",
            "WARNING:matplotlib.font_manager:findfont: Font family 'Noto Sans Devanagari' not found.\n",
            "WARNING:matplotlib.font_manager:findfont: Font family 'Noto Sans Devanagari' not found.\n",
            "WARNING:matplotlib.font_manager:findfont: Font family 'Noto Sans Devanagari' not found.\n",
            "WARNING:matplotlib.font_manager:findfont: Font family 'Noto Sans Devanagari' not found.\n",
            "WARNING:matplotlib.font_manager:findfont: Font family 'Noto Sans Devanagari' not found.\n",
            "WARNING:matplotlib.font_manager:findfont: Font family 'Noto Sans Devanagari' not found.\n",
            "WARNING:matplotlib.font_manager:findfont: Font family 'Noto Sans Devanagari' not found.\n",
            "WARNING:matplotlib.font_manager:findfont: Font family 'Noto Sans Devanagari' not found.\n",
            "WARNING:matplotlib.font_manager:findfont: Font family 'Noto Sans Devanagari' not found.\n",
            "WARNING:matplotlib.font_manager:findfont: Font family 'Noto Sans Devanagari' not found.\n",
            "WARNING:matplotlib.font_manager:findfont: Font family 'Noto Sans Devanagari' not found.\n",
            "WARNING:matplotlib.font_manager:findfont: Font family 'Noto Sans Devanagari' not found.\n",
            "WARNING:matplotlib.font_manager:findfont: Font family 'Noto Sans Devanagari' not found.\n",
            "WARNING:matplotlib.font_manager:findfont: Font family 'Noto Sans Devanagari' not found.\n",
            "WARNING:matplotlib.font_manager:findfont: Font family 'Noto Sans Devanagari' not found.\n",
            "WARNING:matplotlib.font_manager:findfont: Font family 'Noto Sans Devanagari' not found.\n",
            "WARNING:matplotlib.font_manager:findfont: Font family 'Noto Sans Devanagari' not found.\n",
            "WARNING:matplotlib.font_manager:findfont: Font family 'Noto Sans Devanagari' not found.\n",
            "WARNING:matplotlib.font_manager:findfont: Font family 'Noto Sans Devanagari' not found.\n",
            "WARNING:matplotlib.font_manager:findfont: Font family 'Noto Sans Devanagari' not found.\n",
            "WARNING:matplotlib.font_manager:findfont: Font family 'Noto Sans Devanagari' not found.\n",
            "WARNING:matplotlib.font_manager:findfont: Font family 'Noto Sans Devanagari' not found.\n",
            "WARNING:matplotlib.font_manager:findfont: Font family 'Noto Sans Devanagari' not found.\n",
            "WARNING:matplotlib.font_manager:findfont: Font family 'Noto Sans Devanagari' not found.\n",
            "WARNING:matplotlib.font_manager:findfont: Font family 'Noto Sans Devanagari' not found.\n",
            "WARNING:matplotlib.font_manager:findfont: Font family 'Noto Sans Devanagari' not found.\n",
            "WARNING:matplotlib.font_manager:findfont: Font family 'Noto Sans Devanagari' not found.\n",
            "WARNING:matplotlib.font_manager:findfont: Font family 'Noto Sans Devanagari' not found.\n",
            "WARNING:matplotlib.font_manager:findfont: Font family 'Noto Sans Devanagari' not found.\n",
            "WARNING:matplotlib.font_manager:findfont: Font family 'Noto Sans Devanagari' not found.\n",
            "WARNING:matplotlib.font_manager:findfont: Font family 'Noto Sans Devanagari' not found.\n",
            "WARNING:matplotlib.font_manager:findfont: Font family 'Noto Sans Devanagari' not found.\n",
            "WARNING:matplotlib.font_manager:findfont: Font family 'Noto Sans Devanagari' not found.\n",
            "WARNING:matplotlib.font_manager:findfont: Font family 'Noto Sans Devanagari' not found.\n",
            "WARNING:matplotlib.font_manager:findfont: Font family 'Noto Sans Devanagari' not found.\n",
            "WARNING:matplotlib.font_manager:findfont: Font family 'Noto Sans Devanagari' not found.\n",
            "WARNING:matplotlib.font_manager:findfont: Font family 'Noto Sans Devanagari' not found.\n",
            "WARNING:matplotlib.font_manager:findfont: Font family 'Noto Sans Devanagari' not found.\n",
            "WARNING:matplotlib.font_manager:findfont: Font family 'Noto Sans Devanagari' not found.\n",
            "WARNING:matplotlib.font_manager:findfont: Font family 'Noto Sans Devanagari' not found.\n",
            "WARNING:matplotlib.font_manager:findfont: Font family 'Noto Sans Devanagari' not found.\n",
            "WARNING:matplotlib.font_manager:findfont: Font family 'Noto Sans Devanagari' not found.\n",
            "WARNING:matplotlib.font_manager:findfont: Font family 'Noto Sans Devanagari' not found.\n",
            "WARNING:matplotlib.font_manager:findfont: Font family 'Noto Sans Devanagari' not found.\n",
            "WARNING:matplotlib.font_manager:findfont: Font family 'Noto Sans Devanagari' not found.\n",
            "WARNING:matplotlib.font_manager:findfont: Font family 'Noto Sans Devanagari' not found.\n",
            "WARNING:matplotlib.font_manager:findfont: Font family 'Noto Sans Devanagari' not found.\n",
            "WARNING:matplotlib.font_manager:findfont: Font family 'Noto Sans Devanagari' not found.\n",
            "WARNING:matplotlib.font_manager:findfont: Font family 'Noto Sans Devanagari' not found.\n",
            "WARNING:matplotlib.font_manager:findfont: Font family 'Noto Sans Devanagari' not found.\n",
            "WARNING:matplotlib.font_manager:findfont: Font family 'Noto Sans Devanagari' not found.\n",
            "WARNING:matplotlib.font_manager:findfont: Font family 'Noto Sans Devanagari' not found.\n",
            "WARNING:matplotlib.font_manager:findfont: Font family 'Noto Sans Devanagari' not found.\n",
            "WARNING:matplotlib.font_manager:findfont: Font family 'Noto Sans Devanagari' not found.\n",
            "WARNING:matplotlib.font_manager:findfont: Font family 'Noto Sans Devanagari' not found.\n",
            "WARNING:matplotlib.font_manager:findfont: Font family 'Noto Sans Devanagari' not found.\n",
            "WARNING:matplotlib.font_manager:findfont: Font family 'Noto Sans Devanagari' not found.\n",
            "WARNING:matplotlib.font_manager:findfont: Font family 'Noto Sans Devanagari' not found.\n",
            "WARNING:matplotlib.font_manager:findfont: Font family 'Noto Sans Devanagari' not found.\n",
            "WARNING:matplotlib.font_manager:findfont: Font family 'Noto Sans Devanagari' not found.\n",
            "WARNING:matplotlib.font_manager:findfont: Font family 'Noto Sans Devanagari' not found.\n",
            "WARNING:matplotlib.font_manager:findfont: Font family 'Noto Sans Devanagari' not found.\n",
            "WARNING:matplotlib.font_manager:findfont: Font family 'Noto Sans Devanagari' not found.\n",
            "WARNING:matplotlib.font_manager:findfont: Font family 'Noto Sans Devanagari' not found.\n",
            "WARNING:matplotlib.font_manager:findfont: Font family 'Noto Sans Devanagari' not found.\n",
            "WARNING:matplotlib.font_manager:findfont: Font family 'Noto Sans Devanagari' not found.\n",
            "WARNING:matplotlib.font_manager:findfont: Font family 'Noto Sans Devanagari' not found.\n",
            "WARNING:matplotlib.font_manager:findfont: Font family 'Noto Sans Devanagari' not found.\n",
            "WARNING:matplotlib.font_manager:findfont: Font family 'Noto Sans Devanagari' not found.\n",
            "WARNING:matplotlib.font_manager:findfont: Font family 'Noto Sans Devanagari' not found.\n",
            "WARNING:matplotlib.font_manager:findfont: Font family 'Noto Sans Devanagari' not found.\n",
            "WARNING:matplotlib.font_manager:findfont: Font family 'Noto Sans Devanagari' not found.\n",
            "WARNING:matplotlib.font_manager:findfont: Font family 'Noto Sans Devanagari' not found.\n",
            "WARNING:matplotlib.font_manager:findfont: Font family 'Noto Sans Devanagari' not found.\n",
            "WARNING:matplotlib.font_manager:findfont: Font family 'Noto Sans Devanagari' not found.\n",
            "WARNING:matplotlib.font_manager:findfont: Font family 'Noto Sans Devanagari' not found.\n",
            "WARNING:matplotlib.font_manager:findfont: Font family 'Noto Sans Devanagari' not found.\n",
            "WARNING:matplotlib.font_manager:findfont: Font family 'Noto Sans Devanagari' not found.\n",
            "WARNING:matplotlib.font_manager:findfont: Font family 'Noto Sans Devanagari' not found.\n",
            "WARNING:matplotlib.font_manager:findfont: Font family 'Noto Sans Devanagari' not found.\n",
            "WARNING:matplotlib.font_manager:findfont: Font family 'Noto Sans Devanagari' not found.\n",
            "WARNING:matplotlib.font_manager:findfont: Font family 'Noto Sans Devanagari' not found.\n",
            "WARNING:matplotlib.font_manager:findfont: Font family 'Noto Sans Devanagari' not found.\n",
            "WARNING:matplotlib.font_manager:findfont: Font family 'Noto Sans Devanagari' not found.\n",
            "WARNING:matplotlib.font_manager:findfont: Font family 'Noto Sans Devanagari' not found.\n",
            "WARNING:matplotlib.font_manager:findfont: Font family 'Noto Sans Devanagari' not found.\n",
            "WARNING:matplotlib.font_manager:findfont: Font family 'Noto Sans Devanagari' not found.\n",
            "WARNING:matplotlib.font_manager:findfont: Font family 'Noto Sans Devanagari' not found.\n",
            "WARNING:matplotlib.font_manager:findfont: Font family 'Noto Sans Devanagari' not found.\n",
            "WARNING:matplotlib.font_manager:findfont: Font family 'Noto Sans Devanagari' not found.\n",
            "WARNING:matplotlib.font_manager:findfont: Font family 'Noto Sans Devanagari' not found.\n",
            "WARNING:matplotlib.font_manager:findfont: Font family 'Noto Sans Devanagari' not found.\n",
            "WARNING:matplotlib.font_manager:findfont: Font family 'Noto Sans Devanagari' not found.\n",
            "WARNING:matplotlib.font_manager:findfont: Font family 'Noto Sans Devanagari' not found.\n",
            "WARNING:matplotlib.font_manager:findfont: Font family 'Noto Sans Devanagari' not found.\n",
            "WARNING:matplotlib.font_manager:findfont: Font family 'Noto Sans Devanagari' not found.\n",
            "WARNING:matplotlib.font_manager:findfont: Font family 'Noto Sans Devanagari' not found.\n",
            "WARNING:matplotlib.font_manager:findfont: Font family 'Noto Sans Devanagari' not found.\n",
            "WARNING:matplotlib.font_manager:findfont: Font family 'Noto Sans Devanagari' not found.\n",
            "WARNING:matplotlib.font_manager:findfont: Font family 'Noto Sans Devanagari' not found.\n",
            "WARNING:matplotlib.font_manager:findfont: Font family 'Noto Sans Devanagari' not found.\n",
            "WARNING:matplotlib.font_manager:findfont: Font family 'Noto Sans Devanagari' not found.\n",
            "WARNING:matplotlib.font_manager:findfont: Font family 'Noto Sans Devanagari' not found.\n",
            "WARNING:matplotlib.font_manager:findfont: Font family 'Noto Sans Devanagari' not found.\n",
            "WARNING:matplotlib.font_manager:findfont: Font family 'Noto Sans Devanagari' not found.\n",
            "WARNING:matplotlib.font_manager:findfont: Font family 'Noto Sans Devanagari' not found.\n",
            "WARNING:matplotlib.font_manager:findfont: Font family 'Noto Sans Devanagari' not found.\n",
            "WARNING:matplotlib.font_manager:findfont: Font family 'Noto Sans Devanagari' not found.\n",
            "WARNING:matplotlib.font_manager:findfont: Font family 'Noto Sans Devanagari' not found.\n",
            "WARNING:matplotlib.font_manager:findfont: Font family 'Noto Sans Devanagari' not found.\n",
            "WARNING:matplotlib.font_manager:findfont: Font family 'Noto Sans Devanagari' not found.\n",
            "WARNING:matplotlib.font_manager:findfont: Font family 'Noto Sans Devanagari' not found.\n",
            "WARNING:matplotlib.font_manager:findfont: Font family 'Noto Sans Devanagari' not found.\n",
            "WARNING:matplotlib.font_manager:findfont: Font family 'Noto Sans Devanagari' not found.\n",
            "WARNING:matplotlib.font_manager:findfont: Font family 'Noto Sans Devanagari' not found.\n",
            "WARNING:matplotlib.font_manager:findfont: Font family 'Noto Sans Devanagari' not found.\n",
            "WARNING:matplotlib.font_manager:findfont: Font family 'Noto Sans Devanagari' not found.\n",
            "WARNING:matplotlib.font_manager:findfont: Font family 'Noto Sans Devanagari' not found.\n",
            "WARNING:matplotlib.font_manager:findfont: Font family 'Noto Sans Devanagari' not found.\n",
            "WARNING:matplotlib.font_manager:findfont: Font family 'Noto Sans Devanagari' not found.\n",
            "WARNING:matplotlib.font_manager:findfont: Font family 'Noto Sans Devanagari' not found.\n",
            "WARNING:matplotlib.font_manager:findfont: Font family 'Noto Sans Devanagari' not found.\n",
            "WARNING:matplotlib.font_manager:findfont: Font family 'Noto Sans Devanagari' not found.\n",
            "WARNING:matplotlib.font_manager:findfont: Font family 'Noto Sans Devanagari' not found.\n",
            "WARNING:matplotlib.font_manager:findfont: Font family 'Noto Sans Devanagari' not found.\n",
            "WARNING:matplotlib.font_manager:findfont: Font family 'Noto Sans Devanagari' not found.\n",
            "WARNING:matplotlib.font_manager:findfont: Font family 'Noto Sans Devanagari' not found.\n",
            "WARNING:matplotlib.font_manager:findfont: Font family 'Noto Sans Devanagari' not found.\n",
            "WARNING:matplotlib.font_manager:findfont: Font family 'Noto Sans Devanagari' not found.\n",
            "WARNING:matplotlib.font_manager:findfont: Font family 'Noto Sans Devanagari' not found.\n",
            "WARNING:matplotlib.font_manager:findfont: Font family 'Noto Sans Devanagari' not found.\n",
            "WARNING:matplotlib.font_manager:findfont: Font family 'Noto Sans Devanagari' not found.\n",
            "WARNING:matplotlib.font_manager:findfont: Font family 'Noto Sans Devanagari' not found.\n",
            "WARNING:matplotlib.font_manager:findfont: Font family 'Noto Sans Devanagari' not found.\n",
            "WARNING:matplotlib.font_manager:findfont: Font family 'Noto Sans Devanagari' not found.\n",
            "WARNING:matplotlib.font_manager:findfont: Font family 'Noto Sans Devanagari' not found.\n",
            "WARNING:matplotlib.font_manager:findfont: Font family 'Noto Sans Devanagari' not found.\n",
            "WARNING:matplotlib.font_manager:findfont: Font family 'Noto Sans Devanagari' not found.\n",
            "WARNING:matplotlib.font_manager:findfont: Font family 'Noto Sans Devanagari' not found.\n",
            "WARNING:matplotlib.font_manager:findfont: Font family 'Noto Sans Devanagari' not found.\n",
            "WARNING:matplotlib.font_manager:findfont: Font family 'Noto Sans Devanagari' not found.\n",
            "WARNING:matplotlib.font_manager:findfont: Font family 'Noto Sans Devanagari' not found.\n",
            "WARNING:matplotlib.font_manager:findfont: Font family 'Noto Sans Devanagari' not found.\n",
            "WARNING:matplotlib.font_manager:findfont: Font family 'Noto Sans Devanagari' not found.\n",
            "WARNING:matplotlib.font_manager:findfont: Font family 'Noto Sans Devanagari' not found.\n",
            "WARNING:matplotlib.font_manager:findfont: Font family 'Noto Sans Devanagari' not found.\n",
            "WARNING:matplotlib.font_manager:findfont: Font family 'Noto Sans Devanagari' not found.\n",
            "WARNING:matplotlib.font_manager:findfont: Font family 'Noto Sans Devanagari' not found.\n",
            "WARNING:matplotlib.font_manager:findfont: Font family 'Noto Sans Devanagari' not found.\n",
            "WARNING:matplotlib.font_manager:findfont: Font family 'Noto Sans Devanagari' not found.\n",
            "WARNING:matplotlib.font_manager:findfont: Font family 'Noto Sans Devanagari' not found.\n",
            "WARNING:matplotlib.font_manager:findfont: Font family 'Noto Sans Devanagari' not found.\n",
            "WARNING:matplotlib.font_manager:findfont: Font family 'Noto Sans Devanagari' not found.\n",
            "WARNING:matplotlib.font_manager:findfont: Font family 'Noto Sans Devanagari' not found.\n",
            "WARNING:matplotlib.font_manager:findfont: Font family 'Noto Sans Devanagari' not found.\n",
            "WARNING:matplotlib.font_manager:findfont: Font family 'Noto Sans Devanagari' not found.\n",
            "WARNING:matplotlib.font_manager:findfont: Font family 'Noto Sans Devanagari' not found.\n",
            "WARNING:matplotlib.font_manager:findfont: Font family 'Noto Sans Devanagari' not found.\n",
            "WARNING:matplotlib.font_manager:findfont: Font family 'Noto Sans Devanagari' not found.\n",
            "WARNING:matplotlib.font_manager:findfont: Font family 'Noto Sans Devanagari' not found.\n",
            "WARNING:matplotlib.font_manager:findfont: Font family 'Noto Sans Devanagari' not found.\n",
            "WARNING:matplotlib.font_manager:findfont: Font family 'Noto Sans Devanagari' not found.\n",
            "WARNING:matplotlib.font_manager:findfont: Font family 'Noto Sans Devanagari' not found.\n",
            "WARNING:matplotlib.font_manager:findfont: Font family 'Noto Sans Devanagari' not found.\n",
            "WARNING:matplotlib.font_manager:findfont: Font family 'Noto Sans Devanagari' not found.\n",
            "/usr/local/lib/python3.11/dist-packages/seaborn/utils.py:61: UserWarning: Glyph 2309 (\\N{DEVANAGARI LETTER A}) missing from font(s) DejaVu Sans.\n",
            "  fig.canvas.draw()\n",
            "/usr/local/lib/python3.11/dist-packages/seaborn/utils.py:61: UserWarning: Matplotlib currently does not support Devanagari natively.\n",
            "  fig.canvas.draw()\n",
            "WARNING:matplotlib.font_manager:findfont: Font family 'Noto Sans Devanagari' not found.\n",
            "/usr/local/lib/python3.11/dist-packages/seaborn/utils.py:61: UserWarning: Glyph 2306 (\\N{DEVANAGARI SIGN ANUSVARA}) missing from font(s) DejaVu Sans.\n",
            "  fig.canvas.draw()\n",
            "WARNING:matplotlib.font_manager:findfont: Font family 'Noto Sans Devanagari' not found.\n",
            "/usr/local/lib/python3.11/dist-packages/seaborn/utils.py:61: UserWarning: Glyph 2332 (\\N{DEVANAGARI LETTER JA}) missing from font(s) DejaVu Sans.\n",
            "  fig.canvas.draw()\n",
            "WARNING:matplotlib.font_manager:findfont: Font family 'Noto Sans Devanagari' not found.\n",
            "/usr/local/lib/python3.11/dist-packages/seaborn/utils.py:61: UserWarning: Glyph 2366 (\\N{DEVANAGARI VOWEL SIGN AA}) missing from font(s) DejaVu Sans.\n",
            "  fig.canvas.draw()\n",
            "WARNING:matplotlib.font_manager:findfont: Font family 'Noto Sans Devanagari' not found.\n",
            "/usr/local/lib/python3.11/dist-packages/seaborn/utils.py:61: UserWarning: Glyph 2350 (\\N{DEVANAGARI LETTER MA}) missing from font(s) DejaVu Sans.\n",
            "  fig.canvas.draw()\n",
            "WARNING:matplotlib.font_manager:findfont: Font family 'Noto Sans Devanagari' not found.\n",
            "WARNING:matplotlib.font_manager:findfont: Font family 'Noto Sans Devanagari' not found.\n",
            "WARNING:matplotlib.font_manager:findfont: Font family 'Noto Sans Devanagari' not found.\n",
            "WARNING:matplotlib.font_manager:findfont: Font family 'Noto Sans Devanagari' not found.\n",
            "WARNING:matplotlib.font_manager:findfont: Font family 'Noto Sans Devanagari' not found.\n",
            "WARNING:matplotlib.font_manager:findfont: Font family 'Noto Sans Devanagari' not found.\n",
            "WARNING:matplotlib.font_manager:findfont: Font family 'Noto Sans Devanagari' not found.\n",
            "WARNING:matplotlib.font_manager:findfont: Font family 'Noto Sans Devanagari' not found.\n",
            "WARNING:matplotlib.font_manager:findfont: Font family 'Noto Sans Devanagari' not found.\n",
            "WARNING:matplotlib.font_manager:findfont: Font family 'Noto Sans Devanagari' not found.\n",
            "WARNING:matplotlib.font_manager:findfont: Font family 'Noto Sans Devanagari' not found.\n",
            "WARNING:matplotlib.font_manager:findfont: Font family 'Noto Sans Devanagari' not found.\n",
            "WARNING:matplotlib.font_manager:findfont: Font family 'Noto Sans Devanagari' not found.\n",
            "WARNING:matplotlib.font_manager:findfont: Font family 'Noto Sans Devanagari' not found.\n",
            "WARNING:matplotlib.font_manager:findfont: Font family 'Noto Sans Devanagari' not found.\n",
            "WARNING:matplotlib.font_manager:findfont: Font family 'Noto Sans Devanagari' not found.\n",
            "WARNING:matplotlib.font_manager:findfont: Font family 'Noto Sans Devanagari' not found.\n",
            "WARNING:matplotlib.font_manager:findfont: Font family 'Noto Sans Devanagari' not found.\n",
            "WARNING:matplotlib.font_manager:findfont: Font family 'Noto Sans Devanagari' not found.\n",
            "WARNING:matplotlib.font_manager:findfont: Font family 'Noto Sans Devanagari' not found.\n",
            "WARNING:matplotlib.font_manager:findfont: Font family 'Noto Sans Devanagari' not found.\n",
            "WARNING:matplotlib.font_manager:findfont: Font family 'Noto Sans Devanagari' not found.\n",
            "WARNING:matplotlib.font_manager:findfont: Font family 'Noto Sans Devanagari' not found.\n",
            "WARNING:matplotlib.font_manager:findfont: Font family 'Noto Sans Devanagari' not found.\n",
            "WARNING:matplotlib.font_manager:findfont: Font family 'Noto Sans Devanagari' not found.\n",
            "WARNING:matplotlib.font_manager:findfont: Font family 'Noto Sans Devanagari' not found.\n",
            "WARNING:matplotlib.font_manager:findfont: Font family 'Noto Sans Devanagari' not found.\n",
            "WARNING:matplotlib.font_manager:findfont: Font family 'Noto Sans Devanagari' not found.\n",
            "WARNING:matplotlib.font_manager:findfont: Font family 'Noto Sans Devanagari' not found.\n",
            "WARNING:matplotlib.font_manager:findfont: Font family 'Noto Sans Devanagari' not found.\n",
            "WARNING:matplotlib.font_manager:findfont: Font family 'Noto Sans Devanagari' not found.\n",
            "WARNING:matplotlib.font_manager:findfont: Font family 'Noto Sans Devanagari' not found.\n",
            "WARNING:matplotlib.font_manager:findfont: Font family 'Noto Sans Devanagari' not found.\n",
            "WARNING:matplotlib.font_manager:findfont: Font family 'Noto Sans Devanagari' not found.\n",
            "WARNING:matplotlib.font_manager:findfont: Font family 'Noto Sans Devanagari' not found.\n",
            "WARNING:matplotlib.font_manager:findfont: Font family 'Noto Sans Devanagari' not found.\n",
            "WARNING:matplotlib.font_manager:findfont: Font family 'Noto Sans Devanagari' not found.\n",
            "WARNING:matplotlib.font_manager:findfont: Font family 'Noto Sans Devanagari' not found.\n",
            "WARNING:matplotlib.font_manager:findfont: Font family 'Noto Sans Devanagari' not found.\n",
            "WARNING:matplotlib.font_manager:findfont: Font family 'Noto Sans Devanagari' not found.\n",
            "WARNING:matplotlib.font_manager:findfont: Font family 'Noto Sans Devanagari' not found.\n",
            "WARNING:matplotlib.font_manager:findfont: Font family 'Noto Sans Devanagari' not found.\n",
            "WARNING:matplotlib.font_manager:findfont: Font family 'Noto Sans Devanagari' not found.\n",
            "WARNING:matplotlib.font_manager:findfont: Font family 'Noto Sans Devanagari' not found.\n",
            "WARNING:matplotlib.font_manager:findfont: Font family 'Noto Sans Devanagari' not found.\n",
            "WARNING:matplotlib.font_manager:findfont: Font family 'Noto Sans Devanagari' not found.\n",
            "WARNING:matplotlib.font_manager:findfont: Font family 'Noto Sans Devanagari' not found.\n",
            "WARNING:matplotlib.font_manager:findfont: Font family 'Noto Sans Devanagari' not found.\n",
            "WARNING:matplotlib.font_manager:findfont: Font family 'Noto Sans Devanagari' not found.\n",
            "WARNING:matplotlib.font_manager:findfont: Font family 'Noto Sans Devanagari' not found.\n",
            "WARNING:matplotlib.font_manager:findfont: Font family 'Noto Sans Devanagari' not found.\n",
            "WARNING:matplotlib.font_manager:findfont: Font family 'Noto Sans Devanagari' not found.\n",
            "WARNING:matplotlib.font_manager:findfont: Font family 'Noto Sans Devanagari' not found.\n",
            "WARNING:matplotlib.font_manager:findfont: Font family 'Noto Sans Devanagari' not found.\n",
            "WARNING:matplotlib.font_manager:findfont: Font family 'Noto Sans Devanagari' not found.\n",
            "WARNING:matplotlib.font_manager:findfont: Font family 'Noto Sans Devanagari' not found.\n",
            "WARNING:matplotlib.font_manager:findfont: Font family 'Noto Sans Devanagari' not found.\n",
            "WARNING:matplotlib.font_manager:findfont: Font family 'Noto Sans Devanagari' not found.\n",
            "WARNING:matplotlib.font_manager:findfont: Font family 'Noto Sans Devanagari' not found.\n",
            "WARNING:matplotlib.font_manager:findfont: Font family 'Noto Sans Devanagari' not found.\n",
            "WARNING:matplotlib.font_manager:findfont: Font family 'Noto Sans Devanagari' not found.\n",
            "WARNING:matplotlib.font_manager:findfont: Font family 'Noto Sans Devanagari' not found.\n",
            "WARNING:matplotlib.font_manager:findfont: Font family 'Noto Sans Devanagari' not found.\n",
            "WARNING:matplotlib.font_manager:findfont: Font family 'Noto Sans Devanagari' not found.\n",
            "WARNING:matplotlib.font_manager:findfont: Font family 'Noto Sans Devanagari' not found.\n",
            "WARNING:matplotlib.font_manager:findfont: Font family 'Noto Sans Devanagari' not found.\n",
            "WARNING:matplotlib.font_manager:findfont: Font family 'Noto Sans Devanagari' not found.\n",
            "WARNING:matplotlib.font_manager:findfont: Font family 'Noto Sans Devanagari' not found.\n",
            "WARNING:matplotlib.font_manager:findfont: Font family 'Noto Sans Devanagari' not found.\n",
            "WARNING:matplotlib.font_manager:findfont: Font family 'Noto Sans Devanagari' not found.\n",
            "WARNING:matplotlib.font_manager:findfont: Font family 'Noto Sans Devanagari' not found.\n",
            "WARNING:matplotlib.font_manager:findfont: Font family 'Noto Sans Devanagari' not found.\n",
            "WARNING:matplotlib.font_manager:findfont: Font family 'Noto Sans Devanagari' not found.\n",
            "WARNING:matplotlib.font_manager:findfont: Font family 'Noto Sans Devanagari' not found.\n",
            "WARNING:matplotlib.font_manager:findfont: Font family 'Noto Sans Devanagari' not found.\n",
            "WARNING:matplotlib.font_manager:findfont: Font family 'Noto Sans Devanagari' not found.\n",
            "WARNING:matplotlib.font_manager:findfont: Font family 'Noto Sans Devanagari' not found.\n",
            "WARNING:matplotlib.font_manager:findfont: Font family 'Noto Sans Devanagari' not found.\n",
            "WARNING:matplotlib.font_manager:findfont: Font family 'Noto Sans Devanagari' not found.\n",
            "WARNING:matplotlib.font_manager:findfont: Font family 'Noto Sans Devanagari' not found.\n",
            "WARNING:matplotlib.font_manager:findfont: Font family 'Noto Sans Devanagari' not found.\n",
            "WARNING:matplotlib.font_manager:findfont: Font family 'Noto Sans Devanagari' not found.\n",
            "WARNING:matplotlib.font_manager:findfont: Font family 'Noto Sans Devanagari' not found.\n",
            "WARNING:matplotlib.font_manager:findfont: Font family 'Noto Sans Devanagari' not found.\n",
            "WARNING:matplotlib.font_manager:findfont: Font family 'Noto Sans Devanagari' not found.\n",
            "WARNING:matplotlib.font_manager:findfont: Font family 'Noto Sans Devanagari' not found.\n",
            "WARNING:matplotlib.font_manager:findfont: Font family 'Noto Sans Devanagari' not found.\n",
            "WARNING:matplotlib.font_manager:findfont: Font family 'Noto Sans Devanagari' not found.\n",
            "WARNING:matplotlib.font_manager:findfont: Font family 'Noto Sans Devanagari' not found.\n",
            "WARNING:matplotlib.font_manager:findfont: Font family 'Noto Sans Devanagari' not found.\n",
            "WARNING:matplotlib.font_manager:findfont: Font family 'Noto Sans Devanagari' not found.\n",
            "WARNING:matplotlib.font_manager:findfont: Font family 'Noto Sans Devanagari' not found.\n",
            "WARNING:matplotlib.font_manager:findfont: Font family 'Noto Sans Devanagari' not found.\n",
            "WARNING:matplotlib.font_manager:findfont: Font family 'Noto Sans Devanagari' not found.\n",
            "WARNING:matplotlib.font_manager:findfont: Font family 'Noto Sans Devanagari' not found.\n",
            "WARNING:matplotlib.font_manager:findfont: Font family 'Noto Sans Devanagari' not found.\n",
            "WARNING:matplotlib.font_manager:findfont: Font family 'Noto Sans Devanagari' not found.\n",
            "WARNING:matplotlib.font_manager:findfont: Font family 'Noto Sans Devanagari' not found.\n",
            "WARNING:matplotlib.font_manager:findfont: Font family 'Noto Sans Devanagari' not found.\n",
            "WARNING:matplotlib.font_manager:findfont: Font family 'Noto Sans Devanagari' not found.\n",
            "WARNING:matplotlib.font_manager:findfont: Font family 'Noto Sans Devanagari' not found.\n",
            "WARNING:matplotlib.font_manager:findfont: Font family 'Noto Sans Devanagari' not found.\n",
            "WARNING:matplotlib.font_manager:findfont: Font family 'Noto Sans Devanagari' not found.\n",
            "WARNING:matplotlib.font_manager:findfont: Font family 'Noto Sans Devanagari' not found.\n",
            "WARNING:matplotlib.font_manager:findfont: Font family 'Noto Sans Devanagari' not found.\n",
            "WARNING:matplotlib.font_manager:findfont: Font family 'Noto Sans Devanagari' not found.\n",
            "WARNING:matplotlib.font_manager:findfont: Font family 'Noto Sans Devanagari' not found.\n",
            "WARNING:matplotlib.font_manager:findfont: Font family 'Noto Sans Devanagari' not found.\n",
            "WARNING:matplotlib.font_manager:findfont: Font family 'Noto Sans Devanagari' not found.\n",
            "WARNING:matplotlib.font_manager:findfont: Font family 'Noto Sans Devanagari' not found.\n",
            "WARNING:matplotlib.font_manager:findfont: Font family 'Noto Sans Devanagari' not found.\n",
            "WARNING:matplotlib.font_manager:findfont: Font family 'Noto Sans Devanagari' not found.\n",
            "WARNING:matplotlib.font_manager:findfont: Font family 'Noto Sans Devanagari' not found.\n",
            "WARNING:matplotlib.font_manager:findfont: Font family 'Noto Sans Devanagari' not found.\n",
            "WARNING:matplotlib.font_manager:findfont: Font family 'Noto Sans Devanagari' not found.\n",
            "WARNING:matplotlib.font_manager:findfont: Font family 'Noto Sans Devanagari' not found.\n",
            "WARNING:matplotlib.font_manager:findfont: Font family 'Noto Sans Devanagari' not found.\n",
            "WARNING:matplotlib.font_manager:findfont: Font family 'Noto Sans Devanagari' not found.\n",
            "WARNING:matplotlib.font_manager:findfont: Font family 'Noto Sans Devanagari' not found.\n",
            "WARNING:matplotlib.font_manager:findfont: Font family 'Noto Sans Devanagari' not found.\n",
            "WARNING:matplotlib.font_manager:findfont: Font family 'Noto Sans Devanagari' not found.\n",
            "WARNING:matplotlib.font_manager:findfont: Font family 'Noto Sans Devanagari' not found.\n",
            "WARNING:matplotlib.font_manager:findfont: Font family 'Noto Sans Devanagari' not found.\n",
            "WARNING:matplotlib.font_manager:findfont: Font family 'Noto Sans Devanagari' not found.\n",
            "WARNING:matplotlib.font_manager:findfont: Font family 'Noto Sans Devanagari' not found.\n",
            "WARNING:matplotlib.font_manager:findfont: Font family 'Noto Sans Devanagari' not found.\n",
            "WARNING:matplotlib.font_manager:findfont: Font family 'Noto Sans Devanagari' not found.\n",
            "WARNING:matplotlib.font_manager:findfont: Font family 'Noto Sans Devanagari' not found.\n",
            "WARNING:matplotlib.font_manager:findfont: Font family 'Noto Sans Devanagari' not found.\n",
            "WARNING:matplotlib.font_manager:findfont: Font family 'Noto Sans Devanagari' not found.\n",
            "WARNING:matplotlib.font_manager:findfont: Font family 'Noto Sans Devanagari' not found.\n",
            "WARNING:matplotlib.font_manager:findfont: Font family 'Noto Sans Devanagari' not found.\n",
            "WARNING:matplotlib.font_manager:findfont: Font family 'Noto Sans Devanagari' not found.\n",
            "WARNING:matplotlib.font_manager:findfont: Font family 'Noto Sans Devanagari' not found.\n",
            "WARNING:matplotlib.font_manager:findfont: Font family 'Noto Sans Devanagari' not found.\n",
            "WARNING:matplotlib.font_manager:findfont: Font family 'Noto Sans Devanagari' not found.\n",
            "WARNING:matplotlib.font_manager:findfont: Font family 'Noto Sans Devanagari' not found.\n",
            "WARNING:matplotlib.font_manager:findfont: Font family 'Noto Sans Devanagari' not found.\n",
            "WARNING:matplotlib.font_manager:findfont: Font family 'Noto Sans Devanagari' not found.\n",
            "WARNING:matplotlib.font_manager:findfont: Font family 'Noto Sans Devanagari' not found.\n",
            "WARNING:matplotlib.font_manager:findfont: Font family 'Noto Sans Devanagari' not found.\n",
            "WARNING:matplotlib.font_manager:findfont: Font family 'Noto Sans Devanagari' not found.\n",
            "WARNING:matplotlib.font_manager:findfont: Font family 'Noto Sans Devanagari' not found.\n",
            "WARNING:matplotlib.font_manager:findfont: Font family 'Noto Sans Devanagari' not found.\n",
            "WARNING:matplotlib.font_manager:findfont: Font family 'Noto Sans Devanagari' not found.\n",
            "WARNING:matplotlib.font_manager:findfont: Font family 'Noto Sans Devanagari' not found.\n",
            "WARNING:matplotlib.font_manager:findfont: Font family 'Noto Sans Devanagari' not found.\n",
            "WARNING:matplotlib.font_manager:findfont: Font family 'Noto Sans Devanagari' not found.\n",
            "WARNING:matplotlib.font_manager:findfont: Font family 'Noto Sans Devanagari' not found.\n",
            "WARNING:matplotlib.font_manager:findfont: Font family 'Noto Sans Devanagari' not found.\n",
            "WARNING:matplotlib.font_manager:findfont: Font family 'Noto Sans Devanagari' not found.\n",
            "WARNING:matplotlib.font_manager:findfont: Font family 'Noto Sans Devanagari' not found.\n",
            "WARNING:matplotlib.font_manager:findfont: Font family 'Noto Sans Devanagari' not found.\n",
            "WARNING:matplotlib.font_manager:findfont: Font family 'Noto Sans Devanagari' not found.\n",
            "WARNING:matplotlib.font_manager:findfont: Font family 'Noto Sans Devanagari' not found.\n",
            "WARNING:matplotlib.font_manager:findfont: Font family 'Noto Sans Devanagari' not found.\n",
            "WARNING:matplotlib.font_manager:findfont: Font family 'Noto Sans Devanagari' not found.\n",
            "WARNING:matplotlib.font_manager:findfont: Font family 'Noto Sans Devanagari' not found.\n",
            "WARNING:matplotlib.font_manager:findfont: Font family 'Noto Sans Devanagari' not found.\n",
            "WARNING:matplotlib.font_manager:findfont: Font family 'Noto Sans Devanagari' not found.\n",
            "WARNING:matplotlib.font_manager:findfont: Font family 'Noto Sans Devanagari' not found.\n",
            "WARNING:matplotlib.font_manager:findfont: Font family 'Noto Sans Devanagari' not found.\n",
            "WARNING:matplotlib.font_manager:findfont: Font family 'Noto Sans Devanagari' not found.\n",
            "WARNING:matplotlib.font_manager:findfont: Font family 'Noto Sans Devanagari' not found.\n",
            "WARNING:matplotlib.font_manager:findfont: Font family 'Noto Sans Devanagari' not found.\n",
            "WARNING:matplotlib.font_manager:findfont: Font family 'Noto Sans Devanagari' not found.\n",
            "WARNING:matplotlib.font_manager:findfont: Font family 'Noto Sans Devanagari' not found.\n",
            "WARNING:matplotlib.font_manager:findfont: Font family 'Noto Sans Devanagari' not found.\n",
            "WARNING:matplotlib.font_manager:findfont: Font family 'Noto Sans Devanagari' not found.\n",
            "WARNING:matplotlib.font_manager:findfont: Font family 'Noto Sans Devanagari' not found.\n",
            "WARNING:matplotlib.font_manager:findfont: Font family 'Noto Sans Devanagari' not found.\n",
            "WARNING:matplotlib.font_manager:findfont: Font family 'Noto Sans Devanagari' not found.\n",
            "WARNING:matplotlib.font_manager:findfont: Font family 'Noto Sans Devanagari' not found.\n",
            "/usr/local/lib/python3.11/dist-packages/seaborn/utils.py:61: UserWarning: Glyph 2340 (\\N{DEVANAGARI LETTER TA}) missing from font(s) DejaVu Sans.\n",
            "  fig.canvas.draw()\n",
            "/usr/local/lib/python3.11/dist-packages/seaborn/utils.py:61: UserWarning: Matplotlib currently does not support Devanagari natively.\n",
            "  fig.canvas.draw()\n",
            "WARNING:matplotlib.font_manager:findfont: Font family 'Noto Sans Devanagari' not found.\n",
            "/usr/local/lib/python3.11/dist-packages/seaborn/utils.py:61: UserWarning: Glyph 2339 (\\N{DEVANAGARI LETTER NNA}) missing from font(s) DejaVu Sans.\n",
            "  fig.canvas.draw()\n",
            "WARNING:matplotlib.font_manager:findfont: Font family 'Noto Sans Devanagari' not found.\n",
            "/usr/local/lib/python3.11/dist-packages/seaborn/utils.py:61: UserWarning: Glyph 2309 (\\N{DEVANAGARI LETTER A}) missing from font(s) DejaVu Sans.\n",
            "  fig.canvas.draw()\n",
            "WARNING:matplotlib.font_manager:findfont: Font family 'Noto Sans Devanagari' not found.\n",
            "/usr/local/lib/python3.11/dist-packages/seaborn/utils.py:61: UserWarning: Glyph 2306 (\\N{DEVANAGARI SIGN ANUSVARA}) missing from font(s) DejaVu Sans.\n",
            "  fig.canvas.draw()\n",
            "WARNING:matplotlib.font_manager:findfont: Font family 'Noto Sans Devanagari' not found.\n",
            "WARNING:matplotlib.font_manager:findfont: Font family 'Noto Sans Devanagari' not found.\n",
            "/usr/local/lib/python3.11/dist-packages/seaborn/utils.py:61: UserWarning: Glyph 2325 (\\N{DEVANAGARI LETTER KA}) missing from font(s) DejaVu Sans.\n",
            "  fig.canvas.draw()\n",
            "WARNING:matplotlib.font_manager:findfont: Font family 'Noto Sans Devanagari' not found.\n",
            "/usr/local/lib/python3.11/dist-packages/seaborn/utils.py:61: UserWarning: Glyph 2352 (\\N{DEVANAGARI LETTER RA}) missing from font(s) DejaVu Sans.\n",
            "  fig.canvas.draw()\n",
            "WARNING:matplotlib.font_manager:findfont: Font family 'Noto Sans Devanagari' not found.\n",
            "WARNING:matplotlib.font_manager:findfont: Font family 'Noto Sans Devanagari' not found.\n",
            "WARNING:matplotlib.font_manager:findfont: Font family 'Noto Sans Devanagari' not found.\n",
            "WARNING:matplotlib.font_manager:findfont: Font family 'Noto Sans Devanagari' not found.\n",
            "WARNING:matplotlib.font_manager:findfont: Font family 'Noto Sans Devanagari' not found.\n",
            "WARNING:matplotlib.font_manager:findfont: Font family 'Noto Sans Devanagari' not found.\n",
            "WARNING:matplotlib.font_manager:findfont: Font family 'Noto Sans Devanagari' not found.\n",
            "WARNING:matplotlib.font_manager:findfont: Font family 'Noto Sans Devanagari' not found.\n",
            "WARNING:matplotlib.font_manager:findfont: Font family 'Noto Sans Devanagari' not found.\n",
            "WARNING:matplotlib.font_manager:findfont: Font family 'Noto Sans Devanagari' not found.\n",
            "WARNING:matplotlib.font_manager:findfont: Font family 'Noto Sans Devanagari' not found.\n",
            "WARNING:matplotlib.font_manager:findfont: Font family 'Noto Sans Devanagari' not found.\n",
            "WARNING:matplotlib.font_manager:findfont: Font family 'Noto Sans Devanagari' not found.\n",
            "WARNING:matplotlib.font_manager:findfont: Font family 'Noto Sans Devanagari' not found.\n",
            "WARNING:matplotlib.font_manager:findfont: Font family 'Noto Sans Devanagari' not found.\n",
            "WARNING:matplotlib.font_manager:findfont: Font family 'Noto Sans Devanagari' not found.\n",
            "WARNING:matplotlib.font_manager:findfont: Font family 'Noto Sans Devanagari' not found.\n",
            "WARNING:matplotlib.font_manager:findfont: Font family 'Noto Sans Devanagari' not found.\n",
            "WARNING:matplotlib.font_manager:findfont: Font family 'Noto Sans Devanagari' not found.\n",
            "WARNING:matplotlib.font_manager:findfont: Font family 'Noto Sans Devanagari' not found.\n",
            "WARNING:matplotlib.font_manager:findfont: Font family 'Noto Sans Devanagari' not found.\n",
            "WARNING:matplotlib.font_manager:findfont: Font family 'Noto Sans Devanagari' not found.\n",
            "WARNING:matplotlib.font_manager:findfont: Font family 'Noto Sans Devanagari' not found.\n",
            "WARNING:matplotlib.font_manager:findfont: Font family 'Noto Sans Devanagari' not found.\n",
            "WARNING:matplotlib.font_manager:findfont: Font family 'Noto Sans Devanagari' not found.\n",
            "WARNING:matplotlib.font_manager:findfont: Font family 'Noto Sans Devanagari' not found.\n",
            "WARNING:matplotlib.font_manager:findfont: Font family 'Noto Sans Devanagari' not found.\n",
            "WARNING:matplotlib.font_manager:findfont: Font family 'Noto Sans Devanagari' not found.\n",
            "WARNING:matplotlib.font_manager:findfont: Font family 'Noto Sans Devanagari' not found.\n",
            "WARNING:matplotlib.font_manager:findfont: Font family 'Noto Sans Devanagari' not found.\n",
            "WARNING:matplotlib.font_manager:findfont: Font family 'Noto Sans Devanagari' not found.\n",
            "WARNING:matplotlib.font_manager:findfont: Font family 'Noto Sans Devanagari' not found.\n",
            "WARNING:matplotlib.font_manager:findfont: Font family 'Noto Sans Devanagari' not found.\n",
            "WARNING:matplotlib.font_manager:findfont: Font family 'Noto Sans Devanagari' not found.\n",
            "WARNING:matplotlib.font_manager:findfont: Font family 'Noto Sans Devanagari' not found.\n",
            "WARNING:matplotlib.font_manager:findfont: Font family 'Noto Sans Devanagari' not found.\n",
            "WARNING:matplotlib.font_manager:findfont: Font family 'Noto Sans Devanagari' not found.\n",
            "WARNING:matplotlib.font_manager:findfont: Font family 'Noto Sans Devanagari' not found.\n",
            "WARNING:matplotlib.font_manager:findfont: Font family 'Noto Sans Devanagari' not found.\n",
            "WARNING:matplotlib.font_manager:findfont: Font family 'Noto Sans Devanagari' not found.\n",
            "WARNING:matplotlib.font_manager:findfont: Font family 'Noto Sans Devanagari' not found.\n",
            "WARNING:matplotlib.font_manager:findfont: Font family 'Noto Sans Devanagari' not found.\n",
            "WARNING:matplotlib.font_manager:findfont: Font family 'Noto Sans Devanagari' not found.\n",
            "WARNING:matplotlib.font_manager:findfont: Font family 'Noto Sans Devanagari' not found.\n",
            "WARNING:matplotlib.font_manager:findfont: Font family 'Noto Sans Devanagari' not found.\n",
            "WARNING:matplotlib.font_manager:findfont: Font family 'Noto Sans Devanagari' not found.\n",
            "WARNING:matplotlib.font_manager:findfont: Font family 'Noto Sans Devanagari' not found.\n",
            "WARNING:matplotlib.font_manager:findfont: Font family 'Noto Sans Devanagari' not found.\n",
            "WARNING:matplotlib.font_manager:findfont: Font family 'Noto Sans Devanagari' not found.\n",
            "WARNING:matplotlib.font_manager:findfont: Font family 'Noto Sans Devanagari' not found.\n",
            "WARNING:matplotlib.font_manager:findfont: Font family 'Noto Sans Devanagari' not found.\n",
            "WARNING:matplotlib.font_manager:findfont: Font family 'Noto Sans Devanagari' not found.\n",
            "WARNING:matplotlib.font_manager:findfont: Font family 'Noto Sans Devanagari' not found.\n",
            "WARNING:matplotlib.font_manager:findfont: Font family 'Noto Sans Devanagari' not found.\n",
            "WARNING:matplotlib.font_manager:findfont: Font family 'Noto Sans Devanagari' not found.\n",
            "WARNING:matplotlib.font_manager:findfont: Font family 'Noto Sans Devanagari' not found.\n",
            "WARNING:matplotlib.font_manager:findfont: Font family 'Noto Sans Devanagari' not found.\n",
            "WARNING:matplotlib.font_manager:findfont: Font family 'Noto Sans Devanagari' not found.\n",
            "WARNING:matplotlib.font_manager:findfont: Font family 'Noto Sans Devanagari' not found.\n",
            "WARNING:matplotlib.font_manager:findfont: Font family 'Noto Sans Devanagari' not found.\n",
            "WARNING:matplotlib.font_manager:findfont: Font family 'Noto Sans Devanagari' not found.\n",
            "WARNING:matplotlib.font_manager:findfont: Font family 'Noto Sans Devanagari' not found.\n",
            "WARNING:matplotlib.font_manager:findfont: Font family 'Noto Sans Devanagari' not found.\n",
            "WARNING:matplotlib.font_manager:findfont: Font family 'Noto Sans Devanagari' not found.\n",
            "WARNING:matplotlib.font_manager:findfont: Font family 'Noto Sans Devanagari' not found.\n",
            "WARNING:matplotlib.font_manager:findfont: Font family 'Noto Sans Devanagari' not found.\n",
            "WARNING:matplotlib.font_manager:findfont: Font family 'Noto Sans Devanagari' not found.\n",
            "WARNING:matplotlib.font_manager:findfont: Font family 'Noto Sans Devanagari' not found.\n",
            "WARNING:matplotlib.font_manager:findfont: Font family 'Noto Sans Devanagari' not found.\n",
            "WARNING:matplotlib.font_manager:findfont: Font family 'Noto Sans Devanagari' not found.\n",
            "/usr/local/lib/python3.11/dist-packages/IPython/core/pylabtools.py:151: UserWarning: Glyph 108 (l) missing from font(s) Noto Sans Devanagari.\n",
            "  fig.canvas.print_figure(bytes_io, **kw)\n",
            "/usr/local/lib/python3.11/dist-packages/IPython/core/pylabtools.py:151: UserWarning: Glyph 112 (p) missing from font(s) Noto Sans Devanagari.\n",
            "  fig.canvas.print_figure(bytes_io, **kw)\n",
            "WARNING:matplotlib.font_manager:findfont: Font family 'Noto Sans Devanagari' not found.\n",
            "WARNING:matplotlib.font_manager:findfont: Font family 'Noto Sans Devanagari' not found.\n",
            "WARNING:matplotlib.font_manager:findfont: Font family 'Noto Sans Devanagari' not found.\n",
            "WARNING:matplotlib.font_manager:findfont: Font family 'Noto Sans Devanagari' not found.\n",
            "WARNING:matplotlib.font_manager:findfont: Font family 'Noto Sans Devanagari' not found.\n",
            "WARNING:matplotlib.font_manager:findfont: Font family 'Noto Sans Devanagari' not found.\n",
            "WARNING:matplotlib.font_manager:findfont: Font family 'Noto Sans Devanagari' not found.\n",
            "WARNING:matplotlib.font_manager:findfont: Font family 'Noto Sans Devanagari' not found.\n",
            "WARNING:matplotlib.font_manager:findfont: Font family 'Noto Sans Devanagari' not found.\n",
            "WARNING:matplotlib.font_manager:findfont: Font family 'Noto Sans Devanagari' not found.\n",
            "WARNING:matplotlib.font_manager:findfont: Font family 'Noto Sans Devanagari' not found.\n",
            "WARNING:matplotlib.font_manager:findfont: Font family 'Noto Sans Devanagari' not found.\n",
            "WARNING:matplotlib.font_manager:findfont: Font family 'Noto Sans Devanagari' not found.\n",
            "WARNING:matplotlib.font_manager:findfont: Font family 'Noto Sans Devanagari' not found.\n",
            "WARNING:matplotlib.font_manager:findfont: Font family 'Noto Sans Devanagari' not found.\n",
            "WARNING:matplotlib.font_manager:findfont: Font family 'Noto Sans Devanagari' not found.\n",
            "WARNING:matplotlib.font_manager:findfont: Font family 'Noto Sans Devanagari' not found.\n",
            "WARNING:matplotlib.font_manager:findfont: Font family 'Noto Sans Devanagari' not found.\n",
            "WARNING:matplotlib.font_manager:findfont: Font family 'Noto Sans Devanagari' not found.\n",
            "WARNING:matplotlib.font_manager:findfont: Font family 'Noto Sans Devanagari' not found.\n",
            "WARNING:matplotlib.font_manager:findfont: Font family 'Noto Sans Devanagari' not found.\n",
            "WARNING:matplotlib.font_manager:findfont: Font family 'Noto Sans Devanagari' not found.\n",
            "WARNING:matplotlib.font_manager:findfont: Font family 'Noto Sans Devanagari' not found.\n",
            "WARNING:matplotlib.font_manager:findfont: Font family 'Noto Sans Devanagari' not found.\n",
            "WARNING:matplotlib.font_manager:findfont: Font family 'Noto Sans Devanagari' not found.\n",
            "WARNING:matplotlib.font_manager:findfont: Font family 'Noto Sans Devanagari' not found.\n",
            "WARNING:matplotlib.font_manager:findfont: Font family 'Noto Sans Devanagari' not found.\n",
            "WARNING:matplotlib.font_manager:findfont: Font family 'Noto Sans Devanagari' not found.\n",
            "WARNING:matplotlib.font_manager:findfont: Font family 'Noto Sans Devanagari' not found.\n",
            "WARNING:matplotlib.font_manager:findfont: Font family 'Noto Sans Devanagari' not found.\n",
            "WARNING:matplotlib.font_manager:findfont: Font family 'Noto Sans Devanagari' not found.\n",
            "WARNING:matplotlib.font_manager:findfont: Font family 'Noto Sans Devanagari' not found.\n",
            "WARNING:matplotlib.font_manager:findfont: Font family 'Noto Sans Devanagari' not found.\n",
            "WARNING:matplotlib.font_manager:findfont: Font family 'Noto Sans Devanagari' not found.\n",
            "WARNING:matplotlib.font_manager:findfont: Font family 'Noto Sans Devanagari' not found.\n",
            "WARNING:matplotlib.font_manager:findfont: Font family 'Noto Sans Devanagari' not found.\n",
            "WARNING:matplotlib.font_manager:findfont: Font family 'Noto Sans Devanagari' not found.\n",
            "WARNING:matplotlib.font_manager:findfont: Font family 'Noto Sans Devanagari' not found.\n",
            "WARNING:matplotlib.font_manager:findfont: Font family 'Noto Sans Devanagari' not found.\n",
            "WARNING:matplotlib.font_manager:findfont: Font family 'Noto Sans Devanagari' not found.\n",
            "WARNING:matplotlib.font_manager:findfont: Font family 'Noto Sans Devanagari' not found.\n",
            "WARNING:matplotlib.font_manager:findfont: Font family 'Noto Sans Devanagari' not found.\n",
            "WARNING:matplotlib.font_manager:findfont: Font family 'Noto Sans Devanagari' not found.\n",
            "WARNING:matplotlib.font_manager:findfont: Font family 'Noto Sans Devanagari' not found.\n",
            "WARNING:matplotlib.font_manager:findfont: Font family 'Noto Sans Devanagari' not found.\n",
            "WARNING:matplotlib.font_manager:findfont: Font family 'Noto Sans Devanagari' not found.\n",
            "WARNING:matplotlib.font_manager:findfont: Font family 'Noto Sans Devanagari' not found.\n",
            "WARNING:matplotlib.font_manager:findfont: Font family 'Noto Sans Devanagari' not found.\n",
            "WARNING:matplotlib.font_manager:findfont: Font family 'Noto Sans Devanagari' not found.\n",
            "WARNING:matplotlib.font_manager:findfont: Font family 'Noto Sans Devanagari' not found.\n",
            "WARNING:matplotlib.font_manager:findfont: Font family 'Noto Sans Devanagari' not found.\n",
            "WARNING:matplotlib.font_manager:findfont: Font family 'Noto Sans Devanagari' not found.\n",
            "WARNING:matplotlib.font_manager:findfont: Font family 'Noto Sans Devanagari' not found.\n",
            "WARNING:matplotlib.font_manager:findfont: Font family 'Noto Sans Devanagari' not found.\n",
            "WARNING:matplotlib.font_manager:findfont: Font family 'Noto Sans Devanagari' not found.\n",
            "WARNING:matplotlib.font_manager:findfont: Font family 'Noto Sans Devanagari' not found.\n",
            "WARNING:matplotlib.font_manager:findfont: Font family 'Noto Sans Devanagari' not found.\n",
            "WARNING:matplotlib.font_manager:findfont: Font family 'Noto Sans Devanagari' not found.\n",
            "WARNING:matplotlib.font_manager:findfont: Font family 'Noto Sans Devanagari' not found.\n",
            "WARNING:matplotlib.font_manager:findfont: Font family 'Noto Sans Devanagari' not found.\n",
            "WARNING:matplotlib.font_manager:findfont: Font family 'Noto Sans Devanagari' not found.\n",
            "WARNING:matplotlib.font_manager:findfont: Font family 'Noto Sans Devanagari' not found.\n",
            "WARNING:matplotlib.font_manager:findfont: Font family 'Noto Sans Devanagari' not found.\n",
            "WARNING:matplotlib.font_manager:findfont: Font family 'Noto Sans Devanagari' not found.\n",
            "WARNING:matplotlib.font_manager:findfont: Font family 'Noto Sans Devanagari' not found.\n",
            "WARNING:matplotlib.font_manager:findfont: Font family 'Noto Sans Devanagari' not found.\n",
            "WARNING:matplotlib.font_manager:findfont: Font family 'Noto Sans Devanagari' not found.\n",
            "WARNING:matplotlib.font_manager:findfont: Font family 'Noto Sans Devanagari' not found.\n",
            "WARNING:matplotlib.font_manager:findfont: Font family 'Noto Sans Devanagari' not found.\n",
            "WARNING:matplotlib.font_manager:findfont: Font family 'Noto Sans Devanagari' not found.\n",
            "WARNING:matplotlib.font_manager:findfont: Font family 'Noto Sans Devanagari' not found.\n",
            "WARNING:matplotlib.font_manager:findfont: Font family 'Noto Sans Devanagari' not found.\n",
            "WARNING:matplotlib.font_manager:findfont: Font family 'Noto Sans Devanagari' not found.\n",
            "WARNING:matplotlib.font_manager:findfont: Font family 'Noto Sans Devanagari' not found.\n",
            "WARNING:matplotlib.font_manager:findfont: Font family 'Noto Sans Devanagari' not found.\n",
            "WARNING:matplotlib.font_manager:findfont: Font family 'Noto Sans Devanagari' not found.\n",
            "WARNING:matplotlib.font_manager:findfont: Font family 'Noto Sans Devanagari' not found.\n",
            "WARNING:matplotlib.font_manager:findfont: Font family 'Noto Sans Devanagari' not found.\n",
            "WARNING:matplotlib.font_manager:findfont: Font family 'Noto Sans Devanagari' not found.\n",
            "WARNING:matplotlib.font_manager:findfont: Font family 'Noto Sans Devanagari' not found.\n",
            "WARNING:matplotlib.font_manager:findfont: Font family 'Noto Sans Devanagari' not found.\n",
            "WARNING:matplotlib.font_manager:findfont: Font family 'Noto Sans Devanagari' not found.\n",
            "WARNING:matplotlib.font_manager:findfont: Font family 'Noto Sans Devanagari' not found.\n",
            "WARNING:matplotlib.font_manager:findfont: Font family 'Noto Sans Devanagari' not found.\n",
            "WARNING:matplotlib.font_manager:findfont: Font family 'Noto Sans Devanagari' not found.\n",
            "WARNING:matplotlib.font_manager:findfont: Font family 'Noto Sans Devanagari' not found.\n",
            "WARNING:matplotlib.font_manager:findfont: Font family 'Noto Sans Devanagari' not found.\n",
            "WARNING:matplotlib.font_manager:findfont: Font family 'Noto Sans Devanagari' not found.\n",
            "WARNING:matplotlib.font_manager:findfont: Font family 'Noto Sans Devanagari' not found.\n",
            "WARNING:matplotlib.font_manager:findfont: Font family 'Noto Sans Devanagari' not found.\n",
            "WARNING:matplotlib.font_manager:findfont: Font family 'Noto Sans Devanagari' not found.\n",
            "WARNING:matplotlib.font_manager:findfont: Font family 'Noto Sans Devanagari' not found.\n",
            "WARNING:matplotlib.font_manager:findfont: Font family 'Noto Sans Devanagari' not found.\n",
            "WARNING:matplotlib.font_manager:findfont: Font family 'Noto Sans Devanagari' not found.\n",
            "WARNING:matplotlib.font_manager:findfont: Font family 'Noto Sans Devanagari' not found.\n",
            "WARNING:matplotlib.font_manager:findfont: Font family 'Noto Sans Devanagari' not found.\n",
            "WARNING:matplotlib.font_manager:findfont: Font family 'Noto Sans Devanagari' not found.\n",
            "WARNING:matplotlib.font_manager:findfont: Font family 'Noto Sans Devanagari' not found.\n",
            "WARNING:matplotlib.font_manager:findfont: Font family 'Noto Sans Devanagari' not found.\n",
            "WARNING:matplotlib.font_manager:findfont: Font family 'Noto Sans Devanagari' not found.\n",
            "WARNING:matplotlib.font_manager:findfont: Font family 'Noto Sans Devanagari' not found.\n",
            "WARNING:matplotlib.font_manager:findfont: Font family 'Noto Sans Devanagari' not found.\n",
            "WARNING:matplotlib.font_manager:findfont: Font family 'Noto Sans Devanagari' not found.\n",
            "WARNING:matplotlib.font_manager:findfont: Font family 'Noto Sans Devanagari' not found.\n",
            "WARNING:matplotlib.font_manager:findfont: Font family 'Noto Sans Devanagari' not found.\n",
            "WARNING:matplotlib.font_manager:findfont: Font family 'Noto Sans Devanagari' not found.\n",
            "WARNING:matplotlib.font_manager:findfont: Font family 'Noto Sans Devanagari' not found.\n",
            "WARNING:matplotlib.font_manager:findfont: Font family 'Noto Sans Devanagari' not found.\n",
            "WARNING:matplotlib.font_manager:findfont: Font family 'Noto Sans Devanagari' not found.\n",
            "WARNING:matplotlib.font_manager:findfont: Font family 'Noto Sans Devanagari' not found.\n",
            "WARNING:matplotlib.font_manager:findfont: Font family 'Noto Sans Devanagari' not found.\n",
            "WARNING:matplotlib.font_manager:findfont: Font family 'Noto Sans Devanagari' not found.\n",
            "WARNING:matplotlib.font_manager:findfont: Font family 'Noto Sans Devanagari' not found.\n",
            "WARNING:matplotlib.font_manager:findfont: Font family 'Noto Sans Devanagari' not found.\n",
            "WARNING:matplotlib.font_manager:findfont: Font family 'Noto Sans Devanagari' not found.\n",
            "WARNING:matplotlib.font_manager:findfont: Font family 'Noto Sans Devanagari' not found.\n",
            "WARNING:matplotlib.font_manager:findfont: Font family 'Noto Sans Devanagari' not found.\n",
            "WARNING:matplotlib.font_manager:findfont: Font family 'Noto Sans Devanagari' not found.\n",
            "WARNING:matplotlib.font_manager:findfont: Font family 'Noto Sans Devanagari' not found.\n",
            "WARNING:matplotlib.font_manager:findfont: Font family 'Noto Sans Devanagari' not found.\n",
            "WARNING:matplotlib.font_manager:findfont: Font family 'Noto Sans Devanagari' not found.\n",
            "WARNING:matplotlib.font_manager:findfont: Font family 'Noto Sans Devanagari' not found.\n",
            "WARNING:matplotlib.font_manager:findfont: Font family 'Noto Sans Devanagari' not found.\n",
            "WARNING:matplotlib.font_manager:findfont: Font family 'Noto Sans Devanagari' not found.\n",
            "WARNING:matplotlib.font_manager:findfont: Font family 'Noto Sans Devanagari' not found.\n",
            "WARNING:matplotlib.font_manager:findfont: Font family 'Noto Sans Devanagari' not found.\n",
            "WARNING:matplotlib.font_manager:findfont: Font family 'Noto Sans Devanagari' not found.\n",
            "WARNING:matplotlib.font_manager:findfont: Font family 'Noto Sans Devanagari' not found.\n",
            "WARNING:matplotlib.font_manager:findfont: Font family 'Noto Sans Devanagari' not found.\n",
            "WARNING:matplotlib.font_manager:findfont: Font family 'Noto Sans Devanagari' not found.\n",
            "WARNING:matplotlib.font_manager:findfont: Font family 'Noto Sans Devanagari' not found.\n",
            "WARNING:matplotlib.font_manager:findfont: Font family 'Noto Sans Devanagari' not found.\n",
            "WARNING:matplotlib.font_manager:findfont: Font family 'Noto Sans Devanagari' not found.\n",
            "WARNING:matplotlib.font_manager:findfont: Font family 'Noto Sans Devanagari' not found.\n",
            "WARNING:matplotlib.font_manager:findfont: Font family 'Noto Sans Devanagari' not found.\n",
            "WARNING:matplotlib.font_manager:findfont: Font family 'Noto Sans Devanagari' not found.\n",
            "WARNING:matplotlib.font_manager:findfont: Font family 'Noto Sans Devanagari' not found.\n",
            "WARNING:matplotlib.font_manager:findfont: Font family 'Noto Sans Devanagari' not found.\n",
            "WARNING:matplotlib.font_manager:findfont: Font family 'Noto Sans Devanagari' not found.\n",
            "WARNING:matplotlib.font_manager:findfont: Font family 'Noto Sans Devanagari' not found.\n",
            "WARNING:matplotlib.font_manager:findfont: Font family 'Noto Sans Devanagari' not found.\n",
            "WARNING:matplotlib.font_manager:findfont: Font family 'Noto Sans Devanagari' not found.\n",
            "WARNING:matplotlib.font_manager:findfont: Font family 'Noto Sans Devanagari' not found.\n",
            "WARNING:matplotlib.font_manager:findfont: Font family 'Noto Sans Devanagari' not found.\n",
            "WARNING:matplotlib.font_manager:findfont: Font family 'Noto Sans Devanagari' not found.\n",
            "WARNING:matplotlib.font_manager:findfont: Font family 'Noto Sans Devanagari' not found.\n",
            "WARNING:matplotlib.font_manager:findfont: Font family 'Noto Sans Devanagari' not found.\n",
            "WARNING:matplotlib.font_manager:findfont: Font family 'Noto Sans Devanagari' not found.\n",
            "WARNING:matplotlib.font_manager:findfont: Font family 'Noto Sans Devanagari' not found.\n",
            "WARNING:matplotlib.font_manager:findfont: Font family 'Noto Sans Devanagari' not found.\n",
            "WARNING:matplotlib.font_manager:findfont: Font family 'Noto Sans Devanagari' not found.\n",
            "WARNING:matplotlib.font_manager:findfont: Font family 'Noto Sans Devanagari' not found.\n",
            "WARNING:matplotlib.font_manager:findfont: Font family 'Noto Sans Devanagari' not found.\n",
            "WARNING:matplotlib.font_manager:findfont: Font family 'Noto Sans Devanagari' not found.\n",
            "WARNING:matplotlib.font_manager:findfont: Font family 'Noto Sans Devanagari' not found.\n",
            "WARNING:matplotlib.font_manager:findfont: Font family 'Noto Sans Devanagari' not found.\n",
            "WARNING:matplotlib.font_manager:findfont: Font family 'Noto Sans Devanagari' not found.\n",
            "WARNING:matplotlib.font_manager:findfont: Font family 'Noto Sans Devanagari' not found.\n",
            "WARNING:matplotlib.font_manager:findfont: Font family 'Noto Sans Devanagari' not found.\n",
            "WARNING:matplotlib.font_manager:findfont: Font family 'Noto Sans Devanagari' not found.\n",
            "WARNING:matplotlib.font_manager:findfont: Font family 'Noto Sans Devanagari' not found.\n",
            "WARNING:matplotlib.font_manager:findfont: Font family 'Noto Sans Devanagari' not found.\n",
            "WARNING:matplotlib.font_manager:findfont: Font family 'Noto Sans Devanagari' not found.\n",
            "WARNING:matplotlib.font_manager:findfont: Font family 'Noto Sans Devanagari' not found.\n",
            "WARNING:matplotlib.font_manager:findfont: Font family 'Noto Sans Devanagari' not found.\n",
            "WARNING:matplotlib.font_manager:findfont: Font family 'Noto Sans Devanagari' not found.\n",
            "WARNING:matplotlib.font_manager:findfont: Font family 'Noto Sans Devanagari' not found.\n",
            "WARNING:matplotlib.font_manager:findfont: Font family 'Noto Sans Devanagari' not found.\n",
            "WARNING:matplotlib.font_manager:findfont: Font family 'Noto Sans Devanagari' not found.\n",
            "WARNING:matplotlib.font_manager:findfont: Font family 'Noto Sans Devanagari' not found.\n",
            "WARNING:matplotlib.font_manager:findfont: Font family 'Noto Sans Devanagari' not found.\n",
            "WARNING:matplotlib.font_manager:findfont: Font family 'Noto Sans Devanagari' not found.\n",
            "WARNING:matplotlib.font_manager:findfont: Font family 'Noto Sans Devanagari' not found.\n",
            "WARNING:matplotlib.font_manager:findfont: Font family 'Noto Sans Devanagari' not found.\n",
            "WARNING:matplotlib.font_manager:findfont: Font family 'Noto Sans Devanagari' not found.\n",
            "WARNING:matplotlib.font_manager:findfont: Font family 'Noto Sans Devanagari' not found.\n",
            "WARNING:matplotlib.font_manager:findfont: Font family 'Noto Sans Devanagari' not found.\n",
            "WARNING:matplotlib.font_manager:findfont: Font family 'Noto Sans Devanagari' not found.\n",
            "WARNING:matplotlib.font_manager:findfont: Font family 'Noto Sans Devanagari' not found.\n",
            "WARNING:matplotlib.font_manager:findfont: Font family 'Noto Sans Devanagari' not found.\n",
            "WARNING:matplotlib.font_manager:findfont: Font family 'Noto Sans Devanagari' not found.\n",
            "WARNING:matplotlib.font_manager:findfont: Font family 'Noto Sans Devanagari' not found.\n",
            "WARNING:matplotlib.font_manager:findfont: Font family 'Noto Sans Devanagari' not found.\n",
            "WARNING:matplotlib.font_manager:findfont: Font family 'Noto Sans Devanagari' not found.\n",
            "WARNING:matplotlib.font_manager:findfont: Font family 'Noto Sans Devanagari' not found.\n",
            "WARNING:matplotlib.font_manager:findfont: Font family 'Noto Sans Devanagari' not found.\n",
            "WARNING:matplotlib.font_manager:findfont: Font family 'Noto Sans Devanagari' not found.\n",
            "WARNING:matplotlib.font_manager:findfont: Font family 'Noto Sans Devanagari' not found.\n",
            "WARNING:matplotlib.font_manager:findfont: Font family 'Noto Sans Devanagari' not found.\n",
            "WARNING:matplotlib.font_manager:findfont: Font family 'Noto Sans Devanagari' not found.\n",
            "WARNING:matplotlib.font_manager:findfont: Font family 'Noto Sans Devanagari' not found.\n",
            "WARNING:matplotlib.font_manager:findfont: Font family 'Noto Sans Devanagari' not found.\n",
            "WARNING:matplotlib.font_manager:findfont: Font family 'Noto Sans Devanagari' not found.\n",
            "WARNING:matplotlib.font_manager:findfont: Font family 'Noto Sans Devanagari' not found.\n",
            "WARNING:matplotlib.font_manager:findfont: Font family 'Noto Sans Devanagari' not found.\n",
            "WARNING:matplotlib.font_manager:findfont: Font family 'Noto Sans Devanagari' not found.\n",
            "WARNING:matplotlib.font_manager:findfont: Font family 'Noto Sans Devanagari' not found.\n",
            "WARNING:matplotlib.font_manager:findfont: Font family 'Noto Sans Devanagari' not found.\n",
            "WARNING:matplotlib.font_manager:findfont: Font family 'Noto Sans Devanagari' not found.\n",
            "WARNING:matplotlib.font_manager:findfont: Font family 'Noto Sans Devanagari' not found.\n",
            "WARNING:matplotlib.font_manager:findfont: Font family 'Noto Sans Devanagari' not found.\n",
            "WARNING:matplotlib.font_manager:findfont: Font family 'Noto Sans Devanagari' not found.\n",
            "WARNING:matplotlib.font_manager:findfont: Font family 'Noto Sans Devanagari' not found.\n",
            "WARNING:matplotlib.font_manager:findfont: Font family 'Noto Sans Devanagari' not found.\n",
            "WARNING:matplotlib.font_manager:findfont: Font family 'Noto Sans Devanagari' not found.\n",
            "WARNING:matplotlib.font_manager:findfont: Font family 'Noto Sans Devanagari' not found.\n",
            "WARNING:matplotlib.font_manager:findfont: Font family 'Noto Sans Devanagari' not found.\n"
          ]
        },
        {
          "output_type": "display_data",
          "data": {
            "text/plain": [
              "<Figure size 1800x1200 with 18 Axes>"
            ],
            "image/png": "[encoded data removed]"
          },
          "metadata": {}
        },
        {
          "output_type": "stream",
          "name": "stderr",
          "text": [
            "/usr/local/lib/python3.11/dist-packages/wandb/sdk/data_types/image.py:307: UserWarning: Glyph 108 (l) missing from font(s) Noto Sans Devanagari.\n",
            "  util.ensure_matplotlib_figure(data).savefig(buf, format=self.format)\n",
            "/usr/local/lib/python3.11/dist-packages/wandb/sdk/data_types/image.py:307: UserWarning: Glyph 112 (p) missing from font(s) Noto Sans Devanagari.\n",
            "  util.ensure_matplotlib_figure(data).savefig(buf, format=self.format)\n",
            "WARNING:matplotlib.font_manager:findfont: Font family 'Noto Sans Devanagari' not found.\n",
            "WARNING:matplotlib.font_manager:findfont: Font family 'Noto Sans Devanagari' not found.\n",
            "WARNING:matplotlib.font_manager:findfont: Font family 'Noto Sans Devanagari' not found.\n",
            "WARNING:matplotlib.font_manager:findfont: Font family 'Noto Sans Devanagari' not found.\n",
            "WARNING:matplotlib.font_manager:findfont: Font family 'Noto Sans Devanagari' not found.\n",
            "WARNING:matplotlib.font_manager:findfont: Font family 'Noto Sans Devanagari' not found.\n",
            "WARNING:matplotlib.font_manager:findfont: Font family 'Noto Sans Devanagari' not found.\n",
            "WARNING:matplotlib.font_manager:findfont: Font family 'Noto Sans Devanagari' not found.\n",
            "WARNING:matplotlib.font_manager:findfont: Font family 'Noto Sans Devanagari' not found.\n",
            "WARNING:matplotlib.font_manager:findfont: Font family 'Noto Sans Devanagari' not found.\n",
            "WARNING:matplotlib.font_manager:findfont: Font family 'Noto Sans Devanagari' not found.\n",
            "WARNING:matplotlib.font_manager:findfont: Font family 'Noto Sans Devanagari' not found.\n",
            "WARNING:matplotlib.font_manager:findfont: Font family 'Noto Sans Devanagari' not found.\n",
            "WARNING:matplotlib.font_manager:findfont: Font family 'Noto Sans Devanagari' not found.\n",
            "WARNING:matplotlib.font_manager:findfont: Font family 'Noto Sans Devanagari' not found.\n",
            "WARNING:matplotlib.font_manager:findfont: Font family 'Noto Sans Devanagari' not found.\n",
            "WARNING:matplotlib.font_manager:findfont: Font family 'Noto Sans Devanagari' not found.\n",
            "WARNING:matplotlib.font_manager:findfont: Font family 'Noto Sans Devanagari' not found.\n",
            "WARNING:matplotlib.font_manager:findfont: Font family 'Noto Sans Devanagari' not found.\n",
            "WARNING:matplotlib.font_manager:findfont: Font family 'Noto Sans Devanagari' not found.\n",
            "WARNING:matplotlib.font_manager:findfont: Font family 'Noto Sans Devanagari' not found.\n",
            "WARNING:matplotlib.font_manager:findfont: Font family 'Noto Sans Devanagari' not found.\n",
            "WARNING:matplotlib.font_manager:findfont: Font family 'Noto Sans Devanagari' not found.\n",
            "WARNING:matplotlib.font_manager:findfont: Font family 'Noto Sans Devanagari' not found.\n",
            "WARNING:matplotlib.font_manager:findfont: Font family 'Noto Sans Devanagari' not found.\n",
            "WARNING:matplotlib.font_manager:findfont: Font family 'Noto Sans Devanagari' not found.\n",
            "WARNING:matplotlib.font_manager:findfont: Font family 'Noto Sans Devanagari' not found.\n",
            "WARNING:matplotlib.font_manager:findfont: Font family 'Noto Sans Devanagari' not found.\n",
            "WARNING:matplotlib.font_manager:findfont: Font family 'Noto Sans Devanagari' not found.\n",
            "WARNING:matplotlib.font_manager:findfont: Font family 'Noto Sans Devanagari' not found.\n",
            "WARNING:matplotlib.font_manager:findfont: Font family 'Noto Sans Devanagari' not found.\n",
            "WARNING:matplotlib.font_manager:findfont: Font family 'Noto Sans Devanagari' not found.\n",
            "WARNING:matplotlib.font_manager:findfont: Font family 'Noto Sans Devanagari' not found.\n",
            "WARNING:matplotlib.font_manager:findfont: Font family 'Noto Sans Devanagari' not found.\n",
            "WARNING:matplotlib.font_manager:findfont: Font family 'Noto Sans Devanagari' not found.\n",
            "WARNING:matplotlib.font_manager:findfont: Font family 'Noto Sans Devanagari' not found.\n",
            "WARNING:matplotlib.font_manager:findfont: Font family 'Noto Sans Devanagari' not found.\n",
            "WARNING:matplotlib.font_manager:findfont: Font family 'Noto Sans Devanagari' not found.\n",
            "WARNING:matplotlib.font_manager:findfont: Font family 'Noto Sans Devanagari' not found.\n",
            "WARNING:matplotlib.font_manager:findfont: Font family 'Noto Sans Devanagari' not found.\n",
            "WARNING:matplotlib.font_manager:findfont: Font family 'Noto Sans Devanagari' not found.\n",
            "WARNING:matplotlib.font_manager:findfont: Font family 'Noto Sans Devanagari' not found.\n",
            "WARNING:matplotlib.font_manager:findfont: Font family 'Noto Sans Devanagari' not found.\n",
            "WARNING:matplotlib.font_manager:findfont: Font family 'Noto Sans Devanagari' not found.\n",
            "WARNING:matplotlib.font_manager:findfont: Font family 'Noto Sans Devanagari' not found.\n",
            "WARNING:matplotlib.font_manager:findfont: Font family 'Noto Sans Devanagari' not found.\n",
            "WARNING:matplotlib.font_manager:findfont: Font family 'Noto Sans Devanagari' not found.\n",
            "WARNING:matplotlib.font_manager:findfont: Font family 'Noto Sans Devanagari' not found.\n",
            "WARNING:matplotlib.font_manager:findfont: Font family 'Noto Sans Devanagari' not found.\n",
            "WARNING:matplotlib.font_manager:findfont: Font family 'Noto Sans Devanagari' not found.\n",
            "WARNING:matplotlib.font_manager:findfont: Font family 'Noto Sans Devanagari' not found.\n",
            "WARNING:matplotlib.font_manager:findfont: Font family 'Noto Sans Devanagari' not found.\n",
            "WARNING:matplotlib.font_manager:findfont: Font family 'Noto Sans Devanagari' not found.\n",
            "WARNING:matplotlib.font_manager:findfont: Font family 'Noto Sans Devanagari' not found.\n",
            "WARNING:matplotlib.font_manager:findfont: Font family 'Noto Sans Devanagari' not found.\n",
            "WARNING:matplotlib.font_manager:findfont: Font family 'Noto Sans Devanagari' not found.\n",
            "WARNING:matplotlib.font_manager:findfont: Font family 'Noto Sans Devanagari' not found.\n",
            "WARNING:matplotlib.font_manager:findfont: Font family 'Noto Sans Devanagari' not found.\n",
            "WARNING:matplotlib.font_manager:findfont: Font family 'Noto Sans Devanagari' not found.\n",
            "WARNING:matplotlib.font_manager:findfont: Font family 'Noto Sans Devanagari' not found.\n",
            "WARNING:matplotlib.font_manager:findfont: Font family 'Noto Sans Devanagari' not found.\n",
            "WARNING:matplotlib.font_manager:findfont: Font family 'Noto Sans Devanagari' not found.\n",
            "WARNING:matplotlib.font_manager:findfont: Font family 'Noto Sans Devanagari' not found.\n",
            "WARNING:matplotlib.font_manager:findfont: Font family 'Noto Sans Devanagari' not found.\n",
            "WARNING:matplotlib.font_manager:findfont: Font family 'Noto Sans Devanagari' not found.\n",
            "WARNING:matplotlib.font_manager:findfont: Font family 'Noto Sans Devanagari' not found.\n",
            "WARNING:matplotlib.font_manager:findfont: Font family 'Noto Sans Devanagari' not found.\n",
            "WARNING:matplotlib.font_manager:findfont: Font family 'Noto Sans Devanagari' not found.\n",
            "WARNING:matplotlib.font_manager:findfont: Font family 'Noto Sans Devanagari' not found.\n",
            "WARNING:matplotlib.font_manager:findfont: Font family 'Noto Sans Devanagari' not found.\n",
            "WARNING:matplotlib.font_manager:findfont: Font family 'Noto Sans Devanagari' not found.\n",
            "WARNING:matplotlib.font_manager:findfont: Font family 'Noto Sans Devanagari' not found.\n",
            "WARNING:matplotlib.font_manager:findfont: Font family 'Noto Sans Devanagari' not found.\n",
            "WARNING:matplotlib.font_manager:findfont: Font family 'Noto Sans Devanagari' not found.\n",
            "WARNING:matplotlib.font_manager:findfont: Font family 'Noto Sans Devanagari' not found.\n",
            "WARNING:matplotlib.font_manager:findfont: Font family 'Noto Sans Devanagari' not found.\n",
            "WARNING:matplotlib.font_manager:findfont: Font family 'Noto Sans Devanagari' not found.\n",
            "WARNING:matplotlib.font_manager:findfont: Font family 'Noto Sans Devanagari' not found.\n",
            "WARNING:matplotlib.font_manager:findfont: Font family 'Noto Sans Devanagari' not found.\n",
            "WARNING:matplotlib.font_manager:findfont: Font family 'Noto Sans Devanagari' not found.\n",
            "WARNING:matplotlib.font_manager:findfont: Font family 'Noto Sans Devanagari' not found.\n",
            "WARNING:matplotlib.font_manager:findfont: Font family 'Noto Sans Devanagari' not found.\n",
            "WARNING:matplotlib.font_manager:findfont: Font family 'Noto Sans Devanagari' not found.\n",
            "WARNING:matplotlib.font_manager:findfont: Font family 'Noto Sans Devanagari' not found.\n",
            "WARNING:matplotlib.font_manager:findfont: Font family 'Noto Sans Devanagari' not found.\n",
            "WARNING:matplotlib.font_manager:findfont: Font family 'Noto Sans Devanagari' not found.\n",
            "WARNING:matplotlib.font_manager:findfont: Font family 'Noto Sans Devanagari' not found.\n",
            "WARNING:matplotlib.font_manager:findfont: Font family 'Noto Sans Devanagari' not found.\n",
            "WARNING:matplotlib.font_manager:findfont: Font family 'Noto Sans Devanagari' not found.\n",
            "WARNING:matplotlib.font_manager:findfont: Font family 'Noto Sans Devanagari' not found.\n",
            "WARNING:matplotlib.font_manager:findfont: Font family 'Noto Sans Devanagari' not found.\n",
            "WARNING:matplotlib.font_manager:findfont: Font family 'Noto Sans Devanagari' not found.\n",
            "WARNING:matplotlib.font_manager:findfont: Font family 'Noto Sans Devanagari' not found.\n",
            "WARNING:matplotlib.font_manager:findfont: Font family 'Noto Sans Devanagari' not found.\n",
            "WARNING:matplotlib.font_manager:findfont: Font family 'Noto Sans Devanagari' not found.\n",
            "WARNING:matplotlib.font_manager:findfont: Font family 'Noto Sans Devanagari' not found.\n",
            "WARNING:matplotlib.font_manager:findfont: Font family 'Noto Sans Devanagari' not found.\n",
            "WARNING:matplotlib.font_manager:findfont: Font family 'Noto Sans Devanagari' not found.\n",
            "WARNING:matplotlib.font_manager:findfont: Font family 'Noto Sans Devanagari' not found.\n",
            "WARNING:matplotlib.font_manager:findfont: Font family 'Noto Sans Devanagari' not found.\n",
            "WARNING:matplotlib.font_manager:findfont: Font family 'Noto Sans Devanagari' not found.\n",
            "WARNING:matplotlib.font_manager:findfont: Font family 'Noto Sans Devanagari' not found.\n",
            "WARNING:matplotlib.font_manager:findfont: Font family 'Noto Sans Devanagari' not found.\n",
            "WARNING:matplotlib.font_manager:findfont: Font family 'Noto Sans Devanagari' not found.\n",
            "WARNING:matplotlib.font_manager:findfont: Font family 'Noto Sans Devanagari' not found.\n",
            "WARNING:matplotlib.font_manager:findfont: Font family 'Noto Sans Devanagari' not found.\n",
            "WARNING:matplotlib.font_manager:findfont: Font family 'Noto Sans Devanagari' not found.\n",
            "WARNING:matplotlib.font_manager:findfont: Font family 'Noto Sans Devanagari' not found.\n",
            "WARNING:matplotlib.font_manager:findfont: Font family 'Noto Sans Devanagari' not found.\n",
            "WARNING:matplotlib.font_manager:findfont: Font family 'Noto Sans Devanagari' not found.\n",
            "WARNING:matplotlib.font_manager:findfont: Font family 'Noto Sans Devanagari' not found.\n",
            "WARNING:matplotlib.font_manager:findfont: Font family 'Noto Sans Devanagari' not found.\n",
            "WARNING:matplotlib.font_manager:findfont: Font family 'Noto Sans Devanagari' not found.\n",
            "WARNING:matplotlib.font_manager:findfont: Font family 'Noto Sans Devanagari' not found.\n",
            "WARNING:matplotlib.font_manager:findfont: Font family 'Noto Sans Devanagari' not found.\n",
            "WARNING:matplotlib.font_manager:findfont: Font family 'Noto Sans Devanagari' not found.\n",
            "WARNING:matplotlib.font_manager:findfont: Font family 'Noto Sans Devanagari' not found.\n",
            "WARNING:matplotlib.font_manager:findfont: Font family 'Noto Sans Devanagari' not found.\n",
            "WARNING:matplotlib.font_manager:findfont: Font family 'Noto Sans Devanagari' not found.\n",
            "WARNING:matplotlib.font_manager:findfont: Font family 'Noto Sans Devanagari' not found.\n",
            "WARNING:matplotlib.font_manager:findfont: Font family 'Noto Sans Devanagari' not found.\n",
            "WARNING:matplotlib.font_manager:findfont: Font family 'Noto Sans Devanagari' not found.\n",
            "WARNING:matplotlib.font_manager:findfont: Font family 'Noto Sans Devanagari' not found.\n",
            "WARNING:matplotlib.font_manager:findfont: Font family 'Noto Sans Devanagari' not found.\n",
            "WARNING:matplotlib.font_manager:findfont: Font family 'Noto Sans Devanagari' not found.\n",
            "WARNING:matplotlib.font_manager:findfont: Font family 'Noto Sans Devanagari' not found.\n",
            "WARNING:matplotlib.font_manager:findfont: Font family 'Noto Sans Devanagari' not found.\n",
            "WARNING:matplotlib.font_manager:findfont: Font family 'Noto Sans Devanagari' not found.\n",
            "WARNING:matplotlib.font_manager:findfont: Font family 'Noto Sans Devanagari' not found.\n",
            "WARNING:matplotlib.font_manager:findfont: Font family 'Noto Sans Devanagari' not found.\n",
            "WARNING:matplotlib.font_manager:findfont: Font family 'Noto Sans Devanagari' not found.\n",
            "WARNING:matplotlib.font_manager:findfont: Font family 'Noto Sans Devanagari' not found.\n",
            "WARNING:matplotlib.font_manager:findfont: Font family 'Noto Sans Devanagari' not found.\n",
            "WARNING:matplotlib.font_manager:findfont: Font family 'Noto Sans Devanagari' not found.\n",
            "WARNING:matplotlib.font_manager:findfont: Font family 'Noto Sans Devanagari' not found.\n",
            "WARNING:matplotlib.font_manager:findfont: Font family 'Noto Sans Devanagari' not found.\n",
            "WARNING:matplotlib.font_manager:findfont: Font family 'Noto Sans Devanagari' not found.\n",
            "WARNING:matplotlib.font_manager:findfont: Font family 'Noto Sans Devanagari' not found.\n",
            "WARNING:matplotlib.font_manager:findfont: Font family 'Noto Sans Devanagari' not found.\n",
            "WARNING:matplotlib.font_manager:findfont: Font family 'Noto Sans Devanagari' not found.\n",
            "WARNING:matplotlib.font_manager:findfont: Font family 'Noto Sans Devanagari' not found.\n",
            "WARNING:matplotlib.font_manager:findfont: Font family 'Noto Sans Devanagari' not found.\n",
            "WARNING:matplotlib.font_manager:findfont: Font family 'Noto Sans Devanagari' not found.\n",
            "WARNING:matplotlib.font_manager:findfont: Font family 'Noto Sans Devanagari' not found.\n",
            "WARNING:matplotlib.font_manager:findfont: Font family 'Noto Sans Devanagari' not found.\n",
            "WARNING:matplotlib.font_manager:findfont: Font family 'Noto Sans Devanagari' not found.\n",
            "WARNING:matplotlib.font_manager:findfont: Font family 'Noto Sans Devanagari' not found.\n",
            "WARNING:matplotlib.font_manager:findfont: Font family 'Noto Sans Devanagari' not found.\n",
            "WARNING:matplotlib.font_manager:findfont: Font family 'Noto Sans Devanagari' not found.\n",
            "WARNING:matplotlib.font_manager:findfont: Font family 'Noto Sans Devanagari' not found.\n",
            "WARNING:matplotlib.font_manager:findfont: Font family 'Noto Sans Devanagari' not found.\n",
            "WARNING:matplotlib.font_manager:findfont: Font family 'Noto Sans Devanagari' not found.\n",
            "WARNING:matplotlib.font_manager:findfont: Font family 'Noto Sans Devanagari' not found.\n",
            "WARNING:matplotlib.font_manager:findfont: Font family 'Noto Sans Devanagari' not found.\n",
            "WARNING:matplotlib.font_manager:findfont: Font family 'Noto Sans Devanagari' not found.\n",
            "WARNING:matplotlib.font_manager:findfont: Font family 'Noto Sans Devanagari' not found.\n",
            "WARNING:matplotlib.font_manager:findfont: Font family 'Noto Sans Devanagari' not found.\n",
            "WARNING:matplotlib.font_manager:findfont: Font family 'Noto Sans Devanagari' not found.\n",
            "WARNING:matplotlib.font_manager:findfont: Font family 'Noto Sans Devanagari' not found.\n",
            "WARNING:matplotlib.font_manager:findfont: Font family 'Noto Sans Devanagari' not found.\n",
            "WARNING:matplotlib.font_manager:findfont: Font family 'Noto Sans Devanagari' not found.\n",
            "WARNING:matplotlib.font_manager:findfont: Font family 'Noto Sans Devanagari' not found.\n",
            "WARNING:matplotlib.font_manager:findfont: Font family 'Noto Sans Devanagari' not found.\n",
            "WARNING:matplotlib.font_manager:findfont: Font family 'Noto Sans Devanagari' not found.\n",
            "WARNING:matplotlib.font_manager:findfont: Font family 'Noto Sans Devanagari' not found.\n",
            "WARNING:matplotlib.font_manager:findfont: Font family 'Noto Sans Devanagari' not found.\n",
            "WARNING:matplotlib.font_manager:findfont: Font family 'Noto Sans Devanagari' not found.\n",
            "WARNING:matplotlib.font_manager:findfont: Font family 'Noto Sans Devanagari' not found.\n",
            "WARNING:matplotlib.font_manager:findfont: Font family 'Noto Sans Devanagari' not found.\n",
            "WARNING:matplotlib.font_manager:findfont: Font family 'Noto Sans Devanagari' not found.\n",
            "WARNING:matplotlib.font_manager:findfont: Font family 'Noto Sans Devanagari' not found.\n",
            "WARNING:matplotlib.font_manager:findfont: Font family 'Noto Sans Devanagari' not found.\n",
            "WARNING:matplotlib.font_manager:findfont: Font family 'Noto Sans Devanagari' not found.\n",
            "WARNING:matplotlib.font_manager:findfont: Font family 'Noto Sans Devanagari' not found.\n",
            "WARNING:matplotlib.font_manager:findfont: Font family 'Noto Sans Devanagari' not found.\n",
            "WARNING:matplotlib.font_manager:findfont: Font family 'Noto Sans Devanagari' not found.\n",
            "WARNING:matplotlib.font_manager:findfont: Font family 'Noto Sans Devanagari' not found.\n",
            "WARNING:matplotlib.font_manager:findfont: Font family 'Noto Sans Devanagari' not found.\n",
            "WARNING:matplotlib.font_manager:findfont: Font family 'Noto Sans Devanagari' not found.\n",
            "WARNING:matplotlib.font_manager:findfont: Font family 'Noto Sans Devanagari' not found.\n",
            "WARNING:matplotlib.font_manager:findfont: Font family 'Noto Sans Devanagari' not found.\n",
            "WARNING:matplotlib.font_manager:findfont: Font family 'Noto Sans Devanagari' not found.\n",
            "WARNING:matplotlib.font_manager:findfont: Font family 'Noto Sans Devanagari' not found.\n",
            "WARNING:matplotlib.font_manager:findfont: Font family 'Noto Sans Devanagari' not found.\n",
            "WARNING:matplotlib.font_manager:findfont: Font family 'Noto Sans Devanagari' not found.\n",
            "WARNING:matplotlib.font_manager:findfont: Font family 'Noto Sans Devanagari' not found.\n",
            "WARNING:matplotlib.font_manager:findfont: Font family 'Noto Sans Devanagari' not found.\n",
            "WARNING:matplotlib.font_manager:findfont: Font family 'Noto Sans Devanagari' not found.\n",
            "WARNING:matplotlib.font_manager:findfont: Font family 'Noto Sans Devanagari' not found.\n",
            "WARNING:matplotlib.font_manager:findfont: Font family 'Noto Sans Devanagari' not found.\n",
            "WARNING:matplotlib.font_manager:findfont: Font family 'Noto Sans Devanagari' not found.\n",
            "WARNING:matplotlib.font_manager:findfont: Font family 'Noto Sans Devanagari' not found.\n",
            "WARNING:matplotlib.font_manager:findfont: Font family 'Noto Sans Devanagari' not found.\n",
            "WARNING:matplotlib.font_manager:findfont: Font family 'Noto Sans Devanagari' not found.\n",
            "WARNING:matplotlib.font_manager:findfont: Font family 'Noto Sans Devanagari' not found.\n",
            "WARNING:matplotlib.font_manager:findfont: Font family 'Noto Sans Devanagari' not found.\n",
            "WARNING:matplotlib.font_manager:findfont: Font family 'Noto Sans Devanagari' not found.\n",
            "WARNING:matplotlib.font_manager:findfont: Font family 'Noto Sans Devanagari' not found.\n",
            "WARNING:matplotlib.font_manager:findfont: Font family 'Noto Sans Devanagari' not found.\n",
            "WARNING:matplotlib.font_manager:findfont: Font family 'Noto Sans Devanagari' not found.\n",
            "WARNING:matplotlib.font_manager:findfont: Font family 'Noto Sans Devanagari' not found.\n",
            "WARNING:matplotlib.font_manager:findfont: Font family 'Noto Sans Devanagari' not found.\n",
            "WARNING:matplotlib.font_manager:findfont: Font family 'Noto Sans Devanagari' not found.\n",
            "WARNING:matplotlib.font_manager:findfont: Font family 'Noto Sans Devanagari' not found.\n",
            "WARNING:matplotlib.font_manager:findfont: Font family 'Noto Sans Devanagari' not found.\n",
            "WARNING:matplotlib.font_manager:findfont: Font family 'Noto Sans Devanagari' not found.\n",
            "WARNING:matplotlib.font_manager:findfont: Font family 'Noto Sans Devanagari' not found.\n"
          ]
        }
      ]
    },
    {
      "cell_type": "code",
      "source": [],
      "metadata": {
        "id": "4-OVmP5rdoMl"
      },
      "execution_count": null,
      "outputs": []
    }
  ]
}