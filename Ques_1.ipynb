{
  "nbformat": 4,
  "nbformat_minor": 0,
  "metadata": {
    "colab": {
      "provenance": [],
      "gpuType": "T4",
      "authorship_tag": "ABX9TyP3WB2HZ/e10LpsqEFaENQh",
      "include_colab_link": true
    },
    "kernelspec": {
      "name": "python3",
      "display_name": "Python 3"
    },
    "language_info": {
      "name": "python"
    },
    "accelerator": "GPU"
  },
  "cells": [
    {
      "cell_type": "markdown",
      "metadata": {
        "id": "view-in-github",
        "colab_type": "text"
      },
      "source": [
        "<a href=\"https://colab.research.google.com/github/arunangshudutta/DA6401_assignment3/blob/main/Ques_1.ipynb\" target=\"_parent\"><img src=\"https://colab.research.google.com/assets/colab-badge.svg\" alt=\"Open In Colab\"/></a>"
      ]
    },
    {
      "cell_type": "code",
      "execution_count": 1,
      "metadata": {
        "colab": {
          "base_uri": "https://localhost:8080/"
        },
        "id": "TahlHqCfHX4n",
        "outputId": "b8e80214-299f-4823-8103-ec4694dffff1"
      },
      "outputs": [
        {
          "output_type": "stream",
          "name": "stdout",
          "text": [
            "Mounted at /content/drive\n"
          ]
        }
      ],
      "source": [
        "from google.colab import drive\n",
        "drive.mount('/content/drive')"
      ]
    },
    {
      "cell_type": "code",
      "source": [
        "!ls /content/drive/MyDrive/Colab\\ Notebooks/DA6401/assignment\\ 3/dakshina_dataset_v1.0/hi/lexicons"
      ],
      "metadata": {
        "colab": {
          "base_uri": "https://localhost:8080/"
        },
        "id": "ebdc7oTQJdcX",
        "outputId": "24078bb5-8db5-49e1-bd1a-878cd5c4044b"
      },
      "execution_count": 2,
      "outputs": [
        {
          "output_type": "stream",
          "name": "stdout",
          "text": [
            "hi.translit.sampled.dev.tsv   hi.translit.sampled.train.tsv\n",
            "hi.translit.sampled.test.tsv\n"
          ]
        }
      ]
    },
    {
      "cell_type": "code",
      "source": [
        "import shutil\n",
        "\n",
        "# Source folder in Google Drive\n",
        "src_folder = '/content/drive/MyDrive/Colab Notebooks/DA6401/assignment 3/dakshina_dataset_v1.0/hi/lexicons'\n",
        "\n",
        "# Destination in Colab's local storage\n",
        "dst_folder = '/content/hindi_data'\n",
        "\n",
        "# Copy the entire folder\n",
        "shutil.copytree(src_folder, dst_folder)"
      ],
      "metadata": {
        "colab": {
          "base_uri": "https://localhost:8080/",
          "height": 36
        },
        "id": "jzFpY3UWHcDF",
        "outputId": "f45c1707-b982-4e79-cca4-13adba45bd8a"
      },
      "execution_count": 3,
      "outputs": [
        {
          "output_type": "execute_result",
          "data": {
            "text/plain": [
              "'/content/hindi_data'"
            ],
            "application/vnd.google.colaboratory.intrinsic+json": {
              "type": "string"
            }
          },
          "metadata": {},
          "execution_count": 3
        }
      ]
    },
    {
      "cell_type": "code",
      "source": [
        "import pandas as pd\n",
        "\n",
        "# Load the data\n",
        "df = pd.read_csv(\"hindi_data/hi.translit.sampled.train.tsv\", sep=\"\\t\", header=None, names=[\"target\", \"input\", \"num\"])\n",
        "\n",
        "# Drop rows with NaNs (if any)\n",
        "df = df.dropna()\n",
        "\n",
        "# Limit for quick testing (optional)\n",
        "# df = df.sample(500)\n",
        "\n",
        "print(df)"
      ],
      "metadata": {
        "colab": {
          "base_uri": "https://localhost:8080/"
        },
        "id": "mO9yeWCOK2YZ",
        "outputId": "1eec1d7f-c0e9-40bc-fb5f-8e7d2aabb398"
      },
      "execution_count": 4,
      "outputs": [
        {
          "output_type": "stream",
          "name": "stdout",
          "text": [
            "          target       input  num\n",
            "0             अं          an    3\n",
            "1        अंकगणित    ankganit    3\n",
            "2           अंकल       uncle    4\n",
            "3          अंकुर       ankur    4\n",
            "4         अंकुरण     ankuran    3\n",
            "...          ...         ...  ...\n",
            "44199  ह्वेनसांग  hiuentsang    1\n",
            "44200  ह्वेनसांग  hsuantsang    1\n",
            "44201  ह्वेनसांग    hyensang    1\n",
            "44202  ह्वेनसांग    xuanzang    1\n",
            "44203          ॐ          om    3\n",
            "\n",
            "[44202 rows x 3 columns]\n"
          ]
        }
      ]
    },
    {
      "cell_type": "code",
      "source": [
        "from collections import Counter\n",
        "\n",
        "# Special tokens\n",
        "PAD_token = \"<pad>\"\n",
        "SOS_token = \"<sos>\"  # start of sequence\n",
        "EOS_token = \"<eos>\"  # end of sequence\n",
        "\n",
        "def build_vocab(sequences):\n",
        "    vocab = set(char for seq in sequences for char in seq)\n",
        "    vocab = [PAD_token, SOS_token, EOS_token] + sorted(vocab)\n",
        "    char2idx = {c: i for i, c in enumerate(vocab)}\n",
        "    idx2char = {i: c for c, i in char2idx.items()}\n",
        "    return char2idx, idx2char\n",
        "\n",
        "input_char2idx, input_idx2char = build_vocab(df[\"input\"])\n",
        "target_char2idx, target_idx2char = build_vocab(df[\"target\"])\n",
        "\n",
        "print(f\"Input vocab size: {len(input_char2idx)}\")\n",
        "print(f\"Target vocab size: {len(target_char2idx)}\")"
      ],
      "metadata": {
        "colab": {
          "base_uri": "https://localhost:8080/"
        },
        "id": "ySEk2t_xN3MF",
        "outputId": "4890d35f-a4f4-48b4-8861-0f229aba7ea2"
      },
      "execution_count": 5,
      "outputs": [
        {
          "output_type": "stream",
          "name": "stdout",
          "text": [
            "Input vocab size: 29\n",
            "Target vocab size: 66\n"
          ]
        }
      ]
    },
    {
      "cell_type": "code",
      "source": [
        "input_idx2char"
      ],
      "metadata": {
        "colab": {
          "base_uri": "https://localhost:8080/"
        },
        "id": "BiCL_XzhWbsU",
        "outputId": "e4266fd8-62ab-4241-dc5c-fa44011230a5"
      },
      "execution_count": 6,
      "outputs": [
        {
          "output_type": "execute_result",
          "data": {
            "text/plain": [
              "{0: '<pad>',\n",
              " 1: '<sos>',\n",
              " 2: '<eos>',\n",
              " 3: 'a',\n",
              " 4: 'b',\n",
              " 5: 'c',\n",
              " 6: 'd',\n",
              " 7: 'e',\n",
              " 8: 'f',\n",
              " 9: 'g',\n",
              " 10: 'h',\n",
              " 11: 'i',\n",
              " 12: 'j',\n",
              " 13: 'k',\n",
              " 14: 'l',\n",
              " 15: 'm',\n",
              " 16: 'n',\n",
              " 17: 'o',\n",
              " 18: 'p',\n",
              " 19: 'q',\n",
              " 20: 'r',\n",
              " 21: 's',\n",
              " 22: 't',\n",
              " 23: 'u',\n",
              " 24: 'v',\n",
              " 25: 'w',\n",
              " 26: 'x',\n",
              " 27: 'y',\n",
              " 28: 'z'}"
            ]
          },
          "metadata": {},
          "execution_count": 6
        }
      ]
    },
    {
      "cell_type": "code",
      "source": [
        "def encode_sequence(seq, char2idx, add_sos_eos=True):\n",
        "    tokens = [char2idx[c] for c in seq]\n",
        "    if add_sos_eos:\n",
        "        tokens = [char2idx[SOS_token]] + tokens + [char2idx[EOS_token]]\n",
        "    return tokens\n",
        "\n",
        "input_sequences = [encode_sequence(seq, input_char2idx) for seq in df[\"input\"]]\n",
        "target_sequences = [encode_sequence(seq, target_char2idx) for seq in df[\"target\"]]"
      ],
      "metadata": {
        "id": "1MHqdSQPWkxo"
      },
      "execution_count": 7,
      "outputs": []
    },
    {
      "cell_type": "code",
      "source": [],
      "metadata": {
        "id": "sIaahw-fGQ2V"
      },
      "execution_count": 7,
      "outputs": []
    },
    {
      "cell_type": "code",
      "source": [
        "import torch\n",
        "from torch.nn.utils.rnn import pad_sequence\n",
        "from torch.utils.data import DataLoader, Dataset\n",
        "\n",
        "class TransliterationDataset(Dataset):\n",
        "    def __init__(self, inputs, targets):\n",
        "        self.inputs = inputs\n",
        "        self.targets = targets\n",
        "\n",
        "    def __len__(self):\n",
        "        return len(self.inputs)\n",
        "\n",
        "    def __getitem__(self, idx):\n",
        "        return torch.tensor(self.inputs[idx]), torch.tensor(self.targets[idx])\n",
        "\n",
        "def collate_fn(batch):\n",
        "    inputs, targets = zip(*batch)\n",
        "    inputs_padded = pad_sequence(inputs, batch_first=True, padding_value=input_char2idx[PAD_token])\n",
        "    targets_padded = pad_sequence(targets, batch_first=True, padding_value=target_char2idx[PAD_token])\n",
        "    return inputs_padded, targets_padded\n",
        "\n",
        "train_dataset = TransliterationDataset(input_sequences, target_sequences)\n",
        "train_dataloader = DataLoader(train_dataset, batch_size=32, shuffle=True, collate_fn=collate_fn)"
      ],
      "metadata": {
        "id": "HsiJqUzNnBb2"
      },
      "execution_count": 8,
      "outputs": []
    },
    {
      "cell_type": "code",
      "source": [
        "i, o = next(iter(train_dataloader))"
      ],
      "metadata": {
        "id": "wPZsNfo3nEMi"
      },
      "execution_count": 11,
      "outputs": []
    },
    {
      "cell_type": "code",
      "source": [
        "i.shape"
      ],
      "metadata": {
        "colab": {
          "base_uri": "https://localhost:8080/"
        },
        "id": "NfMetFsBpIQ4",
        "outputId": "a2115028-a617-4319-f7db-60208ce9c7de"
      },
      "execution_count": 12,
      "outputs": [
        {
          "output_type": "execute_result",
          "data": {
            "text/plain": [
              "torch.Size([32, 14])"
            ]
          },
          "metadata": {},
          "execution_count": 12
        }
      ]
    },
    {
      "cell_type": "code",
      "source": [
        "input_vocab_size = len(input_char2idx)"
      ],
      "metadata": {
        "id": "OAECtmjHQ8FF"
      },
      "execution_count": 13,
      "outputs": []
    },
    {
      "cell_type": "code",
      "source": [
        "df_val = pd.read_csv(\"hindi_data/hi.translit.sampled.dev.tsv\", sep=\"\\t\", header=None, names=[\"target\", \"input\", \"num\"])\n",
        "\n",
        "input_val = [encode_sequence(seq, input_char2idx) for seq in df_val[\"input\"]]\n",
        "target_val = [encode_sequence(seq, target_char2idx) for seq in df_val[\"target\"]]\n",
        "\n",
        "val_dataset = TransliterationDataset(input_val, target_val)\n",
        "val_dataloader = DataLoader(val_dataset, batch_size=32, shuffle=True, collate_fn=collate_fn)"
      ],
      "metadata": {
        "id": "B0nxPF-vHj2j"
      },
      "execution_count": 14,
      "outputs": []
    },
    {
      "cell_type": "code",
      "source": [
        "import torch\n",
        "import torch.nn as nn\n",
        "\n",
        "device = torch.device(\"cuda\" if torch.cuda.is_available() else \"cpu\")\n",
        "\n",
        "# ---- Flexible Encoder ----\n",
        "class Encoder(nn.Module):\n",
        "    def __init__(self, input_dim, embed_dim, hidden_dim, num_layers=1, cell_type=\"RNN\"):\n",
        "        super(Encoder, self).__init__()\n",
        "        self.embedding = nn.Embedding(input_dim, embed_dim)\n",
        "        rnn_cell = {\"RNN\": nn.RNN, \"LSTM\": nn.LSTM, \"GRU\": nn.GRU}[cell_type]\n",
        "        self.rnn = rnn_cell(embed_dim, hidden_dim, num_layers=num_layers, batch_first=True)\n",
        "        self.cell_type = cell_type\n",
        "\n",
        "    def forward(self, src):\n",
        "        embedded = self.embedding(src)\n",
        "        outputs, hidden = self.rnn(embedded)\n",
        "        return hidden\n",
        "\n",
        "\n",
        "# ---- Flexible Decoder ----\n",
        "class Decoder(nn.Module):\n",
        "    def __init__(self, output_dim, embed_dim, hidden_dim, num_layers=1, cell_type=\"RNN\"):\n",
        "        super(Decoder, self).__init__()\n",
        "        self.embedding = nn.Embedding(output_dim, embed_dim)\n",
        "        rnn_cell = {\"RNN\": nn.RNN, \"LSTM\": nn.LSTM, \"GRU\": nn.GRU}[cell_type]\n",
        "        self.rnn = rnn_cell(embed_dim, hidden_dim, num_layers=num_layers, batch_first=True)\n",
        "        self.fc_out = nn.Linear(hidden_dim, output_dim)\n",
        "        self.cell_type = cell_type\n",
        "\n",
        "    def forward(self, input, hidden):\n",
        "        input = input.unsqueeze(1)  # [B] -> [B,1]\n",
        "        embedded = self.embedding(input)  # [B,1,E]\n",
        "        output, hidden = self.rnn(embedded, hidden)\n",
        "        prediction = self.fc_out(output.squeeze(1))  # [B, V]\n",
        "        return prediction, hidden\n"
      ],
      "metadata": {
        "id": "WSKrvxoSqKJf"
      },
      "execution_count": 15,
      "outputs": []
    },
    {
      "cell_type": "code",
      "source": [
        "class Seq2Seq(nn.Module):\n",
        "    def __init__(self, encoder, decoder, sos_idx, eos_idx, cell_type=\"RNN\"):\n",
        "        super(Seq2Seq, self).__init__()\n",
        "        self.encoder = encoder\n",
        "        self.decoder = decoder\n",
        "        self.sos_idx = sos_idx\n",
        "        self.eos_idx = eos_idx\n",
        "        self.cell_type = cell_type\n",
        "\n",
        "    def forward(self, src, trg, teacher_forcing_ratio=0.5):\n",
        "        B, T = trg.shape\n",
        "        output_dim = self.decoder.fc_out.out_features\n",
        "        outputs = torch.zeros(B, T, output_dim).to(device)\n",
        "\n",
        "        hidden = self.encoder(src)\n",
        "        input = torch.tensor([self.sos_idx] * B).to(device)\n",
        "\n",
        "        for t in range(T):\n",
        "            output, hidden = self.decoder(input, hidden)\n",
        "            outputs[:, t, :] = output\n",
        "\n",
        "            teacher_force = torch.rand(1).item() < teacher_forcing_ratio\n",
        "            input = trg[:, t] if teacher_force else output.argmax(1)\n",
        "\n",
        "        return outputs\n"
      ],
      "metadata": {
        "id": "uPFDOLcfNJaY"
      },
      "execution_count": 16,
      "outputs": []
    },
    {
      "cell_type": "code",
      "source": [
        "import torch.optim as optim\n",
        "from tqdm import tqdm\n",
        "\n",
        "# Hyperparameters\n",
        "embed_size = 64\n",
        "hidden_size = 128\n",
        "num_layers = 2\n",
        "cell_type = \"LSTM\"  # or \"RNN\", \"GRU\"\n",
        "\n",
        "# Initialize model\n",
        "encoder = Encoder(len(input_char2idx), embed_size, hidden_size, num_layers, cell_type).to(device)\n",
        "decoder = Decoder(len(target_char2idx), embed_size, hidden_size, num_layers, cell_type).to(device)\n",
        "model = Seq2Seq(encoder, decoder, sos_idx=target_char2idx['<sos>'], eos_idx=target_char2idx['<eos>'], cell_type=cell_type).to(device)\n",
        "\n",
        "optimizer = optim.Adam(model.parameters(), lr=0.001)\n",
        "criterion = nn.CrossEntropyLoss(ignore_index=target_char2idx[\"<pad>\"])\n",
        "\n",
        "# Training Loop\n",
        "for epoch in range(1, 11):\n",
        "    model.train()\n",
        "    epoch_loss = 0\n",
        "    for src, trg in tqdm(train_dataloader):\n",
        "        src, trg = src.to(device), trg.to(device)\n",
        "        optimizer.zero_grad()\n",
        "\n",
        "        output = model(src, trg)  # output: (B, T, V)\n",
        "        output = output.view(-1, len(target_char2idx))\n",
        "        trg = trg.view(-1)\n",
        "\n",
        "        loss = criterion(output, trg)\n",
        "        loss.backward()\n",
        "        optimizer.step()\n",
        "\n",
        "        epoch_loss += loss.item()\n",
        "\n",
        "    # --- Validation ---\n",
        "    model.eval()\n",
        "    total_tokens = 0\n",
        "    correct_tokens = 0\n",
        "    with torch.no_grad():\n",
        "        for val_src, val_trg in val_dataloader:\n",
        "            val_src, val_trg = val_src.to(device), val_trg.to(device)\n",
        "            val_output = model(val_src, val_trg)  # shape: (B, T, V)\n",
        "            val_pred = val_output.argmax(dim=-1)  # (B, T)\n",
        "\n",
        "            mask = val_trg != target_char2idx[\"<pad>\"]\n",
        "            correct = (val_pred == val_trg) & mask\n",
        "            correct_tokens += correct.sum().item()\n",
        "            total_tokens += mask.sum().item()\n",
        "\n",
        "    val_accuracy = correct_tokens / total_tokens * 100\n",
        "\n",
        "    print(f\"Epoch {epoch} | Train Loss: {epoch_loss / len(train_dataloader):.4f} | Val Acc: {val_accuracy:.2f}%\")\n"
      ],
      "metadata": {
        "colab": {
          "base_uri": "https://localhost:8080/"
        },
        "id": "1WaRHo1eGczN",
        "outputId": "245f00d6-e235-4dfb-e19e-21b427f0a589"
      },
      "execution_count": null,
      "outputs": [
        {
          "output_type": "stream",
          "name": "stdout",
          "text": [
            "Epoch 1 | Train Loss: 2.1553 | Val Acc: 61.42%\n",
            "Epoch 2 | Train Loss: 1.0523 | Val Acc: 72.44%\n",
            "Epoch 3 | Train Loss: 0.7828 | Val Acc: 76.71%\n"
          ]
        }
      ]
    },
    {
      "cell_type": "code",
      "source": [],
      "metadata": {
        "id": "EI2qx35UI-6S"
      },
      "execution_count": null,
      "outputs": []
    }
  ]
}